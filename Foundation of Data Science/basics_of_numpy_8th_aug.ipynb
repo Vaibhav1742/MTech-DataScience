{
 "cells": [
  {
   "cell_type": "code",
   "execution_count": 1,
   "id": "2aabb89f",
   "metadata": {},
   "outputs": [],
   "source": [
    "# import numpy library\n",
    "import numpy as np"
   ]
  },
  {
   "cell_type": "code",
   "execution_count": 2,
   "id": "ba9042e7",
   "metadata": {},
   "outputs": [],
   "source": [
    "# create a numpy array from list and store it in a variable \n",
    "n = np.array([10,20,30,40,50])"
   ]
  },
  {
   "cell_type": "code",
   "execution_count": 3,
   "id": "6bffcca5",
   "metadata": {},
   "outputs": [
    {
     "data": {
      "text/plain": [
       "5"
      ]
     },
     "execution_count": 3,
     "metadata": {},
     "output_type": "execute_result"
    }
   ],
   "source": [
    "# size of numpy array\n",
    "n.size"
   ]
  },
  {
   "cell_type": "code",
   "execution_count": 4,
   "id": "fd785ca8",
   "metadata": {},
   "outputs": [],
   "source": [
    "# create a numpy array from tuple and store it in a variable \n",
    "nt = np.array((100,20,30,400))"
   ]
  },
  {
   "cell_type": "code",
   "execution_count": 5,
   "id": "0a9a2bcb",
   "metadata": {},
   "outputs": [
    {
     "data": {
      "text/plain": [
       "10"
      ]
     },
     "execution_count": 5,
     "metadata": {},
     "output_type": "execute_result"
    }
   ],
   "source": [
    "# accessing numpy array element using its index\n",
    "n[0]"
   ]
  },
  {
   "cell_type": "code",
   "execution_count": 6,
   "id": "78c60af3",
   "metadata": {},
   "outputs": [
    {
     "data": {
      "text/plain": [
       "1"
      ]
     },
     "execution_count": 6,
     "metadata": {},
     "output_type": "execute_result"
    }
   ],
   "source": [
    "# dimenstion of numpy array\n",
    "n.ndim"
   ]
  },
  {
   "cell_type": "code",
   "execution_count": 7,
   "id": "8f0a842e",
   "metadata": {},
   "outputs": [],
   "source": [
    "# create a 2d array\n",
    "n2 = np.array([[14,32,12],[31,34,78]])"
   ]
  },
  {
   "cell_type": "code",
   "execution_count": 8,
   "id": "02b31de1",
   "metadata": {},
   "outputs": [
    {
     "data": {
      "text/plain": [
       "2"
      ]
     },
     "execution_count": 8,
     "metadata": {},
     "output_type": "execute_result"
    }
   ],
   "source": [
    "# dimenstion of numpy array\n",
    "n2.ndim"
   ]
  },
  {
   "cell_type": "code",
   "execution_count": 9,
   "id": "7510968a",
   "metadata": {},
   "outputs": [
    {
     "data": {
      "text/plain": [
       "array([[14, 32, 12],\n",
       "       [31, 34, 78]])"
      ]
     },
     "execution_count": 9,
     "metadata": {},
     "output_type": "execute_result"
    }
   ],
   "source": [
    "n2"
   ]
  },
  {
   "cell_type": "markdown",
   "id": "133bc9a3",
   "metadata": {},
   "source": [
    "slicing operation with numpy array"
   ]
  },
  {
   "cell_type": "code",
   "execution_count": 10,
   "id": "c5c83342",
   "metadata": {},
   "outputs": [
    {
     "data": {
      "text/plain": [
       "31"
      ]
     },
     "execution_count": 10,
     "metadata": {},
     "output_type": "execute_result"
    }
   ],
   "source": [
    "# row 1 and column 0. In Python, indexing starts from 0\n",
    "n2[1,0]"
   ]
  },
  {
   "cell_type": "code",
   "execution_count": 11,
   "id": "526db5c6",
   "metadata": {},
   "outputs": [
    {
     "data": {
      "text/plain": [
       "array([10, 20, 30])"
      ]
     },
     "execution_count": 11,
     "metadata": {},
     "output_type": "execute_result"
    }
   ],
   "source": [
    "# the first three elements of the n array,\n",
    "n[:3]"
   ]
  },
  {
   "cell_type": "code",
   "execution_count": 12,
   "id": "c9cf4d84",
   "metadata": {},
   "outputs": [
    {
     "data": {
      "text/plain": [
       "array([30, 40, 50])"
      ]
     },
     "execution_count": 12,
     "metadata": {},
     "output_type": "execute_result"
    }
   ],
   "source": [
    "# the elements starting from index 2 in the original array n\n",
    "n[2:]"
   ]
  },
  {
   "cell_type": "code",
   "execution_count": 13,
   "id": "52d98cb0",
   "metadata": {},
   "outputs": [
    {
     "data": {
      "text/plain": [
       "array([30, 40, 50])"
      ]
     },
     "execution_count": 13,
     "metadata": {},
     "output_type": "execute_result"
    }
   ],
   "source": [
    "# retrieves the last three elements in the array 'n'\n",
    "n[-3:]"
   ]
  },
  {
   "cell_type": "code",
   "execution_count": 14,
   "id": "4602cc59",
   "metadata": {},
   "outputs": [
    {
     "data": {
      "text/plain": [
       "array([40, 50])"
      ]
     },
     "execution_count": 14,
     "metadata": {},
     "output_type": "execute_result"
    }
   ],
   "source": [
    "# the elements starting from index 3 in the original array n\n",
    "n[3:]"
   ]
  },
  {
   "cell_type": "code",
   "execution_count": 15,
   "id": "d3687659",
   "metadata": {},
   "outputs": [
    {
     "data": {
      "text/plain": [
       "array([30, 40])"
      ]
     },
     "execution_count": 15,
     "metadata": {},
     "output_type": "execute_result"
    }
   ],
   "source": [
    "# subarray containing elements starting from the third-to-last element (inclusive) and ending at the second-to-last element (exclusive).\n",
    "n[-3:-1]"
   ]
  },
  {
   "cell_type": "code",
   "execution_count": 16,
   "id": "2489a3c7",
   "metadata": {},
   "outputs": [
    {
     "data": {
      "text/plain": [
       "50"
      ]
     },
     "execution_count": 16,
     "metadata": {},
     "output_type": "execute_result"
    }
   ],
   "source": [
    "# access the last element of a NumPy array n\n",
    "n[-1]"
   ]
  },
  {
   "cell_type": "code",
   "execution_count": 17,
   "id": "d93a7227",
   "metadata": {},
   "outputs": [
    {
     "data": {
      "text/plain": [
       "array([50])"
      ]
     },
     "execution_count": 17,
     "metadata": {},
     "output_type": "execute_result"
    }
   ],
   "source": [
    "# retrieves a subarray containing only the last element of the array n\n",
    "n[-1:]"
   ]
  },
  {
   "cell_type": "code",
   "execution_count": 18,
   "id": "750239ad",
   "metadata": {},
   "outputs": [
    {
     "data": {
      "text/plain": [
       "array([10, 20, 30, 40])"
      ]
     },
     "execution_count": 18,
     "metadata": {},
     "output_type": "execute_result"
    }
   ],
   "source": [
    "# etrieves a subarray containing all elements from the first element (index 0) up to, but not including, the last element. In other words, it excludes the last element from the selection.\n",
    "n[0:-1]"
   ]
  },
  {
   "cell_type": "code",
   "execution_count": 19,
   "id": "c0bc3719",
   "metadata": {},
   "outputs": [
    {
     "data": {
      "text/plain": [
       "array([], dtype=int32)"
      ]
     },
     "execution_count": 19,
     "metadata": {},
     "output_type": "execute_result"
    }
   ],
   "source": [
    "n[-1:0]"
   ]
  },
  {
   "cell_type": "markdown",
   "id": "2a5ba88b",
   "metadata": {},
   "source": [
    "The slicing expression n[-1:0] would not produce any elements because it specifies a range that starts with the last element of the array and ends before the first element. In other words, it's an empty range because it tries to go from the last element to a position before the first element, which is not possible.\n",
    "\n",
    "In Python and NumPy, the slicing notation works with the format [start:stop:step], where start is the index of the first element you want to include, stop is the index of the first element you want to exclude, and step is an optional parameter indicating the step size between elements."
   ]
  },
  {
   "cell_type": "code",
   "execution_count": 20,
   "id": "71c9a762",
   "metadata": {},
   "outputs": [
    {
     "data": {
      "text/plain": [
       "array([50, 40, 30, 20, 10])"
      ]
     },
     "execution_count": 20,
     "metadata": {},
     "output_type": "execute_result"
    }
   ],
   "source": [
    "# To get a subarray that includes all elements in reverse order\n",
    "n[-1::-1]"
   ]
  },
  {
   "cell_type": "code",
   "execution_count": 21,
   "id": "7aae1ed4",
   "metadata": {},
   "outputs": [
    {
     "data": {
      "text/plain": [
       "array([30, 40])"
      ]
     },
     "execution_count": 21,
     "metadata": {},
     "output_type": "execute_result"
    }
   ],
   "source": [
    "# retrieve a subarray that includes elements starting from index 2 (inclusive) up to index 4 (exclusive) in the original NumPy array n.\n",
    "n[2:4]"
   ]
  },
  {
   "cell_type": "code",
   "execution_count": 22,
   "id": "1a3a9772",
   "metadata": {},
   "outputs": [
    {
     "data": {
      "text/plain": [
       "array([[14, 32],\n",
       "       [12, 31],\n",
       "       [34, 78]])"
      ]
     },
     "execution_count": 22,
     "metadata": {},
     "output_type": "execute_result"
    }
   ],
   "source": [
    "# reshaping a NumPy array n2 into a new shape of (3, 2) using the reshape method.\n",
    "r1=n2.reshape(3,2)\n",
    "r1"
   ]
  },
  {
   "cell_type": "code",
   "execution_count": 23,
   "id": "7dd1c75c",
   "metadata": {},
   "outputs": [],
   "source": [
    "resize2 =n2.resize(3,2)\n",
    "resize2"
   ]
  },
  {
   "cell_type": "markdown",
   "id": "349c3077",
   "metadata": {},
   "source": [
    "resize2 will be assigned None, and the shape of n2 will be modified to (3, 2) without creating a new array. The resize method doesn't return a new array; instead, it directly changes the shape of the existing array."
   ]
  },
  {
   "cell_type": "code",
   "execution_count": 24,
   "id": "27333f0d",
   "metadata": {},
   "outputs": [],
   "source": [
    "# pixel = picture element"
   ]
  },
  {
   "cell_type": "markdown",
   "id": "349a3ee7",
   "metadata": {},
   "source": [
    "reshape creates a new array with the specified shape without modifying the original array, while resize changes the shape of the original array in-place.\n",
    "reshape raises an error if the new shape is not compatible with the original array's size, while resize adjusts the data by repeating or removing elements to fit the new shape."
   ]
  },
  {
   "cell_type": "code",
   "execution_count": 25,
   "id": "a52caba6",
   "metadata": {},
   "outputs": [
    {
     "data": {
      "text/plain": [
       "array([[14, 32, 12, 31, 34, 78]])"
      ]
     },
     "execution_count": 25,
     "metadata": {},
     "output_type": "execute_result"
    }
   ],
   "source": [
    "s1 = n2.reshape(1,6)\n",
    "s1"
   ]
  },
  {
   "cell_type": "code",
   "execution_count": 26,
   "id": "230811a9",
   "metadata": {},
   "outputs": [],
   "source": [
    "x=n2.reshape(-1)"
   ]
  },
  {
   "cell_type": "code",
   "execution_count": 27,
   "id": "f2d93c35",
   "metadata": {},
   "outputs": [
    {
     "data": {
      "text/plain": [
       "array([[14, 32, 12],\n",
       "       [31, 34, 78]])"
      ]
     },
     "execution_count": 27,
     "metadata": {},
     "output_type": "execute_result"
    }
   ],
   "source": [
    "x.reshape(2,3)"
   ]
  },
  {
   "cell_type": "code",
   "execution_count": 28,
   "id": "1ba8f2a1",
   "metadata": {},
   "outputs": [
    {
     "data": {
      "text/plain": [
       "array([[[14, 32, 12],\n",
       "        [31, 34, 78]]])"
      ]
     },
     "execution_count": 28,
     "metadata": {},
     "output_type": "execute_result"
    }
   ],
   "source": [
    "x.reshape(1,2,3)"
   ]
  },
  {
   "cell_type": "code",
   "execution_count": 29,
   "id": "e7025293",
   "metadata": {},
   "outputs": [
    {
     "name": "stdout",
     "output_type": "stream",
     "text": [
      "[[61 97]\n",
      " [ 4 25]]\n"
     ]
    }
   ],
   "source": [
    "#generates a 2x2 NumPy array named 'a' filled with random integers between 0 (inclusive) and 100 (exclusive).\n",
    "a=np.random.randint(0,100,(2,2))\n",
    "print(a)"
   ]
  },
  {
   "cell_type": "code",
   "execution_count": 30,
   "id": "7cbfec07",
   "metadata": {},
   "outputs": [
    {
     "name": "stdout",
     "output_type": "stream",
     "text": [
      "[[63 50]\n",
      " [66 79]]\n"
     ]
    }
   ],
   "source": [
    "#generates a 2x2 NumPy array named 'b' filled with random integers between 0 (inclusive) and 100 (exclusive).\n",
    "b=np.random.randint(0,100,(2,2))\n",
    "print(b)"
   ]
  },
  {
   "cell_type": "code",
   "execution_count": 31,
   "id": "3e826546",
   "metadata": {},
   "outputs": [
    {
     "name": "stdout",
     "output_type": "stream",
     "text": [
      "[[61 97]\n",
      " [ 4 25]\n",
      " [63 50]\n",
      " [66 79]]\n"
     ]
    }
   ],
   "source": [
    "# merge two data sets of two-dimensional array(2*2)\n",
    "\n",
    "# concatenate function to concatenate two arrays a and b along the vertical axis (axis=0)\n",
    "z=np.concatenate((a,b),axis=0)\n",
    "print(z)"
   ]
  },
  {
   "cell_type": "code",
   "execution_count": 32,
   "id": "0c28bbd0",
   "metadata": {},
   "outputs": [
    {
     "name": "stdout",
     "output_type": "stream",
     "text": [
      "[[61 97 63 50]\n",
      " [ 4 25 66 79]]\n"
     ]
    }
   ],
   "source": [
    "# concatenate function to concatenate two arrays a and b along the horizontal axis (axis=1)\n",
    "z=np.concatenate((a,b),axis=1)\n",
    "print(z)"
   ]
  },
  {
   "cell_type": "code",
   "execution_count": 33,
   "id": "8cbfcdc8",
   "metadata": {},
   "outputs": [],
   "source": [
    "# create 2 , (2*2)-2d array\n",
    "a=np.array([[10,20],[30,40]])\n",
    "b=np.array([[50,60],[70,80]])"
   ]
  },
  {
   "cell_type": "code",
   "execution_count": 34,
   "id": "402faae5",
   "metadata": {},
   "outputs": [
    {
     "data": {
      "text/plain": [
       "array([[10, 20, 50, 60],\n",
       "       [30, 40, 70, 80]])"
      ]
     },
     "execution_count": 34,
     "metadata": {},
     "output_type": "execute_result"
    }
   ],
   "source": [
    "# concatenate a and b\n",
    "c=np.concatenate((a,b),axis=1)\n",
    "c"
   ]
  },
  {
   "cell_type": "code",
   "execution_count": 35,
   "id": "97b583c0",
   "metadata": {},
   "outputs": [
    {
     "data": {
      "text/html": [
       "<div>\n",
       "<style scoped>\n",
       "    .dataframe tbody tr th:only-of-type {\n",
       "        vertical-align: middle;\n",
       "    }\n",
       "\n",
       "    .dataframe tbody tr th {\n",
       "        vertical-align: top;\n",
       "    }\n",
       "\n",
       "    .dataframe thead th {\n",
       "        text-align: right;\n",
       "    }\n",
       "</style>\n",
       "<table border=\"1\" class=\"dataframe\">\n",
       "  <thead>\n",
       "    <tr style=\"text-align: right;\">\n",
       "      <th></th>\n",
       "      <th>name</th>\n",
       "    </tr>\n",
       "  </thead>\n",
       "  <tbody>\n",
       "    <tr>\n",
       "      <th>x</th>\n",
       "      <td>a</td>\n",
       "    </tr>\n",
       "    <tr>\n",
       "      <th>y</th>\n",
       "      <td>b</td>\n",
       "    </tr>\n",
       "    <tr>\n",
       "      <th>z</th>\n",
       "      <td>c</td>\n",
       "    </tr>\n",
       "    <tr>\n",
       "      <th>zz</th>\n",
       "      <td>d</td>\n",
       "    </tr>\n",
       "  </tbody>\n",
       "</table>\n",
       "</div>"
      ],
      "text/plain": [
       "   name\n",
       "x     a\n",
       "y     b\n",
       "z     c\n",
       "zz    d"
      ]
     },
     "execution_count": 35,
     "metadata": {},
     "output_type": "execute_result"
    }
   ],
   "source": [
    "# creating a pandas DataFrame df from two lists l and c, where l represents the data and c represents the index (row labels). \n",
    "\n",
    "l=[\"a\",\"b\",\"c\",\"d\"]\n",
    "c=[\"x\",\"y\",\"z\",\"zz\"]\n",
    "import pandas as pd\n",
    "df = pd.DataFrame(l,c,columns=[\"name\"])\n",
    "df"
   ]
  },
  {
   "cell_type": "code",
   "execution_count": 36,
   "id": "2c054d60",
   "metadata": {},
   "outputs": [],
   "source": [
    "# for i in len(df[\"name\"]):\n",
    "#     print(df[\"name\"][i])"
   ]
  },
  {
   "cell_type": "code",
   "execution_count": 37,
   "id": "f6bf89ed",
   "metadata": {},
   "outputs": [],
   "source": [
    "# create 2 nd array\n",
    "n6 = np.array([10,20,30,40,50])\n",
    "j=np.array([12,33,56,75,89])"
   ]
  },
  {
   "cell_type": "code",
   "execution_count": 38,
   "id": "4ff3497a",
   "metadata": {},
   "outputs": [
    {
     "ename": "AxisError",
     "evalue": "axis 1 is out of bounds for array of dimension 1",
     "output_type": "error",
     "traceback": [
      "\u001b[1;31m---------------------------------------------------------------------------\u001b[0m",
      "\u001b[1;31mAxisError\u001b[0m                                 Traceback (most recent call last)",
      "Cell \u001b[1;32mIn[38], line 2\u001b[0m\n\u001b[0;32m      1\u001b[0m \u001b[38;5;66;03m# concatenate operation\u001b[39;00m\n\u001b[1;32m----> 2\u001b[0m v\u001b[38;5;241m=\u001b[39mnp\u001b[38;5;241m.\u001b[39mconcatenate((n6,j),axis\u001b[38;5;241m=\u001b[39m\u001b[38;5;241m1\u001b[39m)\n",
      "File \u001b[1;32m<__array_function__ internals>:200\u001b[0m, in \u001b[0;36mconcatenate\u001b[1;34m(*args, **kwargs)\u001b[0m\n",
      "\u001b[1;31mAxisError\u001b[0m: axis 1 is out of bounds for array of dimension 1"
     ]
    }
   ],
   "source": [
    "# concatenate operation\n",
    "v=np.concatenate((n6,j),axis=1)"
   ]
  },
  {
   "cell_type": "markdown",
   "id": "30a59ec6",
   "metadata": {},
   "source": [
    "an issue with this operation because n6 and j are 1-dimensional arrays, and concatenating them along axis=1 requires them to have the same number of rows (elements)."
   ]
  },
  {
   "cell_type": "code",
   "execution_count": 39,
   "id": "de1d56ec",
   "metadata": {},
   "outputs": [],
   "source": [
    "# concatenate operation\n",
    "v=np.concatenate((n6,j),axis=0)"
   ]
  },
  {
   "cell_type": "code",
   "execution_count": 40,
   "id": "ac2b8b63",
   "metadata": {},
   "outputs": [
    {
     "data": {
      "text/plain": [
       "array([10, 20, 30, 40, 50, 12, 33, 56, 75, 89])"
      ]
     },
     "execution_count": 40,
     "metadata": {},
     "output_type": "execute_result"
    }
   ],
   "source": [
    "v"
   ]
  },
  {
   "cell_type": "code",
   "execution_count": null,
   "id": "7620d8b3",
   "metadata": {},
   "outputs": [],
   "source": []
  }
 ],
 "metadata": {
  "kernelspec": {
   "display_name": "Python 3 (ipykernel)",
   "language": "python",
   "name": "python3"
  },
  "language_info": {
   "codemirror_mode": {
    "name": "ipython",
    "version": 3
   },
   "file_extension": ".py",
   "mimetype": "text/x-python",
   "name": "python",
   "nbconvert_exporter": "python",
   "pygments_lexer": "ipython3",
   "version": "3.11.3"
  }
 },
 "nbformat": 4,
 "nbformat_minor": 5
}

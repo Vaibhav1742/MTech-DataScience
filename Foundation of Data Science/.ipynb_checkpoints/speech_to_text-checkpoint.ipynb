{
 "cells": [
  {
   "cell_type": "code",
   "execution_count": 1,
   "id": "4071b060",
   "metadata": {},
   "outputs": [
    {
     "name": "stdout",
     "output_type": "stream",
     "text": [
      "Collecting gtts\n",
      "  Downloading gTTS-2.3.2-py3-none-any.whl (28 kB)\n",
      "Requirement already satisfied: requests<3,>=2.27 in c:\\python311\\lib\\site-packages (from gtts) (2.28.1)\n",
      "Requirement already satisfied: click<8.2,>=7.1 in c:\\python311\\lib\\site-packages (from gtts) (8.1.3)\n",
      "Requirement already satisfied: colorama in c:\\python311\\lib\\site-packages (from click<8.2,>=7.1->gtts) (0.4.6)\n",
      "Requirement already satisfied: charset-normalizer<3,>=2 in c:\\python311\\lib\\site-packages (from requests<3,>=2.27->gtts) (2.1.1)\n",
      "Requirement already satisfied: idna<4,>=2.5 in c:\\python311\\lib\\site-packages (from requests<3,>=2.27->gtts) (3.4)\n",
      "Requirement already satisfied: urllib3<1.27,>=1.21.1 in c:\\python311\\lib\\site-packages (from requests<3,>=2.27->gtts) (1.26.13)\n",
      "Requirement already satisfied: certifi>=2017.4.17 in c:\\python311\\lib\\site-packages (from requests<3,>=2.27->gtts) (2022.12.7)\n",
      "Installing collected packages: gtts\n",
      "Successfully installed gtts-2.3.2\n"
     ]
    },
    {
     "name": "stderr",
     "output_type": "stream",
     "text": [
      "\n",
      "[notice] A new release of pip is available: 23.0.1 -> 23.2.1\n",
      "[notice] To update, run: python.exe -m pip install --upgrade pip\n"
     ]
    }
   ],
   "source": [
    "!pip install gtts"
   ]
  },
  {
   "cell_type": "code",
   "execution_count": 2,
   "id": "6e8f04de",
   "metadata": {},
   "outputs": [
    {
     "data": {
      "text/plain": [
       "0"
      ]
     },
     "execution_count": 2,
     "metadata": {},
     "output_type": "execute_result"
    }
   ],
   "source": [
    "from gtts import gTTS\n",
    "import os\n",
    "\n",
    "text = \"Hello, this is a sample text.\"\n",
    "tts = gTTS(text=text, lang='en')\n",
    "tts.save(\"output.mp3\")\n",
    "os.system(\"start output.mp3\")  # This will play the audio using the default player"
   ]
  },
  {
   "cell_type": "code",
   "execution_count": 3,
   "id": "da432856",
   "metadata": {},
   "outputs": [
    {
     "name": "stdout",
     "output_type": "stream",
     "text": [
      "Collecting PyPDF2\n",
      "  Downloading pypdf2-3.0.1-py3-none-any.whl (232 kB)\n",
      "     ---------------------------------------- 0.0/232.6 kB ? eta -:--:--\n",
      "     - -------------------------------------- 10.2/232.6 kB ? eta -:--:--\n",
      "     ---- -------------------------------- 30.7/232.6 kB 262.6 kB/s eta 0:00:01\n",
      "     ------ ------------------------------ 41.0/232.6 kB 281.8 kB/s eta 0:00:01\n",
      "     -------------- ---------------------- 92.2/232.6 kB 525.1 kB/s eta 0:00:01\n",
      "     -------------- ---------------------- 92.2/232.6 kB 525.1 kB/s eta 0:00:01\n",
      "     -------------- ---------------------- 92.2/232.6 kB 525.1 kB/s eta 0:00:01\n",
      "     ------------------------------ ----- 194.6/232.6 kB 620.6 kB/s eta 0:00:01\n",
      "     ------------------------------------ 232.6/232.6 kB 677.8 kB/s eta 0:00:00\n",
      "Installing collected packages: PyPDF2\n",
      "Successfully installed PyPDF2-3.0.1\n"
     ]
    },
    {
     "name": "stderr",
     "output_type": "stream",
     "text": [
      "\n",
      "[notice] A new release of pip is available: 23.0.1 -> 23.2.1\n",
      "[notice] To update, run: python.exe -m pip install --upgrade pip\n"
     ]
    }
   ],
   "source": [
    "!pip install PyPDF2"
   ]
  },
  {
   "cell_type": "code",
   "execution_count": 4,
   "id": "b9efb7fe",
   "metadata": {},
   "outputs": [],
   "source": [
    "import PyPDF2\n",
    "\n",
    "def extract_text_from_pdf(pdf_path):\n",
    "    text = \"\"\n",
    "    with open(pdf_path, 'rb') as pdf_file:\n",
    "        pdf_reader = PyPDF2.PdfFileReader(pdf_file)\n",
    "        for page_num in range(pdf_reader.numPages):\n",
    "            page = pdf_reader.getPage(page_num)\n",
    "            text += page.extractText()\n",
    "    return text"
   ]
  },
  {
   "cell_type": "code",
   "execution_count": 9,
   "id": "988b549b",
   "metadata": {},
   "outputs": [
    {
     "name": "stdout",
     "output_type": "stream",
     "text": [
      "INTERNSHIP OFFER LETTER\n",
      "Dear Vaibhav raval, \n",
      "Following your application, we are pleased to inform you that you have been\n",
      "considered for an internship with PHYSICS WALLAH PVT. LTD. As a result, you\n",
      "will be contributing to our project, Bike Share Prediction from 17th July 2023 . As\n",
      "a part of your internship, you will be proactively contributing to your selected\n",
      "project, besides product development & PoCs. In addition, you will be required to\n",
      "complete performance & learning goals for your current project with us. We\n",
      "hope that your association with the company will be successful and rewarding.\n",
      "I accept the o\u0000er with the company on the terms and conditions set out in this\n",
      "letter.\n",
      "\n"
     ]
    }
   ],
   "source": [
    "# Replace 'research_paper.pdf' with the actual name of your research paper PDF\n",
    "pdf_text = extract_text_from_pdf(r\"C:\\Users\\raval\\Desktop\\8ab3db27-e7c9-4512-bc32-4ea328521a95.pdf\")\n",
    "print(pdf_text)"
   ]
  },
  {
   "cell_type": "code",
   "execution_count": 8,
   "id": "061b9228",
   "metadata": {},
   "outputs": [],
   "source": [
    "from PyPDF2 import PdfReader\n",
    "\n",
    "def extract_text_from_pdf(pdf_path):\n",
    "    text = \"\"\n",
    "    with open(pdf_path, 'rb') as pdf_file:\n",
    "        pdf_reader = PdfReader(pdf_file)\n",
    "        for page in pdf_reader.pages:\n",
    "            text += page.extract_text()\n",
    "    return text\n",
    "\n",
    "## Replace 'research_paper.pdf' with the actual name of your research paper PDF\n",
    "#pdf_text = extract_text_from_pdf('research_paper.pdf')\n",
    "#print(pdf_text)\n"
   ]
  },
  {
   "cell_type": "code",
   "execution_count": 11,
   "id": "fa597e1e",
   "metadata": {},
   "outputs": [
    {
     "data": {
      "text/plain": [
       "0"
      ]
     },
     "execution_count": 11,
     "metadata": {},
     "output_type": "execute_result"
    }
   ],
   "source": [
    "from gtts import gTTS\n",
    "import os\n",
    "\n",
    "#text = \"Hello, this is a sample text.\"\n",
    "tts = gTTS(text=pdf_text, lang='en')\n",
    "tts.save(\"output1.mp3\")\n",
    "os.system(\"start output1.mp3\")  # This will play the audio using the default player"
   ]
  },
  {
   "cell_type": "code",
   "execution_count": 13,
   "id": "c4afe35a",
   "metadata": {},
   "outputs": [
    {
     "data": {
      "text/plain": [
       "0"
      ]
     },
     "execution_count": 13,
     "metadata": {},
     "output_type": "execute_result"
    }
   ],
   "source": [
    "from gtts import gTTS\n",
    "import os\n",
    "\n",
    "#text = \"Hello, this is a sample text.\"\n",
    "tts = gTTS(text=pdf_text, lang='gu')\n",
    "tts.save(\"output2.mp3\")\n",
    "os.system(\"start output2.mp3\")  # This will play the audio using the default player"
   ]
  },
  {
   "cell_type": "code",
   "execution_count": null,
   "id": "7cf06c29",
   "metadata": {},
   "outputs": [],
   "source": []
  }
 ],
 "metadata": {
  "kernelspec": {
   "display_name": "Python 3 (ipykernel)",
   "language": "python",
   "name": "python3"
  },
  "language_info": {
   "codemirror_mode": {
    "name": "ipython",
    "version": 3
   },
   "file_extension": ".py",
   "mimetype": "text/x-python",
   "name": "python",
   "nbconvert_exporter": "python",
   "pygments_lexer": "ipython3",
   "version": "3.11.3"
  }
 },
 "nbformat": 4,
 "nbformat_minor": 5
}

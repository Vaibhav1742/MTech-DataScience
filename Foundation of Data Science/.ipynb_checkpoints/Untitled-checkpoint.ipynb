version https://git-lfs.github.com/spec/v1
oid sha256:c6ee88de2dd06ef9fab454e84b3619c55ebda1ad3336d9816e1ecfb24a6c7988
size 3191607

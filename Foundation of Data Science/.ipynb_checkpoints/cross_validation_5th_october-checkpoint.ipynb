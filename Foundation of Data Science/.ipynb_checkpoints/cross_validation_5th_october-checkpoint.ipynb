{
 "cells": [
  {
   "cell_type": "code",
   "execution_count": 5,
   "id": "5fb431ae",
   "metadata": {},
   "outputs": [],
   "source": [
    "from sklearn.linear_model import LogisticRegression\n",
    "from sklearn.svm import SVC\n",
    "from sklearn.ensemble import RandomForestClassifier\n",
    "import numpy as np\n",
    "from sklearn.datasets import load_digits\n",
    "import matplotlib.pyplot as plt\n",
    "digits = load_digits()"
   ]
  },
  {
   "cell_type": "code",
   "execution_count": 6,
   "id": "6dc588ec",
   "metadata": {},
   "outputs": [],
   "source": [
    "from sklearn.model_selection import train_test_split\n",
    "X_train, X_test, y_train, y_test = train_test_split(digits.data,digits.target,test_size=0.2)"
   ]
  },
  {
   "cell_type": "code",
   "execution_count": 7,
   "id": "983f4114",
   "metadata": {},
   "outputs": [
    {
     "data": {
      "text/plain": [
       "0.9638888888888889"
      ]
     },
     "execution_count": 7,
     "metadata": {},
     "output_type": "execute_result"
    }
   ],
   "source": [
    "#Logistic Regression\n",
    "lr= LogisticRegression(solver='liblinear',multi_class='ovr')\n",
    "lr.fit(X_train, y_train)\n",
    "lr.score(X_test, y_test)"
   ]
  },
  {
   "cell_type": "code",
   "execution_count": 11,
   "id": "b4bdcbfe",
   "metadata": {},
   "outputs": [
    {
     "data": {
      "text/plain": [
       "0.45"
      ]
     },
     "execution_count": 11,
     "metadata": {},
     "output_type": "execute_result"
    }
   ],
   "source": [
    "# [4] #SVM\n",
    "# (x)\n",
    "svm= SVC(gamma='auto')\n",
    "svm.fit(X_train, y_train)\n",
    "svm.score(X_test, y_test)\n",
    "# 0.5\n",
    "# TvoE"
   ]
  },
  {
   "cell_type": "code",
   "execution_count": 15,
   "id": "f61412d1",
   "metadata": {},
   "outputs": [
    {
     "data": {
      "text/plain": [
       "0.9694444444444444"
      ]
     },
     "execution_count": 15,
     "metadata": {},
     "output_type": "execute_result"
    }
   ],
   "source": [
    "#Random Forest\n",
    "rf= RandomForestClassifier(n_estimators=40)\n",
    "rf.fit(X_train, y_train)\n",
    "rf.score(X_test, y_test)"
   ]
  },
  {
   "cell_type": "code",
   "execution_count": 17,
   "id": "24954111",
   "metadata": {},
   "outputs": [],
   "source": [
    "from sklearn.model_selection import KFold \n",
    "kf= KFold(n_splits=3)"
   ]
  },
  {
   "cell_type": "code",
   "execution_count": 18,
   "id": "f9f733c9",
   "metadata": {},
   "outputs": [
    {
     "data": {
      "text/plain": [
       "KFold(n_splits=3, random_state=None, shuffle=False)"
      ]
     },
     "execution_count": 18,
     "metadata": {},
     "output_type": "execute_result"
    }
   ],
   "source": [
    "kf"
   ]
  },
  {
   "cell_type": "code",
   "execution_count": 19,
   "id": "2900f1bf",
   "metadata": {},
   "outputs": [
    {
     "name": "stdout",
     "output_type": "stream",
     "text": [
      "[3 4 5 6] [0 1 2]\n",
      "[0 1 2 5 6] [3 4]\n",
      "[0 1 2 3 4] [5 6]\n"
     ]
    }
   ],
   "source": [
    "for train_index, test_index in kf.split([1,2,3,4,5,6,7]):\n",
    "    print (train_index, test_index)"
   ]
  },
  {
   "cell_type": "code",
   "execution_count": 20,
   "id": "8bbf6628",
   "metadata": {},
   "outputs": [],
   "source": [
    "def get_score(model, X_train, x_test, y_train, y_test): \n",
    "    model.fit(X_train, y_train) \n",
    "    return model.score(X_test, y_test)"
   ]
  },
  {
   "cell_type": "code",
   "execution_count": 27,
   "id": "6051c59e",
   "metadata": {},
   "outputs": [],
   "source": [
    "# n_splits = 3"
   ]
  },
  {
   "cell_type": "code",
   "execution_count": 33,
   "id": "f73da452",
   "metadata": {},
   "outputs": [],
   "source": [
    "from sklearn.model_selection import StratifiedKFold \n",
    "folds = StratifiedKFold(n_splits=3)\n",
    "\n",
    "scores_logistic = []\n",
    "scores_svm = [] \n",
    "scores_rf = []\n",
    "\n",
    "for train_index, test_index in folds.split(digits.data,digits.target):\n",
    "    X_train,X_test,y_train,y_test = digits.data[train_index], digits.data[test_index],digits.target[train_index], digits.target[test_index]\n",
    "    scores_logistic.append(get_score(LogisticRegression(solver= \"liblinear\",multi_class=\"ovr\"), X_train, X_test, y_train, y_test)) \n",
    "    scores_svm.append(get_score(SVC(gamma='auto'), X_train, X_test, y_train, y_test))\n",
    "    scores_rf.append(get_score(RandomForestClassifier(n_estimators=40), X_train, X_test, y_train, y_test))"
   ]
  },
  {
   "cell_type": "code",
   "execution_count": null,
   "id": "e3964223",
   "metadata": {},
   "outputs": [],
   "source": []
  },
  {
   "cell_type": "code",
   "execution_count": 26,
   "id": "b7ca1f41",
   "metadata": {},
   "outputs": [
    {
     "name": "stdout",
     "output_type": "stream",
     "text": [
      "Logistic Regression Scores: [0.8948247078464107, 0.9532554257095158, 0.9098497495826378]\n",
      "SVM Scores: [0.3806343906510851, 0.41068447412353926, 0.5125208681135225]\n",
      "Random Forest Scores: [0.9365609348914858, 0.9565943238731218, 0.9332220367278798]\n"
     ]
    }
   ],
   "source": [
    "from sklearn.model_selection import StratifiedKFold\n",
    "from sklearn.linear_model import LogisticRegression\n",
    "from sklearn.svm import SVC\n",
    "from sklearn.ensemble import RandomForestClassifier\n",
    "from sklearn.datasets import load_digits\n",
    "\n",
    "# Load the digits dataset\n",
    "digits = load_digits()\n",
    "\n",
    "# Define the number of splits for StratifiedKFold\n",
    "n_splits = 3\n",
    "folds = StratifiedKFold(n_splits=n_splits)\n",
    "\n",
    "# Define a function to get the score of a model\n",
    "def get_score(model, X_train, X_test, y_train, y_test):\n",
    "    model.fit(X_train, y_train)\n",
    "    return model.score(X_test, y_test)\n",
    "\n",
    "scores_logistic = []\n",
    "scores_svm = []\n",
    "scores_rf = []\n",
    "\n",
    "for train_index, test_index in folds.split(digits.data, digits.target):\n",
    "    X_train, X_test, y_train, y_test = digits.data[train_index], digits.data[test_index], digits.target[train_index], digits.target[test_index]\n",
    "    scores_logistic.append(get_score(LogisticRegression(solver=\"liblinear\", multi_class=\"ovr\"), X_train, X_test, y_train, y_test))\n",
    "    scores_svm.append(get_score(SVC(gamma='auto'), X_train, X_test, y_train, y_test))\n",
    "    scores_rf.append(get_score(RandomForestClassifier(n_estimators=100), X_train, X_test, y_train, y_test))\n",
    "\n",
    "print(\"Logistic Regression Scores:\", scores_logistic)\n",
    "print(\"SVM Scores:\", scores_svm)\n",
    "print(\"Random Forest Scores:\", scores_rf)"
   ]
  },
  {
   "cell_type": "code",
   "execution_count": 34,
   "id": "6619c0ed",
   "metadata": {},
   "outputs": [],
   "source": [
    "# from sklearn.datasets import load_iris\n",
    "# from sklearn.model_selection import StratifiedKFold\n",
    "\n",
    "# # Load the Iris dataset\n",
    "# iris = load_iris()\n",
    "\n",
    "# # Features (X) and target (y)\n",
    "# X = iris.data\n",
    "# y = iris.target\n",
    "\n",
    "# # Define the number of splits for StratifiedKFold\n",
    "# n_splits = 5  # You can change this to the number of splits you want\n",
    "\n",
    "# # Initialize StratifiedKFold\n",
    "# folds = StratifiedKFold(n_splits=n_splits, shuffle=True, random_state=42)\n",
    "\n",
    "# # Now, you can use 'folds.split(X, y)' to split your dataset into training and testing sets in a k-fold fashion.\n"
   ]
  },
  {
   "cell_type": "code",
   "execution_count": 35,
   "id": "35d44cbd",
   "metadata": {},
   "outputs": [
    {
     "name": "stdout",
     "output_type": "stream",
     "text": [
      "Logistic Regression Scores: [0.96, 0.96, 0.94]\n",
      "SVM Scores: [0.98, 0.98, 0.96]\n",
      "Random Forest Scores: [0.98, 0.94, 0.98]\n"
     ]
    }
   ],
   "source": [
    "from sklearn.model_selection import StratifiedKFold\n",
    "from sklearn.linear_model import LogisticRegression\n",
    "from sklearn.svm import SVC\n",
    "from sklearn.ensemble import RandomForestClassifier\n",
    "from sklearn.datasets import load_digits\n",
    "\n",
    "# Load the digits dataset\n",
    "# digits = load_digits()\n",
    "data = load_iris()\n",
    "\n",
    "# Define the number of splits for StratifiedKFold\n",
    "n_splits = 3\n",
    "folds = StratifiedKFold(n_splits=n_splits)\n",
    "\n",
    "# Define a function to get the score of a model\n",
    "def get_score(model, X_train, X_test, y_train, y_test):\n",
    "    model.fit(X_train, y_train)\n",
    "    return model.score(X_test, y_test)\n",
    "\n",
    "scores_logistic = []\n",
    "scores_svm = []\n",
    "scores_rf = []\n",
    "\n",
    "for train_index, test_index in folds.split(data.data, data.target):\n",
    "    X_train, X_test, y_train, y_test = data.data[train_index], data.data[test_index], data.target[train_index], data.target[test_index]\n",
    "    scores_logistic.append(get_score(LogisticRegression(solver=\"liblinear\", multi_class=\"ovr\"), X_train, X_test, y_train, y_test))\n",
    "    scores_svm.append(get_score(SVC(gamma='auto'), X_train, X_test, y_train, y_test))\n",
    "    scores_rf.append(get_score(RandomForestClassifier(n_estimators=100), X_train, X_test, y_train, y_test))\n",
    "\n",
    "print(\"Logistic Regression Scores:\", scores_logistic)\n",
    "print(\"SVM Scores:\", scores_svm)\n",
    "print(\"Random Forest Scores:\", scores_rf)"
   ]
  },
  {
   "cell_type": "code",
   "execution_count": null,
   "id": "762e2360",
   "metadata": {},
   "outputs": [],
   "source": [
    "from sklearn.model_selection import train_test_split\n",
    "X_train, X_test, y_train, y_test = train_test_split(digits.data,digits.target,test_size=0.2)"
   ]
  },
  {
   "cell_type": "code",
   "execution_count": null,
   "id": "e4a9326a",
   "metadata": {},
   "outputs": [],
   "source": [
    "get_score(LogisticRegression(solver=\"liblinear\", multi_class=\"ovr\"), X_train, X_test, y_train, y_test)\n",
    "get_score(SVC(gamma='auto'), X_train, X_test, y_train, y_test)\n",
    "get_score(RandomForestClassifier(n_estimators=100), X_train, X_test, y_train, y_test)"
   ]
  }
 ],
 "metadata": {
  "kernelspec": {
   "display_name": "Python 3 (ipykernel)",
   "language": "python",
   "name": "python3"
  },
  "language_info": {
   "codemirror_mode": {
    "name": "ipython",
    "version": 3
   },
   "file_extension": ".py",
   "mimetype": "text/x-python",
   "name": "python",
   "nbconvert_exporter": "python",
   "pygments_lexer": "ipython3",
   "version": "3.11.3"
  }
 },
 "nbformat": 4,
 "nbformat_minor": 5
}

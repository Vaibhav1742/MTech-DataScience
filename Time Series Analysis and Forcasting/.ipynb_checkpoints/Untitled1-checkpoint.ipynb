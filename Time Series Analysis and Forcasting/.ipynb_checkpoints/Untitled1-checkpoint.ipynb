{
 "cells": [
  {
   "cell_type": "code",
   "execution_count": 2,
   "id": "f332eacb",
   "metadata": {},
   "outputs": [],
   "source": [
    "import pandas as pd\n",
    "import numpy as np\n",
    "import matplotlib.pyplot as plt"
   ]
  },
  {
   "cell_type": "code",
   "execution_count": 3,
   "id": "863cd0ea",
   "metadata": {},
   "outputs": [],
   "source": [
    "df = pd.read_excel(r\"C:\\Users\\raval\\Downloads\\TSA_PE.xlsx\")"
   ]
  },
  {
   "cell_type": "code",
   "execution_count": 4,
   "id": "53a22f4d",
   "metadata": {},
   "outputs": [
    {
     "data": {
      "text/html": [
       "<div>\n",
       "<style scoped>\n",
       "    .dataframe tbody tr th:only-of-type {\n",
       "        vertical-align: middle;\n",
       "    }\n",
       "\n",
       "    .dataframe tbody tr th {\n",
       "        vertical-align: top;\n",
       "    }\n",
       "\n",
       "    .dataframe thead th {\n",
       "        text-align: right;\n",
       "    }\n",
       "</style>\n",
       "<table border=\"1\" class=\"dataframe\">\n",
       "  <thead>\n",
       "    <tr style=\"text-align: right;\">\n",
       "      <th></th>\n",
       "      <th>Period</th>\n",
       "      <th>y_t</th>\n",
       "    </tr>\n",
       "  </thead>\n",
       "  <tbody>\n",
       "    <tr>\n",
       "      <th>0</th>\n",
       "      <td>1</td>\n",
       "      <td>48.7</td>\n",
       "    </tr>\n",
       "    <tr>\n",
       "      <th>1</th>\n",
       "      <td>2</td>\n",
       "      <td>45.8</td>\n",
       "    </tr>\n",
       "    <tr>\n",
       "      <th>2</th>\n",
       "      <td>3</td>\n",
       "      <td>46.4</td>\n",
       "    </tr>\n",
       "    <tr>\n",
       "      <th>3</th>\n",
       "      <td>4</td>\n",
       "      <td>46.2</td>\n",
       "    </tr>\n",
       "    <tr>\n",
       "      <th>4</th>\n",
       "      <td>5</td>\n",
       "      <td>44.0</td>\n",
       "    </tr>\n",
       "    <tr>\n",
       "      <th>5</th>\n",
       "      <td>6</td>\n",
       "      <td>53.8</td>\n",
       "    </tr>\n",
       "    <tr>\n",
       "      <th>6</th>\n",
       "      <td>7</td>\n",
       "      <td>47.6</td>\n",
       "    </tr>\n",
       "    <tr>\n",
       "      <th>7</th>\n",
       "      <td>8</td>\n",
       "      <td>47.0</td>\n",
       "    </tr>\n",
       "    <tr>\n",
       "      <th>8</th>\n",
       "      <td>9</td>\n",
       "      <td>47.6</td>\n",
       "    </tr>\n",
       "    <tr>\n",
       "      <th>9</th>\n",
       "      <td>10</td>\n",
       "      <td>51.1</td>\n",
       "    </tr>\n",
       "    <tr>\n",
       "      <th>10</th>\n",
       "      <td>11</td>\n",
       "      <td>49.1</td>\n",
       "    </tr>\n",
       "    <tr>\n",
       "      <th>11</th>\n",
       "      <td>12</td>\n",
       "      <td>46.7</td>\n",
       "    </tr>\n",
       "    <tr>\n",
       "      <th>12</th>\n",
       "      <td>13</td>\n",
       "      <td>47.8</td>\n",
       "    </tr>\n",
       "    <tr>\n",
       "      <th>13</th>\n",
       "      <td>14</td>\n",
       "      <td>45.8</td>\n",
       "    </tr>\n",
       "    <tr>\n",
       "      <th>14</th>\n",
       "      <td>15</td>\n",
       "      <td>45.5</td>\n",
       "    </tr>\n",
       "    <tr>\n",
       "      <th>15</th>\n",
       "      <td>16</td>\n",
       "      <td>49.2</td>\n",
       "    </tr>\n",
       "    <tr>\n",
       "      <th>16</th>\n",
       "      <td>17</td>\n",
       "      <td>54.8</td>\n",
       "    </tr>\n",
       "    <tr>\n",
       "      <th>17</th>\n",
       "      <td>18</td>\n",
       "      <td>44.7</td>\n",
       "    </tr>\n",
       "    <tr>\n",
       "      <th>18</th>\n",
       "      <td>19</td>\n",
       "      <td>51.1</td>\n",
       "    </tr>\n",
       "    <tr>\n",
       "      <th>19</th>\n",
       "      <td>20</td>\n",
       "      <td>47.3</td>\n",
       "    </tr>\n",
       "    <tr>\n",
       "      <th>20</th>\n",
       "      <td>21</td>\n",
       "      <td>45.3</td>\n",
       "    </tr>\n",
       "    <tr>\n",
       "      <th>21</th>\n",
       "      <td>22</td>\n",
       "      <td>43.3</td>\n",
       "    </tr>\n",
       "    <tr>\n",
       "      <th>22</th>\n",
       "      <td>23</td>\n",
       "      <td>44.6</td>\n",
       "    </tr>\n",
       "    <tr>\n",
       "      <th>23</th>\n",
       "      <td>24</td>\n",
       "      <td>47.1</td>\n",
       "    </tr>\n",
       "    <tr>\n",
       "      <th>24</th>\n",
       "      <td>25</td>\n",
       "      <td>53.4</td>\n",
       "    </tr>\n",
       "    <tr>\n",
       "      <th>25</th>\n",
       "      <td>26</td>\n",
       "      <td>44.9</td>\n",
       "    </tr>\n",
       "    <tr>\n",
       "      <th>26</th>\n",
       "      <td>27</td>\n",
       "      <td>50.5</td>\n",
       "    </tr>\n",
       "    <tr>\n",
       "      <th>27</th>\n",
       "      <td>28</td>\n",
       "      <td>48.1</td>\n",
       "    </tr>\n",
       "    <tr>\n",
       "      <th>28</th>\n",
       "      <td>29</td>\n",
       "      <td>45.4</td>\n",
       "    </tr>\n",
       "    <tr>\n",
       "      <th>29</th>\n",
       "      <td>30</td>\n",
       "      <td>51.6</td>\n",
       "    </tr>\n",
       "    <tr>\n",
       "      <th>30</th>\n",
       "      <td>31</td>\n",
       "      <td>50.8</td>\n",
       "    </tr>\n",
       "    <tr>\n",
       "      <th>31</th>\n",
       "      <td>32</td>\n",
       "      <td>46.4</td>\n",
       "    </tr>\n",
       "    <tr>\n",
       "      <th>32</th>\n",
       "      <td>33</td>\n",
       "      <td>52.3</td>\n",
       "    </tr>\n",
       "    <tr>\n",
       "      <th>33</th>\n",
       "      <td>34</td>\n",
       "      <td>50.5</td>\n",
       "    </tr>\n",
       "    <tr>\n",
       "      <th>34</th>\n",
       "      <td>35</td>\n",
       "      <td>53.4</td>\n",
       "    </tr>\n",
       "    <tr>\n",
       "      <th>35</th>\n",
       "      <td>36</td>\n",
       "      <td>53.9</td>\n",
       "    </tr>\n",
       "    <tr>\n",
       "      <th>36</th>\n",
       "      <td>37</td>\n",
       "      <td>52.3</td>\n",
       "    </tr>\n",
       "    <tr>\n",
       "      <th>37</th>\n",
       "      <td>38</td>\n",
       "      <td>53.0</td>\n",
       "    </tr>\n",
       "    <tr>\n",
       "      <th>38</th>\n",
       "      <td>39</td>\n",
       "      <td>48.6</td>\n",
       "    </tr>\n",
       "    <tr>\n",
       "      <th>39</th>\n",
       "      <td>40</td>\n",
       "      <td>52.4</td>\n",
       "    </tr>\n",
       "    <tr>\n",
       "      <th>40</th>\n",
       "      <td>41</td>\n",
       "      <td>47.9</td>\n",
       "    </tr>\n",
       "    <tr>\n",
       "      <th>41</th>\n",
       "      <td>42</td>\n",
       "      <td>49.5</td>\n",
       "    </tr>\n",
       "    <tr>\n",
       "      <th>42</th>\n",
       "      <td>43</td>\n",
       "      <td>44.0</td>\n",
       "    </tr>\n",
       "    <tr>\n",
       "      <th>43</th>\n",
       "      <td>44</td>\n",
       "      <td>53.8</td>\n",
       "    </tr>\n",
       "    <tr>\n",
       "      <th>44</th>\n",
       "      <td>45</td>\n",
       "      <td>52.5</td>\n",
       "    </tr>\n",
       "    <tr>\n",
       "      <th>45</th>\n",
       "      <td>46</td>\n",
       "      <td>52.0</td>\n",
       "    </tr>\n",
       "    <tr>\n",
       "      <th>46</th>\n",
       "      <td>47</td>\n",
       "      <td>50.6</td>\n",
       "    </tr>\n",
       "    <tr>\n",
       "      <th>47</th>\n",
       "      <td>48</td>\n",
       "      <td>48.7</td>\n",
       "    </tr>\n",
       "    <tr>\n",
       "      <th>48</th>\n",
       "      <td>49</td>\n",
       "      <td>51.4</td>\n",
       "    </tr>\n",
       "    <tr>\n",
       "      <th>49</th>\n",
       "      <td>50</td>\n",
       "      <td>47.7</td>\n",
       "    </tr>\n",
       "  </tbody>\n",
       "</table>\n",
       "</div>"
      ],
      "text/plain": [
       "    Period   y_t\n",
       "0        1  48.7\n",
       "1        2  45.8\n",
       "2        3  46.4\n",
       "3        4  46.2\n",
       "4        5  44.0\n",
       "5        6  53.8\n",
       "6        7  47.6\n",
       "7        8  47.0\n",
       "8        9  47.6\n",
       "9       10  51.1\n",
       "10      11  49.1\n",
       "11      12  46.7\n",
       "12      13  47.8\n",
       "13      14  45.8\n",
       "14      15  45.5\n",
       "15      16  49.2\n",
       "16      17  54.8\n",
       "17      18  44.7\n",
       "18      19  51.1\n",
       "19      20  47.3\n",
       "20      21  45.3\n",
       "21      22  43.3\n",
       "22      23  44.6\n",
       "23      24  47.1\n",
       "24      25  53.4\n",
       "25      26  44.9\n",
       "26      27  50.5\n",
       "27      28  48.1\n",
       "28      29  45.4\n",
       "29      30  51.6\n",
       "30      31  50.8\n",
       "31      32  46.4\n",
       "32      33  52.3\n",
       "33      34  50.5\n",
       "34      35  53.4\n",
       "35      36  53.9\n",
       "36      37  52.3\n",
       "37      38  53.0\n",
       "38      39  48.6\n",
       "39      40  52.4\n",
       "40      41  47.9\n",
       "41      42  49.5\n",
       "42      43  44.0\n",
       "43      44  53.8\n",
       "44      45  52.5\n",
       "45      46  52.0\n",
       "46      47  50.6\n",
       "47      48  48.7\n",
       "48      49  51.4\n",
       "49      50  47.7"
      ]
     },
     "execution_count": 4,
     "metadata": {},
     "output_type": "execute_result"
    }
   ],
   "source": [
    "df"
   ]
  },
  {
   "cell_type": "code",
   "execution_count": 6,
   "id": "9f8943a6",
   "metadata": {},
   "outputs": [
    {
     "data": {
      "image/png": "[encoded data removed]",
      "text/plain": [
       "<Figure size 640x480 with 1 Axes>"
      ]
     },
     "metadata": {},
     "output_type": "display_data"
    }
   ],
   "source": [
    "plt.plot(df[\"Period\"],df[\"y_t\"])\n",
    "plt.title(\"time sereis plot\")\n",
    "plt.show()"
   ]
  },
  {
   "cell_type": "code",
   "execution_count": 7,
   "id": "d59e065f",
   "metadata": {},
   "outputs": [],
   "source": [
    "y = df[\"y_t\"].to_list()"
   ]
  },
  {
   "cell_type": "code",
   "execution_count": 8,
   "id": "d4b245ad",
   "metadata": {},
   "outputs": [
    {
     "data": {
      "text/plain": [
       "[48.7,\n",
       " 45.8,\n",
       " 46.4,\n",
       " 46.2,\n",
       " 44.0,\n",
       " 53.8,\n",
       " 47.6,\n",
       " 47.0,\n",
       " 47.6,\n",
       " 51.1,\n",
       " 49.1,\n",
       " 46.7,\n",
       " 47.8,\n",
       " 45.8,\n",
       " 45.5,\n",
       " 49.2,\n",
       " 54.8,\n",
       " 44.7,\n",
       " 51.1,\n",
       " 47.3,\n",
       " 45.3,\n",
       " 43.3,\n",
       " 44.6,\n",
       " 47.1,\n",
       " 53.4,\n",
       " 44.9,\n",
       " 50.5,\n",
       " 48.1,\n",
       " 45.4,\n",
       " 51.6,\n",
       " 50.8,\n",
       " 46.4,\n",
       " 52.3,\n",
       " 50.5,\n",
       " 53.4,\n",
       " 53.9,\n",
       " 52.3,\n",
       " 53.0,\n",
       " 48.6,\n",
       " 52.4,\n",
       " 47.9,\n",
       " 49.5,\n",
       " 44.0,\n",
       " 53.8,\n",
       " 52.5,\n",
       " 52.0,\n",
       " 50.6,\n",
       " 48.7,\n",
       " 51.4,\n",
       " 47.7]"
      ]
     },
     "execution_count": 8,
     "metadata": {},
     "output_type": "execute_result"
    }
   ],
   "source": [
    "y"
   ]
  },
  {
   "cell_type": "code",
   "execution_count": 15,
   "id": "49d74a37",
   "metadata": {},
   "outputs": [
    {
     "data": {
      "text/plain": [
       "48.7"
      ]
     },
     "execution_count": 15,
     "metadata": {},
     "output_type": "execute_result"
    }
   ],
   "source": [
    "y[0]"
   ]
  },
  {
   "cell_type": "code",
   "execution_count": 27,
   "id": "d80f8eaf",
   "metadata": {},
   "outputs": [
    {
     "data": {
      "text/plain": [
       "40"
      ]
     },
     "execution_count": 27,
     "metadata": {},
     "output_type": "execute_result"
    }
   ],
   "source": []
  },
  {
   "cell_type": "code",
   "execution_count": 28,
   "id": "ad396d85",
   "metadata": {},
   "outputs": [],
   "source": [
    "def exp_smoothing(d, lamda):\n",
    "    a = [d[0]]\n",
    "    for i in range(1, len(d)-9):\n",
    "        b = lamda * d[i] + (1 - lamda) * a[i-1]\n",
    "        a.append(b)\n",
    "    return a"
   ]
  },
  {
   "cell_type": "code",
   "execution_count": 29,
   "id": "433fe1c4",
   "metadata": {},
   "outputs": [
    {
     "data": {
      "text/plain": [
       "[48.7,\n",
       " 48.120000000000005,\n",
       " 47.77600000000001,\n",
       " 47.46080000000001,\n",
       " 46.76864000000002,\n",
       " 48.17491200000001,\n",
       " 48.05992960000002,\n",
       " 47.847943680000014,\n",
       " 47.79835494400002,\n",
       " 48.458683955200016,\n",
       " 48.586947164160016,\n",
       " 48.20955773132802,\n",
       " 48.12764618506242,\n",
       " 47.66211694804994,\n",
       " 47.229693558439955,\n",
       " 47.62375484675197,\n",
       " 49.05900387740158,\n",
       " 48.18720310192127,\n",
       " 48.769762481537015,\n",
       " 48.47580998522962,\n",
       " 47.8406479881837,\n",
       " 46.93251839054696,\n",
       " 46.46601471243757,\n",
       " 46.59281176995006,\n",
       " 47.95424941596005,\n",
       " 47.343399532768046,\n",
       " 47.97471962621444,\n",
       " 47.999775700971554,\n",
       " 47.47982056077724,\n",
       " 48.303856448621794,\n",
       " 48.80308515889743,\n",
       " 48.32246812711795,\n",
       " 49.11797450169436,\n",
       " 49.394379601355496,\n",
       " 50.195503681084396,\n",
       " 50.936402944867524,\n",
       " 51.209122355894024,\n",
       " 51.567297884715224,\n",
       " 50.97383830777218,\n",
       " 51.25907064621775,\n",
       " 50.5872565169742]"
      ]
     },
     "execution_count": 29,
     "metadata": {},
     "output_type": "execute_result"
    }
   ],
   "source": [
    "exp_smoothing(y,0.2)"
   ]
  },
  {
   "cell_type": "code",
   "execution_count": 30,
   "id": "04196b05",
   "metadata": {},
   "outputs": [
    {
     "data": {
      "text/plain": [
       "41"
      ]
     },
     "execution_count": 30,
     "metadata": {},
     "output_type": "execute_result"
    }
   ],
   "source": [
    "len(exp_smoothing(y,0.2))"
   ]
  },
  {
   "cell_type": "code",
   "execution_count": 31,
   "id": "c42df7c2",
   "metadata": {},
   "outputs": [],
   "source": [
    "c = exp_smoothing(y,0.2)"
   ]
  },
  {
   "cell_type": "code",
   "execution_count": 42,
   "id": "6ce15461",
   "metadata": {},
   "outputs": [
    {
     "data": {
      "image/png": "[encoded data removed]",
      "text/plain": [
       "<Figure size 640x480 with 1 Axes>"
      ]
     },
     "metadata": {},
     "output_type": "display_data"
    }
   ],
   "source": [
    "plt.plot(df[\"Period\"],df[\"y_t\"])\n",
    "plt.plot(df[\"Period\"].head(41),c)\n",
    "plt.title(\"Actual vs Smoothened data - time sereis plot\")\n",
    "# plt.legend(\"actual_data\")\n",
    "plt.show()"
   ]
  },
  {
   "cell_type": "markdown",
   "id": "cbc70e57",
   "metadata": {},
   "source": [
    "it smoothened the first 40 values as shown in the figure"
   ]
  },
  {
   "cell_type": "code",
   "execution_count": 41,
   "id": "22f14071",
   "metadata": {},
   "outputs": [],
   "source": [
    "import statsmodels.tsa.arima as arima"
   ]
  },
  {
   "cell_type": "code",
   "execution_count": 43,
   "id": "c853a789",
   "metadata": {},
   "outputs": [],
   "source": [
    "from statsmodels.graphics.tsaplots import plot_acf"
   ]
  },
  {
   "cell_type": "code",
   "execution_count": 110,
   "id": "b413e4ce",
   "metadata": {},
   "outputs": [
    {
     "data": {
      "image/png": "[encoded data removed]",
      "text/plain": [
       "<Figure size 640x480 with 1 Axes>"
      ]
     },
     "metadata": {},
     "output_type": "display_data"
    }
   ],
   "source": [
    "plot_acf(df[\"y_t\"],lags=10)\n",
    "plt.show()"
   ]
  },
  {
   "cell_type": "code",
   "execution_count": null,
   "id": "2274f1ed",
   "metadata": {},
   "outputs": [],
   "source": []
  },
  {
   "cell_type": "code",
   "execution_count": 53,
   "id": "7f1c9e24",
   "metadata": {},
   "outputs": [],
   "source": [
    "X=0\n",
    "for i in range(50):\n",
    "    X+= (df[\"y_t\"][i]-R_mean)**2\n",
    "c0 = (1/50)*X"
   ]
  },
  {
   "cell_type": "code",
   "execution_count": 54,
   "id": "8b5b97b1",
   "metadata": {},
   "outputs": [
    {
     "data": {
      "text/plain": [
       "9.755315999999999"
      ]
     },
     "execution_count": 54,
     "metadata": {},
     "output_type": "execute_result"
    }
   ],
   "source": [
    "c0"
   ]
  },
  {
   "cell_type": "code",
   "execution_count": null,
   "id": "b6bca22e",
   "metadata": {},
   "outputs": [],
   "source": []
  },
  {
   "cell_type": "code",
   "execution_count": 51,
   "id": "a32b32c6",
   "metadata": {},
   "outputs": [],
   "source": [
    "R_mean = df[\"y_t\"].mean()\n",
    "\n",
    "c_values = np.zeros(12)\n",
    "\n",
    "for k in range(12):\n",
    "    sum = 0\n",
    "    for i in range(50 - k):\n",
    "        sum += (df[\"y_t\"][i] - R_mean) * (df[\"y_t\"][i + k] - R_mean)\n",
    "    c_values[k] = sum / 50"
   ]
  },
  {
   "cell_type": "code",
   "execution_count": 52,
   "id": "aa4308a4",
   "metadata": {},
   "outputs": [
    {
     "data": {
      "text/plain": [
       "array([9.755316  , 1.03489032, 2.02881664, 1.08381896, 0.33056928,\n",
       "       0.2119676 , 0.96029792, 0.50647224, 1.59487056, 0.94275288,\n",
       "       1.1628712 , 2.21848952])"
      ]
     },
     "execution_count": 52,
     "metadata": {},
     "output_type": "execute_result"
    }
   ],
   "source": [
    "c_values"
   ]
  },
  {
   "cell_type": "code",
   "execution_count": 55,
   "id": "3f19e663",
   "metadata": {},
   "outputs": [],
   "source": [
    "r_values = c_values / c_values[0]"
   ]
  },
  {
   "cell_type": "code",
   "execution_count": 56,
   "id": "f34bdd33",
   "metadata": {},
   "outputs": [
    {
     "data": {
      "text/plain": [
       "array([1.        , 0.10608476, 0.20797037, 0.11110034, 0.03388607,\n",
       "       0.02172842, 0.09843842, 0.05191756, 0.16348733, 0.09663991,\n",
       "       0.11920385, 0.22741339])"
      ]
     },
     "execution_count": 56,
     "metadata": {},
     "output_type": "execute_result"
    }
   ],
   "source": [
    "r_values"
   ]
  },
  {
   "cell_type": "code",
   "execution_count": null,
   "id": "dea842cb",
   "metadata": {},
   "outputs": [],
   "source": []
  },
  {
   "cell_type": "code",
   "execution_count": 58,
   "id": "072bbc78",
   "metadata": {},
   "outputs": [
    {
     "data": {
      "text/plain": [
       "50.5872565169742"
      ]
     },
     "execution_count": 58,
     "metadata": {},
     "output_type": "execute_result"
    }
   ],
   "source": [
    "c[-1]"
   ]
  },
  {
   "cell_type": "code",
   "execution_count": 72,
   "id": "fc9e4731",
   "metadata": {},
   "outputs": [],
   "source": [
    "lamda = 0.2\n",
    "g = [c[-1]]\n",
    "for i in range(0, 10):\n",
    "    h = lamda * g[0] + (1 - lamda) * g[i] \n",
    "    g.append(h)"
   ]
  },
  {
   "cell_type": "code",
   "execution_count": 73,
   "id": "464e4358",
   "metadata": {},
   "outputs": [
    {
     "data": {
      "text/plain": [
       "[50.5872565169742,\n",
       " 50.58725651697421,\n",
       " 50.58725651697421,\n",
       " 50.58725651697421,\n",
       " 50.58725651697421,\n",
       " 50.58725651697421,\n",
       " 50.58725651697421,\n",
       " 50.58725651697421,\n",
       " 50.58725651697421,\n",
       " 50.58725651697421,\n",
       " 50.58725651697421]"
      ]
     },
     "execution_count": 73,
     "metadata": {},
     "output_type": "execute_result"
    }
   ],
   "source": [
    "g"
   ]
  },
  {
   "cell_type": "code",
   "execution_count": null,
   "id": "3dde45dc",
   "metadata": {},
   "outputs": [],
   "source": []
  },
  {
   "cell_type": "code",
   "execution_count": 83,
   "id": "377e9b85",
   "metadata": {},
   "outputs": [],
   "source": [
    "def forecasting(d, lamda):\n",
    "    a = [d[0]]\n",
    "    for i in range(1, len(d)):\n",
    "        b = lamda * d[i] + (1 - lamda) * a[i-1]\n",
    "        a.append(b)\n",
    "    return a"
   ]
  },
  {
   "cell_type": "code",
   "execution_count": 84,
   "id": "2d46294d",
   "metadata": {},
   "outputs": [
    {
     "data": {
      "text/plain": [
       "[48.7,\n",
       " 48.120000000000005,\n",
       " 47.77600000000001,\n",
       " 47.46080000000001,\n",
       " 46.76864000000002,\n",
       " 48.17491200000001,\n",
       " 48.05992960000002,\n",
       " 47.847943680000014,\n",
       " 47.79835494400002,\n",
       " 48.458683955200016,\n",
       " 48.586947164160016,\n",
       " 48.20955773132802,\n",
       " 48.12764618506242,\n",
       " 47.66211694804994,\n",
       " 47.229693558439955,\n",
       " 47.62375484675197,\n",
       " 49.05900387740158,\n",
       " 48.18720310192127,\n",
       " 48.769762481537015,\n",
       " 48.47580998522962,\n",
       " 47.8406479881837,\n",
       " 46.93251839054696,\n",
       " 46.46601471243757,\n",
       " 46.59281176995006,\n",
       " 47.95424941596005,\n",
       " 47.343399532768046,\n",
       " 47.97471962621444,\n",
       " 47.999775700971554,\n",
       " 47.47982056077724,\n",
       " 48.303856448621794,\n",
       " 48.80308515889743,\n",
       " 48.32246812711795,\n",
       " 49.11797450169436,\n",
       " 49.394379601355496,\n",
       " 50.195503681084396,\n",
       " 50.936402944867524,\n",
       " 51.209122355894024,\n",
       " 51.567297884715224,\n",
       " 50.97383830777218,\n",
       " 51.25907064621775,\n",
       " 50.5872565169742,\n",
       " 50.36980521357936,\n",
       " 49.09584417086349,\n",
       " 50.03667533669079,\n",
       " 50.52934026935264,\n",
       " 50.82347221548211,\n",
       " 50.778777772385695,\n",
       " 50.36302221790856,\n",
       " 50.57041777432685,\n",
       " 49.99633421946148]"
      ]
     },
     "execution_count": 84,
     "metadata": {},
     "output_type": "execute_result"
    }
   ],
   "source": [
    "forecasting(y,0.2)"
   ]
  },
  {
   "cell_type": "code",
   "execution_count": 86,
   "id": "8a2e224c",
   "metadata": {},
   "outputs": [],
   "source": [
    "d = y\n",
    "lamda = 0.2\n",
    "a = [d[0]]\n",
    "for i in range(1, len(d)):\n",
    "    b = lamda * d[i] + (1 - lamda) * a[i-1]\n",
    "    a.append(b)"
   ]
  },
  {
   "cell_type": "code",
   "execution_count": 100,
   "id": "92e1b22e",
   "metadata": {},
   "outputs": [],
   "source": [
    "actual_last_10 = y[41:51]"
   ]
  },
  {
   "cell_type": "code",
   "execution_count": 111,
   "id": "21189037",
   "metadata": {},
   "outputs": [
    {
     "data": {
      "text/plain": [
       "[50.36980521357936,\n",
       " 49.09584417086349,\n",
       " 50.03667533669079,\n",
       " 50.52934026935264,\n",
       " 50.82347221548211,\n",
       " 50.778777772385695,\n",
       " 50.36302221790856,\n",
       " 50.57041777432685,\n",
       " 49.99633421946148]"
      ]
     },
     "execution_count": 111,
     "metadata": {},
     "output_type": "execute_result"
    }
   ],
   "source": [
    "o"
   ]
  },
  {
   "cell_type": "code",
   "execution_count": 95,
   "id": "94c1d4c9",
   "metadata": {},
   "outputs": [
    {
     "data": {
      "text/plain": [
       "9"
      ]
     },
     "execution_count": 95,
     "metadata": {},
     "output_type": "execute_result"
    }
   ],
   "source": [
    "len(a[41:51])"
   ]
  },
  {
   "cell_type": "code",
   "execution_count": 99,
   "id": "adb55f56",
   "metadata": {},
   "outputs": [],
   "source": [
    "o = a[41:51]"
   ]
  },
  {
   "cell_type": "code",
   "execution_count": 105,
   "id": "07c30ee1",
   "metadata": {},
   "outputs": [],
   "source": [
    "s = 0\n",
    "s_2 = 0\n",
    "for i in range(len(o)):\n",
    "    e = actual_last_10[i] - o[i]\n",
    "    e_2 = (actual_last_10[i] - o[i])**2 \n",
    "    s += e\n",
    "    s_2 += e_2 "
   ]
  },
  {
   "cell_type": "code",
   "execution_count": 107,
   "id": "1591b334",
   "metadata": {},
   "outputs": [
    {
     "data": {
      "text/plain": [
       "-2.3636891900509696"
      ]
     },
     "execution_count": 107,
     "metadata": {},
     "output_type": "execute_result"
    }
   ],
   "source": [
    "s"
   ]
  },
  {
   "cell_type": "code",
   "execution_count": 106,
   "id": "b013b177",
   "metadata": {},
   "outputs": [
    {
     "data": {
      "text/plain": [
       "54.91348075228151"
      ]
     },
     "execution_count": 106,
     "metadata": {},
     "output_type": "execute_result"
    }
   ],
   "source": [
    "s_2"
   ]
  },
  {
   "cell_type": "code",
   "execution_count": null,
   "id": "c36d5d5f",
   "metadata": {},
   "outputs": [],
   "source": []
  }
 ],
 "metadata": {
  "kernelspec": {
   "display_name": "Python 3 (ipykernel)",
   "language": "python",
   "name": "python3"
  },
  "language_info": {
   "codemirror_mode": {
    "name": "ipython",
    "version": 3
   },
   "file_extension": ".py",
   "mimetype": "text/x-python",
   "name": "python",
   "nbconvert_exporter": "python",
   "pygments_lexer": "ipython3",
   "version": "3.11.3"
  }
 },
 "nbformat": 4,
 "nbformat_minor": 5
}

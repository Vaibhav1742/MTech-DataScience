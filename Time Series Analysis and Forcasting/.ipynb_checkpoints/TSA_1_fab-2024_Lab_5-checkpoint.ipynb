{
 "cells": [
  {
   "cell_type": "code",
   "execution_count": 1,
   "id": "896abb41",
   "metadata": {},
   "outputs": [],
   "source": [
    "import pandas as pd\n",
    "import numpy as np\n",
    "import matplotlib.pyplot as plt\n",
    "import seaborn as sns\n",
    "import statsmodels.api as sm\n",
    "from sklearn.model_selection import train_test_split\n",
    "from sklearn.metrics import mean_squared_error\n",
    "from datetime import datetime"
   ]
  },
  {
   "cell_type": "code",
   "execution_count": 2,
   "id": "b16e8b19",
   "metadata": {},
   "outputs": [
    {
     "data": {
      "text/html": [
       "<div>\n",
       "<style scoped>\n",
       "    .dataframe tbody tr th:only-of-type {\n",
       "        vertical-align: middle;\n",
       "    }\n",
       "\n",
       "    .dataframe tbody tr th {\n",
       "        vertical-align: top;\n",
       "    }\n",
       "\n",
       "    .dataframe thead th {\n",
       "        text-align: right;\n",
       "    }\n",
       "</style>\n",
       "<table border=\"1\" class=\"dataframe\">\n",
       "  <thead>\n",
       "    <tr style=\"text-align: right;\">\n",
       "      <th></th>\n",
       "      <th>Observation</th>\n",
       "      <th>Age(x1)</th>\n",
       "      <th>Severity(x2)</th>\n",
       "      <th>Satisfaction(y)</th>\n",
       "    </tr>\n",
       "  </thead>\n",
       "  <tbody>\n",
       "    <tr>\n",
       "      <th>0</th>\n",
       "      <td>1</td>\n",
       "      <td>55</td>\n",
       "      <td>50</td>\n",
       "      <td>68</td>\n",
       "    </tr>\n",
       "    <tr>\n",
       "      <th>1</th>\n",
       "      <td>2</td>\n",
       "      <td>46</td>\n",
       "      <td>24</td>\n",
       "      <td>77</td>\n",
       "    </tr>\n",
       "    <tr>\n",
       "      <th>2</th>\n",
       "      <td>3</td>\n",
       "      <td>30</td>\n",
       "      <td>46</td>\n",
       "      <td>96</td>\n",
       "    </tr>\n",
       "    <tr>\n",
       "      <th>3</th>\n",
       "      <td>4</td>\n",
       "      <td>35</td>\n",
       "      <td>48</td>\n",
       "      <td>80</td>\n",
       "    </tr>\n",
       "    <tr>\n",
       "      <th>4</th>\n",
       "      <td>5</td>\n",
       "      <td>59</td>\n",
       "      <td>58</td>\n",
       "      <td>43</td>\n",
       "    </tr>\n",
       "  </tbody>\n",
       "</table>\n",
       "</div>"
      ],
      "text/plain": [
       "   Observation  Age(x1)  Severity(x2)  Satisfaction(y)\n",
       "0            1       55            50               68\n",
       "1            2       46            24               77\n",
       "2            3       30            46               96\n",
       "3            4       35            48               80\n",
       "4            5       59            58               43"
      ]
     },
     "execution_count": 2,
     "metadata": {},
     "output_type": "execute_result"
    }
   ],
   "source": [
    "df = pd.read_csv(r\"C:\\Users\\raval\\Downloads\\Patient Satisfaction Survey Data.csv\")\n",
    "df.head()"
   ]
  },
  {
   "cell_type": "code",
   "execution_count": 3,
   "id": "374747d3",
   "metadata": {},
   "outputs": [],
   "source": [
    "df.rename({\"Age(x1)\":\"Age\",\"Severity(x2)\":\"Severity\",\"Satisfaction(y)\":\"Satisfaction\"},inplace=True,axis=1)"
   ]
  },
  {
   "cell_type": "code",
   "execution_count": 4,
   "id": "ce2a23aa",
   "metadata": {},
   "outputs": [
    {
     "name": "stdout",
     "output_type": "stream",
     "text": [
      "Intercept: 143.47201181279553\n",
      "Coefficients: [-1.03105341 -0.55603781]\n"
     ]
    }
   ],
   "source": [
    "from sklearn.linear_model import LinearRegression\n",
    "# Extract features (X) and target variable (y)\n",
    "X = df[['Age', 'Severity']]\n",
    "y = df['Satisfaction']\n",
    "\n",
    "# Create a linear regression model\n",
    "model = LinearRegression()\n",
    "\n",
    "# Fit the model to the data\n",
    "model.fit(X, y)\n",
    "\n",
    "# Print the coefficients\n",
    "print('Intercept:', model.intercept_)\n",
    "print('Coefficients:', model.coef_)"
   ]
  },
  {
   "cell_type": "code",
   "execution_count": 5,
   "id": "3d6160e6",
   "metadata": {},
   "outputs": [
    {
     "data": {
      "image/png": "[encoded data removed]",
      "text/plain": [
       "<Figure size 640x480 with 1 Axes>"
      ]
     },
     "metadata": {},
     "output_type": "display_data"
    }
   ],
   "source": [
    "# Plot the data points\n",
    "plt.scatter(df['Age'], df['Satisfaction'], label='Data Points')\n",
    "\n",
    "# Plot the linear regression line\n",
    "# plt.plot(df['Age'], model.predict(X), color='red', label='Linear Regression Line')\n",
    "\n",
    "# Set labels and title\n",
    "plt.xlabel('Age')\n",
    "plt.ylabel('Satisfaction')\n",
    "plt.title('Linear Regression for Satisfaction Prediction')\n",
    "\n",
    "# Display legend\n",
    "plt.legend()\n",
    "\n",
    "# Show the plot\n",
    "plt.show()"
   ]
  },
  {
   "cell_type": "code",
   "execution_count": 6,
   "id": "96bf5d3c",
   "metadata": {},
   "outputs": [
    {
     "name": "stdout",
     "output_type": "stream",
     "text": [
      "Satisfaction = 143.47201181279553 + (-1.0310534139856795 * Age) + (-0.5560378102300436 * Severity)\n"
     ]
    },
    {
     "data": {
      "image/png": "[encoded data removed]",
      "text/plain": [
       "<Figure size 640x480 with 1 Axes>"
      ]
     },
     "metadata": {},
     "output_type": "display_data"
    }
   ],
   "source": [
    "print(f'Satisfaction = {model.intercept_} + ({model.coef_[0]} * Age) + ({model.coef_[1]} * Severity)')\n",
    "predicted_satisfaction = model.predict(X)\n",
    "\n",
    "# Actual values\n",
    "actual_satisfaction = y\n",
    "\n",
    "# Plot the best-fit line\n",
    "plt.plot([min(actual_satisfaction), max(actual_satisfaction)], [min(actual_satisfaction), max(actual_satisfaction)], color='red', linestyle='--', linewidth=2, label='Best Fit Line')\n",
    "\n",
    "\n",
    "# Plotting\n",
    "plt.scatter(actual_satisfaction, predicted_satisfaction)\n",
    "plt.title('Actual Satisfaction vs Predicted Satisfaction')\n",
    "plt.xlabel('Actual Satisfaction')\n",
    "plt.ylabel('Predicted Satisfaction')\n",
    "plt.show()"
   ]
  },
  {
   "cell_type": "code",
   "execution_count": null,
   "id": "b62f4171",
   "metadata": {},
   "outputs": [],
   "source": []
  },
  {
   "cell_type": "markdown",
   "id": "68554708",
   "metadata": {},
   "source": [
    "second way"
   ]
  },
  {
   "cell_type": "code",
   "execution_count": 7,
   "id": "c2778c8a",
   "metadata": {},
   "outputs": [
    {
     "data": {
      "text/plain": [
       "array([[55., 50.,  1.],\n",
       "       [46., 24.,  1.],\n",
       "       [30., 46.,  1.],\n",
       "       [35., 48.,  1.],\n",
       "       [59., 58.,  1.],\n",
       "       [61., 60.,  1.],\n",
       "       [74., 65.,  1.],\n",
       "       [38., 42.,  1.],\n",
       "       [27., 42.,  1.],\n",
       "       [51., 50.,  1.],\n",
       "       [53., 38.,  1.],\n",
       "       [41., 30.,  1.],\n",
       "       [37., 31.,  1.],\n",
       "       [24., 34.,  1.],\n",
       "       [42., 30.,  1.],\n",
       "       [50., 48.,  1.],\n",
       "       [58., 61.,  1.],\n",
       "       [60., 71.,  1.],\n",
       "       [62., 62.,  1.],\n",
       "       [68., 38.,  1.],\n",
       "       [70., 41.,  1.],\n",
       "       [79., 66.,  1.],\n",
       "       [63., 31.,  1.],\n",
       "       [39., 42.,  1.],\n",
       "       [49., 40.,  1.]])"
      ]
     },
     "execution_count": 7,
     "metadata": {},
     "output_type": "execute_result"
    }
   ],
   "source": [
    "X = np.column_stack((X, np.ones(len(X))))\n",
    "X"
   ]
  },
  {
   "cell_type": "code",
   "execution_count": 8,
   "id": "23e9470f",
   "metadata": {},
   "outputs": [],
   "source": [
    "# Calculate the coefficients using the normal equation\n",
    "X_transpose_X = np.dot(X.T, X)\n",
    "X_transpose_y = np.dot(X.T, y)"
   ]
  },
  {
   "cell_type": "code",
   "execution_count": 9,
   "id": "240a26ae",
   "metadata": {},
   "outputs": [
    {
     "data": {
      "text/plain": [
       "array([ -1.03105341,  -0.55603781, 143.47201181])"
      ]
     },
     "execution_count": 9,
     "metadata": {},
     "output_type": "execute_result"
    }
   ],
   "source": [
    "coefficients = np.linalg.inv(X_transpose_X).dot(X_transpose_y)\n",
    "coefficients"
   ]
  },
  {
   "cell_type": "code",
   "execution_count": 10,
   "id": "336e0351",
   "metadata": {},
   "outputs": [
    {
     "name": "stdout",
     "output_type": "stream",
     "text": [
      "Regression Equation: ŷ = 143.472 + -1.031x1 + -0.556x2\n"
     ]
    }
   ],
   "source": [
    "equation = f'ŷ = {coefficients[2]:.3f} + {coefficients[0]:.3f}x1 + {coefficients[1]:.3f}x2'\n",
    "print('Regression Equation:', equation)"
   ]
  },
  {
   "cell_type": "code",
   "execution_count": 11,
   "id": "6f5a720c",
   "metadata": {},
   "outputs": [
    {
     "name": "stdout",
     "output_type": "stream",
     "text": [
      "Intercept: -1.0310534139856784\n",
      "Coefficients: [ -0.55603781 143.47201181]\n"
     ]
    }
   ],
   "source": [
    "# Calculate the coefficients using the formula\n",
    "beta = np.linalg.inv(X.T @ X) @ X.T @ y\n",
    "\n",
    "print('Intercept:', beta[0])\n",
    "print('Coefficients:', beta[1:])"
   ]
  },
  {
   "cell_type": "code",
   "execution_count": null,
   "id": "cbb413b3",
   "metadata": {},
   "outputs": [],
   "source": []
  },
  {
   "cell_type": "code",
   "execution_count": 12,
   "id": "d3f11d51",
   "metadata": {},
   "outputs": [
    {
     "name": "stdout",
     "output_type": "stream",
     "text": [
      "Residual Errors:\n",
      "0      9.037816\n",
      "1     -5.698647\n",
      "2      9.037330\n",
      "3     -0.695327\n",
      "4     -7.389667\n",
      "5     -3.215485\n",
      "6     -5.031602\n",
      "7      7.061606\n",
      "8    -17.279982\n",
      "9     -6.086397\n",
      "10   -11.696744\n",
      "11     3.482312\n",
      "12    -0.085863\n",
      "13     2.178556\n",
      "14     4.513366\n",
      "15     4.770474\n",
      "16     2.247393\n",
      "17     0.869878\n",
      "18     0.927644\n",
      "19     3.769057\n",
      "20    10.499277\n",
      "21     0.679703\n",
      "22    -9.278475\n",
      "23     3.092659\n",
      "24     4.291118\n",
      "Name: Satisfaction, dtype: float64\n",
      "Mean Squared Error: 44.58183797698442\n"
     ]
    }
   ],
   "source": [
    "from sklearn.metrics import mean_squared_error\n",
    "\n",
    "# Calculate residuals\n",
    "residuals = actual_satisfaction - predicted_satisfaction\n",
    "\n",
    "# Calculate mean squared error\n",
    "mse = mean_squared_error(actual_satisfaction, predicted_satisfaction)\n",
    "\n",
    "# Print residual errors\n",
    "print(f'Residual Errors:\\n{residuals}')\n",
    "\n",
    "# Print mean squared error\n",
    "print(f'Mean Squared Error: {mse}')"
   ]
  },
  {
   "cell_type": "code",
   "execution_count": null,
   "id": "da4b20d9",
   "metadata": {},
   "outputs": [],
   "source": []
  }
 ],
 "metadata": {
  "kernelspec": {
   "display_name": "Python 3 (ipykernel)",
   "language": "python",
   "name": "python3"
  },
  "language_info": {
   "codemirror_mode": {
    "name": "ipython",
    "version": 3
   },
   "file_extension": ".py",
   "mimetype": "text/x-python",
   "name": "python",
   "nbconvert_exporter": "python",
   "pygments_lexer": "ipython3",
   "version": "3.11.3"
  }
 },
 "nbformat": 4,
 "nbformat_minor": 5
}

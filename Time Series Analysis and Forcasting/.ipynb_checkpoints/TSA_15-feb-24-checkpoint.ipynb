{
 "cells": [
  {
   "cell_type": "code",
   "execution_count": 1,
   "id": "3ffd5fac",
   "metadata": {},
   "outputs": [
    {
     "name": "stdout",
     "output_type": "stream",
     "text": [
      "    Observation  Age  Severity  Surgical–Medical  Anxiety  Satisfaction\n",
      "0             1   55        50                 0      2.1            68\n",
      "1             2   46        24                 1      2.8            77\n",
      "2             3   30        46                 1      3.3            96\n",
      "3             4   35        48                 1      4.5            80\n",
      "4             5   59        58                 0      2.0            43\n",
      "5             6   61        60                 0      5.1            44\n",
      "6             7   74        65                 1      5.5            26\n",
      "7             8   38        42                 1      3.2            88\n",
      "8             9   27        42                 0      3.1            75\n",
      "9            10   51        50                 1      2.4            57\n",
      "10           11   53        38                 1      2.2            56\n",
      "11           12   41        30                 0      2.1            88\n",
      "12           13   37        31                 0      1.9            88\n",
      "13           14   24        34                 0      3.1           102\n",
      "14           15   42        30                 0      3.0            88\n",
      "15           16   50        48                 1      4.2            70\n",
      "16           17   58        61                 1      4.6            52\n",
      "17           18   60        71                 1      5.3            43\n",
      "18           19   62        62                 0      7.2            46\n",
      "19           20   68        38                 0      7.8            56\n",
      "20           21   70        41                 1      7.0            59\n",
      "21           22   79        66                 1      6.2            26\n",
      "22           23   63        31                 1      4.1            52\n",
      "23           24   39        42                 0      3.5            83\n",
      "24           25   49        40                 1      2.1            75\n"
     ]
    }
   ],
   "source": [
    "import pandas as pd\n",
    "\n",
    "# Data\n",
    "data = {\n",
    "    'Observation': list(range(1, 26)),\n",
    "    'Age': [55, 46, 30, 35, 59, 61, 74, 38, 27, 51, 53, 41, 37, 24, 42, 50, 58, 60, 62, 68, 70, 79, 63, 39, 49],\n",
    "    'Severity': [50, 24, 46, 48, 58, 60, 65, 42, 42, 50, 38, 30, 31, 34, 30, 48, 61, 71, 62, 38, 41, 66, 31, 42, 40],\n",
    "    'Surgical–Medical': [0, 1, 1, 1, 0, 0, 1, 1, 0, 1, 1, 0, 0, 0, 0, 1, 1, 1, 0, 0, 1, 1, 1, 0, 1],\n",
    "    'Anxiety': [2.1, 2.8, 3.3, 4.5, 2.0, 5.1, 5.5, 3.2, 3.1, 2.4, 2.2, 2.1, 1.9, 3.1, 3.0, 4.2, 4.6, 5.3, 7.2, 7.8, 7.0, 6.2, 4.1, 3.5, 2.1],\n",
    "    'Satisfaction': [68, 77, 96, 80, 43, 44, 26, 88, 75, 57, 56, 88, 88, 102, 88, 70, 52, 43, 46, 56, 59, 26, 52, 83, 75]\n",
    "}\n",
    "\n",
    "# Create DataFrame\n",
    "df = pd.DataFrame(data)\n",
    "\n",
    "# Display DataFrame\n",
    "print(df)"
   ]
  },
  {
   "cell_type": "code",
   "execution_count": 2,
   "id": "05cd506a",
   "metadata": {},
   "outputs": [],
   "source": [
    "df.to_csv(\"patients_15-feb-24.csv\")"
   ]
  },
  {
   "cell_type": "code",
   "execution_count": null,
   "id": "b52c56f2",
   "metadata": {},
   "outputs": [],
   "source": []
  }
 ],
 "metadata": {
  "kernelspec": {
   "display_name": "Python 3 (ipykernel)",
   "language": "python",
   "name": "python3"
  },
  "language_info": {
   "codemirror_mode": {
    "name": "ipython",
    "version": 3
   },
   "file_extension": ".py",
   "mimetype": "text/x-python",
   "name": "python",
   "nbconvert_exporter": "python",
   "pygments_lexer": "ipython3",
   "version": "3.11.3"
  }
 },
 "nbformat": 4,
 "nbformat_minor": 5
}

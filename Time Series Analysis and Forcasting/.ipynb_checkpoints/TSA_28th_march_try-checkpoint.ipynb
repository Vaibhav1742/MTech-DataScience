{
 "cells": [
  {
   "cell_type": "code",
   "execution_count": 36,
   "id": "59ed0bea",
   "metadata": {},
   "outputs": [],
   "source": [
    "import numpy as np\n",
    "import pandas as pd\n",
    "import matplotlib.pyplot as plt"
   ]
  },
  {
   "cell_type": "code",
   "execution_count": 29,
   "id": "c01551a4",
   "metadata": {},
   "outputs": [],
   "source": [
    "time = [i for i in range(1, 13)]\n",
    "y = [71, 70, 69, 68, 64, 65, 72, 78, 75, 75, 75, 70]"
   ]
  },
  {
   "cell_type": "code",
   "execution_count": 30,
   "id": "0214e2cc",
   "metadata": {},
   "outputs": [],
   "source": [
    "df = pd.DataFrame({\"time\":time,\"y\":y})"
   ]
  },
  {
   "cell_type": "code",
   "execution_count": 31,
   "id": "1d25929c",
   "metadata": {},
   "outputs": [
    {
     "data": {
      "text/html": [
       "<div>\n",
       "<style scoped>\n",
       "    .dataframe tbody tr th:only-of-type {\n",
       "        vertical-align: middle;\n",
       "    }\n",
       "\n",
       "    .dataframe tbody tr th {\n",
       "        vertical-align: top;\n",
       "    }\n",
       "\n",
       "    .dataframe thead th {\n",
       "        text-align: right;\n",
       "    }\n",
       "</style>\n",
       "<table border=\"1\" class=\"dataframe\">\n",
       "  <thead>\n",
       "    <tr style=\"text-align: right;\">\n",
       "      <th></th>\n",
       "      <th>time</th>\n",
       "      <th>y</th>\n",
       "    </tr>\n",
       "  </thead>\n",
       "  <tbody>\n",
       "    <tr>\n",
       "      <th>0</th>\n",
       "      <td>1</td>\n",
       "      <td>71</td>\n",
       "    </tr>\n",
       "    <tr>\n",
       "      <th>1</th>\n",
       "      <td>2</td>\n",
       "      <td>70</td>\n",
       "    </tr>\n",
       "    <tr>\n",
       "      <th>2</th>\n",
       "      <td>3</td>\n",
       "      <td>69</td>\n",
       "    </tr>\n",
       "    <tr>\n",
       "      <th>3</th>\n",
       "      <td>4</td>\n",
       "      <td>68</td>\n",
       "    </tr>\n",
       "    <tr>\n",
       "      <th>4</th>\n",
       "      <td>5</td>\n",
       "      <td>64</td>\n",
       "    </tr>\n",
       "    <tr>\n",
       "      <th>5</th>\n",
       "      <td>6</td>\n",
       "      <td>65</td>\n",
       "    </tr>\n",
       "    <tr>\n",
       "      <th>6</th>\n",
       "      <td>7</td>\n",
       "      <td>72</td>\n",
       "    </tr>\n",
       "    <tr>\n",
       "      <th>7</th>\n",
       "      <td>8</td>\n",
       "      <td>78</td>\n",
       "    </tr>\n",
       "    <tr>\n",
       "      <th>8</th>\n",
       "      <td>9</td>\n",
       "      <td>75</td>\n",
       "    </tr>\n",
       "    <tr>\n",
       "      <th>9</th>\n",
       "      <td>10</td>\n",
       "      <td>75</td>\n",
       "    </tr>\n",
       "    <tr>\n",
       "      <th>10</th>\n",
       "      <td>11</td>\n",
       "      <td>75</td>\n",
       "    </tr>\n",
       "    <tr>\n",
       "      <th>11</th>\n",
       "      <td>12</td>\n",
       "      <td>70</td>\n",
       "    </tr>\n",
       "  </tbody>\n",
       "</table>\n",
       "</div>"
      ],
      "text/plain": [
       "    time   y\n",
       "0      1  71\n",
       "1      2  70\n",
       "2      3  69\n",
       "3      4  68\n",
       "4      5  64\n",
       "5      6  65\n",
       "6      7  72\n",
       "7      8  78\n",
       "8      9  75\n",
       "9     10  75\n",
       "10    11  75\n",
       "11    12  70"
      ]
     },
     "execution_count": 31,
     "metadata": {},
     "output_type": "execute_result"
    }
   ],
   "source": [
    "df"
   ]
  },
  {
   "cell_type": "code",
   "execution_count": 32,
   "id": "852e4925",
   "metadata": {},
   "outputs": [],
   "source": [
    "def single_exponential_smoothing(data, alpha):\n",
    "    smoothed_values = [data[0]]  # Initialize the smoothed values with the first value of data\n",
    "    for i in range(1, len(data)):\n",
    "        smoothed_value = alpha * data[i] + (1 - alpha) * smoothed_values[i-1]\n",
    "        smoothed_values.append(smoothed_value)\n",
    "    return smoothed_values"
   ]
  },
  {
   "cell_type": "code",
   "execution_count": 33,
   "id": "3919cf47",
   "metadata": {},
   "outputs": [],
   "source": [
    "alpha = 0.1"
   ]
  },
  {
   "cell_type": "code",
   "execution_count": 34,
   "id": "b1a459dc",
   "metadata": {},
   "outputs": [
    {
     "name": "stdout",
     "output_type": "stream",
     "text": [
      " Time  y  S(α=0.1)     Error  Error squared\n",
      "    1 71 71.000000  0.000000       0.000000\n",
      "    2 70 71.000000 -1.000000       1.000000\n",
      "    3 69 70.900000 -1.900000       3.610000\n",
      "    4 68 70.710000 -2.710000       7.344100\n",
      "    5 64 70.439000 -6.439000      41.460721\n",
      "    6 65 69.795100 -4.795100      22.992984\n",
      "    7 72 69.315590  2.684410       7.206057\n",
      "    8 78 69.584031  8.415969      70.828534\n",
      "    9 75 70.425628  4.574372      20.924880\n",
      "   10 75 70.883065  4.116935      16.949153\n",
      "   11 75 71.294759  3.705241      13.728814\n",
      "   12 70 71.665283 -1.665283       2.773167\n"
     ]
    }
   ],
   "source": [
    "import pandas as pd\n",
    "\n",
    "# Given data\n",
    "time = [i for i in range(1, 13)]\n",
    "y = [71, 70, 69, 68, 64, 65, 72, 78, 75, 75, 75, 70]\n",
    "alpha = 0.1\n",
    "\n",
    "# Function for single exponential smoothing\n",
    "def single_exponential_smoothing(data, alpha):\n",
    "    smoothed_values = [data[0]]  # Initialize S_2 with the first observed value\n",
    "    for i in range(1, len(data)):\n",
    "        if i == 1:\n",
    "            smoothed_value = data[0]  # S_2 = y_1\n",
    "        else:\n",
    "            smoothed_value = alpha * data[i-1] + (1 - alpha) * smoothed_values[-1]\n",
    "        smoothed_values.append(smoothed_value)\n",
    "    return smoothed_values\n",
    "\n",
    "# Apply single exponential smoothing\n",
    "smoothed_values = single_exponential_smoothing(y, alpha)\n",
    "\n",
    "# Calculate error\n",
    "errors = [y[i] - smoothed_values[i] for i in range(len(y))]\n",
    "squared_errors = [error ** 2 for error in errors]\n",
    "\n",
    "# Create a DataFrame to display the results\n",
    "df_results = pd.DataFrame({\n",
    "    'Time': time,\n",
    "    'y': y,\n",
    "    'S(α=0.1)': smoothed_values,\n",
    "    'Error': errors,\n",
    "    'Error squared': squared_errors\n",
    "})\n",
    "\n",
    "# Display the results\n",
    "print(df_results.to_string(index=False))\n"
   ]
  },
  {
   "cell_type": "code",
   "execution_count": 35,
   "id": "97b76a85",
   "metadata": {},
   "outputs": [
    {
     "name": "stdout",
     "output_type": "stream",
     "text": [
      "Sum of Squared Errors (SSE): 208.81840970564724\n",
      "Mean Squared Error (MSE): 17.40153414213727\n"
     ]
    }
   ],
   "source": [
    "# Calculate Sum of Squared Errors (SSE)\n",
    "sse = sum(error ** 2 for error in errors)\n",
    "\n",
    "# Calculate Mean Squared Error (MSE)\n",
    "mse = sse / len(errors)\n",
    "\n",
    "print(\"Sum of Squared Errors (SSE):\", sse)\n",
    "print(\"Mean Squared Error (MSE):\", mse)"
   ]
  },
  {
   "cell_type": "code",
   "execution_count": 39,
   "id": "1558b42d",
   "metadata": {},
   "outputs": [
    {
     "data": {
      "image/png": "[encoded data removed]",
      "text/plain": [
       "<Figure size 1000x600 with 1 Axes>"
      ]
     },
     "metadata": {},
     "output_type": "display_data"
    }
   ],
   "source": [
    "# Predicted values with alpha = 0.1\n",
    "smoothed_values_alpha_01 = single_exponential_smoothing(y, alpha=0.1)\n",
    "\n",
    "# Predicted values with alpha = 0.5\n",
    "smoothed_values_alpha_05 = single_exponential_smoothing(y, alpha=0.5)\n",
    "\n",
    "# Plotting\n",
    "plt.figure(figsize=(10, 6))\n",
    "plt.plot(time, y, marker='o', linestyle='-', color='red', label='Original')  # Original values\n",
    "plt.plot(time, smoothed_values_alpha_01, marker='o', linestyle='-', color='green', label='Alpha=0.1')  # Predicted values with alpha=0.1\n",
    "plt.plot(time, smoothed_values_alpha_05, marker='o', linestyle='-', color='blue', label='Alpha=0.5')  # Predicted values with alpha=0.5\n",
    "plt.title('Original and Predicted Values')\n",
    "plt.xlabel('Time')\n",
    "plt.ylabel('y')\n",
    "plt.legend()\n",
    "plt.grid(True)\n",
    "plt.show()"
   ]
  },
  {
   "cell_type": "code",
   "execution_count": 40,
   "id": "5d3b67cf",
   "metadata": {},
   "outputs": [
    {
     "name": "stdout",
     "output_type": "stream",
     "text": [
      "Time: 13, Forecasted Value (Alpha=0.1): 70.0\n",
      "Time: 14, Forecasted Value (Alpha=0.1): 70.0\n",
      "Time: 15, Forecasted Value (Alpha=0.1): 70.0\n",
      "Time: 16, Forecasted Value (Alpha=0.1): 70.0\n",
      "Time: 17, Forecasted Value (Alpha=0.1): 70.0\n"
     ]
    }
   ],
   "source": [
    "# Function to forecast future values\n",
    "def forecast_values(data, alpha, num_steps):\n",
    "    forecasted_values = data.copy()\n",
    "    for _ in range(num_steps):\n",
    "        last_observed_value = forecasted_values[-1]\n",
    "        forecasted_value = alpha * last_observed_value + (1 - alpha) * forecasted_values[-1]\n",
    "        forecasted_values.append(forecasted_value)\n",
    "    return forecasted_values\n",
    "\n",
    "# Forecast future values for time points 13, 14, 15, 16, and 17 with alpha = 0.1\n",
    "forecasted_values_alpha_01 = forecast_values(y, alpha=0.1, num_steps=5)\n",
    "\n",
    "# Display forecasted values\n",
    "forecasted_time_points = [i for i in range(1, len(y) + 6)]  # Time points including future forecasts\n",
    "for time_point, forecast in zip(forecasted_time_points[len(y):], forecasted_values_alpha_01[len(y):]):\n",
    "    print(f\"Time: {time_point}, Forecasted Value (Alpha=0.1): {forecast}\")\n"
   ]
  },
  {
   "cell_type": "code",
   "execution_count": 43,
   "id": "8fd9891e",
   "metadata": {},
   "outputs": [
    {
     "name": "stdout",
     "output_type": "stream",
     "text": [
      "Time: 13, Forecasted Value (Alpha=0.1): 70.0\n",
      "Time: 14, Forecasted Value (Alpha=0.1): 70.0\n",
      "Time: 15, Forecasted Value (Alpha=0.1): 70.0\n",
      "Time: 16, Forecasted Value (Alpha=0.1): 70.0\n",
      "Time: 17, Forecasted Value (Alpha=0.1): 70.0\n"
     ]
    }
   ],
   "source": [
    "# Forecast future values for time points 13, 14, 15, 16, and 17 with alpha = 0.1\n",
    "forecasted_values_alpha_01 = []\n",
    "current_value = y[-1]  # Start forecasting from the last observed value\n",
    "for i in range(1, 6):  # Forecasting for 5 time points\n",
    "    forecasted_value = current_value + alpha * (y[-1] - current_value) if forecasted_values_alpha_01 else last_observed_value\n",
    "    forecasted_values_alpha_01.append(forecasted_value)\n",
    "    current_value = forecasted_value  # Use the forecasted value for the next forecast\n",
    "\n",
    "# Display forecasted values\n",
    "forecasted_time_points = [i for i in range(13, 18)]  # Time points for forecasting\n",
    "for time_point, forecast in zip(forecasted_time_points, forecasted_values_alpha_01):\n",
    "    print(f\"Time: {time_point}, Forecasted Value (Alpha=0.1): {forecast}\")\n"
   ]
  },
  {
   "cell_type": "markdown",
   "id": "51130a02",
   "metadata": {},
   "source": [
    "# DOUBLE"
   ]
  },
  {
   "cell_type": "code",
   "execution_count": 44,
   "id": "f277e355",
   "metadata": {},
   "outputs": [
    {
     "name": "stdout",
     "output_type": "stream",
     "text": [
      "Time: 11, Forecasted Value: 25.771895748992584\n",
      "Time: 12, Forecasted Value: 28.728732991768446\n",
      "Time: 13, Forecasted Value: 31.685570234544308\n",
      "Time: 14, Forecasted Value: 34.64240747732017\n",
      "Time: 15, Forecasted Value: 37.59924472009603\n"
     ]
    }
   ],
   "source": [
    "# Given data\n",
    "y = [6.4, 5.6, 7.8, 8.8, 11, 11.6, 16.7, 15.3, 21.6, 22.4]\n",
    "alpha = 0.3623\n",
    "gamma = 1.0\n",
    "\n",
    "# Initialize smoothed values S1 and trend values b1\n",
    "S = [y[0]]\n",
    "b = [(y[1] - y[0] + y[2] - y[1] + y[3] - y[2]) / 3]\n",
    "\n",
    "# Calculate smoothed values and trend values\n",
    "for i in range(1, len(y)):\n",
    "    St = alpha * y[i] + (1 - alpha) * (S[-1] + b[-1])\n",
    "    bt = gamma * (St - S[-1]) + (1 - gamma) * b[-1]\n",
    "    S.append(St)\n",
    "    b.append(bt)\n",
    "\n",
    "# Forecast future values\n",
    "forecasted_values = []\n",
    "for i in range(5):\n",
    "    forecasted_value = S[-1] + (i + 1) * b[-1]\n",
    "    forecasted_values.append(forecasted_value)\n",
    "\n",
    "# Display forecasted values\n",
    "forecasted_time_points = [i + len(y) + 1 for i in range(5)]\n",
    "for time_point, forecast in zip(forecasted_time_points, forecasted_values):\n",
    "    print(f\"Time: {time_point}, Forecasted Value: {forecast}\")"
   ]
  },
  {
   "cell_type": "code",
   "execution_count": null,
   "id": "50430be4",
   "metadata": {},
   "outputs": [],
   "source": []
  }
 ],
 "metadata": {
  "kernelspec": {
   "display_name": "Python 3 (ipykernel)",
   "language": "python",
   "name": "python3"
  },
  "language_info": {
   "codemirror_mode": {
    "name": "ipython",
    "version": 3
   },
   "file_extension": ".py",
   "mimetype": "text/x-python",
   "name": "python",
   "nbconvert_exporter": "python",
   "pygments_lexer": "ipython3",
   "version": "3.11.3"
  }
 },
 "nbformat": 4,
 "nbformat_minor": 5
}

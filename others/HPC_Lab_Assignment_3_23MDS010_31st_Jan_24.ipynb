{
  "nbformat": 4,
  "nbformat_minor": 0,
  "metadata": {
    "colab": {
      "provenance": []
    },
    "kernelspec": {
      "name": "python3",
      "display_name": "Python 3"
    },
    "language_info": {
      "name": "python"
    }
  },
  "cells": [
    {
      "cell_type": "markdown",
      "source": [
        "#  <h1 style=\"text-align:center;\">Assignment - 3</h1>"
      ],
      "metadata": {
        "id": "UjmwwhqNytVG"
      }
    },
    {
      "cell_type": "markdown",
      "source": [
        "The producer-consumer problem is a synchronization challenge in the field of operating systems, particularly in scenarios involving concurrent programming and multi-threading. It revolves around two types of processes.\n",
        "\n",
        "* Producers: These processes are responsible for generating data or items and placing them in a shared buffer.\n",
        "\n",
        "* Consumers: These processes retrieve and consume items from the buffer.\n",
        "\n",
        "The primary goal is to ensure the following conditions are met:\n",
        "\n",
        "Producers should refrain from producing items if the buffer is full.\n",
        "Consumers should avoid consuming items if the buffer is empty.\n",
        "The central objective is to maintain synchronization between producers and consumers to prevent issues such as data corruption, race conditions, and deadlocks.\n",
        "\n",
        "* Solution Approach:\n",
        "\n",
        "A practical solution involves the use of bounded buffers and semaphores, which can be explained as follows:\n",
        "\n",
        "1. Shared Buffer: A fixed-size buffer is utilized, acting as a common storage space for both producers and consumers.\n",
        "\n",
        "2. Semaphore for Empty Slots (empty):\n",
        "Initialized to the size of the buffer.\n",
        "Represents the count of empty slots in the buffer.\n",
        "Decreases by producers when they add an item.\n",
        "Decreases by consumers when they remove an item.\n",
        "\n",
        "3. Semaphore for Full Slots (full):\n",
        " Initialized to 0.\n",
        "Represents the count of filled slots in the buffer.\n",
        "Increased by producers when they add an item.\n",
        "Decreases by consumers when they remove an item.\n",
        "\n",
        "Example:\n",
        "\n",
        "Let's consider a scenario in a restaurant where there are chefs (producers) preparing dishes and waiters (consumers) serving these dishes to customers. The shared buffer is the kitchen counter where dishes are temporarily placed before being served.\n",
        "\n",
        "1. Shared Buffer (Kitchen Counter):\n",
        "Represents the kitchen counter where the prepared dishes are temporarily stored.\n",
        "\n",
        "2. Semaphore for Empty Serving Plates (empty):\n",
        "Initialized to the maximum capacity of the counter.\n",
        "Indicates the count of empty serving plates on the kitchen counter.\n",
        "Decreases as chefs place prepared dishes on empty plates.\n",
        "Decreases as waiters take dishes from the counter to serve customers.\n",
        "3. Semaphore for Full Serving Plates (full):Initialized to 0.\n",
        "Represents the count of plates with prepared dishes on the counter.\n",
        "Increases as chefs place dishes on empty plates.\n",
        "Decreases as waiters take dishes from the counter to serve customers.\n",
        "In this analogy, the restaurant ensures that chefs don't prepare more dishes if there are no empty plates, and waiters don't serve if there are no prepared dishes on the counter, effectively managing the flow of food production and service."
      ],
      "metadata": {
        "id": "cZA6Bsi0yuvn"
      }
    },
    {
      "cell_type": "code",
      "execution_count": 1,
      "metadata": {
        "id": "7ekzpzkbu1v9"
      },
      "outputs": [],
      "source": [
        "import numpy as np\n",
        "import pandas as pd\n",
        "import matplotlib.pyplot as plt\n",
        "import threading\n",
        "import time"
      ]
    },
    {
      "cell_type": "code",
      "source": [
        "# Shared Memory variables\n",
        "CAPACITY = 10\n",
        "buffer = [-1 for i in range(CAPACITY)]\n",
        "in_index = 0\n",
        "out_index = 0"
      ],
      "metadata": {
        "id": "U5QAgavXvKPf"
      },
      "execution_count": 2,
      "outputs": []
    },
    {
      "cell_type": "code",
      "source": [
        "# Declaring Semaphores\n",
        "mutex = threading.Semaphore()\n",
        "empty = threading.Semaphore(CAPACITY)\n",
        "full = threading.Semaphore(0)\n"
      ],
      "metadata": {
        "id": "VTiyR4-vvNOR"
      },
      "execution_count": 3,
      "outputs": []
    },
    {
      "cell_type": "code",
      "source": [
        "# Producer Thread Class\n",
        "class Producer(threading.Thread):\n",
        "  def run(self):\n",
        "    global CAPACITY, buffer, in_index, out_index\n",
        "    global mutex, empty, full\n",
        "    items_produced = 0\n",
        "    counter = 0\n",
        "    while items_produced < 20:\n",
        "      empty.acquire()\n",
        "      mutex.acquire()\n",
        "      counter += 1\n",
        "      buffer[in_index] = counter\n",
        "      in_index = (in_index + 1)%CAPACITY\n",
        "      print(\"Producer produced : \", counter)\n",
        "      mutex.release()\n",
        "      full.release()\n",
        "      time.sleep(0)\n",
        "      items_produced += 1"
      ],
      "metadata": {
        "id": "SM4eh5mYvQby"
      },
      "execution_count": 5,
      "outputs": []
    },
    {
      "cell_type": "code",
      "source": [
        "# Consumer Thread Class\n",
        "class Consumer(threading.Thread):\n",
        "  def run(self):\n",
        "    global CAPACITY, buffer, in_index, out_index, counter\n",
        "    global mutex, empty, full\n",
        "    items_consumed = 0\n",
        "    while items_consumed < 20:\n",
        "      full.acquire()\n",
        "      mutex.acquire()\n",
        "      item = buffer[out_index]\n",
        "      out_index = (out_index + 1)%CAPACITY\n",
        "      print(\"Consumer consumed item : \", item)\n",
        "      mutex.release()\n",
        "      empty.release()\n",
        "      time.sleep(0.5)\n",
        "      items_consumed += 1\n"
      ],
      "metadata": {
        "id": "SY6RfmPNvVmC"
      },
      "execution_count": 6,
      "outputs": []
    },
    {
      "cell_type": "code",
      "source": [
        "producer = Producer()\n",
        "consumer = Consumer()\n",
        "consumer.start()\n",
        "producer.start()\n",
        "producer.join()\n",
        "consumer.join()"
      ],
      "metadata": {
        "colab": {
          "base_uri": "https://localhost:8080/",
          "height": 0
        },
        "id": "7GtFMWQPvuH1",
        "outputId": "8bd679ae-2887-40e7-c970-4df0fcdc1abb"
      },
      "execution_count": 7,
      "outputs": [
        {
          "output_type": "stream",
          "name": "stdout",
          "text": [
            "Producer produced :  1\n",
            "Consumer consumed item :  1\n",
            "Producer produced :  2\n",
            "Producer produced :  3\n",
            "Producer produced :  4\n",
            "Producer produced :  5\n",
            "Producer produced :  6\n",
            "Producer produced :  7\n",
            "Producer produced :  8\n",
            "Producer produced :  9\n",
            "Producer produced :  10\n",
            "Producer produced :  11\n",
            "Consumer consumed item :  2\n",
            "Producer produced :  12\n",
            "Consumer consumed item :  3\n",
            "Producer produced :  13\n",
            "Consumer consumed item :  4\n",
            "Producer produced :  14\n",
            "Consumer consumed item :  5\n",
            "Producer produced :  15\n",
            "Consumer consumed item :  6\n",
            "Producer produced :  16\n",
            "Consumer consumed item :  7\n",
            "Producer produced :  17\n",
            "Consumer consumed item :  8\n",
            "Producer produced :  18\n",
            "Consumer consumed item :  9\n",
            "Producer produced :  19\n",
            "Consumer consumed item :  10\n",
            "Producer produced :  20\n",
            "Consumer consumed item :  11\n",
            "Consumer consumed item :  12\n",
            "Consumer consumed item :  13\n",
            "Consumer consumed item :  14\n",
            "Consumer consumed item :  15\n",
            "Consumer consumed item :  16\n",
            "Consumer consumed item :  17\n",
            "Consumer consumed item :  18\n",
            "Consumer consumed item :  19\n",
            "Consumer consumed item :  20\n"
          ]
        }
      ]
    },
    {
      "cell_type": "markdown",
      "source": [
        "### Implemantation using if-else and for loop"
      ],
      "metadata": {
        "id": "iCp89n8CwIjc"
      }
    },
    {
      "cell_type": "code",
      "source": [
        "CAPACITY = 10\n",
        "buffer = [-1 for i in range(CAPACITY)]\n",
        "in_index = 0\n",
        "out_index = 0"
      ],
      "metadata": {
        "id": "VQqdJHrvwSbY"
      },
      "execution_count": 8,
      "outputs": []
    },
    {
      "cell_type": "code",
      "source": [
        "mutex = threading.Semaphore()\n",
        "empty = threading.Semaphore(CAPACITY)\n",
        "full = threading.Semaphore(0)"
      ],
      "metadata": {
        "id": "kNXcjI-rwaZA"
      },
      "execution_count": 9,
      "outputs": []
    },
    {
      "cell_type": "code",
      "source": [
        "class Producer(threading.Thread):\n",
        "  def run(self):\n",
        "    global CAPACITY, buffer, in_index\n",
        "    global mutex, empty, full\n",
        "    for counter in range(1, 21):\n",
        "      empty.acquire()\n",
        "      mutex.acquire()\n",
        "      buffer[in_index] = counter\n",
        "      in_index = (in_index + 1) % CAPACITY\n",
        "      print(\"Producer produced:\", counter)\n",
        "      mutex.release()\n",
        "      full.release()\n",
        "      time.sleep(0)\n"
      ],
      "metadata": {
        "id": "JDz6ydDlwdRI"
      },
      "execution_count": 10,
      "outputs": []
    },
    {
      "cell_type": "code",
      "source": [
        "class Consumer(threading.Thread):\n",
        "  def run(self):\n",
        "    global CAPACITY, buffer, out_index\n",
        "    global mutex, empty, full\n",
        "    for _ in range(20):\n",
        "      full.acquire()\n",
        "      mutex.acquire()\n",
        "      item = buffer[out_index]\n",
        "      out_index = (out_index + 1) % CAPACITY\n",
        "      print(\"Consumer consumed item:\", item)\n",
        "      mutex.release()\n",
        "      empty.release()\n",
        "      time.sleep(0.5)\n"
      ],
      "metadata": {
        "id": "5L8gzMvHw0fE"
      },
      "execution_count": 11,
      "outputs": []
    },
    {
      "cell_type": "code",
      "source": [
        "producer = Producer()\n",
        "consumer = Consumer()\n",
        "consumer.start()\n",
        "producer.start()\n",
        "producer.join()\n",
        "consumer.join()"
      ],
      "metadata": {
        "colab": {
          "base_uri": "https://localhost:8080/",
          "height": 0
        },
        "id": "pedLQqvQw7_4",
        "outputId": "81de18c9-ae46-4aca-ef68-5a31c5fc40af"
      },
      "execution_count": 12,
      "outputs": [
        {
          "output_type": "stream",
          "name": "stdout",
          "text": [
            "Producer produced: 1\n",
            "Producer produced: 2\n",
            "Producer produced: 3\n",
            "Producer produced: 4\n",
            "Producer produced: 5\n",
            "Producer produced: 6\n",
            "Producer produced: 7\n",
            "Producer produced: 8\n",
            "Producer produced: 9\n",
            "Producer produced: 10\n",
            "Consumer consumed item: 1\n",
            "Producer produced: 11\n",
            "Consumer consumed item: 2\n",
            "Producer produced: 12\n",
            "Consumer consumed item: 3\n",
            "Producer produced: 13\n",
            "Consumer consumed item: 4\n",
            "Producer produced: 14\n",
            "Consumer consumed item: 5\n",
            "Producer produced: 15\n",
            "Consumer consumed item: 6\n",
            "Producer produced: 16\n",
            "Consumer consumed item: 7\n",
            "Producer produced: 17\n",
            "Consumer consumed item: 8\n",
            "Producer produced: 18\n",
            "Consumer consumed item: 9\n",
            "Producer produced: 19\n",
            "Consumer consumed item: 10\n",
            "Producer produced: 20\n",
            "Consumer consumed item: 11\n",
            "Consumer consumed item: 12\n",
            "Consumer consumed item: 13\n",
            "Consumer consumed item: 14\n",
            "Consumer consumed item: 15\n",
            "Consumer consumed item: 16\n",
            "Consumer consumed item: 17\n",
            "Consumer consumed item: 18\n",
            "Consumer consumed item: 19\n",
            "Consumer consumed item: 20\n"
          ]
        }
      ]
    },
    {
      "cell_type": "markdown",
      "source": [
        "Example : **Restaurant Order Fulfillment System - Producer-Consumer Problem**\n",
        "* Producers (Chefs): Represented by the Chef thread, they generate items by preparing dishes and place them in a shared buffer (kitchen counter).\n",
        "\n",
        "* Buffer (Kitchen Counter): Simulates the shared buffer in the producer-consumer problem. It's a queue (kitchen_counter) where Chefs (producers) deposit prepared dishes, and Waiters (consumers) retrieve and serve them.\n",
        "\n",
        "* Consumers (Waiters): Represented by the Waiter thread, they consume items from the shared buffer (kitchen counter) by taking and serving dishes prepared by Chefs (producers)."
      ],
      "metadata": {
        "id": "vBc8ao-F5lBV"
      }
    },
    {
      "cell_type": "code",
      "source": [
        "import queue"
      ],
      "metadata": {
        "id": "x41MqDU22ucg"
      },
      "execution_count": 15,
      "outputs": []
    },
    {
      "cell_type": "code",
      "source": [
        "# Shared resources\n",
        "kitchen_counter = queue.Queue(maxsize=5)  # Shared buffer (kitchen counter)\n",
        "empty_plates_semaphore = threading.Semaphore(5)  # Semaphore for empty serving plates\n",
        "full_plates_semaphore = threading.Semaphore(0)   # Semaphore for full serving plates"
      ],
      "metadata": {
        "id": "KemggeBt2vIb"
      },
      "execution_count": 16,
      "outputs": []
    },
    {
      "cell_type": "code",
      "source": [
        "# Producer (Chef) function\n",
        "class Chef(threading.Thread):\n",
        "    def run(self):\n",
        "        for _ in range(10):\n",
        "            time.sleep(1)  # Simulate time taken to prepare a dish\n",
        "            empty_plates_semaphore.acquire()  # Decrease count of empty plates\n",
        "            dish = f'Dish {time.time()}'\n",
        "            kitchen_counter.put(dish)  # Place the prepared dish on the kitchen counter\n",
        "            print(f'Chef prepared {dish}')\n",
        "            full_plates_semaphore.release()  # Increase count of full plates"
      ],
      "metadata": {
        "id": "_r-0Q4aj65pm"
      },
      "execution_count": 17,
      "outputs": []
    },
    {
      "cell_type": "code",
      "source": [
        "# Consumer (Waiter) function\n",
        "class Waiter(threading.Thread):\n",
        "    def run(self):\n",
        "        for _ in range(10):\n",
        "            full_plates_semaphore.acquire()  # Decrease count of full plates\n",
        "            dish = kitchen_counter.get()  # Take a dish from the kitchen counter\n",
        "            print(f'Waiter served {dish}')\n",
        "            empty_plates_semaphore.release()  # Increase count of empty plates"
      ],
      "metadata": {
        "id": "75AS3eDj68rj"
      },
      "execution_count": 18,
      "outputs": []
    },
    {
      "cell_type": "code",
      "source": [
        "# Create threads for chef and waiter\n",
        "chef_thread = Chef()\n",
        "waiter_thread = Waiter()\n",
        "\n",
        "# Start the threads\n",
        "chef_thread.start()\n",
        "waiter_thread.start()\n",
        "\n",
        "# Allow the threads to run for a while (you can interrupt the program manually)\n",
        "chef_thread.join()\n",
        "waiter_thread.join()"
      ],
      "metadata": {
        "colab": {
          "base_uri": "https://localhost:8080/",
          "height": 0
        },
        "id": "9CiYf-cV6-Xg",
        "outputId": "e4c883f2-4f77-43f9-b103-64e272263d7f"
      },
      "execution_count": 19,
      "outputs": [
        {
          "output_type": "stream",
          "name": "stdout",
          "text": [
            "Chef prepared Dish 1706694540.4464412\n",
            "Waiter served Dish 1706694540.4464412\n",
            "Chef prepared Dish 1706694541.4482815\n",
            "Waiter served Dish 1706694541.4482815\n",
            "Chef prepared Dish 1706694542.4495764\n",
            "Waiter served Dish 1706694542.4495764\n",
            "Chef prepared Dish 1706694543.4508727\n",
            "Waiter served Dish 1706694543.4508727\n",
            "Chef prepared Dish 1706694544.4521263\n",
            "Waiter served Dish 1706694544.4521263\n",
            "Chef prepared Dish 1706694545.453453\n",
            "Waiter served Dish 1706694545.453453\n",
            "Chef prepared Dish 1706694546.4547088\n",
            "Waiter served Dish 1706694546.4547088\n",
            "Chef prepared Dish 1706694547.4556842\n",
            "Waiter served Dish 1706694547.4556842\n",
            "Chef prepared Dish 1706694548.4571862\n",
            "Waiter served Dish 1706694548.4571862\n",
            "Chef prepared Dish 1706694549.4584432\n",
            "Waiter served Dish 1706694549.4584432\n"
          ]
        }
      ]
    },
    {
      "cell_type": "code",
      "source": [],
      "metadata": {
        "id": "PphUjlFt6_Uj"
      },
      "execution_count": null,
      "outputs": []
    }
  ]
}
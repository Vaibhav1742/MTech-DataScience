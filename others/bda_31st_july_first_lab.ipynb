{
 "cells": [
  {
   "cell_type": "code",
   "execution_count": 1,
   "id": "fbab046a",
   "metadata": {},
   "outputs": [
    {
     "name": "stdout",
     "output_type": "stream",
     "text": [
      "2\n"
     ]
    }
   ],
   "source": [
    "rem = 10&3\n",
    "print(rem)"
   ]
  },
  {
   "cell_type": "code",
   "execution_count": 2,
   "id": "557f1064",
   "metadata": {},
   "outputs": [
    {
     "name": "stdout",
     "output_type": "stream",
     "text": [
      "11.5\n"
     ]
    }
   ],
   "source": [
    "n = 10+2*3/4.0\n",
    "print(n)"
   ]
  },
  {
   "cell_type": "code",
   "execution_count": 3,
   "id": "309e1a3c",
   "metadata": {},
   "outputs": [
    {
     "data": {
      "text/plain": [
       "[1, 3, 5, 7, 2, 4, 6, 8, 1, 3, 5, 7, 2, 4, 6, 8]"
      ]
     },
     "execution_count": 3,
     "metadata": {},
     "output_type": "execute_result"
    }
   ],
   "source": [
    "e = [2,4,6,8]\n",
    "o = [1,3,5,7]\n",
    "a= o+e+o+e\n",
    "a"
   ]
  },
  {
   "cell_type": "code",
   "execution_count": 5,
   "id": "3ed67b43",
   "metadata": {},
   "outputs": [
    {
     "name": "stdout",
     "output_type": "stream",
     "text": [
      "1  2  3  4  5  "
     ]
    }
   ],
   "source": [
    "for x in (1,2,3,4,5):\n",
    "    print(x,end=\"  \")"
   ]
  },
  {
   "cell_type": "code",
   "execution_count": 6,
   "id": "3f8c8d0d",
   "metadata": {},
   "outputs": [],
   "source": [
    "x= 23214242\n",
    "y=323321\n",
    "z=x/y"
   ]
  },
  {
   "cell_type": "code",
   "execution_count": 7,
   "id": "58b02fd5",
   "metadata": {},
   "outputs": [
    {
     "data": {
      "text/plain": [
       "71.79936348087504"
      ]
     },
     "execution_count": 7,
     "metadata": {},
     "output_type": "execute_result"
    }
   ],
   "source": [
    "z"
   ]
  },
  {
   "cell_type": "code",
   "execution_count": 8,
   "id": "e8c9a4b0",
   "metadata": {},
   "outputs": [
    {
     "data": {
      "text/plain": [
       "71.799"
      ]
     },
     "execution_count": 8,
     "metadata": {},
     "output_type": "execute_result"
    }
   ],
   "source": [
    "round(z,3)"
   ]
  },
  {
   "cell_type": "code",
   "execution_count": 9,
   "id": "082086e3",
   "metadata": {},
   "outputs": [
    {
     "data": {
      "text/plain": [
       "7"
      ]
     },
     "execution_count": 9,
     "metadata": {},
     "output_type": "execute_result"
    }
   ],
   "source": [
    "x=30\n",
    "y=4\n",
    "x//y"
   ]
  },
  {
   "cell_type": "code",
   "execution_count": 10,
   "id": "32650554",
   "metadata": {},
   "outputs": [
    {
     "data": {
      "text/plain": [
       "34.0"
      ]
     },
     "execution_count": 10,
     "metadata": {},
     "output_type": "execute_result"
    }
   ],
   "source": [
    "3.5//0.1"
   ]
  },
  {
   "cell_type": "code",
   "execution_count": 11,
   "id": "6a28e386",
   "metadata": {},
   "outputs": [
    {
     "data": {
      "text/plain": [
       "0.09999999999999992"
      ]
     },
     "execution_count": 11,
     "metadata": {},
     "output_type": "execute_result"
    }
   ],
   "source": [
    "1.5%0.1"
   ]
  },
  {
   "cell_type": "code",
   "execution_count": 12,
   "id": "76dfe0de",
   "metadata": {},
   "outputs": [
    {
     "data": {
      "text/plain": [
       "1"
      ]
     },
     "execution_count": 12,
     "metadata": {},
     "output_type": "execute_result"
    }
   ],
   "source": [
    "-5%2"
   ]
  },
  {
   "cell_type": "code",
   "execution_count": 13,
   "id": "aaf22fe4",
   "metadata": {},
   "outputs": [
    {
     "data": {
      "text/plain": [
       "-1"
      ]
     },
     "execution_count": 13,
     "metadata": {},
     "output_type": "execute_result"
    }
   ],
   "source": [
    "5%-2"
   ]
  },
  {
   "cell_type": "code",
   "execution_count": 14,
   "id": "2716269a",
   "metadata": {},
   "outputs": [
    {
     "data": {
      "text/plain": [
       "'0b1000'"
      ]
     },
     "execution_count": 14,
     "metadata": {},
     "output_type": "execute_result"
    }
   ],
   "source": [
    "a=8\n",
    "bin(a)"
   ]
  },
  {
   "cell_type": "code",
   "execution_count": 15,
   "id": "64f81d91",
   "metadata": {},
   "outputs": [
    {
     "data": {
      "text/plain": [
       "'0000000000001010'"
      ]
     },
     "execution_count": 15,
     "metadata": {},
     "output_type": "execute_result"
    }
   ],
   "source": [
    "format(10,'016b')"
   ]
  },
  {
   "cell_type": "code",
   "execution_count": 16,
   "id": "6fa7730b",
   "metadata": {},
   "outputs": [
    {
     "data": {
      "text/plain": [
       "10"
      ]
     },
     "execution_count": 16,
     "metadata": {},
     "output_type": "execute_result"
    }
   ],
   "source": [
    "binary =\"1010\"\n",
    "int(binary,2)"
   ]
  },
  {
   "cell_type": "code",
   "execution_count": 18,
   "id": "037463e4",
   "metadata": {},
   "outputs": [
    {
     "data": {
      "text/plain": [
       "'0b1010'"
      ]
     },
     "execution_count": 18,
     "metadata": {},
     "output_type": "execute_result"
    }
   ],
   "source": [
    "decimal = 10\n",
    "bin(decimal)"
   ]
  },
  {
   "cell_type": "code",
   "execution_count": 19,
   "id": "d782a9c8",
   "metadata": {},
   "outputs": [
    {
     "data": {
      "text/plain": [
       "'1010'"
      ]
     },
     "execution_count": 19,
     "metadata": {},
     "output_type": "execute_result"
    }
   ],
   "source": [
    "f'{10:b}'"
   ]
  },
  {
   "cell_type": "code",
   "execution_count": 20,
   "id": "a32a0d36",
   "metadata": {},
   "outputs": [
    {
     "data": {
      "text/plain": [
       "6"
      ]
     },
     "execution_count": 20,
     "metadata": {},
     "output_type": "execute_result"
    }
   ],
   "source": [
    "x=30\n",
    "y=7\n",
    "x&y"
   ]
  },
  {
   "cell_type": "code",
   "execution_count": 21,
   "id": "a4dd8c83",
   "metadata": {},
   "outputs": [
    {
     "data": {
      "text/plain": [
       "31"
      ]
     },
     "execution_count": 21,
     "metadata": {},
     "output_type": "execute_result"
    }
   ],
   "source": [
    "x|y"
   ]
  },
  {
   "cell_type": "code",
   "execution_count": 22,
   "id": "532c57ca",
   "metadata": {},
   "outputs": [
    {
     "data": {
      "text/plain": [
       "-30"
      ]
     },
     "execution_count": 22,
     "metadata": {},
     "output_type": "execute_result"
    }
   ],
   "source": [
    "-x"
   ]
  },
  {
   "cell_type": "code",
   "execution_count": 24,
   "id": "71860aff",
   "metadata": {},
   "outputs": [
    {
     "data": {
      "text/plain": [
       "6"
      ]
     },
     "execution_count": 24,
     "metadata": {},
     "output_type": "execute_result"
    }
   ],
   "source": [
    "import math\n",
    "math.ceil(5.7)"
   ]
  },
  {
   "cell_type": "code",
   "execution_count": 25,
   "id": "fd44df66",
   "metadata": {},
   "outputs": [
    {
     "data": {
      "text/plain": [
       "4"
      ]
     },
     "execution_count": 25,
     "metadata": {},
     "output_type": "execute_result"
    }
   ],
   "source": [
    "math.floor(4.2)"
   ]
  },
  {
   "cell_type": "code",
   "execution_count": 27,
   "id": "e9dde9bb",
   "metadata": {},
   "outputs": [
    {
     "data": {
      "text/plain": [
       "28"
      ]
     },
     "execution_count": 27,
     "metadata": {},
     "output_type": "execute_result"
    }
   ],
   "source": [
    "import sys\n",
    "x=30\n",
    "sys.getsizeof(x)"
   ]
  },
  {
   "cell_type": "code",
   "execution_count": 28,
   "id": "d6f79ab9",
   "metadata": {},
   "outputs": [
    {
     "data": {
      "text/plain": [
       "16"
      ]
     },
     "execution_count": 28,
     "metadata": {},
     "output_type": "execute_result"
    }
   ],
   "source": [
    "y=None\n",
    "sys.getsizeof(y)"
   ]
  },
  {
   "cell_type": "code",
   "execution_count": 29,
   "id": "ba681e7f",
   "metadata": {},
   "outputs": [
    {
     "data": {
      "text/plain": [
       "28"
      ]
     },
     "execution_count": 29,
     "metadata": {},
     "output_type": "execute_result"
    }
   ],
   "source": [
    "sys.getsizeof(12621)\n"
   ]
  },
  {
   "cell_type": "code",
   "execution_count": 32,
   "id": "2777c526",
   "metadata": {},
   "outputs": [
    {
     "name": "stdout",
     "output_type": "stream",
     "text": [
      "21\n",
      "783\n"
     ]
    }
   ],
   "source": [
    "l=[21,433,65,23,783]\n",
    "print(min(l))\n",
    "print(max(l))"
   ]
  },
  {
   "cell_type": "code",
   "execution_count": null,
   "id": "e6a6b48b",
   "metadata": {},
   "outputs": [],
   "source": []
  }
 ],
 "metadata": {
  "kernelspec": {
   "display_name": "Python 3 (ipykernel)",
   "language": "python",
   "name": "python3"
  },
  "language_info": {
   "codemirror_mode": {
    "name": "ipython",
    "version": 3
   },
   "file_extension": ".py",
   "mimetype": "text/x-python",
   "name": "python",
   "nbconvert_exporter": "python",
   "pygments_lexer": "ipython3",
   "version": "3.11.1"
  }
 },
 "nbformat": 4,
 "nbformat_minor": 5
}

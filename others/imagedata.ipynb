version https://git-lfs.github.com/spec/v1
oid sha256:e8f0bf2182186e357fec67f589051318fd2ca9f2a83accad85964a408fef2ea6
size 589

{
 "cells": [
  {
   "cell_type": "code",
   "execution_count": null,
   "id": "f568b8f9",
   "metadata": {},
   "outputs": [],
   "source": [
    "import multiprocessing\n",
    "\n",
    "def bubble_sort_chunk(arr):\n",
    "    n = len(arr)\n",
    "    for i in range(n - 1):\n",
    "        for j in range(n - i - 1):\n",
    "            if arr[j] > arr[j + 1]:\n",
    "                arr[j], arr[j + 1] = arr[j + 1], arr[j]\n",
    "    return arr\n",
    "\n",
    "def merge_chunks(chunks):\n",
    "    sorted_list = []\n",
    "    for chunk in chunks:\n",
    "        sorted_list.extend(chunk)\n",
    "    return sorted_list\n",
    "\n",
    "def parallel_bubble_sort(lst):\n",
    "    chunk_size = len(lst) // 4\n",
    "\n",
    "    # Divide the list into chunks\n",
    "    chunks = [lst[i:i + chunk_size] for i in range(0, len(lst), chunk_size)]\n",
    "\n",
    "    # Sort each chunk in parallel\n",
    "    with multiprocessing.Pool(processes=4) as pool:\n",
    "        sorted_chunks = pool.map(bubble_sort_chunk, chunks)\n",
    "\n",
    "    # Merge sorted chunks\n",
    "    sorted_list = merge_chunks(sorted_chunks)\n",
    "\n",
    "    return sorted_list\n",
    "\n",
    "# Example usage\n",
    "original_list = [53, 43, 66, 8, 99, 11, 5, 78, 10, 65, 22, 59, 10, 165, 108, 88]\n",
    "sorted_list = parallel_bubble_sort(original_list)\n",
    "print(\"Sorted list:\", sorted_list)"
   ]
  },
  {
   "cell_type": "code",
   "execution_count": null,
   "id": "eaa45da3",
   "metadata": {},
   "outputs": [],
   "source": []
  }
 ],
 "metadata": {
  "kernelspec": {
   "display_name": "Python 3 (ipykernel)",
   "language": "python",
   "name": "python3"
  },
  "language_info": {
   "codemirror_mode": {
    "name": "ipython",
    "version": 3
   },
   "file_extension": ".py",
   "mimetype": "text/x-python",
   "name": "python",
   "nbconvert_exporter": "python",
   "pygments_lexer": "ipython3",
   "version": "3.11.3"
  }
 },
 "nbformat": 4,
 "nbformat_minor": 5
}

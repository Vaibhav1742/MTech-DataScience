{
 "cells": [
  {
   "cell_type": "code",
   "execution_count": null,
   "id": "129ac389",
   "metadata": {},
   "outputs": [],
   "source": [
    "import time"
   ]
  },
  {
   "cell_type": "code",
   "execution_count": null,
   "id": "9ddb7b49",
   "metadata": {},
   "outputs": [],
   "source": [
    "def b(arr):\n",
    "    st = time.time()\n",
    "    n = len(arr)\n",
    "    for i in range(n - 1):\n",
    "        for j in range(n - i - 1):\n",
    "            if arr[j] > arr[j + 1]:\n",
    "                arr[j], arr[j + 1] = arr[j + 1], arr[j]\n",
    "    et = time.time()\n",
    "    print (et-st)\n",
    "    return arr"
   ]
  },
  {
   "cell_type": "code",
   "execution_count": null,
   "id": "caf5ac10",
   "metadata": {},
   "outputs": [],
   "source": [
    "l = [53, 43, 66, 8, 99, 11, 5,78,10,65,22,59,10,165,108,88]"
   ]
  },
  {
   "cell_type": "code",
   "execution_count": null,
   "id": "5f77cb28",
   "metadata": {},
   "outputs": [],
   "source": [
    "b(l)"
   ]
  },
  {
   "cell_type": "code",
   "execution_count": null,
   "id": "c4577a11",
   "metadata": {},
   "outputs": [],
   "source": [
    "import multiprocessing"
   ]
  },
  {
   "cell_type": "code",
   "execution_count": null,
   "id": "d2e32d02",
   "metadata": {},
   "outputs": [],
   "source": [
    "no_threads = 4"
   ]
  },
  {
   "cell_type": "code",
   "execution_count": null,
   "id": "bfcd423e",
   "metadata": {},
   "outputs": [],
   "source": [
    "sub_arr_size = len(l) // no_threads\n",
    "\n",
    "sa = [l[i:i + sub_arr_size] for i in range(0, len(l), sub_arr_size)]"
   ]
  },
  {
   "cell_type": "code",
   "execution_count": null,
   "id": "08370210",
   "metadata": {},
   "outputs": [],
   "source": [
    "with multiprocessing.Pool(processes=no_threads) as pool:\n",
    "        pool.map(b, sa)"
   ]
  },
  {
   "cell_type": "code",
   "execution_count": null,
   "id": "2755fb35",
   "metadata": {},
   "outputs": [],
   "source": [
    "    sorted_list = []\n",
    "    for i in sa:\n",
    "        sorted_list.extend(i)\n",
    "\n",
    "    return sorted_list"
   ]
  },
  {
   "cell_type": "code",
   "execution_count": null,
   "id": "52a2d12b",
   "metadata": {},
   "outputs": [],
   "source": [
    "def parallel_bubble_sort(arr):\n",
    "    no_threads=4\n",
    "    sub_arr_size = len(arr) // no_threads\n",
    "\n",
    "    sub_arr = [arr[i:i + sub_arr_size] for i in range(0, len(arr), sub_arr_size)]\n",
    "\n",
    "    with multiprocessing.Pool(processes=no_threads) as pool:\n",
    "        pool.map(b, sub_arr)\n",
    "\n",
    "    sorted_arr = []        \n",
    "    for i in sub_arr:\n",
    "        sorted_arr.extend(i)\n",
    "\n",
    "    return sorted_arr"
   ]
  },
  {
   "cell_type": "code",
   "execution_count": null,
   "id": "f428073e",
   "metadata": {},
   "outputs": [],
   "source": [
    "parallel_bubble_sort(l)"
   ]
  },
  {
   "cell_type": "code",
   "execution_count": null,
   "id": "6a5e0fea",
   "metadata": {},
   "outputs": [],
   "source": []
  },
  {
   "cell_type": "code",
   "execution_count": 4,
   "id": "5b71752b",
   "metadata": {},
   "outputs": [
    {
     "data": {
      "text/plain": [
       "10000000"
      ]
     },
     "execution_count": 4,
     "metadata": {},
     "output_type": "execute_result"
    }
   ],
   "source": [
    "import numpy as np\n",
    "a= np.random.randint(1,10000,10000000)\n",
    "len(a)"
   ]
  },
  {
   "cell_type": "code",
   "execution_count": 8,
   "id": "e42f5071",
   "metadata": {},
   "outputs": [
    {
     "data": {
      "image/png": "[encoded data removed]",
      "text/plain": [
       "<Figure size 640x480 with 1 Axes>"
      ]
     },
     "metadata": {},
     "output_type": "display_data"
    }
   ],
   "source": [
    "import matplotlib.pyplot as plt\n",
    "\n",
    "a = [2.956390380859375e-05, 323221]\n",
    "b = [0.026179790496826172,12132]\n",
    "plt.plot(a)\n",
    "plt.plot(b)\n",
    "plt.show()"
   ]
  },
  {
   "cell_type": "code",
   "execution_count": null,
   "id": "2f7b385c",
   "metadata": {},
   "outputs": [],
   "source": []
  },
  {
   "cell_type": "code",
   "execution_count": null,
   "id": "dca8449b",
   "metadata": {},
   "outputs": [],
   "source": []
  },
  {
   "cell_type": "code",
   "execution_count": null,
   "id": "f15e3e6a",
   "metadata": {},
   "outputs": [],
   "source": []
  },
  {
   "cell_type": "code",
   "execution_count": null,
   "id": "7d3fc3fa",
   "metadata": {},
   "outputs": [],
   "source": []
  }
 ],
 "metadata": {
  "kernelspec": {
   "display_name": "Python 3 (ipykernel)",
   "language": "python",
   "name": "python3"
  },
  "language_info": {
   "codemirror_mode": {
    "name": "ipython",
    "version": 3
   },
   "file_extension": ".py",
   "mimetype": "text/x-python",
   "name": "python",
   "nbconvert_exporter": "python",
   "pygments_lexer": "ipython3",
   "version": "3.11.3"
  }
 },
 "nbformat": 4,
 "nbformat_minor": 5
}

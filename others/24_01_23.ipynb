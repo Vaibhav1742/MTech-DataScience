{
 "cells": [
  {
   "cell_type": "code",
   "execution_count": 1,
   "id": "1c74bf5b",
   "metadata": {},
   "outputs": [
    {
     "name": "stdout",
     "output_type": "stream",
     "text": [
      "hi\n"
     ]
    }
   ],
   "source": [
    "print(\"hi\")\n"
   ]
  },
  {
   "cell_type": "code",
   "execution_count": null,
   "id": "ab7b7f63",
   "metadata": {},
   "outputs": [],
   "source": [
    "import requests\n",
    "\n",
    "url = requests.get(\"https://isro.vercel.app/api/spacecrafts\")\n",
    "newdata = url.json()\n",
    "print('no of main keys  - ', len(newdata))\n",
    "# print('Main keys - ')\n",
    "# for i in data:\n",
    "#     print(i)\n",
    "\n",
    "# print('Total Num of spacecrafts  - ', len(data['spacecrafts']))\n",
    "\n",
    "# for i in range(0,len(data[\"spacecrafts\"])):\n",
    "#     print(data['spacecrafts'][i]['id'], ':', data['spacecrafts'][i]['name'])\n"
   ]
  },
  {
   "cell_type": "code",
   "execution_count": null,
   "id": "7bde3c65",
   "metadata": {},
   "outputs": [],
   "source": []
  }
 ],
 "metadata": {
  "kernelspec": {
   "display_name": "Python 3 (ipykernel)",
   "language": "python",
   "name": "python3"
  },
  "language_info": {
   "codemirror_mode": {
    "name": "ipython",
    "version": 3
   },
   "file_extension": ".py",
   "mimetype": "text/x-python",
   "name": "python",
   "nbconvert_exporter": "python",
   "pygments_lexer": "ipython3",
   "version": "3.11.1"
  }
 },
 "nbformat": 4,
 "nbformat_minor": 5
}

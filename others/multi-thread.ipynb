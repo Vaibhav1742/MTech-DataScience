{
 "cells": [
  {
   "cell_type": "code",
   "execution_count": 2,
   "id": "e6ddb0e2",
   "metadata": {},
   "outputs": [
    {
     "name": "stdout",
     "output_type": "stream",
     "text": [
      "Requirement already satisfied: numba in d:\\anaconda\\lib\\site-packages (0.57.1)\n",
      "Requirement already satisfied: llvmlite<0.41,>=0.40.0dev0 in d:\\anaconda\\lib\\site-packages (from numba) (0.40.0)\n",
      "Requirement already satisfied: numpy<1.25,>=1.21 in d:\\anaconda\\lib\\site-packages (from numba) (1.24.3)\n"
     ]
    }
   ],
   "source": [
    "!pip install numba"
   ]
  },
  {
   "cell_type": "code",
   "execution_count": 3,
   "id": "80e467f8",
   "metadata": {},
   "outputs": [],
   "source": [
    "import numpy as np\n",
    "from numba import njit, prange\n",
    "import time"
   ]
  },
  {
   "cell_type": "code",
   "execution_count": 7,
   "id": "2ee3707c",
   "metadata": {},
   "outputs": [],
   "source": [
    "N = 3"
   ]
  },
  {
   "cell_type": "code",
   "execution_count": 8,
   "id": "53200e61",
   "metadata": {},
   "outputs": [],
   "source": [
    "@njit(parallel=True)\n",
    "def multiply_matrix(A, B, result):\n",
    "    for i in prange(N):\n",
    "        for j in range(N):\n",
    "            result[i, j] = 0\n",
    "            for k in range(N):\n",
    "                result[i, j] += A[i, k] * B[k, j]"
   ]
  },
  {
   "cell_type": "code",
   "execution_count": 9,
   "id": "b08d0e19",
   "metadata": {},
   "outputs": [
    {
     "name": "stdout",
     "output_type": "stream",
     "text": [
      "Matrix A:\n",
      "[[1 2 3]\n",
      " [4 5 6]\n",
      " [7 8 9]]\n",
      "\n",
      "Matrix B:\n",
      "[[9 8 7]\n",
      " [6 5 4]\n",
      " [3 2 1]]\n",
      "\n",
      "Result Matrix:\n",
      "[[ 30.  24.  18.]\n",
      " [ 84.  69.  54.]\n",
      " [138. 114.  90.]]\n",
      "\n",
      "Matrix multiplication took 0.3213155269622803 seconds.\n"
     ]
    }
   ],
   "source": [
    "if __name__ == \"__main__\":\n",
    "    A = np.array([[1, 2, 3], [4, 5, 6], [7, 8, 9]])\n",
    "    B = np.array([[9, 8, 7], [6, 5, 4], [3, 2, 1]])\n",
    "    result = np.zeros((N, N))\n",
    "\n",
    "    # Perform matrix multiplication\n",
    "    start_time = time.time()\n",
    "    multiply_matrix(A, B, result)\n",
    "    end_time = time.time()\n",
    "\n",
    "    # Display matrices and result\n",
    "    print(\"Matrix A:\")\n",
    "    print(A)\n",
    "    print(\"\\nMatrix B:\")\n",
    "    print(B)\n",
    "    print(\"\\nResult Matrix:\")\n",
    "    print(result)\n",
    "\n",
    "    # Display execution time\n",
    "    print(\"\\nMatrix multiplication took\", end_time - start_time, \"seconds.\")"
   ]
  }
 ],
 "metadata": {
  "kernelspec": {
   "display_name": "Python 3 (ipykernel)",
   "language": "python",
   "name": "python3"
  },
  "language_info": {
   "codemirror_mode": {
    "name": "ipython",
    "version": 3
   },
   "file_extension": ".py",
   "mimetype": "text/x-python",
   "name": "python",
   "nbconvert_exporter": "python",
   "pygments_lexer": "ipython3",
   "version": "3.11.5"
  }
 },
 "nbformat": 4,
 "nbformat_minor": 5
}

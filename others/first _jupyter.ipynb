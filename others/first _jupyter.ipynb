version https://git-lfs.github.com/spec/v1
oid sha256:11ef16c0bf4a1313010984746438e453f545c54e13e6d0f22d7d59c98247ea52
size 34177

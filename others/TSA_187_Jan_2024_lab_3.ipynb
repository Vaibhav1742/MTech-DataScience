version https://git-lfs.github.com/spec/v1
oid sha256:16fb5e84ee3f902a7269ba2276ecad2718d7c44bde8acc0b7eb52ab69fccd9a8
size 1275506

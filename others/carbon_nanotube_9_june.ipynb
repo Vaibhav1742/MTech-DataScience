version https://git-lfs.github.com/spec/v1
oid sha256:8261c22d356f80a49d6f24f35193f6e794867b2916a8fedc0a475aaa3f42a3bb
size 75123

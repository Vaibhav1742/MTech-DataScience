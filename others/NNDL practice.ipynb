version https://git-lfs.github.com/spec/v1
oid sha256:a45d9b1e1e172ad2684a3d434cc22a25fc202dd9c1dee3aadc59ad25579f5bb3
size 1476418

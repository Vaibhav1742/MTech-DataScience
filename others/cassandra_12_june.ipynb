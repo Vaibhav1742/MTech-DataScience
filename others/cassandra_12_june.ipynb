{
 "cells": [
  {
   "cell_type": "code",
   "execution_count": null,
   "id": "8e34711c",
   "metadata": {},
   "outputs": [],
   "source": [
    "!pip install cassandra-driver"
   ]
  },
  {
   "cell_type": "code",
   "execution_count": 4,
   "id": "477eb3c2",
   "metadata": {},
   "outputs": [
    {
     "name": "stdout",
     "output_type": "stream",
     "text": [
      "3.28.0\n"
     ]
    }
   ],
   "source": [
    "# python -c 'import cassandra; print (cassandra.__version__)'\n",
    "import cassandra\n",
    "print (cassandra.__version__)"
   ]
  },
  {
   "cell_type": "code",
   "execution_count": 5,
   "id": "1662803a",
   "metadata": {},
   "outputs": [
    {
     "name": "stdout",
     "output_type": "stream",
     "text": [
      "4.0.0.6816\n"
     ]
    }
   ],
   "source": [
    "from cassandra.cluster import Cluster\n",
    "from cassandra.auth import PlainTextAuthProvider\n",
    "\n",
    "cloud_config= {\n",
    "  'secure_connect_bundle': \"C:\\\\Users\\\\raval\\\\Downloads\\\\secure-connect-test7.zip\"\n",
    "}\n",
    "\n",
    "auth_provider = PlainTextAuthProvider('LaRewfBFGUGzMYJtrvobddDk', 'hEnwlU.FsEjax41T7P-pjHygM0d3io3_FwK_U5PkUvSyUZGxFOgZiKOgAEALmULSmu9ZpWn424PWEhIE9.CB7.gMsisJXtH-.ZyOhNNqh8WAl,QpA4zce_AzWGTkkv-I')\n",
    "cluster = Cluster(cloud=cloud_config, auth_provider=auth_provider)\n",
    "session = cluster.connect()\n",
    "\n",
    "row = session.execute(\"select release_version from system.local\").one()\n",
    "if row:\n",
    "  print(row[0])\n",
    "else:\n",
    "  print(\"An error occurred.\")\n"
   ]
  },
  {
   "cell_type": "code",
   "execution_count": 6,
   "id": "8a1b5696",
   "metadata": {},
   "outputs": [
    {
     "ename": "Unauthorized",
     "evalue": "Error from server: code=2100 [Unauthorized] message=\"Missing correct permission on vaibhav.: Keyspace management is currently only supported at https://astra.datastax.com/org/f9663ee4-a369-4407-8ae0-12d309796179/database/f5a5fd8e-c793-48e9-97e6-9d8c598c770d\"",
     "output_type": "error",
     "traceback": [
      "\u001b[1;31m---------------------------------------------------------------------------\u001b[0m",
      "\u001b[1;31mUnauthorized\u001b[0m                              Traceback (most recent call last)",
      "Cell \u001b[1;32mIn[6], line 2\u001b[0m\n\u001b[0;32m      1\u001b[0m \u001b[38;5;66;03m# create keyspace in database\u001b[39;00m\n\u001b[1;32m----> 2\u001b[0m row1 \u001b[38;5;241m=\u001b[39m \u001b[43msession\u001b[49m\u001b[38;5;241;43m.\u001b[39;49m\u001b[43mexecute\u001b[49m\u001b[43m(\u001b[49m\u001b[38;5;124;43m\"\u001b[39;49m\u001b[38;5;124;43mCREATE KEYSPACE vaibhav WITH replication = \u001b[39;49m\u001b[38;5;124;43m{\u001b[39;49m\u001b[38;5;124;43m'\u001b[39;49m\u001b[38;5;124;43mclass\u001b[39;49m\u001b[38;5;124;43m'\u001b[39;49m\u001b[38;5;124;43m: \u001b[39;49m\u001b[38;5;124;43m'\u001b[39;49m\u001b[38;5;124;43mSimpleStrategy\u001b[39;49m\u001b[38;5;124;43m'\u001b[39;49m\u001b[38;5;124;43m, \u001b[39;49m\u001b[38;5;124;43m'\u001b[39;49m\u001b[38;5;124;43mreplication_factor\u001b[39;49m\u001b[38;5;124;43m'\u001b[39;49m\u001b[38;5;124;43m : 4};\u001b[39;49m\u001b[38;5;124;43m\"\u001b[39;49m\u001b[43m)\u001b[49m\n",
      "File \u001b[1;32mC:\\python311\\Lib\\site-packages\\cassandra\\cluster.py:2637\u001b[0m, in \u001b[0;36mcassandra.cluster.Session.execute\u001b[1;34m()\u001b[0m\n",
      "File \u001b[1;32mC:\\python311\\Lib\\site-packages\\cassandra\\cluster.py:4920\u001b[0m, in \u001b[0;36mcassandra.cluster.ResponseFuture.result\u001b[1;34m()\u001b[0m\n",
      "\u001b[1;31mUnauthorized\u001b[0m: Error from server: code=2100 [Unauthorized] message=\"Missing correct permission on vaibhav.: Keyspace management is currently only supported at https://astra.datastax.com/org/f9663ee4-a369-4407-8ae0-12d309796179/database/f5a5fd8e-c793-48e9-97e6-9d8c598c770d\""
     ]
    }
   ],
   "source": [
    "# create keyspace in database\n",
    "row1 = session.execute(\"CREATE KEYSPACE vaibhav WITH replication = {'class': 'SimpleStrategy', 'replication_factor' : 4};\")"
   ]
  },
  {
   "cell_type": "code",
   "execution_count": 7,
   "id": "568370e6",
   "metadata": {},
   "outputs": [],
   "source": [
    "#use keyspace\n",
    "row=session.execute(\"use vaibhav;\")"
   ]
  },
  {
   "cell_type": "code",
   "execution_count": 8,
   "id": "07de12a0",
   "metadata": {},
   "outputs": [],
   "source": [
    "#creating table in the keyspace\n",
    "row1=session.execute(\"CREATE TABLE Members(id int PRIMARY KEY,name text,age int,height int);\")"
   ]
  },
  {
   "cell_type": "code",
   "execution_count": 9,
   "id": "27579eb5",
   "metadata": {},
   "outputs": [],
   "source": [
    "#inserting into table\n",
    "row2=session.execute(\"INSERT INTO Members(id,name,age,height) VALUES (1,'mohit',25,160);\")"
   ]
  },
  {
   "cell_type": "code",
   "execution_count": null,
   "id": "4b1f3feb",
   "metadata": {},
   "outputs": [],
   "source": []
  }
 ],
 "metadata": {
  "kernelspec": {
   "display_name": "Python 3 (ipykernel)",
   "language": "python",
   "name": "python3"
  },
  "language_info": {
   "codemirror_mode": {
    "name": "ipython",
    "version": 3
   },
   "file_extension": ".py",
   "mimetype": "text/x-python",
   "name": "python",
   "nbconvert_exporter": "python",
   "pygments_lexer": "ipython3",
   "version": "3.11.1"
  }
 },
 "nbformat": 4,
 "nbformat_minor": 5
}

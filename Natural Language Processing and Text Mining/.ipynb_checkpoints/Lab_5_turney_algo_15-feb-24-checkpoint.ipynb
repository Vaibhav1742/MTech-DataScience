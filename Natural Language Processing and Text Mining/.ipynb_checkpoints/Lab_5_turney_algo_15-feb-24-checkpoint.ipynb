{
 "cells": [
  {
   "cell_type": "code",
   "execution_count": 12,
   "id": "41dd7bfc",
   "metadata": {},
   "outputs": [
    {
     "name": "stdout",
     "output_type": "stream",
     "text": [
      "[('Crop', 'NNP'), ('price', 'NN'), ('prediction', 'NN'), ('is', 'VBZ'), ('a', 'DT'), ('critical', 'JJ'), ('aspect', 'NN'), ('of', 'IN'), ('modern', 'JJ'), ('agriculture', 'NN'), (',', ','), ('leveraging', 'VBG'), ('data-driven', 'JJ'), ('approaches', 'NNS'), ('to', 'TO'), ('anticipate', 'VB'), ('market', 'NN'), ('trends', 'NNS'), ('and', 'CC'), ('assist', 'JJ'), ('farmers', 'NNS'), ('in', 'IN'), ('making', 'VBG'), ('informed', 'JJ'), ('decisions', 'NNS'), ('.', '.'), ('Advanced', 'NNP'), ('machine', 'NN'), ('learning', 'NN'), ('models', 'NNS'), (',', ','), ('often', 'RB'), ('powered', 'VBN'), ('by', 'IN'), ('algorithms', 'NN'), ('such', 'JJ'), ('as', 'IN'), ('regression', 'NN'), ('analysis', 'NN'), ('and', 'CC'), ('neural', 'JJ'), ('networks', 'NNS'), (',', ','), ('are', 'VBP'), ('employed', 'VBN'), ('to', 'TO'), ('analyze', 'VB'), ('historical', 'JJ'), ('market', 'NN'), ('data', 'NNS'), (',', ','), ('climate', 'NN'), ('patterns', 'NNS'), (',', ','), ('and', 'CC'), ('other', 'JJ'), ('relevant', 'JJ'), ('factors', 'NNS'), ('influencing', 'VBG'), ('crop', 'NN'), ('prices', 'NNS'), ('.', '.'), ('By', 'IN'), ('considering', 'VBG'), ('variables', 'NNS'), ('such', 'JJ'), ('as', 'IN'), ('weather', 'NN'), ('conditions', 'NNS'), (',', ','), ('soil', 'NN'), ('quality', 'NN'), (',', ','), ('demand-supply', 'JJ'), ('dynamics', 'NNS'), (',', ','), ('and', 'CC'), ('global', 'JJ'), ('economic', 'JJ'), ('indicators', 'NNS'), (',', ','), ('these', 'DT'), ('models', 'NNS'), ('aim', 'VBP'), ('to', 'TO'), ('forecast', 'VB'), ('future', 'JJ'), ('prices', 'NNS'), ('for', 'IN'), ('various', 'JJ'), ('crops', 'NNS'), ('.', '.'), ('Additionally', 'RB'), (',', ','), ('incorporating', 'VBG'), ('sentiment', 'JJ'), ('analysis', 'NN'), ('of', 'IN'), ('news', 'NN'), ('articles', 'NNS'), ('and', 'CC'), ('social', 'JJ'), ('media', 'NNS'), ('can', 'MD'), ('provide', 'VB'), ('insights', 'NNS'), ('into', 'IN'), ('market', 'NN'), ('sentiment', 'NN'), (',', ','), ('contributing', 'VBG'), ('to', 'TO'), ('more', 'RBR'), ('accurate', 'JJ'), ('predictions', 'NNS'), ('.', '.'), ('The', 'DT'), ('integration', 'NN'), ('of', 'IN'), ('emerging', 'VBG'), ('technologies', 'NNS'), (',', ','), ('like', 'IN'), ('satellite', 'JJ'), ('imagery', 'NN'), ('and', 'CC'), ('Internet', 'NNP'), ('of', 'IN'), ('Things', 'NNP'), ('(', '('), ('IoT', 'NNP'), (')', ')'), ('devices', 'NNS'), ('in', 'IN'), ('precision', 'NN'), ('agriculture', 'NN'), (',', ','), ('further', 'JJ'), ('refines', 'NNS'), ('predictions', 'NNS'), ('by', 'IN'), ('providing', 'VBG'), ('real-time', 'JJ'), ('data', 'NNS'), ('on', 'IN'), ('crop', 'NN'), ('health', 'NN'), ('and', 'CC'), ('growth', 'NN'), ('conditions', 'NNS'), ('.', '.'), ('As', 'IN'), ('agriculture', 'NN'), ('becomes', 'VBZ'), ('increasingly', 'RB'), ('data-centric', 'JJ'), (',', ','), ('the', 'DT'), ('application', 'NN'), ('of', 'IN'), ('predictive', 'JJ'), ('analytics', 'NNS'), ('in', 'IN'), ('crop', 'NN'), ('price', 'NN'), ('forecasting', 'VBG'), ('stands', 'NNS'), ('as', 'IN'), ('a', 'DT'), ('pivotal', 'JJ'), ('tool', 'NN'), ('for', 'IN'), ('optimizing', 'VBG'), ('resource', 'NN'), ('allocation', 'NN'), ('and', 'CC'), ('maximizing', 'VBG'), ('profitability', 'NN'), ('in', 'IN'), ('the', 'DT'), ('farming', 'NN'), ('sector', 'NN'), ('.', '.')]\n"
     ]
    }
   ],
   "source": [
    "text = '''Crop price prediction is a critical aspect of modern agriculture, leveraging data-driven approaches to anticipate market trends and assist farmers in making informed decisions. Advanced machine learning models, often powered by algorithms such as regression analysis and neural networks, are employed to analyze historical market data, climate patterns, and other relevant factors influencing crop prices. By considering variables such as weather conditions, soil quality, demand-supply dynamics, and global economic indicators, these models aim to forecast future prices for various crops. Additionally, incorporating sentiment analysis of news articles and social media can provide insights into market sentiment, contributing to more accurate predictions. The integration of emerging technologies, like satellite imagery and Internet of Things (IoT) devices in precision agriculture, further refines predictions by providing real-time data on crop health and growth conditions. As agriculture becomes increasingly data-centric, the application of predictive analytics in crop price forecasting stands as a pivotal tool for optimizing resource allocation and maximizing profitability in the farming sector.'''\n",
    "words = nltk.word_tokenize(text)\n",
    "\n",
    "# # Remove stopwords\n",
    "# stop_words = set(stopwords.words('english'))\n",
    "# filtered_tokens = [word for word in tokens if word.isalnum() and word not in stop_words]\n",
    "\n",
    "tags = nltk.pos_tag(words)\n",
    "print(tags)"
   ]
  },
  {
   "cell_type": "code",
   "execution_count": 6,
   "id": "13b4dfdb",
   "metadata": {},
   "outputs": [
    {
     "name": "stderr",
     "output_type": "stream",
     "text": [
      "[nltk_data] Downloading package punkt to\n",
      "[nltk_data]     C:\\Users\\raval\\AppData\\Roaming\\nltk_data...\n",
      "[nltk_data]   Package punkt is already up-to-date!\n"
     ]
    },
    {
     "data": {
      "text/plain": [
       "True"
      ]
     },
     "execution_count": 6,
     "metadata": {},
     "output_type": "execute_result"
    }
   ],
   "source": [
    "nltk.download('punkt')"
   ]
  },
  {
   "cell_type": "code",
   "execution_count": null,
   "id": "76a92ca5",
   "metadata": {},
   "outputs": [],
   "source": []
  },
  {
   "cell_type": "code",
   "execution_count": null,
   "id": "e7ee84fe",
   "metadata": {},
   "outputs": [],
   "source": []
  },
  {
   "cell_type": "code",
   "execution_count": 22,
   "id": "fbd0a331",
   "metadata": {},
   "outputs": [],
   "source": [
    "from nltk import word_tokenize, pos_tag, bigrams"
   ]
  },
  {
   "cell_type": "code",
   "execution_count": 9,
   "id": "0aa8fe0f",
   "metadata": {},
   "outputs": [
    {
     "name": "stdout",
     "output_type": "stream",
     "text": [
      "Bigrams:\n",
      "[('Crop', 'price'), ('price', 'prediction'), ('prediction', 'is'), ('is', 'a'), ('a', 'critical'), ('critical', 'aspect'), ('aspect', 'of'), ('of', 'modern'), ('modern', 'agriculture'), ('agriculture', ','), (',', 'leveraging'), ('leveraging', 'data-driven'), ('data-driven', 'approaches'), ('approaches', 'to'), ('to', 'anticipate'), ('anticipate', 'market'), ('market', 'trends'), ('trends', 'and'), ('and', 'assist'), ('assist', 'farmers'), ('farmers', 'in'), ('in', 'making'), ('making', 'informed'), ('informed', 'decisions'), ('decisions', '.'), ('.', 'Advanced'), ('Advanced', 'machine'), ('machine', 'learning'), ('learning', 'models'), ('models', ','), (',', 'often'), ('often', 'powered'), ('powered', 'by'), ('by', 'algorithms'), ('algorithms', 'such'), ('such', 'as'), ('as', 'regression'), ('regression', 'analysis'), ('analysis', 'and'), ('and', 'neural'), ('neural', 'networks'), ('networks', ','), (',', 'are'), ('are', 'employed'), ('employed', 'to'), ('to', 'analyze'), ('analyze', 'historical'), ('historical', 'market'), ('market', 'data'), ('data', ','), (',', 'climate'), ('climate', 'patterns'), ('patterns', ','), (',', 'and'), ('and', 'other'), ('other', 'relevant'), ('relevant', 'factors'), ('factors', 'influencing'), ('influencing', 'crop'), ('crop', 'prices'), ('prices', '.'), ('.', 'By'), ('By', 'considering'), ('considering', 'variables'), ('variables', 'such'), ('such', 'as'), ('as', 'weather'), ('weather', 'conditions'), ('conditions', ','), (',', 'soil'), ('soil', 'quality'), ('quality', ','), (',', 'demand-supply'), ('demand-supply', 'dynamics'), ('dynamics', ','), (',', 'and'), ('and', 'global'), ('global', 'economic'), ('economic', 'indicators'), ('indicators', ','), (',', 'these'), ('these', 'models'), ('models', 'aim'), ('aim', 'to'), ('to', 'forecast'), ('forecast', 'future'), ('future', 'prices'), ('prices', 'for'), ('for', 'various'), ('various', 'crops'), ('crops', '.'), ('.', 'Additionally'), ('Additionally', ','), (',', 'incorporating'), ('incorporating', 'sentiment'), ('sentiment', 'analysis'), ('analysis', 'of'), ('of', 'news'), ('news', 'articles'), ('articles', 'and'), ('and', 'social'), ('social', 'media'), ('media', 'can'), ('can', 'provide'), ('provide', 'insights'), ('insights', 'into'), ('into', 'market'), ('market', 'sentiment'), ('sentiment', ','), (',', 'contributing'), ('contributing', 'to'), ('to', 'more'), ('more', 'accurate'), ('accurate', 'predictions'), ('predictions', '.'), ('.', 'The'), ('The', 'integration'), ('integration', 'of'), ('of', 'emerging'), ('emerging', 'technologies'), ('technologies', ','), (',', 'like'), ('like', 'satellite'), ('satellite', 'imagery'), ('imagery', 'and'), ('and', 'Internet'), ('Internet', 'of'), ('of', 'Things'), ('Things', '('), ('(', 'IoT'), ('IoT', ')'), (')', 'devices'), ('devices', 'in'), ('in', 'precision'), ('precision', 'agriculture'), ('agriculture', ','), (',', 'further'), ('further', 'refines'), ('refines', 'predictions'), ('predictions', 'by'), ('by', 'providing'), ('providing', 'real-time'), ('real-time', 'data'), ('data', 'on'), ('on', 'crop'), ('crop', 'health'), ('health', 'and'), ('and', 'growth'), ('growth', 'conditions'), ('conditions', '.'), ('.', 'As'), ('As', 'agriculture'), ('agriculture', 'becomes'), ('becomes', 'increasingly'), ('increasingly', 'data-centric'), ('data-centric', ','), (',', 'the'), ('the', 'application'), ('application', 'of'), ('of', 'predictive'), ('predictive', 'analytics'), ('analytics', 'in'), ('in', 'crop'), ('crop', 'price'), ('price', 'forecasting'), ('forecasting', 'stands'), ('stands', 'as'), ('as', 'a'), ('a', 'pivotal'), ('pivotal', 'tool'), ('tool', 'for'), ('for', 'optimizing'), ('optimizing', 'resource'), ('resource', 'allocation'), ('allocation', 'and'), ('and', 'maximizing'), ('maximizing', 'profitability'), ('profitability', 'in'), ('in', 'the'), ('the', 'farming'), ('farming', 'sector'), ('sector', '.')]\n"
     ]
    }
   ],
   "source": [
    "# Create bigrams\n",
    "bigrams = list(bigrams(words))\n",
    "\n",
    "# Print the bigrams\n",
    "print(\"Bigrams:\")\n",
    "print(bigrams)"
   ]
  },
  {
   "cell_type": "code",
   "execution_count": 15,
   "id": "2edada54",
   "metadata": {},
   "outputs": [],
   "source": []
  },
  {
   "cell_type": "code",
   "execution_count": 23,
   "id": "48b462a4",
   "metadata": {},
   "outputs": [],
   "source": [
    "# Tokenize and part-of-speech tagging\n",
    "tokens = word_tokenize(text)\n",
    "tags = pos_tag(tokens)"
   ]
  },
  {
   "cell_type": "code",
   "execution_count": 24,
   "id": "2a14f100",
   "metadata": {},
   "outputs": [
    {
     "name": "stdout",
     "output_type": "stream",
     "text": [
      "Two-word phrases with adjectives:\n",
      "['critical aspect', 'modern agriculture', 'data-driven approaches', 'assist farmers', 'informed decisions', 'neural networks', 'historical market', 'relevant factors', 'demand-supply dynamics', 'economic indicators', 'future prices', 'various crops', 'sentiment analysis', 'social media', 'accurate predictions', 'satellite imagery', 'further refines', 'real-time data', 'predictive analytics', 'pivotal tool']\n"
     ]
    }
   ],
   "source": [
    "# Extract two-word phrases with adjectives\n",
    "adjective_noun_phrases = [f\"{word} {next_word}\" for (word, tag), (next_word, next_tag) in bigrams(tags)\n",
    "                          if tag.startswith('JJ') and next_tag.startswith('NN')]\n",
    "\n",
    "# Print the results\n",
    "print(\"Two-word phrases with adjectives:\")\n",
    "print(adjective_noun_phrases)"
   ]
  },
  {
   "cell_type": "code",
   "execution_count": 31,
   "id": "83fb2bd2",
   "metadata": {},
   "outputs": [
    {
     "data": {
      "text/plain": [
       "['critical aspect',\n",
       " 'modern agriculture',\n",
       " 'data-driven approaches',\n",
       " 'assist farmers',\n",
       " 'informed decisions',\n",
       " 'neural networks',\n",
       " 'historical market',\n",
       " 'relevant factors',\n",
       " 'demand-supply dynamics',\n",
       " 'economic indicators',\n",
       " 'future prices',\n",
       " 'various crops',\n",
       " 'sentiment analysis',\n",
       " 'social media',\n",
       " 'accurate predictions',\n",
       " 'satellite imagery',\n",
       " 'further refines',\n",
       " 'real-time data',\n",
       " 'predictive analytics',\n",
       " 'pivotal tool']"
      ]
     },
     "execution_count": 31,
     "metadata": {},
     "output_type": "execute_result"
    }
   ],
   "source": [
    "adjective_noun_phrases"
   ]
  },
  {
   "cell_type": "code",
   "execution_count": 38,
   "id": "5336056b",
   "metadata": {},
   "outputs": [
    {
     "data": {
      "text/plain": [
       "['p', 'i', 'v', 'o', 't', 'a', 'l']"
      ]
     },
     "execution_count": 38,
     "metadata": {},
     "output_type": "execute_result"
    }
   ],
   "source": [
    "list(bigram)"
   ]
  },
  {
   "cell_type": "code",
   "execution_count": 41,
   "id": "4125a91a",
   "metadata": {},
   "outputs": [
    {
     "name": "stdout",
     "output_type": "stream",
     "text": [
      "PMI Matrix:\n",
      "PMI(aspect | critical) = 3.2958\n",
      "PMI(agriculture | modern) = 3.2958\n",
      "PMI(approaches | data-driven) = 3.2958\n",
      "PMI(farmers | assist) = 3.2958\n",
      "PMI(decisions | informed) = 3.2958\n",
      "PMI(powered | often) = 3.2958\n",
      "PMI(such | algorithms) = 2.6027\n",
      "PMI(networks | neural) = 3.2958\n",
      "PMI(market | historical) = 3.2958\n",
      "PMI(relevant | other) = 2.6027\n",
      "PMI(factors | relevant) = 2.6027\n",
      "PMI(such | variables) = 2.6027\n",
      "PMI(dynamics | demand-supply) = 3.2958\n",
      "PMI(economic | global) = 2.6027\n",
      "PMI(indicators | economic) = 2.6027\n",
      "PMI(prices | future) = 3.2958\n",
      "PMI(crops | various) = 3.2958\n",
      "PMI(analysis | sentiment) = 3.2958\n",
      "PMI(media | social) = 3.2958\n",
      "PMI(accurate | more) = 2.6027\n",
      "PMI(predictions | accurate) = 2.6027\n",
      "PMI(imagery | satellite) = 3.2958\n",
      "PMI(refines | further) = 3.2958\n",
      "PMI(data | real-time) = 3.2958\n",
      "PMI(data-centric | increasingly) = 3.2958\n",
      "PMI(analytics | predictive) = 3.2958\n",
      "PMI(tool | pivotal) = 3.2958\n"
     ]
    }
   ],
   "source": [
    "from collections import defaultdict\n",
    "import math\n",
    "\n",
    "# Given bigrams\n",
    "bigrams = [('critical', 'aspect'),\n",
    "('modern', 'agriculture'),\n",
    "('data-driven', 'approaches'),\n",
    "('assist', 'farmers'),\n",
    "('informed', 'decisions'),\n",
    "('often', 'powered'),\n",
    "('algorithms', 'such'),\n",
    "('neural', 'networks'),\n",
    "('historical', 'market'),\n",
    "('other', 'relevant'),\n",
    "('relevant', 'factors'),\n",
    "('variables', 'such'),\n",
    "('demand-supply', 'dynamics'),\n",
    "('global', 'economic'),\n",
    "('economic', 'indicators'),\n",
    "('future', 'prices'),\n",
    "('various', 'crops'),\n",
    "('sentiment', 'analysis'),\n",
    "('social', 'media'),\n",
    "('more', 'accurate'),\n",
    "('accurate', 'predictions'),\n",
    "('satellite', 'imagery'),\n",
    "('further', 'refines'),\n",
    "('real-time', 'data'),\n",
    "('increasingly', 'data-centric'),\n",
    "('predictive', 'analytics')\n",
    ",('pivotal', 'tool')]\n",
    "\n",
    "# Count occurrences of each bigram\n",
    "bigram_counts = defaultdict(int)\n",
    "for bigram in bigrams:\n",
    "    bigram_counts[bigram] += 1\n",
    "\n",
    "# Calculate probabilities\n",
    "total_bigrams = sum(bigram_counts.values())\n",
    "word_probs = defaultdict(float)\n",
    "for bigram, count in bigram_counts.items():\n",
    "    word1, word2 = bigram\n",
    "    word_probs[word1] += count\n",
    "    word_probs[word2] += count\n",
    "\n",
    "for word in word_probs:\n",
    "    word_probs[word] /= total_bigrams\n",
    "\n",
    "# Calculate PMI\n",
    "pmi_matrix = {}\n",
    "for bigram, count in bigram_counts.items():\n",
    "    word1, word2 = bigram\n",
    "    joint_prob = count / total_bigrams\n",
    "    pmi = math.log(joint_prob / (word_probs[word1] * word_probs[word2]))\n",
    "    if word1 not in pmi_matrix:\n",
    "        pmi_matrix[word1] = {}\n",
    "    pmi_matrix[word1][word2] = pmi\n",
    "\n",
    "# Display PMI matrix\n",
    "print(\"PMI Matrix:\")\n",
    "for word1, word2_pmi in pmi_matrix.items():\n",
    "    for word2, pmi in word2_pmi.items():\n",
    "        print(f\"PMI({word2} | {word1}) = {pmi:.4f}\")"
   ]
  },
  {
   "cell_type": "code",
   "execution_count": 36,
   "id": "9ac32c4e",
   "metadata": {
    "scrolled": true
   },
   "outputs": [
    {
     "name": "stdout",
     "output_type": "stream",
     "text": [
      "('critical', 'aspect')\n",
      "('modern', 'agriculture')\n",
      "('data-driven', 'approaches')\n",
      "('assist', 'farmers')\n",
      "('informed', 'decisions')\n",
      "('often', 'powered')\n",
      "('algorithms', 'such')\n",
      "('neural', 'networks')\n",
      "('historical', 'market')\n",
      "('other', 'relevant')\n",
      "('relevant', 'factors')\n",
      "('variables', 'such')\n",
      "('demand-supply', 'dynamics')\n",
      "('global', 'economic')\n",
      "('economic', 'indicators')\n",
      "('future', 'prices')\n",
      "('various', 'crops')\n",
      "('sentiment', 'analysis')\n",
      "('social', 'media')\n",
      "('more', 'accurate')\n",
      "('accurate', 'predictions')\n",
      "('satellite', 'imagery')\n",
      "('further', 'refines')\n",
      "('real-time', 'data')\n",
      "('increasingly', 'data-centric')\n",
      "('predictive', 'analytics')\n",
      "('pivotal', 'tool')\n"
     ]
    }
   ],
   "source": [
    "def filter_bigrams(tags):\n",
    "    filtered_bigrams = []\n",
    "    for i in range(len(tags) - 1):\n",
    "        first_word, first_tag = tags[i]\n",
    "        second_word, second_tag = tags[i + 1]\n",
    "        \n",
    "        if (first_tag.startswith('JJ') and second_tag in ['NN', 'NNS']) \\\n",
    "            or (first_tag in ['RB', 'RBR', 'RBS'] and second_tag.startswith('JJ') and not (second_tag == 'NN' or second_tag == 'NNS')) \\\n",
    "            or (first_tag.startswith('JJ') and second_tag.startswith('JJ') and not (second_tag == 'NN' or second_tag == 'NNS')) \\\n",
    "            or ((first_tag == 'NN' or first_tag == 'NNS') and second_tag.startswith('JJ') and not (second_tag == 'NN' or second_tag == 'NNS')) \\\n",
    "            or (first_tag in ['RB', 'RBR', 'RBS'] and second_tag.startswith('VB') and second_tag != 'NNS'):\n",
    "            filtered_bigrams.append((first_word, second_word))\n",
    "    return filtered_bigrams\n",
    "\n",
    "filtered_bigrams = filter_bigrams(tags)\n",
    "\n",
    "for bigram in filtered_bigrams:\n",
    "    print(bigram)"
   ]
  },
  {
   "cell_type": "code",
   "execution_count": null,
   "id": "8e477a7c",
   "metadata": {},
   "outputs": [],
   "source": []
  },
  {
   "cell_type": "code",
   "execution_count": null,
   "id": "c4ae95ee",
   "metadata": {},
   "outputs": [],
   "source": []
  },
  {
   "cell_type": "code",
   "execution_count": null,
   "id": "88feb523",
   "metadata": {},
   "outputs": [],
   "source": [
    "import csv\n",
    "import nltk\n",
    "from nltk.tokenize import wordpunct_tokenize\n",
    "from nltk.sentiment import SentimentIntensityAnalyzer\n",
    "\n",
    "# Read data from CSV\n",
    "reviews = []\n",
    "with open('your_data.csv', 'r', encoding='utf-8') as csvfile:  # Update 'your_data.csv' with your CSV file name\n",
    "    reader = csv.reader(csvfile, delimiter='\\t')  # Assuming tab-separated values\n",
    "    for row in reader:\n",
    "        if len(row) >= 2:  # Check if row has at least 2 columns\n",
    "            reviews.append(row[1])  # Assuming the reviews are in the second column\n",
    "\n",
    "# Tokenization and Part-of-Speech Tagging\n",
    "tokenized_reviews = [wordpunct_tokenize(review.lower()) for review in reviews]\n",
    "\n",
    "# Phrase Extraction (using bi-grams as an example)\n",
    "phrases = []\n",
    "for review in tokenized_reviews:\n",
    "    phrases.extend(nltk.ngrams(review, 2))  # Change 2 to desired n-gram size\n",
    "\n",
    "# Sentiment Polarity Assignment (using NLTK's SentimentIntensityAnalyzer)\n",
    "sia = SentimentIntensityAnalyzer()\n",
    "phrase_sentiments = {}\n",
    "for phrase in phrases:\n",
    "    sentiment_score = sia.polarity_scores(' '.join(phrase))\n",
    "    # Assuming sentiment_score is a dictionary with keys: 'neg', 'neu', 'pos', 'compound'\n",
    "    # You need to define your own logic to determine polarity based on these scores\n",
    "    if sentiment_score['compound'] >= 0:\n",
    "        phrase_sentiments[phrase] = 'positive'\n",
    "    else:\n",
    "        phrase_sentiments[phrase] = 'negative'\n",
    "\n",
    "# Review Rating\n",
    "review_ratings = []\n",
    "for review in tokenized_reviews:\n",
    "    review_sentiment = [phrase_sentiments.get(phrase, 'neutral') for phrase in nltk.ngrams(review, 2)]\n",
    "    # Calculate average sentiment polarity of the review\n",
    "    avg_sentiment = sum(1 if sentiment == 'positive' else -1 if sentiment == 'negative' else 0 for sentiment in review_sentiment) / len(review_sentiment)\n",
    "    review_ratings.append(avg_sentiment)\n",
    "\n",
    "print(review_ratings)"
   ]
  }
 ],
 "metadata": {
  "kernelspec": {
   "display_name": "Python 3 (ipykernel)",
   "language": "python",
   "name": "python3"
  },
  "language_info": {
   "codemirror_mode": {
    "name": "ipython",
    "version": 3
   },
   "file_extension": ".py",
   "mimetype": "text/x-python",
   "name": "python",
   "nbconvert_exporter": "python",
   "pygments_lexer": "ipython3",
   "version": "3.11.3"
  }
 },
 "nbformat": 4,
 "nbformat_minor": 5
}

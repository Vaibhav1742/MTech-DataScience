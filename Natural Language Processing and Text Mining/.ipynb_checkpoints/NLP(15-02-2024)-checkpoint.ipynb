{
 "cells": [
  {
   "cell_type": "markdown",
   "metadata": {
    "id": "lqhkzjOWgyzY"
   },
   "source": [
    "# Turney Algorithm"
   ]
  },
  {
   "cell_type": "code",
   "execution_count": 1,
   "metadata": {
    "id": "Gac9KA5y7ynI"
   },
   "outputs": [],
   "source": [
    "import numpy as np\n",
    "import pandas as pd\n",
    "import matplotlib.pyplot as plt\n",
    "import seaborn as sns\n",
    "import regex"
   ]
  },
  {
   "cell_type": "code",
   "execution_count": 2,
   "metadata": {
    "id": "FEliKSsq8Cg9"
   },
   "outputs": [],
   "source": [
    "import nltk\n",
    "from nltk.corpus import stopwords"
   ]
  },
  {
   "cell_type": "code",
   "execution_count": 3,
   "metadata": {
    "colab": {
     "base_uri": "https://localhost:8080/"
    },
    "id": "_JMY3M819CqZ",
    "outputId": "2832efed-15ab-4567-91a8-8af0d98d31da"
   },
   "outputs": [
    {
     "name": "stderr",
     "output_type": "stream",
     "text": [
      "[nltk_data] Downloading package stopwords to\n",
      "[nltk_data]     C:\\Users\\raval\\AppData\\Roaming\\nltk_data...\n",
      "[nltk_data]   Package stopwords is already up-to-date!\n"
     ]
    },
    {
     "data": {
      "text/plain": [
       "True"
      ]
     },
     "execution_count": 3,
     "metadata": {},
     "output_type": "execute_result"
    }
   ],
   "source": [
    "nltk.download('stopwords')"
   ]
  },
  {
   "cell_type": "code",
   "execution_count": 4,
   "metadata": {
    "colab": {
     "base_uri": "https://localhost:8080/"
    },
    "id": "MbJxe87y-xrY",
    "outputId": "596d840d-ec93-4f54-8c27-d69ea5b334f1"
   },
   "outputs": [
    {
     "name": "stderr",
     "output_type": "stream",
     "text": [
      "[nltk_data] Error loading tokenize: Package 'tokenize' not found in\n",
      "[nltk_data]     index\n"
     ]
    },
    {
     "data": {
      "text/plain": [
       "False"
      ]
     },
     "execution_count": 4,
     "metadata": {},
     "output_type": "execute_result"
    }
   ],
   "source": [
    "nltk.download('tokenize')"
   ]
  },
  {
   "cell_type": "code",
   "execution_count": 5,
   "metadata": {
    "colab": {
     "base_uri": "https://localhost:8080/"
    },
    "id": "IkTtBd3D-9mP",
    "outputId": "e059821b-60fd-4e84-e5ea-de74c7c1cdfe"
   },
   "outputs": [
    {
     "name": "stderr",
     "output_type": "stream",
     "text": [
      "[nltk_data] Downloading package punkt to\n",
      "[nltk_data]     C:\\Users\\raval\\AppData\\Roaming\\nltk_data...\n",
      "[nltk_data]   Package punkt is already up-to-date!\n"
     ]
    },
    {
     "data": {
      "text/plain": [
       "True"
      ]
     },
     "execution_count": 5,
     "metadata": {},
     "output_type": "execute_result"
    }
   ],
   "source": [
    "nltk.download('punkt')"
   ]
  },
  {
   "cell_type": "code",
   "execution_count": 6,
   "metadata": {
    "colab": {
     "base_uri": "https://localhost:8080/"
    },
    "id": "FUllC9GY_T2f",
    "outputId": "188cf752-dfa2-47e2-fd85-9a0b1b7af460"
   },
   "outputs": [
    {
     "name": "stderr",
     "output_type": "stream",
     "text": [
      "[nltk_data] Downloading package averaged_perceptron_tagger to\n",
      "[nltk_data]     C:\\Users\\raval\\AppData\\Roaming\\nltk_data...\n",
      "[nltk_data]   Package averaged_perceptron_tagger is already up-to-\n",
      "[nltk_data]       date!\n"
     ]
    },
    {
     "data": {
      "text/plain": [
       "True"
      ]
     },
     "execution_count": 6,
     "metadata": {},
     "output_type": "execute_result"
    }
   ],
   "source": [
    "nltk.download('averaged_perceptron_tagger')"
   ]
  },
  {
   "cell_type": "code",
   "execution_count": 19,
   "metadata": {
    "colab": {
     "base_uri": "https://localhost:8080/"
    },
    "id": "QGY5wsVX-WrA",
    "outputId": "1c352e31-c300-49b3-a61e-8908fde0ad04"
   },
   "outputs": [
    {
     "name": "stdout",
     "output_type": "stream",
     "text": [
      "[('Three', 'CD'), ('or', 'CC'), ('four', 'CD'), ('switches', 'NNS'), ('have', 'VBP'), ('stopped', 'VBN'), ('working', 'VBG'), (',', ','), ('and', 'CC'), ('one', 'CD'), ('switch', 'NN'), (\"'s\", 'POS'), ('LED', 'NNP'), ('light', 'NN'), ('also', 'RB'), ('stopped', 'VBD'), ('suddenly', 'RB'), ('after', 'IN'), ('exactly', 'RB'), ('one', 'CD'), ('year', 'NN'), ('of', 'IN'), ('buying', 'VBG'), ('it', 'PRP'), ('.', '.'), ('It', 'PRP'), (\"'s\", 'VBZ'), ('important', 'JJ'), ('to', 'TO'), ('note', 'VB'), ('that', 'IN'), ('the', 'DT'), ('service', 'NN'), ('center', 'NN'), ('is', 'VBZ'), ('only', 'RB'), ('located', 'VBN'), ('in', 'IN'), ('Mumbai', 'NNP'), (',', ','), ('which', 'WDT'), ('means', 'VBZ'), ('it', 'PRP'), ('may', 'MD'), ('be', 'VB'), ('difficult', 'JJ'), ('to', 'TO'), ('get', 'VB'), ('help', 'VB'), ('if', 'IN'), ('you', 'PRP'), (\"'re\", 'VBP'), ('not', 'RB'), ('in', 'IN'), ('that', 'DT'), ('area', 'NN'), ('.', '.'), ('Based', 'VBN'), ('on', 'IN'), ('these', 'DT'), ('issues', 'NNS'), (',', ','), ('it', 'PRP'), ('is', 'VBZ'), ('strongly', 'RB'), ('not', 'RB'), ('recommended', 'VBN'), ('to', 'TO'), ('purchase', 'VB'), ('this', 'DT'), ('product.Think', 'NN'), ('before', 'IN'), ('buying', 'NN'), ('.', '.'), ('Only', 'RB'), ('after', 'IN'), ('one', 'CD'), ('month', 'NN'), ('of', 'IN'), ('usage', 'NN'), ('the', 'DT'), ('T', 'NNP'), ('key', 'NN'), ('has', 'VBZ'), ('started', 'VBN'), ('giving', 'VBG'), ('issues', 'NNS'), (',', ','), ('at', 'IN'), ('some', 'DT'), ('cases', 'NNS'), ('it', 'PRP'), ('takes', 'VBZ'), ('3', 'CD'), ('looooooong', 'JJ'), ('presses', 'NNS'), ('for', 'IN'), ('the', 'DT'), ('T', 'NNP'), ('o', 'NN'), ('appear', 'NN'), ('.', '.'), ('For', 'IN'), ('this', 'DT'), ('review', 'NN'), ('also', 'RB'), ('I', 'PRP'), ('am', 'VBP'), ('trying', 'VBG'), ('o', 'JJ'), ('press', 'NN'), ('hard', 'RB'), ('on', 'IN'), ('he', 'PRP'), ('key', 'JJ'), ('o', 'JJ'), ('make', 'NN'), ('i', 'NN'), ('work', 'NN'), ('.', '.'), ('But', 'CC'), ('all', 'DT'), ('he', 'PRP'), ('places', 'VBZ'), ('you', 'PRP'), ('are', 'VBP'), ('no', 'DT'), ('seeing', 'VBG'), ('the', 'DT'), (\"'T\", 'NNP'), (\"'\", 'POS'), ('means', 'NNS'), (',', ','), ('it', 'PRP'), ('didnt', 'VBZ'), ('come', 'VBN'), ('even', 'RB'), ('afer', 'VB'), ('trying', 'VBG'), ('more', 'JJR'), ('than', 'IN'), ('thrice', 'NN'), ('.', '.'), ('Invest', 'NNP'), ('in', 'IN'), ('a', 'DT'), ('better', 'JJR'), ('one', 'CD'), ('if', 'IN'), ('you', 'PRP'), ('are', 'VBP'), ('really', 'RB'), ('looking', 'VBG'), ('for', 'IN'), ('a', 'DT'), ('long', 'JJ'), ('lasting', 'JJ'), ('keyboard', 'NN'), ('.', '.'), ('Having', 'NNP'), ('said', 'VBD'), ('that', 'IN'), (',', ','), ('the', 'DT'), ('look', 'NN'), ('and', 'CC'), ('feel', 'NN'), ('is', 'VBZ'), ('amazing', 'VBG'), ('but', 'CC'), ('wha', 'NN'), (\"'s\", 'POS'), ('the', 'DT'), ('need', 'NN'), ('when', 'WRB'), ('he', 'PRP'), ('keys', 'VB'), ('do', 'VBP'), ('not', 'RB'), ('work.After', 'VB'), ('getting', 'VBG'), ('to', 'TO'), ('Keyboard', 'NNP'), ('I', 'PRP'), ('had', 'VBD'), ('a', 'DT'), ('problem', 'NN'), ('with', 'IN'), ('LED', 'NNP'), ('which', 'WDT'), ('is', 'VBZ'), ('not', 'RB'), ('working', 'VBG'), ('and', 'CC'), ('keys', 'NNS'), ('are', 'VBP'), ('getting', 'VBG'), ('stuck', 'VBN'), ('in', 'IN'), ('between', 'IN'), ('.', '.'), ('while', 'IN'), ('claiming', 'VBG'), ('warranty', 'NN'), ('is', 'VBZ'), ('very', 'RB'), ('hard', 'JJ'), ('task', 'NN'), ('.', '.'), ('You', 'PRP'), ('have', 'VBP'), ('to', 'TO'), ('courier', 'JJR'), ('and', 'CC'), ('all', 'DT'), ('.', '.')]\n"
     ]
    }
   ],
   "source": [
    "text = \"Three or four switches have stopped working, and one switch's LED light also stopped suddenly after exactly one year of buying it. It's important to note that the service center is only located in Mumbai, which means it may be difficult to get help if you're not in that area. Based on these issues, it is strongly not recommended to purchase this product.Think before buying. Only after one month of usage the T key has started giving issues, at some cases it takes 3 looooooong presses for the T o appear. For this review also I am trying o press hard on he key o make i work. But all he places you are no seeing the 'T' means, it didnt come even afer trying more than thrice. Invest in a better one if you are really looking for a long lasting keyboard. Having said that, the look and feel is amazing but wha's the need when he keys do not work.After getting to Keyboard I had a problem with LED which is not working and keys are getting stuck in between. while claiming warranty is very hard task. You have to courier and all.\"\n",
    "words = nltk.word_tokenize(text)\n",
    "tags = nltk.pos_tag(words)\n",
    "print(tags)\n"
   ]
  },
  {
   "cell_type": "code",
   "execution_count": 20,
   "metadata": {
    "colab": {
     "base_uri": "https://localhost:8080/"
    },
    "id": "3eOcv4Tl_0N8",
    "outputId": "4a8dfc12-599e-4c4d-a389-ffd3d29afad5"
   },
   "outputs": [
    {
     "name": "stdout",
     "output_type": "stream",
     "text": [
      "[('Three', 'or'), ('or', 'four'), ('four', 'switches'), ('switches', 'have'), ('have', 'stopped'), ('stopped', 'working'), ('working', ','), (',', 'and'), ('and', 'one'), ('one', 'switch'), ('switch', \"'s\"), (\"'s\", 'LED'), ('LED', 'light'), ('light', 'also'), ('also', 'stopped'), ('stopped', 'suddenly'), ('suddenly', 'after'), ('after', 'exactly'), ('exactly', 'one'), ('one', 'year'), ('year', 'of'), ('of', 'buying'), ('buying', 'it'), ('it', '.'), ('.', 'It'), ('It', \"'s\"), (\"'s\", 'important'), ('important', 'to'), ('to', 'note'), ('note', 'that'), ('that', 'the'), ('the', 'service'), ('service', 'center'), ('center', 'is'), ('is', 'only'), ('only', 'located'), ('located', 'in'), ('in', 'Mumbai'), ('Mumbai', ','), (',', 'which'), ('which', 'means'), ('means', 'it'), ('it', 'may'), ('may', 'be'), ('be', 'difficult'), ('difficult', 'to'), ('to', 'get'), ('get', 'help'), ('help', 'if'), ('if', 'you'), ('you', \"'re\"), (\"'re\", 'not'), ('not', 'in'), ('in', 'that'), ('that', 'area'), ('area', '.'), ('.', 'Based'), ('Based', 'on'), ('on', 'these'), ('these', 'issues'), ('issues', ','), (',', 'it'), ('it', 'is'), ('is', 'strongly'), ('strongly', 'not'), ('not', 'recommended'), ('recommended', 'to'), ('to', 'purchase'), ('purchase', 'this'), ('this', 'product.Think'), ('product.Think', 'before'), ('before', 'buying'), ('buying', '.'), ('.', 'Only'), ('Only', 'after'), ('after', 'one'), ('one', 'month'), ('month', 'of'), ('of', 'usage'), ('usage', 'the'), ('the', 'T'), ('T', 'key'), ('key', 'has'), ('has', 'started'), ('started', 'giving'), ('giving', 'issues'), ('issues', ','), (',', 'at'), ('at', 'some'), ('some', 'cases'), ('cases', 'it'), ('it', 'takes'), ('takes', '3'), ('3', 'looooooong'), ('looooooong', 'presses'), ('presses', 'for'), ('for', 'the'), ('the', 'T'), ('T', 'o'), ('o', 'appear'), ('appear', '.'), ('.', 'For'), ('For', 'this'), ('this', 'review'), ('review', 'also'), ('also', 'I'), ('I', 'am'), ('am', 'trying'), ('trying', 'o'), ('o', 'press'), ('press', 'hard'), ('hard', 'on'), ('on', 'he'), ('he', 'key'), ('key', 'o'), ('o', 'make'), ('make', 'i'), ('i', 'work'), ('work', '.'), ('.', 'But'), ('But', 'all'), ('all', 'he'), ('he', 'places'), ('places', 'you'), ('you', 'are'), ('are', 'no'), ('no', 'seeing'), ('seeing', 'the'), ('the', \"'T\"), (\"'T\", \"'\"), (\"'\", 'means'), ('means', ','), (',', 'it'), ('it', 'didnt'), ('didnt', 'come'), ('come', 'even'), ('even', 'afer'), ('afer', 'trying'), ('trying', 'more'), ('more', 'than'), ('than', 'thrice'), ('thrice', '.'), ('.', 'Invest'), ('Invest', 'in'), ('in', 'a'), ('a', 'better'), ('better', 'one'), ('one', 'if'), ('if', 'you'), ('you', 'are'), ('are', 'really'), ('really', 'looking'), ('looking', 'for'), ('for', 'a'), ('a', 'long'), ('long', 'lasting'), ('lasting', 'keyboard'), ('keyboard', '.'), ('.', 'Having'), ('Having', 'said'), ('said', 'that'), ('that', ','), (',', 'the'), ('the', 'look'), ('look', 'and'), ('and', 'feel'), ('feel', 'is'), ('is', 'amazing'), ('amazing', 'but'), ('but', 'wha'), ('wha', \"'s\"), (\"'s\", 'the'), ('the', 'need'), ('need', 'when'), ('when', 'he'), ('he', 'keys'), ('keys', 'do'), ('do', 'not'), ('not', 'work.After'), ('work.After', 'getting'), ('getting', 'to'), ('to', 'Keyboard'), ('Keyboard', 'I'), ('I', 'had'), ('had', 'a'), ('a', 'problem'), ('problem', 'with'), ('with', 'LED'), ('LED', 'which'), ('which', 'is'), ('is', 'not'), ('not', 'working'), ('working', 'and'), ('and', 'keys'), ('keys', 'are'), ('are', 'getting'), ('getting', 'stuck'), ('stuck', 'in'), ('in', 'between'), ('between', '.'), ('.', 'while'), ('while', 'claiming'), ('claiming', 'warranty'), ('warranty', 'is'), ('is', 'very'), ('very', 'hard'), ('hard', 'task'), ('task', '.'), ('.', 'You'), ('You', 'have'), ('have', 'to'), ('to', 'courier'), ('courier', 'and'), ('and', 'all'), ('all', '.')]\n"
     ]
    }
   ],
   "source": [
    "from nltk import bigrams\n",
    "bigrams = list(bigrams(words))\n",
    "print(bigrams)"
   ]
  },
  {
   "cell_type": "markdown",
   "metadata": {
    "id": "HDnml5BfKCa7"
   },
   "source": [
    "JJ-NN/NNS\n",
    "RB/RBR/RBS-JJ"
   ]
  },
  {
   "cell_type": "code",
   "execution_count": 21,
   "metadata": {
    "colab": {
     "base_uri": "https://localhost:8080/"
    },
    "id": "aMgW0E5iH8Rw",
    "outputId": "b184db35-db8b-43a0-d93a-be4c34679997"
   },
   "outputs": [
    {
     "name": "stdout",
     "output_type": "stream",
     "text": [
      "('also', 'stopped')\n",
      "('only', 'located')\n",
      "('not', 'recommended')\n",
      "('looooooong', 'presses')\n",
      "('o', 'press')\n",
      "('key', 'o')\n",
      "('o', 'make')\n",
      "('even', 'afer')\n",
      "('really', 'looking')\n",
      "('long', 'lasting')\n",
      "('lasting', 'keyboard')\n",
      "('not', 'work.After')\n",
      "('not', 'working')\n",
      "('very', 'hard')\n",
      "('hard', 'task')\n"
     ]
    }
   ],
   "source": [
    "def filter_bigrams(tags):\n",
    "    filtered_bigrams = []\n",
    "    for i in range(len(tags) - 1):\n",
    "        first_word, first_tag = tags[i]\n",
    "        second_word, second_tag = tags[i + 1]\n",
    "\n",
    "        if (first_tag.startswith('JJ') and second_tag in ['NN', 'NNS']) \\\n",
    "            or (first_tag in ['RB', 'RBR', 'RBS'] and second_tag.startswith('JJ') and not (second_tag == 'NN' or second_tag == 'NNS')) \\\n",
    "            or (first_tag.startswith('JJ') and second_tag.startswith('JJ') and not (second_tag == 'NN' or second_tag == 'NNS')) \\\n",
    "            or ((first_tag == 'NN' or first_tag == 'NNS') and second_tag.startswith('JJ') and not (second_tag == 'NN' or second_tag == 'NNS')) \\\n",
    "            or (first_tag in ['RB', 'RBR', 'RBS'] and second_tag.startswith('VB') and second_tag != 'NNS'):\n",
    "            filtered_bigrams.append((first_word, second_word))\n",
    "    return filtered_bigrams\n",
    "\n",
    "filtered_bigrams = filter_bigrams(tags)\n",
    "\n",
    "for bigram in filtered_bigrams:\n",
    "  print(bigram)"
   ]
  },
  {
   "cell_type": "code",
   "execution_count": 22,
   "metadata": {
    "colab": {
     "base_uri": "https://localhost:8080/"
    },
    "id": "3hgQ0gG_Lg3N",
    "outputId": "085e9778-8b9d-4e81-ce02-74250646c429"
   },
   "outputs": [
    {
     "name": "stdout",
     "output_type": "stream",
     "text": [
      "('also', 'stopped'): 3.9889840465642745\n",
      "('only', 'located'): 5.375278407684165\n",
      "('not', 'recommended'): 3.9889840465642745\n",
      "('looooooong', 'presses'): 5.375278407684165\n",
      "('o', 'press'): 4.276666119016055\n",
      "('key', 'o'): 3.58351893845611\n",
      "('o', 'make'): 4.276666119016055\n",
      "('even', 'afer'): 5.375278407684165\n",
      "('really', 'looking'): 5.375278407684165\n",
      "('long', 'lasting'): 5.375278407684165\n",
      "('lasting', 'keyboard'): 5.375278407684165\n",
      "('not', 'work.After'): 3.9889840465642745\n",
      "('not', 'working'): 3.295836866004329\n",
      "('very', 'hard'): 4.68213122712422\n",
      "('hard', 'task'): 4.68213122712422\n"
     ]
    }
   ],
   "source": [
    "from nltk.probability import FreqDist\n",
    "from math import log\n",
    "\n",
    "def compute_pmi(filtered_bigrams, words):\n",
    "  pmi_dict = {}\n",
    "  word_freq = FreqDist(words)\n",
    "  bigram_freq = FreqDist(filtered_bigrams)\n",
    "  for bigram in filtered_bigrams:\n",
    "    word1, word2 = bigram\n",
    "    pmi = log((bigram_freq[bigram] * len(words)) / (word_freq[word1] * word_freq[word2]))\n",
    "    pmi_dict[bigram] = pmi\n",
    "  return pmi_dict\n",
    "\n",
    "pmi_dict = compute_pmi(filtered_bigrams, words)\n",
    "\n",
    "for bigram, pmi in pmi_dict.items():\n",
    "  print(f\"{bigram}: {pmi}\")\n"
   ]
  },
  {
   "cell_type": "code",
   "execution_count": 23,
   "metadata": {
    "colab": {
     "base_uri": "https://localhost:8080/"
    },
    "id": "APMyObnqPTbU",
    "outputId": "ae722883-024b-4a88-dcdf-72422a9cc38a"
   },
   "outputs": [
    {
     "name": "stdout",
     "output_type": "stream",
     "text": [
      "Positive Bigrams:\n",
      "\n",
      "Negative Bigrams:\n",
      "('also', 'stopped'): 3.9889840465642745\n",
      "('not', 'recommended'): 3.9889840465642745\n",
      "('not', 'work.After'): 3.9889840465642745\n",
      "('not', 'working'): 3.295836866004329\n"
     ]
    }
   ],
   "source": [
    "positive_words = [\"good\", \"great\", \"excellent\", \"amazing\", \"wonderful\"]\n",
    "negative_words = [\"not\", \"stopped\", \"difficult\", \"horrible\", \"Problem\"]\n",
    "positive_bigrams = [bigram for bigram in filtered_bigrams if bigram[0] in positive_words or bigram[1] in positive_words]\n",
    "negative_bigrams = [bigram for bigram in filtered_bigrams if bigram[0] in negative_words or bigram[1] in negative_words]\n",
    "positive_pmi_dict = compute_pmi(positive_bigrams, words)\n",
    "negative_pmi_dict = compute_pmi(negative_bigrams, words)\n",
    "print(\"Positive Bigrams:\")\n",
    "for bigram, pmi in positive_pmi_dict.items():\n",
    "  print(f\"{bigram}: {pmi}\")\n",
    "\n",
    "print(\"\\nNegative Bigrams:\")\n",
    "for bigram, pmi in negative_pmi_dict.items():\n",
    "  print(f\"{bigram}: {pmi}\")"
   ]
  },
  {
   "cell_type": "code",
   "execution_count": 24,
   "metadata": {
    "colab": {
     "base_uri": "https://localhost:8080/"
    },
    "id": "HLoXgmFgQLkF",
    "outputId": "b30807ba-6caf-4936-a9a6-71bec138b72c"
   },
   "outputs": [
    {
     "name": "stdout",
     "output_type": "stream",
     "text": [
      "Average PMI for positive bigrams: 0.0\n",
      "Average PMI for negative bigrams: 3.815697251424288\n",
      "The overall sentiment of the text is negative.\n"
     ]
    }
   ],
   "source": [
    "positive_avg_pmi = sum(pmi for pmi in positive_pmi_dict.values()) / 1\n",
    "negative_avg_pmi = sum(pmi for pmi in negative_pmi_dict.values()) / len(negative_pmi_dict)\n",
    "\n",
    "print(\"Average PMI for positive bigrams:\", positive_avg_pmi)\n",
    "print(\"Average PMI for negative bigrams:\", negative_avg_pmi)\n",
    "if positive_avg_pmi > negative_avg_pmi:\n",
    "  print(\"The overall sentiment of the text is positive.\")\n",
    "else:\n",
    "  print(\"The overall sentiment of the text is negative.\")"
   ]
  },
  {
   "cell_type": "code",
   "execution_count": null,
   "metadata": {
    "id": "LxXDTUn7g_EA"
   },
   "outputs": [],
   "source": []
  },
  {
   "cell_type": "code",
   "execution_count": null,
   "metadata": {},
   "outputs": [],
   "source": []
  }
 ],
 "metadata": {
  "colab": {
   "provenance": []
  },
  "kernelspec": {
   "display_name": "Python 3 (ipykernel)",
   "language": "python",
   "name": "python3"
  },
  "language_info": {
   "codemirror_mode": {
    "name": "ipython",
    "version": 3
   },
   "file_extension": ".py",
   "mimetype": "text/x-python",
   "name": "python",
   "nbconvert_exporter": "python",
   "pygments_lexer": "ipython3",
   "version": "3.11.3"
  }
 },
 "nbformat": 4,
 "nbformat_minor": 1
}

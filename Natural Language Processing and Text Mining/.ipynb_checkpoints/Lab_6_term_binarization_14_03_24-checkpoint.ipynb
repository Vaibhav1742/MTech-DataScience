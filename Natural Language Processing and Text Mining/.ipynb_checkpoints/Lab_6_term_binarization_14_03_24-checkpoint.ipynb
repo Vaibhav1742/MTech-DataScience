{
 "cells": [
  {
   "cell_type": "code",
   "execution_count": 3,
   "id": "f7b82aed",
   "metadata": {},
   "outputs": [],
   "source": [
    "d1= '''being an at from that are a they be or such for does same were she you the us am been then to we none may other all she how'''\n",
    "d2= '''does with had was she or and has are from an could same be is they must you when the am I you of being do were what such some'''\n",
    "d3= '''any where he who it so would do there they how it she could with a an have we more by this in when or might had you does from'''\n",
    "d4= '''he they more has how for may by same what I here from were a on there at we where does such none could any it with some to do'''\n",
    "d5= '''had many could will some would and I they the must been that such he who she then when are was why in do so where of being it might'''\n",
    "d6= '''might be such he for he none how did I you we because should is will she at where it a the in us been have does any there on'''"
   ]
  },
  {
   "cell_type": "code",
   "execution_count": 5,
   "id": "2270229c",
   "metadata": {},
   "outputs": [],
   "source": [
    "# set(d1)"
   ]
  },
  {
   "cell_type": "code",
   "execution_count": 7,
   "id": "1d9e1452",
   "metadata": {},
   "outputs": [
    {
     "name": "stdout",
     "output_type": "stream",
     "text": [
      "Unique Words\tdoc1\tdoc2\tdoc3\tdoc4\tdoc5\tdoc6\t\n",
      "should\t0\t0\t0\t0\t0\t1\t\n",
      "an\t1\t1\t1\t0\t0\t0\t\n",
      "how\t1\t0\t1\t1\t0\t1\t\n",
      "you\t1\t1\t1\t0\t0\t1\t\n",
      "here\t0\t0\t0\t1\t0\t0\t\n",
      "because\t0\t0\t0\t0\t0\t1\t\n",
      "be\t1\t1\t0\t0\t0\t1\t\n",
      "same\t1\t1\t0\t1\t0\t0\t\n",
      "she\t1\t1\t1\t0\t1\t1\t\n",
      "been\t1\t0\t0\t0\t1\t1\t\n",
      "to\t1\t0\t0\t1\t0\t0\t\n",
      "had\t0\t1\t1\t0\t1\t0\t\n",
      "has\t0\t1\t0\t1\t0\t0\t\n",
      "are\t1\t1\t0\t0\t1\t0\t\n",
      "other\t1\t0\t0\t0\t0\t0\t\n",
      "at\t1\t0\t0\t1\t0\t1\t\n",
      "do\t0\t1\t1\t1\t1\t0\t\n",
      "on\t0\t0\t0\t1\t0\t1\t\n",
      "a\t1\t0\t1\t1\t0\t1\t\n",
      "us\t1\t0\t0\t0\t0\t1\t\n",
      "was\t0\t1\t0\t0\t1\t0\t\n",
      "none\t1\t0\t0\t1\t0\t1\t\n",
      "of\t0\t1\t0\t0\t1\t0\t\n",
      "with\t0\t1\t1\t1\t0\t0\t\n",
      "it\t0\t0\t1\t1\t1\t1\t\n",
      "would\t0\t0\t1\t0\t1\t0\t\n",
      "must\t0\t1\t0\t0\t1\t0\t\n",
      "he\t0\t0\t1\t1\t1\t1\t\n",
      "could\t0\t1\t1\t1\t1\t0\t\n",
      "then\t1\t0\t0\t0\t1\t0\t\n",
      "there\t0\t0\t1\t1\t0\t1\t\n",
      "some\t0\t1\t0\t1\t1\t0\t\n",
      "all\t1\t0\t0\t0\t0\t0\t\n",
      "they\t1\t1\t1\t1\t1\t0\t\n",
      "many\t0\t0\t0\t0\t1\t0\t\n",
      "may\t1\t0\t0\t1\t0\t0\t\n",
      "is\t0\t1\t0\t0\t0\t1\t\n",
      "the\t1\t1\t0\t0\t1\t1\t\n",
      "this\t0\t0\t1\t0\t0\t0\t\n",
      "by\t0\t0\t1\t1\t0\t0\t\n",
      "so\t0\t0\t1\t0\t1\t0\t\n",
      "will\t0\t0\t0\t0\t1\t1\t\n",
      "or\t1\t1\t1\t0\t0\t0\t\n",
      "were\t1\t1\t0\t1\t0\t0\t\n",
      "when\t0\t1\t1\t0\t1\t0\t\n",
      "more\t0\t0\t1\t1\t0\t0\t\n",
      "did\t0\t0\t0\t0\t0\t1\t\n",
      "in\t0\t0\t1\t0\t1\t1\t\n",
      "that\t1\t0\t0\t0\t1\t0\t\n",
      "am\t1\t1\t0\t0\t0\t0\t\n",
      "I\t0\t1\t0\t1\t1\t1\t\n",
      "we\t1\t0\t1\t1\t0\t1\t\n",
      "might\t0\t0\t1\t0\t1\t1\t\n",
      "and\t0\t1\t0\t0\t1\t0\t\n",
      "from\t1\t1\t1\t1\t0\t0\t\n",
      "being\t1\t1\t0\t0\t1\t0\t\n",
      "any\t0\t0\t1\t1\t0\t1\t\n",
      "have\t0\t0\t1\t0\t0\t1\t\n",
      "where\t0\t0\t1\t1\t1\t1\t\n",
      "does\t1\t1\t1\t1\t0\t1\t\n",
      "such\t1\t1\t0\t1\t1\t1\t\n",
      "what\t0\t1\t0\t1\t0\t0\t\n",
      "why\t0\t0\t0\t0\t1\t0\t\n",
      "who\t0\t0\t1\t0\t1\t0\t\n",
      "for\t1\t0\t0\t1\t0\t1\t\n"
     ]
    }
   ],
   "source": [
    "# List of documents\n",
    "documents = [d1, d2, d3, d4, d5, d6]\n",
    "\n",
    "# Function to create the table\n",
    "def create_table(documents):\n",
    "    # Initialize an empty set for unique words\n",
    "    unique_words = set()\n",
    "\n",
    "    # Add unique words from each document to the set\n",
    "    for doc in documents:\n",
    "        unique_words.update(doc.split())\n",
    "\n",
    "    # Creating the table\n",
    "    table = {}\n",
    "    for word in unique_words:\n",
    "        table[word] = [1 if word in doc.split() else 0 for doc in documents]\n",
    "    return table\n",
    "\n",
    "# Create the table\n",
    "table = create_table(documents)\n",
    "\n",
    "# Print the table\n",
    "print(\"Unique Words\\t\", end=\"\")\n",
    "for i in range(1, 7):\n",
    "    print(f\"doc{i}\\t\", end=\"\")\n",
    "print()\n",
    "\n",
    "for word, occurrences in table.items():\n",
    "    print(f\"{word}\\t\", end=\"\")\n",
    "    for occurrence in occurrences:\n",
    "        print(f\"{occurrence}\\t\", end=\"\")\n",
    "    print()"
   ]
  },
  {
   "cell_type": "code",
   "execution_count": 37,
   "id": "03178522",
   "metadata": {},
   "outputs": [
    {
     "name": "stdout",
     "output_type": "stream",
     "text": [
      "   Unique Words  d1  d2  d3  d4  d5  d6\n",
      "0        should   0   0   0   0   0   1\n",
      "1            an   1   1   1   0   0   0\n",
      "2           how   1   0   1   1   0   1\n",
      "3           you   1   1   1   0   0   1\n",
      "4          here   0   0   0   1   0   0\n",
      "..          ...  ..  ..  ..  ..  ..  ..\n",
      "60         such   1   1   0   1   1   1\n",
      "61         what   0   1   0   1   0   0\n",
      "62          why   0   0   0   0   1   0\n",
      "63          who   0   0   1   0   1   0\n",
      "64          for   1   0   0   1   0   1\n",
      "\n",
      "[65 rows x 7 columns]\n"
     ]
    }
   ],
   "source": [
    "import pandas as pd\n",
    "\n",
    "# Document strings\n",
    "d1 = '''being an at from that are a they be or such for does same were she you the us am been then to we none may other all she how'''\n",
    "d2 = '''does with had was she or and has are from an could same be is they must you when the am I you of being do were what such some'''\n",
    "d3 = '''any where he who it so would do there they how it she could with a an have we more by this in when or might had you does from'''\n",
    "d4 = '''he they more has how for may by same what I here from were a on there at we where does such none could any it with some to do'''\n",
    "d5 = '''had many could will some would and I they the must been that such he who she then when are was why in do so where of being it might'''\n",
    "d6 = '''might be such he for he none how did I you we because should is will she at where it a the in us been have does any there on'''\n",
    "\n",
    "# List of document strings\n",
    "d = [d1, d2, d3, d4, d5, d6]\n",
    "\n",
    "# Initialize an empty set for unique words\n",
    "unique_words = set()\n",
    "\n",
    "# Add unique words from each document to the set\n",
    "for i in d:\n",
    "    unique_words.update(i.split())\n",
    "\n",
    "# Create an empty DataFrame\n",
    "df = pd.DataFrame(columns=['Unique Words'] + [f\"d{i}\" for i in range(1, 7)])\n",
    "\n",
    "# Iterate over unique words to populate the DataFrame\n",
    "for word in unique_words:\n",
    "    occurrences = [1 if word in doc.split() else 0 for doc in documents]\n",
    "    df.loc[len(df)] = [word] + occurrences\n",
    "\n",
    "# Display the DataFrame\n",
    "print(df)"
   ]
  },
  {
   "cell_type": "code",
   "execution_count": 41,
   "id": "06b8ff5b",
   "metadata": {},
   "outputs": [
    {
     "data": {
      "text/html": [
       "<div>\n",
       "<style scoped>\n",
       "    .dataframe tbody tr th:only-of-type {\n",
       "        vertical-align: middle;\n",
       "    }\n",
       "\n",
       "    .dataframe tbody tr th {\n",
       "        vertical-align: top;\n",
       "    }\n",
       "\n",
       "    .dataframe thead th {\n",
       "        text-align: right;\n",
       "    }\n",
       "</style>\n",
       "<table border=\"1\" class=\"dataframe\">\n",
       "  <thead>\n",
       "    <tr style=\"text-align: right;\">\n",
       "      <th></th>\n",
       "      <th>Unique Words</th>\n",
       "      <th>d1</th>\n",
       "      <th>d2</th>\n",
       "      <th>d3</th>\n",
       "      <th>d4</th>\n",
       "      <th>d5</th>\n",
       "      <th>d6</th>\n",
       "    </tr>\n",
       "  </thead>\n",
       "  <tbody>\n",
       "  </tbody>\n",
       "</table>\n",
       "</div>"
      ],
      "text/plain": [
       "Empty DataFrame\n",
       "Columns: [Unique Words, d1, d2, d3, d4, d5, d6]\n",
       "Index: []"
      ]
     },
     "execution_count": 41,
     "metadata": {},
     "output_type": "execute_result"
    }
   ],
   "source": [
    "# df[(df['Unique Words'].str.contains('should')) & (df['Unique Words'].str.contains('for')) & (~df['Unique Words'].str.contains('who'))]\n",
    "\n",
    "df[(df['Unique Words'].str.contains('should')) & (df['Unique Words'].str.contains('you'))]"
   ]
  },
  {
   "cell_type": "code",
   "execution_count": 44,
   "id": "a169a11e",
   "metadata": {},
   "outputs": [
    {
     "data": {
      "text/plain": [
       "(  Unique Words  d1  d2  d3  d4  d5  d6\n",
       " 0       should   0   0   0   0   0   1,\n",
       "   Unique Words  d1  d2  d3  d4  d5  d6\n",
       " 3          you   1   1   1   0   0   1)"
      ]
     },
     "execution_count": 44,
     "metadata": {},
     "output_type": "execute_result"
    }
   ],
   "source": [
    "df[(df['Unique Words'].str.contains('should'))],df[(df['Unique Words'].str.contains('you'))]"
   ]
  },
  {
   "cell_type": "code",
   "execution_count": 45,
   "id": "533a97af",
   "metadata": {},
   "outputs": [
    {
     "name": "stdout",
     "output_type": "stream",
     "text": [
      "Columns where both 'should' and 'you' are present:\n",
      "['d6']\n"
     ]
    }
   ],
   "source": [
    "# DataFrames for comparison\n",
    "df_should = {'d1': 0, 'd2': 0, 'd3': 0, 'd4': 0, 'd5': 0, 'd6': 1}\n",
    "df_you = {'d1': 1, 'd2': 1, 'd3': 1, 'd4': 0, 'd5': 0, 'd6': 1}\n",
    "\n",
    "# Documents where 'should' and 'you' are present\n",
    "should_docs = [doc for doc, presence in df_should.items() if presence == 1]\n",
    "you_docs = [doc for doc, presence in df_you.items() if presence == 1]\n",
    "\n",
    "# Columns where both 'should' and 'you' are present\n",
    "common_columns = [doc for doc in should_docs if doc in you_docs]\n",
    "\n",
    "# Display the common columns\n",
    "print(\"Columns where both 'should' and 'you' are present:\")\n",
    "print(common_columns)"
   ]
  },
  {
   "cell_type": "code",
   "execution_count": 53,
   "id": "37cbb797",
   "metadata": {},
   "outputs": [],
   "source": [
    "# def binary_search_query(tokenized_docs, query_words, not_words):\n",
    "#     matching_docs = []\n",
    "#     for i, (words, _) in enumerate(tokenized_docs, start=1):\n",
    "#         if all(word in words for word in query_words) and not any(not_word in words for not_word in not_words):\n",
    "#             matching_docs.append(i)\n",
    "#     return matching_docs\n",
    "\n",
    "# query_words = [\"forms\", \"formula\"]\n",
    "# not_words = [\"track\", \"hundreds\"]\n",
    "# result = binary_search_query(tokenized_docs, query_words, not_words)\n",
    "# print(f\"Documents containing all the words '{', '.join(query_words)}' but not any of '{', '.join(not_words)}': {result}\")"
   ]
  },
  {
   "cell_type": "code",
   "execution_count": 49,
   "id": "8a97a538",
   "metadata": {},
   "outputs": [
    {
     "data": {
      "text/plain": [
       "['should', 'you']"
      ]
     },
     "execution_count": 49,
     "metadata": {},
     "output_type": "execute_result"
    }
   ],
   "source": [
    "query"
   ]
  },
  {
   "cell_type": "code",
   "execution_count": null,
   "id": "03dc2929",
   "metadata": {},
   "outputs": [],
   "source": []
  },
  {
   "cell_type": "code",
   "execution_count": null,
   "id": "c82fc5b3",
   "metadata": {},
   "outputs": [],
   "source": []
  },
  {
   "cell_type": "code",
   "execution_count": null,
   "id": "47d26e3b",
   "metadata": {},
   "outputs": [],
   "source": []
  },
  {
   "cell_type": "code",
   "execution_count": 24,
   "id": "27479b15",
   "metadata": {},
   "outputs": [
    {
     "name": "stdout",
     "output_type": "stream",
     "text": [
      "Enter the word to check: should\n",
      "The word 'should' is not present in document 1.\n",
      "The word 'should' is not present in document 2.\n",
      "The word 'should' is not present in document 3.\n",
      "The word 'should' is not present in document 4.\n",
      "The word 'should' is not present in document 5.\n",
      "The word 'should' is present in document 6.\n"
     ]
    }
   ],
   "source": [
    "def check_word_presence():\n",
    "    word = input(\"Enter the word to check: \")\n",
    "    presence_in_docs = []\n",
    "    for i in range(1, 7):\n",
    "        presence = \"present\" if word in df['Unique Words'].values and df[f\"doc{i}\"][df[df['Unique Words'] == word].index[0]] == 1 else \"not present\"\n",
    "        presence_in_docs.append((i, presence))\n",
    "    for doc_number, presence in presence_in_docs:\n",
    "        print(f\"The word '{word}' is {presence} in document {doc_number}.\")\n",
    "\n",
    "# Example usage\n",
    "check_word_presence()"
   ]
  },
  {
   "cell_type": "code",
   "execution_count": 25,
   "id": "e36a3183",
   "metadata": {},
   "outputs": [
    {
     "name": "stdout",
     "output_type": "stream",
     "text": [
      "Enter the word to check: do\n",
      "The word 'do' is present in document 2.\n",
      "The word 'do' is present in document 3.\n",
      "The word 'do' is present in document 4.\n",
      "The word 'do' is present in document 5.\n"
     ]
    }
   ],
   "source": [
    "def check_word_presence():\n",
    "    word = input(\"Enter the word to check: \")\n",
    "    for i in range(1, 7):\n",
    "        if word in df['Unique Words'].values and df[f\"doc{i}\"][df[df['Unique Words'] == word].index[0]] == 1:\n",
    "            print(f\"The word '{word}' is present in document {i}.\")\n",
    "\n",
    "# Example usage\n",
    "check_word_presence()\n"
   ]
  },
  {
   "cell_type": "code",
   "execution_count": null,
   "id": "fe6dfc94",
   "metadata": {},
   "outputs": [],
   "source": [
    "word = input(\"Enter the word to check: \")\n",
    "for i in range(1, 7):\n",
    "    if word in df['Unique Words'].values and df[f\"doc{i}\"][df[df['Unique Words'] == word].index[0]] == 1:\n",
    "        print(f\"The word '{word}' is present in document {i}.\")"
   ]
  },
  {
   "cell_type": "code",
   "execution_count": 26,
   "id": "cbf901b5",
   "metadata": {},
   "outputs": [
    {
     "name": "stdout",
     "output_type": "stream",
     "text": [
      "Enter the word to check: do\n",
      "yes\n",
      "yes\n",
      "yes\n",
      "yes\n",
      "yes\n",
      "yes\n"
     ]
    }
   ],
   "source": [
    "a = input()\n",
    "for i in range(1, 7):\n",
    "    if word in df['Unique Words'].values :\n",
    "        print(\"yes\")"
   ]
  },
  {
   "cell_type": "code",
   "execution_count": 32,
   "id": "503f50e0",
   "metadata": {},
   "outputs": [
    {
     "name": "stdout",
     "output_type": "stream",
     "text": [
      "Enter the word to check: do\n",
      "2\n",
      "3\n",
      "4\n",
      "5\n"
     ]
    }
   ],
   "source": [
    "word = input(\"Enter the word to check: \")\n",
    "for i in range(1, 7):\n",
    "    index = df[df['Unique Words'] == word].index\n",
    "    if word in df['Unique Words'].values and df.iloc[index[0], i] == 1:\n",
    "        print(i)"
   ]
  },
  {
   "cell_type": "code",
   "execution_count": 36,
   "id": "2b2964d2",
   "metadata": {},
   "outputs": [],
   "source": [
    "# # Document strings\n",
    "# d1 = '''being an at from that are a they be or such for does same were she you the us am been then to we none may other all she how'''\n",
    "# d2 = '''does with had was she or and has are from an could same be is they must you when the am I you of being do were what such some'''\n",
    "# d3 = '''any where he who it so would do there they how it she could with a an have we more by this in when or might had you does from'''\n",
    "# d4 = '''he they more has how for may by same what I here from were a on there at we where does such none could any it with some to do'''\n",
    "# d5 = '''had many could will some would and I they the must been that such he who she then when are was why in do so where of being it might'''\n",
    "# d6 = '''might be such he for he none how did I you we because should is will she at where it a the in us been have does any there on'''\n",
    "\n",
    "# # List of document strings\n",
    "# documents = [d1, d2, d3, d4, d5, d6]\n",
    "\n",
    "# # Create a dictionary to store the document names where each word is present\n",
    "# word_presence = {}\n",
    "\n",
    "# # Iterate over each document\n",
    "# for doc_num, doc_content in enumerate(documents, start=1):\n",
    "#     # Split the document content into words\n",
    "#     words = doc_content.split()\n",
    "#     # Iterate over each word in the document\n",
    "#     for word in words:\n",
    "#         # Check if the word is already present in the dictionary\n",
    "#         if word in word_presence:\n",
    "#             # If present, append the current document name to the list\n",
    "#             word_presence[word].append(f\"doc{doc_num}\")\n",
    "#         else:\n",
    "#             # If not present, create a new list with the current document name\n",
    "#             word_presence[word] = [f\"doc{doc_num}\"]\n",
    "\n",
    "# # Print document names for each word\n",
    "# for word, docs in word_presence.items():\n",
    "#     print(f\"The word '{word}' is present in the following document(s): {', '.join(docs)}\")"
   ]
  },
  {
   "cell_type": "code",
   "execution_count": 35,
   "id": "fd83b2ed",
   "metadata": {},
   "outputs": [
    {
     "name": "stdout",
     "output_type": "stream",
     "text": [
      "       Word         Documents\n",
      "0     being      [d1, d2, d5]\n",
      "1        an      [d1, d2, d3]\n",
      "2        at      [d1, d4, d6]\n",
      "3      from  [d1, d2, d3, d4]\n",
      "4      that          [d1, d5]\n",
      "..      ...               ...\n",
      "60     will          [d5, d6]\n",
      "61      why              [d5]\n",
      "62      did              [d6]\n",
      "63  because              [d6]\n",
      "64   should              [d6]\n",
      "\n",
      "[65 rows x 2 columns]\n"
     ]
    }
   ],
   "source": [
    "import pandas as pd\n",
    "\n",
    "# Document strings\n",
    "d1 = '''being an at from that are a they be or such for does same were she you the us am been then to we none may other all she how'''\n",
    "d2 = '''does with had was she or and has are from an could same be is they must you when the am I you of being do were what such some'''\n",
    "d3 = '''any where he who it so would do there they how it she could with a an have we more by this in when or might had you does from'''\n",
    "d4 = '''he they more has how for may by same what I here from were a on there at we where does such none could any it with some to do'''\n",
    "d5 = '''had many could will some would and I they the must been that such he who she then when are was why in do so where of being it might'''\n",
    "d6 = '''might be such he for he none how did I you we because should is will she at where it a the in us been have does any there on'''\n",
    "\n",
    "# List of document strings\n",
    "documents = [d1, d2, d3, d4, d5, d6]\n",
    "\n",
    "# Create a dictionary to store the document names where each word is present\n",
    "word_presence = {}\n",
    "\n",
    "# Iterate over each document\n",
    "for doc_num, doc_content in enumerate(documents, start=1):\n",
    "    # Split the document content into words\n",
    "    words = doc_content.split()\n",
    "    # Iterate over each word in the document\n",
    "    for word in words:\n",
    "        # Check if the word is already present in the dictionary\n",
    "        if word in word_presence:\n",
    "            # If present, append the current document name to the list\n",
    "            word_presence[word].append(f\"d{doc_num}\")\n",
    "        else:\n",
    "            # If not present, create a new list with the current document name\n",
    "            word_presence[word] = [f\"d{doc_num}\"]\n",
    "\n",
    "# Create a pandas DataFrame from the word_presence dictionary\n",
    "df = pd.DataFrame(word_presence.items(), columns=['Word', 'Documents'])\n",
    "\n",
    "# Display the DataFrame\n",
    "print(df)"
   ]
  },
  {
   "cell_type": "code",
   "execution_count": null,
   "id": "1d9ca0ea",
   "metadata": {},
   "outputs": [],
   "source": []
  }
 ],
 "metadata": {
  "kernelspec": {
   "display_name": "Python 3 (ipykernel)",
   "language": "python",
   "name": "python3"
  },
  "language_info": {
   "codemirror_mode": {
    "name": "ipython",
    "version": 3
   },
   "file_extension": ".py",
   "mimetype": "text/x-python",
   "name": "python",
   "nbconvert_exporter": "python",
   "pygments_lexer": "ipython3",
   "version": "3.11.3"
  }
 },
 "nbformat": 4,
 "nbformat_minor": 5
}

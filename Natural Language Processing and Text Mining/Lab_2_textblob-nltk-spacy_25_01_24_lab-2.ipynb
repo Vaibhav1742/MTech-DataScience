{
 "cells": [
  {
   "cell_type": "markdown",
   "id": "7f0ed523",
   "metadata": {},
   "source": [
    "# <h1 style=\"text-align:center;\">Lab Assignment - 2</h1>"
   ]
  },
  {
   "cell_type": "markdown",
   "id": "9098c36b",
   "metadata": {},
   "source": [
    "## Textblob"
   ]
  },
  {
   "cell_type": "code",
   "execution_count": 1,
   "id": "29bc6119",
   "metadata": {},
   "outputs": [],
   "source": [
    "import nltk\n",
    "# nltk.download('punkt')"
   ]
  },
  {
   "cell_type": "code",
   "execution_count": 2,
   "id": "79496684",
   "metadata": {},
   "outputs": [
    {
     "name": "stderr",
     "output_type": "stream",
     "text": [
      "[nltk_data] Downloading package averaged_perceptron_tagger to\n",
      "[nltk_data]     C:\\Users\\raval\\AppData\\Roaming\\nltk_data...\n",
      "[nltk_data]   Package averaged_perceptron_tagger is already up-to-\n",
      "[nltk_data]       date!\n"
     ]
    },
    {
     "data": {
      "text/plain": [
       "True"
      ]
     },
     "execution_count": 2,
     "metadata": {},
     "output_type": "execute_result"
    }
   ],
   "source": [
    "nltk.download('averaged_perceptron_tagger')"
   ]
  },
  {
   "cell_type": "code",
   "execution_count": 3,
   "id": "00b42935",
   "metadata": {},
   "outputs": [],
   "source": [
    "from textblob import TextBlob"
   ]
  },
  {
   "cell_type": "code",
   "execution_count": 4,
   "id": "f96d64c0",
   "metadata": {},
   "outputs": [],
   "source": [
    "text = '''\n",
    "The titular threat of The Blob has always struck me as the ultimate movie\n",
    "monster: an insatiably hungry, amoeba-like mass able to penetrate\n",
    "virtually any safeguard, capable of--as a doomed doctor chillingly\n",
    "describes it--\"assimilating flesh on contact.\n",
    "Snide comparisons to gelatin be damned, it's a concept with the most\n",
    "devastating of potential consequences, not unlike the grey goo scenario\n",
    "proposed by technological theorists fearful of\n",
    "artificial intelligence run rampant.\n",
    "'''"
   ]
  },
  {
   "cell_type": "markdown",
   "id": "82da0202",
   "metadata": {},
   "source": [
    "* pos tagging"
   ]
  },
  {
   "cell_type": "code",
   "execution_count": 5,
   "id": "ea654482",
   "metadata": {
    "scrolled": false
   },
   "outputs": [
    {
     "data": {
      "text/plain": [
       "[('The', 'DT'),\n",
       " ('titular', 'JJ'),\n",
       " ('threat', 'NN'),\n",
       " ('of', 'IN'),\n",
       " ('The', 'DT'),\n",
       " ('Blob', 'NNP'),\n",
       " ('has', 'VBZ'),\n",
       " ('always', 'RB'),\n",
       " ('struck', 'VBN'),\n",
       " ('me', 'PRP'),\n",
       " ('as', 'IN'),\n",
       " ('the', 'DT'),\n",
       " ('ultimate', 'JJ'),\n",
       " ('movie', 'NN'),\n",
       " ('monster', 'NN'),\n",
       " ('an', 'DT'),\n",
       " ('insatiably', 'RB'),\n",
       " ('hungry', 'JJ'),\n",
       " ('amoeba-like', 'JJ'),\n",
       " ('mass', 'NN'),\n",
       " ('able', 'JJ'),\n",
       " ('to', 'TO'),\n",
       " ('penetrate', 'VB'),\n",
       " ('virtually', 'RB'),\n",
       " ('any', 'DT'),\n",
       " ('safeguard', 'NN'),\n",
       " ('capable', 'JJ'),\n",
       " ('of', 'IN'),\n",
       " ('as', 'IN'),\n",
       " ('a', 'DT'),\n",
       " ('doomed', 'JJ'),\n",
       " ('doctor', 'NN'),\n",
       " ('chillingly', 'RB'),\n",
       " ('describes', 'VBZ'),\n",
       " ('it', 'PRP'),\n",
       " ('assimilating', 'VBG'),\n",
       " ('flesh', 'NN'),\n",
       " ('on', 'IN'),\n",
       " ('contact', 'NN'),\n",
       " ('Snide', 'JJ'),\n",
       " ('comparisons', 'NNS'),\n",
       " ('to', 'TO'),\n",
       " ('gelatin', 'VB'),\n",
       " ('be', 'VB'),\n",
       " ('damned', 'VBN'),\n",
       " ('it', 'PRP'),\n",
       " (\"'s\", 'VBZ'),\n",
       " ('a', 'DT'),\n",
       " ('concept', 'NN'),\n",
       " ('with', 'IN'),\n",
       " ('the', 'DT'),\n",
       " ('most', 'RBS'),\n",
       " ('devastating', 'JJ'),\n",
       " ('of', 'IN'),\n",
       " ('potential', 'JJ'),\n",
       " ('consequences', 'NNS'),\n",
       " ('not', 'RB'),\n",
       " ('unlike', 'IN'),\n",
       " ('the', 'DT'),\n",
       " ('grey', 'NN'),\n",
       " ('goo', 'NN'),\n",
       " ('scenario', 'NN'),\n",
       " ('proposed', 'VBN'),\n",
       " ('by', 'IN'),\n",
       " ('technological', 'JJ'),\n",
       " ('theorists', 'NNS'),\n",
       " ('fearful', 'NN'),\n",
       " ('of', 'IN'),\n",
       " ('artificial', 'JJ'),\n",
       " ('intelligence', 'NN'),\n",
       " ('run', 'NN'),\n",
       " ('rampant', 'NN')]"
      ]
     },
     "execution_count": 5,
     "metadata": {},
     "output_type": "execute_result"
    }
   ],
   "source": [
    "blob = TextBlob(text)\n",
    "blob.tags"
   ]
  },
  {
   "cell_type": "code",
   "execution_count": 6,
   "id": "74ecb1dc",
   "metadata": {},
   "outputs": [
    {
     "name": "stderr",
     "output_type": "stream",
     "text": [
      "[nltk_data] Downloading package brown to\n",
      "[nltk_data]     C:\\Users\\raval\\AppData\\Roaming\\nltk_data...\n",
      "[nltk_data]   Package brown is already up-to-date!\n"
     ]
    },
    {
     "data": {
      "text/plain": [
       "True"
      ]
     },
     "execution_count": 6,
     "metadata": {},
     "output_type": "execute_result"
    }
   ],
   "source": [
    "nltk.download('brown')"
   ]
  },
  {
   "cell_type": "markdown",
   "id": "8d1f2548",
   "metadata": {},
   "source": [
    "* Noun Phrase Extraction"
   ]
  },
  {
   "cell_type": "code",
   "execution_count": 7,
   "id": "18a14030",
   "metadata": {},
   "outputs": [
    {
     "data": {
      "text/plain": [
       "WordList(['titular threat', 'blob', 'ultimate movie monster', 'amoeba-like mass', 'snide', 'potential consequences', 'grey goo scenario', 'technological theorists fearful', 'artificial intelligence run rampant'])"
      ]
     },
     "execution_count": 7,
     "metadata": {},
     "output_type": "execute_result"
    }
   ],
   "source": [
    "blob.noun_phrases"
   ]
  },
  {
   "cell_type": "markdown",
   "id": "5320c2c7",
   "metadata": {},
   "source": [
    "* sentiment"
   ]
  },
  {
   "cell_type": "code",
   "execution_count": 8,
   "id": "a8f2de88",
   "metadata": {},
   "outputs": [
    {
     "name": "stdout",
     "output_type": "stream",
     "text": [
      "0.06000000000000001\n",
      "-0.34166666666666673\n"
     ]
    }
   ],
   "source": [
    "for sentence in blob.sentences:\n",
    "    print(sentence.sentiment.polarity)"
   ]
  },
  {
   "cell_type": "code",
   "execution_count": 9,
   "id": "bcf8a772",
   "metadata": {},
   "outputs": [
    {
     "data": {
      "text/plain": [
       "Sentiment(polarity=0.39166666666666666, subjectivity=0.4357142857142857)"
      ]
     },
     "execution_count": 9,
     "metadata": {},
     "output_type": "execute_result"
    }
   ],
   "source": [
    "testimonial = TextBlob(\"Textblob is amazingly simple to use. What great fun!\")\n",
    "testimonial.sentiment"
   ]
  },
  {
   "cell_type": "code",
   "execution_count": 10,
   "id": "82f7d587",
   "metadata": {},
   "outputs": [
    {
     "data": {
      "text/plain": [
       "Sentiment(polarity=0.475, subjectivity=0.45000000000000007)"
      ]
     },
     "execution_count": 10,
     "metadata": {},
     "output_type": "execute_result"
    }
   ],
   "source": [
    "testimonial = TextBlob(\"This computer is good , although it is very costly !\")\n",
    "testimonial.sentiment"
   ]
  },
  {
   "cell_type": "code",
   "execution_count": 11,
   "id": "ca406f0f",
   "metadata": {},
   "outputs": [
    {
     "data": {
      "text/plain": [
       "Sentiment(polarity=-0.3299999999999999, subjectivity=0.5833333333333334)"
      ]
     },
     "execution_count": 11,
     "metadata": {},
     "output_type": "execute_result"
    }
   ],
   "source": [
    "testimonial = TextBlob(\"This computer is very bad , although it is very costly !\")\n",
    "testimonial.sentiment"
   ]
  },
  {
   "cell_type": "markdown",
   "id": "de4f6d12",
   "metadata": {},
   "source": [
    "* tokanization"
   ]
  },
  {
   "cell_type": "code",
   "execution_count": 12,
   "id": "e7881500",
   "metadata": {},
   "outputs": [
    {
     "data": {
      "text/plain": [
       "WordList(['This', 'computer', 'is', 'very', 'bad', 'although', 'it', 'is', 'very', 'costly'])"
      ]
     },
     "execution_count": 12,
     "metadata": {},
     "output_type": "execute_result"
    }
   ],
   "source": [
    "testimonial.words"
   ]
  },
  {
   "cell_type": "markdown",
   "id": "a661d2eb",
   "metadata": {},
   "source": [
    "* Get Word and Noun Phrase Frequencies"
   ]
  },
  {
   "cell_type": "code",
   "execution_count": 13,
   "id": "efd3d56c",
   "metadata": {},
   "outputs": [
    {
     "data": {
      "text/plain": [
       "1"
      ]
     },
     "execution_count": 13,
     "metadata": {},
     "output_type": "execute_result"
    }
   ],
   "source": [
    "testimonial.word_counts['computer']"
   ]
  },
  {
   "cell_type": "code",
   "execution_count": 14,
   "id": "823181f7",
   "metadata": {},
   "outputs": [
    {
     "data": {
      "text/plain": [
       "1"
      ]
     },
     "execution_count": 14,
     "metadata": {},
     "output_type": "execute_result"
    }
   ],
   "source": [
    "testimonial.words.count('computer', case_sensitive=True)"
   ]
  },
  {
   "cell_type": "markdown",
   "id": "4f3ec9ce",
   "metadata": {},
   "source": [
    "* n grams"
   ]
  },
  {
   "cell_type": "code",
   "execution_count": 15,
   "id": "c773334c",
   "metadata": {},
   "outputs": [
    {
     "data": {
      "text/plain": [
       "[WordList(['This', 'computer', 'is']),\n",
       " WordList(['computer', 'is', 'very']),\n",
       " WordList(['is', 'very', 'bad']),\n",
       " WordList(['very', 'bad', 'although']),\n",
       " WordList(['bad', 'although', 'it']),\n",
       " WordList(['although', 'it', 'is']),\n",
       " WordList(['it', 'is', 'very']),\n",
       " WordList(['is', 'very', 'costly'])]"
      ]
     },
     "execution_count": 15,
     "metadata": {},
     "output_type": "execute_result"
    }
   ],
   "source": [
    "testimonial.ngrams(n=3)"
   ]
  },
  {
   "cell_type": "markdown",
   "id": "8a3f62db",
   "metadata": {},
   "source": [
    "## NLTK"
   ]
  },
  {
   "cell_type": "code",
   "execution_count": 16,
   "id": "5e13a581",
   "metadata": {},
   "outputs": [],
   "source": [
    "# import nltk"
   ]
  },
  {
   "cell_type": "code",
   "execution_count": 17,
   "id": "3979c072",
   "metadata": {},
   "outputs": [],
   "source": [
    "sentence = \"\"\"At eight o'clock on Thursday morning Arthur didn't feel very good.\"\"\""
   ]
  },
  {
   "cell_type": "markdown",
   "id": "7eb5f277",
   "metadata": {},
   "source": [
    "* tokenization"
   ]
  },
  {
   "cell_type": "code",
   "execution_count": 18,
   "id": "83e6df8b",
   "metadata": {},
   "outputs": [
    {
     "data": {
      "text/plain": [
       "['At',\n",
       " 'eight',\n",
       " \"o'clock\",\n",
       " 'on',\n",
       " 'Thursday',\n",
       " 'morning',\n",
       " 'Arthur',\n",
       " 'did',\n",
       " \"n't\",\n",
       " 'feel',\n",
       " 'very',\n",
       " 'good',\n",
       " '.']"
      ]
     },
     "execution_count": 18,
     "metadata": {},
     "output_type": "execute_result"
    }
   ],
   "source": [
    "tokens = nltk.word_tokenize(sentence)\n",
    "tokens"
   ]
  },
  {
   "cell_type": "markdown",
   "id": "c3a5e10e",
   "metadata": {},
   "source": [
    "* pos tagging "
   ]
  },
  {
   "cell_type": "code",
   "execution_count": 19,
   "id": "150450bf",
   "metadata": {},
   "outputs": [
    {
     "data": {
      "text/plain": [
       "[('At', 'IN'),\n",
       " ('eight', 'CD'),\n",
       " (\"o'clock\", 'NN'),\n",
       " ('on', 'IN'),\n",
       " ('Thursday', 'NNP'),\n",
       " ('morning', 'NN'),\n",
       " ('Arthur', 'NNP'),\n",
       " ('did', 'VBD'),\n",
       " (\"n't\", 'RB'),\n",
       " ('feel', 'VB'),\n",
       " ('very', 'RB'),\n",
       " ('good', 'JJ'),\n",
       " ('.', '.')]"
      ]
     },
     "execution_count": 19,
     "metadata": {},
     "output_type": "execute_result"
    }
   ],
   "source": [
    "tagged = nltk.pos_tag(tokens)\n",
    "tagged"
   ]
  },
  {
   "cell_type": "code",
   "execution_count": 20,
   "id": "f851b978",
   "metadata": {},
   "outputs": [
    {
     "name": "stdout",
     "output_type": "stream",
     "text": [
      "Requirement already satisfied: svgling in c:\\python311\\lib\\site-packages (0.4.0)\n",
      "Requirement already satisfied: svgwrite in c:\\python311\\lib\\site-packages (from svgling) (1.4.3)\n"
     ]
    },
    {
     "name": "stderr",
     "output_type": "stream",
     "text": [
      "\n",
      "[notice] A new release of pip is available: 23.0.1 -> 23.3.2\n",
      "[notice] To update, run: python.exe -m pip install --upgrade pip\n"
     ]
    }
   ],
   "source": [
    "# nltk.download('maxent_ne_chunker')\n",
    "# nltk.download('words')\n",
    "!pip install svgling"
   ]
  },
  {
   "cell_type": "code",
   "execution_count": 21,
   "id": "64ae6ae3",
   "metadata": {},
   "outputs": [
    {
     "data": {
      "image/svg+xml": [
       "<svg baseProfile=\"full\" height=\"168px\" preserveAspectRatio=\"xMidYMid meet\" style=\"font-family: times, serif; font-weight: normal; font-style: normal; font-size: 16px;\" version=\"1.1\" viewBox=\"0,0,656.0,168.0\" width=\"656px\" xmlns=\"http://www.w3.org/2000/svg\" xmlns:ev=\"http://www.w3.org/2001/xml-events\" xmlns:xlink=\"http://www.w3.org/1999/xlink\"><defs /><svg width=\"100%\" x=\"0\" y=\"0px\"><defs /><text text-anchor=\"middle\" x=\"50%\" y=\"16px\">S</text></svg><svg width=\"4.87805%\" x=\"0%\" y=\"48px\"><defs /><svg width=\"100%\" x=\"0\" y=\"0px\"><defs /><text text-anchor=\"middle\" x=\"50%\" y=\"16px\">At</text></svg><svg width=\"100%\" x=\"0%\" y=\"48px\"><defs /><svg width=\"100%\" x=\"0\" y=\"0px\"><defs /><text text-anchor=\"middle\" x=\"50%\" y=\"16px\">IN</text></svg></svg><line stroke=\"black\" x1=\"50%\" x2=\"50%\" y1=\"19.2px\" y2=\"48px\" /></svg><line stroke=\"black\" x1=\"50%\" x2=\"2.43902%\" y1=\"19.2px\" y2=\"48px\" /><svg width=\"8.53659%\" x=\"4.87805%\" y=\"48px\"><defs /><svg width=\"100%\" x=\"0\" y=\"0px\"><defs /><text text-anchor=\"middle\" x=\"50%\" y=\"16px\">eight</text></svg><svg width=\"100%\" x=\"0%\" y=\"48px\"><defs /><svg width=\"100%\" x=\"0\" y=\"0px\"><defs /><text text-anchor=\"middle\" x=\"50%\" y=\"16px\">CD</text></svg></svg><line stroke=\"black\" x1=\"50%\" x2=\"50%\" y1=\"19.2px\" y2=\"48px\" /></svg><line stroke=\"black\" x1=\"50%\" x2=\"9.14634%\" y1=\"19.2px\" y2=\"48px\" /><svg width=\"10.9756%\" x=\"13.4146%\" y=\"48px\"><defs /><svg width=\"100%\" x=\"0\" y=\"0px\"><defs /><text text-anchor=\"middle\" x=\"50%\" y=\"16px\">o'clock</text></svg><svg width=\"100%\" x=\"0%\" y=\"48px\"><defs /><svg width=\"100%\" x=\"0\" y=\"0px\"><defs /><text text-anchor=\"middle\" x=\"50%\" y=\"16px\">NN</text></svg></svg><line stroke=\"black\" x1=\"50%\" x2=\"50%\" y1=\"19.2px\" y2=\"48px\" /></svg><line stroke=\"black\" x1=\"50%\" x2=\"18.9024%\" y1=\"19.2px\" y2=\"48px\" /><svg width=\"4.87805%\" x=\"24.3902%\" y=\"48px\"><defs /><svg width=\"100%\" x=\"0\" y=\"0px\"><defs /><text text-anchor=\"middle\" x=\"50%\" y=\"16px\">on</text></svg><svg width=\"100%\" x=\"0%\" y=\"48px\"><defs /><svg width=\"100%\" x=\"0\" y=\"0px\"><defs /><text text-anchor=\"middle\" x=\"50%\" y=\"16px\">IN</text></svg></svg><line stroke=\"black\" x1=\"50%\" x2=\"50%\" y1=\"19.2px\" y2=\"48px\" /></svg><line stroke=\"black\" x1=\"50%\" x2=\"26.8293%\" y1=\"19.2px\" y2=\"48px\" /><svg width=\"12.1951%\" x=\"29.2683%\" y=\"48px\"><defs /><svg width=\"100%\" x=\"0\" y=\"0px\"><defs /><text text-anchor=\"middle\" x=\"50%\" y=\"16px\">Thursday</text></svg><svg width=\"100%\" x=\"0%\" y=\"48px\"><defs /><svg width=\"100%\" x=\"0\" y=\"0px\"><defs /><text text-anchor=\"middle\" x=\"50%\" y=\"16px\">NNP</text></svg></svg><line stroke=\"black\" x1=\"50%\" x2=\"50%\" y1=\"19.2px\" y2=\"48px\" /></svg><line stroke=\"black\" x1=\"50%\" x2=\"35.3659%\" y1=\"19.2px\" y2=\"48px\" /><svg width=\"10.9756%\" x=\"41.4634%\" y=\"48px\"><defs /><svg width=\"100%\" x=\"0\" y=\"0px\"><defs /><text text-anchor=\"middle\" x=\"50%\" y=\"16px\">morning</text></svg><svg width=\"100%\" x=\"0%\" y=\"48px\"><defs /><svg width=\"100%\" x=\"0\" y=\"0px\"><defs /><text text-anchor=\"middle\" x=\"50%\" y=\"16px\">NN</text></svg></svg><line stroke=\"black\" x1=\"50%\" x2=\"50%\" y1=\"19.2px\" y2=\"48px\" /></svg><line stroke=\"black\" x1=\"50%\" x2=\"46.9512%\" y1=\"19.2px\" y2=\"48px\" /><svg width=\"9.7561%\" x=\"52.439%\" y=\"48px\"><defs /><svg width=\"100%\" x=\"0\" y=\"0px\"><defs /><text text-anchor=\"middle\" x=\"50%\" y=\"16px\">PERSON</text></svg><svg width=\"100%\" x=\"0%\" y=\"48px\"><defs /><svg width=\"100%\" x=\"0\" y=\"0px\"><defs /><text text-anchor=\"middle\" x=\"50%\" y=\"16px\">Arthur</text></svg><svg width=\"100%\" x=\"0%\" y=\"48px\"><defs /><svg width=\"100%\" x=\"0\" y=\"0px\"><defs /><text text-anchor=\"middle\" x=\"50%\" y=\"16px\">NNP</text></svg></svg><line stroke=\"black\" x1=\"50%\" x2=\"50%\" y1=\"19.2px\" y2=\"48px\" /></svg><line stroke=\"black\" x1=\"50%\" x2=\"50%\" y1=\"19.2px\" y2=\"48px\" /></svg><line stroke=\"black\" x1=\"50%\" x2=\"57.3171%\" y1=\"19.2px\" y2=\"48px\" /><svg width=\"6.09756%\" x=\"62.1951%\" y=\"48px\"><defs /><svg width=\"100%\" x=\"0\" y=\"0px\"><defs /><text text-anchor=\"middle\" x=\"50%\" y=\"16px\">did</text></svg><svg width=\"100%\" x=\"0%\" y=\"48px\"><defs /><svg width=\"100%\" x=\"0\" y=\"0px\"><defs /><text text-anchor=\"middle\" x=\"50%\" y=\"16px\">VBD</text></svg></svg><line stroke=\"black\" x1=\"50%\" x2=\"50%\" y1=\"19.2px\" y2=\"48px\" /></svg><line stroke=\"black\" x1=\"50%\" x2=\"65.2439%\" y1=\"19.2px\" y2=\"48px\" /><svg width=\"6.09756%\" x=\"68.2927%\" y=\"48px\"><defs /><svg width=\"100%\" x=\"0\" y=\"0px\"><defs /><text text-anchor=\"middle\" x=\"50%\" y=\"16px\">n't</text></svg><svg width=\"100%\" x=\"0%\" y=\"48px\"><defs /><svg width=\"100%\" x=\"0\" y=\"0px\"><defs /><text text-anchor=\"middle\" x=\"50%\" y=\"16px\">RB</text></svg></svg><line stroke=\"black\" x1=\"50%\" x2=\"50%\" y1=\"19.2px\" y2=\"48px\" /></svg><line stroke=\"black\" x1=\"50%\" x2=\"71.3415%\" y1=\"19.2px\" y2=\"48px\" /><svg width=\"7.31707%\" x=\"74.3902%\" y=\"48px\"><defs /><svg width=\"100%\" x=\"0\" y=\"0px\"><defs /><text text-anchor=\"middle\" x=\"50%\" y=\"16px\">feel</text></svg><svg width=\"100%\" x=\"0%\" y=\"48px\"><defs /><svg width=\"100%\" x=\"0\" y=\"0px\"><defs /><text text-anchor=\"middle\" x=\"50%\" y=\"16px\">VB</text></svg></svg><line stroke=\"black\" x1=\"50%\" x2=\"50%\" y1=\"19.2px\" y2=\"48px\" /></svg><line stroke=\"black\" x1=\"50%\" x2=\"78.0488%\" y1=\"19.2px\" y2=\"48px\" /><svg width=\"7.31707%\" x=\"81.7073%\" y=\"48px\"><defs /><svg width=\"100%\" x=\"0\" y=\"0px\"><defs /><text text-anchor=\"middle\" x=\"50%\" y=\"16px\">very</text></svg><svg width=\"100%\" x=\"0%\" y=\"48px\"><defs /><svg width=\"100%\" x=\"0\" y=\"0px\"><defs /><text text-anchor=\"middle\" x=\"50%\" y=\"16px\">RB</text></svg></svg><line stroke=\"black\" x1=\"50%\" x2=\"50%\" y1=\"19.2px\" y2=\"48px\" /></svg><line stroke=\"black\" x1=\"50%\" x2=\"85.3659%\" y1=\"19.2px\" y2=\"48px\" /><svg width=\"7.31707%\" x=\"89.0244%\" y=\"48px\"><defs /><svg width=\"100%\" x=\"0\" y=\"0px\"><defs /><text text-anchor=\"middle\" x=\"50%\" y=\"16px\">good</text></svg><svg width=\"100%\" x=\"0%\" y=\"48px\"><defs /><svg width=\"100%\" x=\"0\" y=\"0px\"><defs /><text text-anchor=\"middle\" x=\"50%\" y=\"16px\">JJ</text></svg></svg><line stroke=\"black\" x1=\"50%\" x2=\"50%\" y1=\"19.2px\" y2=\"48px\" /></svg><line stroke=\"black\" x1=\"50%\" x2=\"92.6829%\" y1=\"19.2px\" y2=\"48px\" /><svg width=\"3.65854%\" x=\"96.3415%\" y=\"48px\"><defs /><svg width=\"100%\" x=\"0\" y=\"0px\"><defs /><text text-anchor=\"middle\" x=\"50%\" y=\"16px\">.</text></svg><svg width=\"100%\" x=\"0%\" y=\"48px\"><defs /><svg width=\"100%\" x=\"0\" y=\"0px\"><defs /><text text-anchor=\"middle\" x=\"50%\" y=\"16px\">.</text></svg></svg><line stroke=\"black\" x1=\"50%\" x2=\"50%\" y1=\"19.2px\" y2=\"48px\" /></svg><line stroke=\"black\" x1=\"50%\" x2=\"98.1707%\" y1=\"19.2px\" y2=\"48px\" /></svg>"
      ],
      "text/plain": [
       "Tree('S', [('At', 'IN'), ('eight', 'CD'), (\"o'clock\", 'NN'), ('on', 'IN'), ('Thursday', 'NNP'), ('morning', 'NN'), Tree('PERSON', [('Arthur', 'NNP')]), ('did', 'VBD'), (\"n't\", 'RB'), ('feel', 'VB'), ('very', 'RB'), ('good', 'JJ'), ('.', '.')])"
      ]
     },
     "execution_count": 21,
     "metadata": {},
     "output_type": "execute_result"
    }
   ],
   "source": [
    "entities = nltk.chunk.ne_chunk(tagged)\n",
    "entities"
   ]
  },
  {
   "cell_type": "code",
   "execution_count": 22,
   "id": "690d3121",
   "metadata": {},
   "outputs": [],
   "source": [
    "from nltk.corpus import treebank"
   ]
  },
  {
   "cell_type": "code",
   "execution_count": 23,
   "id": "7ca4b44b",
   "metadata": {},
   "outputs": [
    {
     "name": "stderr",
     "output_type": "stream",
     "text": [
      "[nltk_data] Downloading package treebank to\n",
      "[nltk_data]     C:\\Users\\raval\\AppData\\Roaming\\nltk_data...\n",
      "[nltk_data]   Package treebank is already up-to-date!\n"
     ]
    },
    {
     "data": {
      "text/plain": [
       "True"
      ]
     },
     "execution_count": 23,
     "metadata": {},
     "output_type": "execute_result"
    }
   ],
   "source": [
    "nltk.download('treebank')"
   ]
  },
  {
   "cell_type": "code",
   "execution_count": 24,
   "id": "8a7a9a30",
   "metadata": {},
   "outputs": [
    {
     "data": {
      "text/plain": [
       "129"
      ]
     },
     "execution_count": 24,
     "metadata": {},
     "output_type": "execute_result"
    }
   ],
   "source": [
    "# import nltk\n",
    "# from nltk.corpus import treebank\n",
    "\n",
    "# # Load the Penn Treebank data\n",
    "# nltk.download('treebank')\n",
    "\n",
    "# # Get a parsed sentence from the treebank\n",
    "# t = treebank.parsed_sents('wsj_0001.mrg')[0]\n",
    "\n",
    "# # Draw the parse tree\n",
    "# t.draw()\n",
    "98+31\n"
   ]
  },
  {
   "cell_type": "code",
   "execution_count": 28,
   "id": "9b424bd5",
   "metadata": {},
   "outputs": [],
   "source": [
    "# t = treebank.parsed_sents('wsj_0001.mrg')[0]\n",
    "# t.draw(max_depth=2)  # Adjust the depth as needed"
   ]
  },
  {
   "cell_type": "code",
   "execution_count": 26,
   "id": "395ecf85",
   "metadata": {},
   "outputs": [
    {
     "name": "stdout",
     "output_type": "stream",
     "text": [
      "(S\n",
      "  (NP-SBJ\n",
      "    (NP (NNP Pierre) (NNP Vinken))\n",
      "    (, ,)\n",
      "    (ADJP (NP (CD 61) (NNS years)) (JJ old))\n",
      "    (, ,))\n",
      "  (VP\n",
      "    (MD will)\n",
      "    (VP\n",
      "      (VB join)\n",
      "      (NP (DT the) (NN board))\n",
      "      (PP-CLR (IN as) (NP (DT a) (JJ nonexecutive) (NN director)))\n",
      "      (NP-TMP (NNP Nov.) (CD 29))))\n",
      "  (. .))\n"
     ]
    }
   ],
   "source": [
    "t = treebank.parsed_sents('wsj_0001.mrg')[0]\n",
    "print(t)"
   ]
  },
  {
   "cell_type": "code",
   "execution_count": 29,
   "id": "1b952b5c",
   "metadata": {},
   "outputs": [
    {
     "name": "stdout",
     "output_type": "stream",
     "text": [
      "Collecting spacy\n",
      "  Downloading spacy-3.7.2-cp311-cp311-win_amd64.whl (12.1 MB)\n",
      "     ---------------------------------------- 0.0/12.1 MB ? eta -:--:--\n",
      "     ---------------------------------------- 0.0/12.1 MB ? eta -:--:--\n",
      "     --------------------------------------- 0.0/12.1 MB 660.6 kB/s eta 0:00:19\n",
      "     --------------------------------------- 0.1/12.1 MB 375.8 kB/s eta 0:00:32\n",
      "     --------------------------------------- 0.1/12.1 MB 469.7 kB/s eta 0:00:26\n",
      "     --------------------------------------- 0.1/12.1 MB 403.5 kB/s eta 0:00:30\n",
      "      -------------------------------------- 0.2/12.1 MB 787.7 kB/s eta 0:00:16\n",
      "      -------------------------------------- 0.3/12.1 MB 827.5 kB/s eta 0:00:15\n",
      "     - -------------------------------------- 0.3/12.1 MB 1.0 MB/s eta 0:00:12\n",
      "     - ------------------------------------- 0.4/12.1 MB 998.3 kB/s eta 0:00:12\n",
      "     - ------------------------------------- 0.4/12.1 MB 998.3 kB/s eta 0:00:12\n",
      "     - ------------------------------------- 0.4/12.1 MB 998.3 kB/s eta 0:00:12\n",
      "     - ------------------------------------- 0.4/12.1 MB 998.3 kB/s eta 0:00:12\n",
      "     - ------------------------------------- 0.4/12.1 MB 726.4 kB/s eta 0:00:17\n",
      "     - ------------------------------------- 0.5/12.1 MB 819.2 kB/s eta 0:00:15\n",
      "     -- ------------------------------------ 0.6/12.1 MB 922.8 kB/s eta 0:00:13\n",
      "     -- ------------------------------------ 0.7/12.1 MB 982.7 kB/s eta 0:00:12\n",
      "     -- ------------------------------------ 0.7/12.1 MB 982.7 kB/s eta 0:00:12\n",
      "     -- ------------------------------------ 0.7/12.1 MB 982.7 kB/s eta 0:00:12\n",
      "     -- ------------------------------------ 0.8/12.1 MB 917.9 kB/s eta 0:00:13\n",
      "     -- ------------------------------------ 0.9/12.1 MB 960.7 kB/s eta 0:00:12\n",
      "     --- ------------------------------------ 1.0/12.1 MB 1.1 MB/s eta 0:00:11\n",
      "     --- ------------------------------------ 1.1/12.1 MB 1.1 MB/s eta 0:00:10\n",
      "     ---- ----------------------------------- 1.2/12.1 MB 1.2 MB/s eta 0:00:10\n",
      "     ---- ----------------------------------- 1.2/12.1 MB 1.2 MB/s eta 0:00:10\n",
      "     ---- ----------------------------------- 1.3/12.1 MB 1.1 MB/s eta 0:00:10\n",
      "     ---- ----------------------------------- 1.3/12.1 MB 1.1 MB/s eta 0:00:10\n",
      "     ----- ---------------------------------- 1.5/12.1 MB 1.2 MB/s eta 0:00:09\n",
      "     ----- ---------------------------------- 1.8/12.1 MB 1.3 MB/s eta 0:00:08\n",
      "     ----- ---------------------------------- 1.8/12.1 MB 1.3 MB/s eta 0:00:08\n",
      "     ----- ---------------------------------- 1.8/12.1 MB 1.3 MB/s eta 0:00:08\n",
      "     ----- ---------------------------------- 1.8/12.1 MB 1.3 MB/s eta 0:00:08\n",
      "     ----- ---------------------------------- 1.8/12.1 MB 1.2 MB/s eta 0:00:09\n",
      "     ------ --------------------------------- 1.8/12.1 MB 1.2 MB/s eta 0:00:09\n",
      "     ------ --------------------------------- 2.0/12.1 MB 1.3 MB/s eta 0:00:08\n",
      "     ------- -------------------------------- 2.2/12.1 MB 1.4 MB/s eta 0:00:08\n",
      "     ------- -------------------------------- 2.2/12.1 MB 1.3 MB/s eta 0:00:08\n",
      "     ------- -------------------------------- 2.2/12.1 MB 1.3 MB/s eta 0:00:08\n",
      "     ------- -------------------------------- 2.3/12.1 MB 1.3 MB/s eta 0:00:08\n",
      "     ------- -------------------------------- 2.4/12.1 MB 1.3 MB/s eta 0:00:08\n",
      "     -------- ------------------------------- 2.5/12.1 MB 1.4 MB/s eta 0:00:08\n",
      "     --------- ------------------------------ 2.8/12.1 MB 1.4 MB/s eta 0:00:07\n",
      "     --------- ------------------------------ 3.0/12.1 MB 1.5 MB/s eta 0:00:06\n",
      "     ---------- ----------------------------- 3.0/12.1 MB 1.5 MB/s eta 0:00:06\n",
      "     ---------- ----------------------------- 3.1/12.1 MB 1.5 MB/s eta 0:00:06\n",
      "     ---------- ----------------------------- 3.1/12.1 MB 1.5 MB/s eta 0:00:07\n",
      "     ---------- ----------------------------- 3.2/12.1 MB 1.5 MB/s eta 0:00:06\n",
      "     ----------- ---------------------------- 3.5/12.1 MB 1.6 MB/s eta 0:00:06\n",
      "     ------------ --------------------------- 3.8/12.1 MB 1.7 MB/s eta 0:00:05\n",
      "     ------------- -------------------------- 4.0/12.1 MB 1.8 MB/s eta 0:00:05\n",
      "     ------------- -------------------------- 4.1/12.1 MB 1.7 MB/s eta 0:00:05\n",
      "     ------------- -------------------------- 4.1/12.1 MB 1.7 MB/s eta 0:00:05\n",
      "     ------------- -------------------------- 4.1/12.1 MB 1.7 MB/s eta 0:00:05\n",
      "     -------------- ------------------------- 4.3/12.1 MB 1.7 MB/s eta 0:00:05\n",
      "     --------------- ------------------------ 4.5/12.1 MB 1.8 MB/s eta 0:00:05\n",
      "     --------------- ------------------------ 4.6/12.1 MB 1.8 MB/s eta 0:00:05\n",
      "     --------------- ------------------------ 4.6/12.1 MB 1.8 MB/s eta 0:00:05\n",
      "     --------------- ------------------------ 4.7/12.1 MB 1.8 MB/s eta 0:00:05\n",
      "     --------------- ------------------------ 4.7/12.1 MB 1.8 MB/s eta 0:00:05\n",
      "     ---------------- ----------------------- 4.9/12.1 MB 1.8 MB/s eta 0:00:04\n",
      "     ----------------- ---------------------- 5.2/12.1 MB 1.8 MB/s eta 0:00:04\n",
      "     ----------------- ---------------------- 5.3/12.1 MB 1.9 MB/s eta 0:00:04\n",
      "     ----------------- ---------------------- 5.4/12.1 MB 1.8 MB/s eta 0:00:04\n",
      "     ------------------ --------------------- 5.6/12.1 MB 1.9 MB/s eta 0:00:04\n",
      "     ------------------ --------------------- 5.7/12.1 MB 1.9 MB/s eta 0:00:04\n",
      "     ------------------ --------------------- 5.7/12.1 MB 1.9 MB/s eta 0:00:04\n",
      "     ------------------- -------------------- 5.9/12.1 MB 1.9 MB/s eta 0:00:04\n",
      "     ------------------- -------------------- 6.0/12.1 MB 1.9 MB/s eta 0:00:04\n",
      "     --------------------- ------------------ 6.4/12.1 MB 2.0 MB/s eta 0:00:03\n",
      "     ---------------------- ----------------- 6.6/12.1 MB 2.0 MB/s eta 0:00:03\n",
      "     ---------------------- ----------------- 6.6/12.1 MB 2.0 MB/s eta 0:00:03\n",
      "     ---------------------- ----------------- 6.6/12.1 MB 2.0 MB/s eta 0:00:03\n",
      "     ---------------------- ----------------- 6.9/12.1 MB 2.0 MB/s eta 0:00:03\n",
      "     ----------------------- ---------------- 7.0/12.1 MB 2.0 MB/s eta 0:00:03\n",
      "     ------------------------ --------------- 7.3/12.1 MB 2.1 MB/s eta 0:00:03\n",
      "     ------------------------ --------------- 7.4/12.1 MB 2.1 MB/s eta 0:00:03\n",
      "     ------------------------- -------------- 7.5/12.1 MB 2.1 MB/s eta 0:00:03\n",
      "     ------------------------- -------------- 7.5/12.1 MB 2.1 MB/s eta 0:00:03\n",
      "     ------------------------- -------------- 7.7/12.1 MB 2.1 MB/s eta 0:00:03\n",
      "     ------------------------- -------------- 7.8/12.1 MB 2.1 MB/s eta 0:00:03\n",
      "     -------------------------- ------------- 8.0/12.1 MB 2.1 MB/s eta 0:00:02\n",
      "     --------------------------- ------------ 8.4/12.1 MB 2.2 MB/s eta 0:00:02\n",
      "     ---------------------------- ----------- 8.6/12.1 MB 2.2 MB/s eta 0:00:02\n",
      "     ---------------------------- ----------- 8.7/12.1 MB 2.2 MB/s eta 0:00:02\n",
      "     ----------------------------- ---------- 8.8/12.1 MB 2.2 MB/s eta 0:00:02\n",
      "     ----------------------------- ---------- 8.9/12.1 MB 2.2 MB/s eta 0:00:02\n",
      "     ------------------------------ --------- 9.1/12.1 MB 2.2 MB/s eta 0:00:02\n",
      "     ------------------------------ --------- 9.3/12.1 MB 2.3 MB/s eta 0:00:02\n",
      "     ------------------------------- -------- 9.5/12.1 MB 2.3 MB/s eta 0:00:02\n",
      "     -------------------------------- ------- 9.8/12.1 MB 2.3 MB/s eta 0:00:01\n",
      "     -------------------------------- ------- 9.8/12.1 MB 2.3 MB/s eta 0:00:01\n",
      "     -------------------------------- ------- 9.8/12.1 MB 2.3 MB/s eta 0:00:01\n",
      "     --------------------------------- ------ 10.0/12.1 MB 2.3 MB/s eta 0:00:01\n",
      "     --------------------------------- ------ 10.0/12.1 MB 2.3 MB/s eta 0:00:01\n",
      "     ----------------------------------- ---- 10.6/12.1 MB 2.5 MB/s eta 0:00:01\n",
      "     ----------------------------------- ---- 10.6/12.1 MB 2.6 MB/s eta 0:00:01\n",
      "     ------------------------------------ --- 11.0/12.1 MB 2.8 MB/s eta 0:00:01\n",
      "     ------------------------------------ --- 11.0/12.1 MB 2.8 MB/s eta 0:00:01\n",
      "     ------------------------------------ --- 11.0/12.1 MB 2.8 MB/s eta 0:00:01\n",
      "     ------------------------------------- -- 11.2/12.1 MB 2.7 MB/s eta 0:00:01\n",
      "     -------------------------------------- - 11.5/12.1 MB 2.8 MB/s eta 0:00:01\n",
      "     ---------------------------------------  11.8/12.1 MB 2.9 MB/s eta 0:00:01\n",
      "     ---------------------------------------  12.0/12.1 MB 2.9 MB/s eta 0:00:01\n",
      "     ---------------------------------------  12.1/12.1 MB 3.1 MB/s eta 0:00:01\n",
      "     ---------------------------------------  12.1/12.1 MB 3.1 MB/s eta 0:00:01\n",
      "     ---------------------------------------- 12.1/12.1 MB 3.0 MB/s eta 0:00:00\n",
      "Collecting spacy-legacy<3.1.0,>=3.0.11\n",
      "  Downloading spacy_legacy-3.0.12-py2.py3-none-any.whl (29 kB)\n",
      "Collecting spacy-loggers<2.0.0,>=1.0.0\n",
      "  Downloading spacy_loggers-1.0.5-py3-none-any.whl (22 kB)\n",
      "Collecting murmurhash<1.1.0,>=0.28.0\n",
      "  Downloading murmurhash-1.0.10-cp311-cp311-win_amd64.whl (25 kB)\n",
      "Collecting cymem<2.1.0,>=2.0.2\n",
      "  Downloading cymem-2.0.8-cp311-cp311-win_amd64.whl (39 kB)\n",
      "Collecting preshed<3.1.0,>=3.0.2\n",
      "  Downloading preshed-3.0.9-cp311-cp311-win_amd64.whl (122 kB)\n",
      "     ---------------------------------------- 0.0/122.3 kB ? eta -:--:--\n",
      "     -------------------------------------- 122.3/122.3 kB 7.5 MB/s eta 0:00:00\n",
      "Collecting thinc<8.3.0,>=8.1.8\n",
      "  Downloading thinc-8.2.2-cp311-cp311-win_amd64.whl (1.5 MB)\n",
      "     ---------------------------------------- 0.0/1.5 MB ? eta -:--:--\n",
      "     ---------- ----------------------------- 0.4/1.5 MB 8.1 MB/s eta 0:00:01\n",
      "     -------------- ------------------------- 0.5/1.5 MB 5.6 MB/s eta 0:00:01\n",
      "     ---------------------------- ----------- 1.0/1.5 MB 7.3 MB/s eta 0:00:01\n",
      "     -------------------------------- ------- 1.2/1.5 MB 7.0 MB/s eta 0:00:01\n",
      "     -------------------------------- ------- 1.2/1.5 MB 7.0 MB/s eta 0:00:01\n",
      "     ----------------------------------- ---- 1.3/1.5 MB 4.3 MB/s eta 0:00:01\n",
      "     ---------------------------------------- 1.5/1.5 MB 4.5 MB/s eta 0:00:00\n",
      "Collecting wasabi<1.2.0,>=0.9.1\n",
      "  Downloading wasabi-1.1.2-py3-none-any.whl (27 kB)\n",
      "Collecting srsly<3.0.0,>=2.4.3\n",
      "  Downloading srsly-2.4.8-cp311-cp311-win_amd64.whl (479 kB)\n",
      "     ---------------------------------------- 0.0/479.7 kB ? eta -:--:--\n",
      "     ------------------------ ------------- 307.2/479.7 kB 6.3 MB/s eta 0:00:01\n",
      "     -------------------------------------- 479.7/479.7 kB 6.0 MB/s eta 0:00:00\n",
      "Collecting catalogue<2.1.0,>=2.0.6\n",
      "  Downloading catalogue-2.0.10-py3-none-any.whl (17 kB)\n",
      "Collecting weasel<0.4.0,>=0.1.0\n",
      "  Downloading weasel-0.3.4-py3-none-any.whl (50 kB)\n",
      "     ---------------------------------------- 0.0/50.1 kB ? eta -:--:--\n",
      "     ---------------------------------------- 50.1/50.1 kB ? eta 0:00:00\n",
      "Collecting typer<0.10.0,>=0.3.0\n",
      "  Downloading typer-0.9.0-py3-none-any.whl (45 kB)\n",
      "     ---------------------------------------- 0.0/45.9 kB ? eta -:--:--\n",
      "     ---------------------------------------- 45.9/45.9 kB 2.2 MB/s eta 0:00:00\n",
      "Collecting smart-open<7.0.0,>=5.2.1\n",
      "  Downloading smart_open-6.4.0-py3-none-any.whl (57 kB)\n",
      "     ---------------------------------------- 0.0/57.0 kB ? eta -:--:--\n",
      "     ---------------------------------------- 57.0/57.0 kB 3.1 MB/s eta 0:00:00\n",
      "Requirement already satisfied: tqdm<5.0.0,>=4.38.0 in c:\\python311\\lib\\site-packages (from spacy) (4.64.1)\n",
      "Requirement already satisfied: requests<3.0.0,>=2.13.0 in c:\\python311\\lib\\site-packages (from spacy) (2.28.1)\n",
      "Requirement already satisfied: pydantic!=1.8,!=1.8.1,<3.0.0,>=1.7.4 in c:\\python311\\lib\\site-packages (from spacy) (1.10.4)\n",
      "Requirement already satisfied: jinja2 in c:\\python311\\lib\\site-packages (from spacy) (3.1.2)\n",
      "Requirement already satisfied: setuptools in c:\\python311\\lib\\site-packages (from spacy) (65.5.0)\n",
      "Requirement already satisfied: packaging>=20.0 in c:\\python311\\lib\\site-packages (from spacy) (23.0)\n",
      "Collecting langcodes<4.0.0,>=3.2.0\n",
      "  Downloading langcodes-3.3.0-py3-none-any.whl (181 kB)\n",
      "     ---------------------------------------- 0.0/181.6 kB ? eta -:--:--\n",
      "     -------------------------------------- 181.6/181.6 kB 5.5 MB/s eta 0:00:00\n",
      "Requirement already satisfied: numpy>=1.19.0 in c:\\python311\\lib\\site-packages (from spacy) (1.23.5)\n",
      "Requirement already satisfied: typing-extensions>=4.2.0 in c:\\python311\\lib\\site-packages (from pydantic!=1.8,!=1.8.1,<3.0.0,>=1.7.4->spacy) (4.4.0)\n",
      "Requirement already satisfied: charset-normalizer<3,>=2 in c:\\python311\\lib\\site-packages (from requests<3.0.0,>=2.13.0->spacy) (2.1.1)\n",
      "Requirement already satisfied: idna<4,>=2.5 in c:\\python311\\lib\\site-packages (from requests<3.0.0,>=2.13.0->spacy) (2.10)\n",
      "Requirement already satisfied: urllib3<1.27,>=1.21.1 in c:\\python311\\lib\\site-packages (from requests<3.0.0,>=2.13.0->spacy) (1.26.13)\n",
      "Requirement already satisfied: certifi>=2017.4.17 in c:\\python311\\lib\\site-packages (from requests<3.0.0,>=2.13.0->spacy) (2022.12.7)\n",
      "Collecting blis<0.8.0,>=0.7.8\n",
      "  Downloading blis-0.7.11-cp311-cp311-win_amd64.whl (6.6 MB)\n",
      "     ---------------------------------------- 0.0/6.6 MB ? eta -:--:--\n",
      "     --- ------------------------------------ 0.6/6.6 MB 17.3 MB/s eta 0:00:01\n",
      "     ---- ----------------------------------- 0.8/6.6 MB 10.2 MB/s eta 0:00:01\n",
      "     ------ --------------------------------- 1.1/6.6 MB 10.1 MB/s eta 0:00:01\n",
      "     -------- ------------------------------- 1.4/6.6 MB 8.7 MB/s eta 0:00:01\n",
      "     --------- ------------------------------ 1.6/6.6 MB 7.2 MB/s eta 0:00:01\n",
      "     --------- ------------------------------ 1.6/6.6 MB 7.2 MB/s eta 0:00:01\n",
      "     ---------- ----------------------------- 1.8/6.6 MB 5.4 MB/s eta 0:00:01\n",
      "     ------------ --------------------------- 2.0/6.6 MB 5.6 MB/s eta 0:00:01\n",
      "     -------------- ------------------------- 2.5/6.6 MB 5.8 MB/s eta 0:00:01\n",
      "     ------------------ --------------------- 3.0/6.6 MB 6.6 MB/s eta 0:00:01\n",
      "     ------------------- -------------------- 3.2/6.6 MB 6.5 MB/s eta 0:00:01\n",
      "     --------------------- ------------------ 3.5/6.6 MB 6.5 MB/s eta 0:00:01\n",
      "     --------------------- ------------------ 3.5/6.6 MB 5.7 MB/s eta 0:00:01\n",
      "     ---------------------- ----------------- 3.7/6.6 MB 5.8 MB/s eta 0:00:01\n",
      "     ------------------------- -------------- 4.3/6.6 MB 6.1 MB/s eta 0:00:01\n",
      "     -------------------------- ------------- 4.4/6.6 MB 6.1 MB/s eta 0:00:01\n",
      "     --------------------------- ------------ 4.5/6.6 MB 5.7 MB/s eta 0:00:01\n",
      "     ---------------------------- ----------- 4.6/6.6 MB 5.6 MB/s eta 0:00:01\n",
      "     ---------------------------- ----------- 4.7/6.6 MB 5.3 MB/s eta 0:00:01\n",
      "     ------------------------------ --------- 5.1/6.6 MB 5.4 MB/s eta 0:00:01\n",
      "     ------------------------------- -------- 5.3/6.6 MB 5.3 MB/s eta 0:00:01\n",
      "     ---------------------------------- ----- 5.7/6.6 MB 5.4 MB/s eta 0:00:01\n",
      "     ------------------------------------- -- 6.2/6.6 MB 5.7 MB/s eta 0:00:01\n",
      "     -------------------------------------- - 6.4/6.6 MB 5.8 MB/s eta 0:00:01\n",
      "     ---------------------------------------  6.5/6.6 MB 5.6 MB/s eta 0:00:01\n",
      "     ---------------------------------------  6.6/6.6 MB 5.4 MB/s eta 0:00:01\n",
      "     ---------------------------------------  6.6/6.6 MB 5.3 MB/s eta 0:00:01\n",
      "     ---------------------------------------- 6.6/6.6 MB 5.0 MB/s eta 0:00:00\n",
      "Collecting confection<1.0.0,>=0.0.1\n",
      "  Downloading confection-0.1.4-py3-none-any.whl (35 kB)\n",
      "Requirement already satisfied: colorama in c:\\python311\\lib\\site-packages (from tqdm<5.0.0,>=4.38.0->spacy) (0.4.6)\n",
      "Requirement already satisfied: click<9.0.0,>=7.1.1 in c:\\python311\\lib\\site-packages (from typer<0.10.0,>=0.3.0->spacy) (8.1.3)\n",
      "Collecting cloudpathlib<0.17.0,>=0.7.0\n",
      "  Downloading cloudpathlib-0.16.0-py3-none-any.whl (45 kB)\n",
      "     ---------------------------------------- 0.0/45.0 kB ? eta -:--:--\n",
      "     ---------------------------------------- 45.0/45.0 kB 2.3 MB/s eta 0:00:00\n",
      "Requirement already satisfied: MarkupSafe>=2.0 in c:\\python311\\lib\\site-packages (from jinja2->spacy) (2.1.2)\n",
      "Installing collected packages: cymem, wasabi, spacy-loggers, spacy-legacy, smart-open, murmurhash, langcodes, cloudpathlib, catalogue, blis, typer, srsly, preshed, confection, weasel, thinc, spacy\n",
      "Successfully installed blis-0.7.11 catalogue-2.0.10 cloudpathlib-0.16.0 confection-0.1.4 cymem-2.0.8 langcodes-3.3.0 murmurhash-1.0.10 preshed-3.0.9 smart-open-6.4.0 spacy-3.7.2 spacy-legacy-3.0.12 spacy-loggers-1.0.5 srsly-2.4.8 thinc-8.2.2 typer-0.9.0 wasabi-1.1.2 weasel-0.3.4\n"
     ]
    },
    {
     "name": "stderr",
     "output_type": "stream",
     "text": [
      "\n",
      "[notice] A new release of pip is available: 23.0.1 -> 23.3.2\n",
      "[notice] To update, run: python.exe -m pip install --upgrade pip\n"
     ]
    }
   ],
   "source": [
    "!pip install spacy"
   ]
  },
  {
   "cell_type": "code",
   "execution_count": 32,
   "id": "a5b2921b",
   "metadata": {},
   "outputs": [
    {
     "name": "stdout",
     "output_type": "stream",
     "text": [
      "Collecting en-core-web-sm==3.7.1\n",
      "  Downloading https://github.com/explosion/spacy-models/releases/download/en_core_web_sm-3.7.1/en_core_web_sm-3.7.1-py3-none-any.whl (12.8 MB)\n",
      "     ---------------------------------------- 0.0/12.8 MB ? eta -:--:--\n",
      "     --------------------------------------- 0.0/12.8 MB 682.7 kB/s eta 0:00:19\n",
      "     --------------------------------------- 0.1/12.8 MB 525.1 kB/s eta 0:00:25\n",
      "     --------------------------------------- 0.1/12.8 MB 657.6 kB/s eta 0:00:20\n",
      "     --------------------------------------- 0.1/12.8 MB 535.8 kB/s eta 0:00:24\n",
      "     --------------------------------------- 0.1/12.8 MB 602.4 kB/s eta 0:00:22\n",
      "     --------------------------------------- 0.2/12.8 MB 579.6 kB/s eta 0:00:22\n",
      "     --------------------------------------- 0.2/12.8 MB 579.6 kB/s eta 0:00:22\n",
      "      -------------------------------------- 0.2/12.8 MB 628.1 kB/s eta 0:00:20\n",
      "      -------------------------------------- 0.3/12.8 MB 682.7 kB/s eta 0:00:19\n",
      "     - ------------------------------------- 0.3/12.8 MB 720.5 kB/s eta 0:00:18\n",
      "     - ------------------------------------- 0.4/12.8 MB 839.7 kB/s eta 0:00:15\n",
      "     - ------------------------------------- 0.5/12.8 MB 829.2 kB/s eta 0:00:15\n",
      "     - ------------------------------------- 0.5/12.8 MB 814.9 kB/s eta 0:00:16\n",
      "     - ------------------------------------- 0.5/12.8 MB 814.9 kB/s eta 0:00:16\n",
      "     - ------------------------------------- 0.6/12.8 MB 903.1 kB/s eta 0:00:14\n",
      "     -- ------------------------------------ 0.8/12.8 MB 996.7 kB/s eta 0:00:13\n",
      "     --- ------------------------------------ 1.0/12.8 MB 1.2 MB/s eta 0:00:10\n",
      "     --- ------------------------------------ 1.2/12.8 MB 1.4 MB/s eta 0:00:09\n",
      "     ---- ----------------------------------- 1.3/12.8 MB 1.5 MB/s eta 0:00:08\n",
      "     ---- ----------------------------------- 1.3/12.8 MB 1.5 MB/s eta 0:00:08\n",
      "     ---- ----------------------------------- 1.5/12.8 MB 1.5 MB/s eta 0:00:08\n",
      "     ----- ---------------------------------- 1.8/12.8 MB 1.8 MB/s eta 0:00:07\n",
      "     ----- ---------------------------------- 1.9/12.8 MB 1.7 MB/s eta 0:00:07\n",
      "     ------ --------------------------------- 2.0/12.8 MB 1.8 MB/s eta 0:00:07\n",
      "     ------ --------------------------------- 2.1/12.8 MB 1.8 MB/s eta 0:00:07\n",
      "     ------- -------------------------------- 2.4/12.8 MB 1.9 MB/s eta 0:00:06\n",
      "     -------- ------------------------------- 2.6/12.8 MB 2.0 MB/s eta 0:00:06\n",
      "     --------- ------------------------------ 2.9/12.8 MB 2.1 MB/s eta 0:00:05\n",
      "     --------- ------------------------------ 3.0/12.8 MB 2.2 MB/s eta 0:00:05\n",
      "     ---------- ----------------------------- 3.3/12.8 MB 2.3 MB/s eta 0:00:05\n",
      "     ---------- ----------------------------- 3.4/12.8 MB 2.3 MB/s eta 0:00:05\n",
      "     ----------- ---------------------------- 3.6/12.8 MB 2.4 MB/s eta 0:00:04\n",
      "     ----------- ---------------------------- 3.8/12.8 MB 2.4 MB/s eta 0:00:04\n",
      "     ------------- -------------------------- 4.2/12.8 MB 2.6 MB/s eta 0:00:04\n",
      "     ------------- -------------------------- 4.3/12.8 MB 2.6 MB/s eta 0:00:04\n",
      "     -------------- ------------------------- 4.6/12.8 MB 2.7 MB/s eta 0:00:04\n",
      "     -------------- ------------------------- 4.7/12.8 MB 2.7 MB/s eta 0:00:04\n",
      "     --------------- ------------------------ 5.0/12.8 MB 2.8 MB/s eta 0:00:03\n",
      "     --------------- ------------------------ 5.1/12.8 MB 2.7 MB/s eta 0:00:03\n",
      "     ---------------- ----------------------- 5.2/12.8 MB 2.7 MB/s eta 0:00:03\n",
      "     ----------------- ---------------------- 5.5/12.8 MB 2.8 MB/s eta 0:00:03\n",
      "     ------------------ --------------------- 5.8/12.8 MB 2.9 MB/s eta 0:00:03\n",
      "     ------------------- -------------------- 6.1/12.8 MB 3.0 MB/s eta 0:00:03\n",
      "     ------------------- -------------------- 6.3/12.8 MB 3.0 MB/s eta 0:00:03\n",
      "     -------------------- ------------------- 6.4/12.8 MB 3.0 MB/s eta 0:00:03\n",
      "     -------------------- ------------------- 6.5/12.8 MB 3.0 MB/s eta 0:00:03\n",
      "     --------------------- ------------------ 6.9/12.8 MB 3.1 MB/s eta 0:00:02\n",
      "     ---------------------- ----------------- 7.3/12.8 MB 3.2 MB/s eta 0:00:02\n",
      "     ----------------------- ---------------- 7.5/12.8 MB 3.2 MB/s eta 0:00:02\n",
      "     ------------------------ --------------- 7.8/12.8 MB 3.3 MB/s eta 0:00:02\n",
      "     ------------------------ --------------- 7.9/12.8 MB 3.3 MB/s eta 0:00:02\n",
      "     ------------------------ --------------- 8.0/12.8 MB 3.2 MB/s eta 0:00:02\n",
      "     ------------------------- -------------- 8.1/12.8 MB 3.2 MB/s eta 0:00:02\n",
      "     ------------------------- -------------- 8.3/12.8 MB 3.2 MB/s eta 0:00:02\n",
      "     --------------------------- ------------ 8.8/12.8 MB 3.4 MB/s eta 0:00:02\n",
      "     ---------------------------- ----------- 9.1/12.8 MB 3.4 MB/s eta 0:00:02\n",
      "     ----------------------------- ---------- 9.4/12.8 MB 3.5 MB/s eta 0:00:01\n",
      "     ----------------------------- ---------- 9.5/12.8 MB 3.5 MB/s eta 0:00:01\n",
      "     ------------------------------ --------- 9.7/12.8 MB 3.4 MB/s eta 0:00:01\n",
      "     ------------------------------ --------- 9.8/12.8 MB 3.4 MB/s eta 0:00:01\n",
      "     -------------------------------- ------- 10.4/12.8 MB 3.9 MB/s eta 0:00:01\n",
      "     -------------------------------- ------- 10.5/12.8 MB 4.0 MB/s eta 0:00:01\n",
      "     --------------------------------- ------ 10.7/12.8 MB 4.4 MB/s eta 0:00:01\n",
      "     ---------------------------------- ----- 11.0/12.8 MB 4.5 MB/s eta 0:00:01\n",
      "     ---------------------------------- ----- 11.1/12.8 MB 4.5 MB/s eta 0:00:01\n",
      "     ----------------------------------- ---- 11.3/12.8 MB 4.5 MB/s eta 0:00:01\n",
      "     ----------------------------------- ---- 11.3/12.8 MB 4.4 MB/s eta 0:00:01\n",
      "     ------------------------------------ --- 11.7/12.8 MB 4.5 MB/s eta 0:00:01\n",
      "     ------------------------------------- -- 11.9/12.8 MB 4.5 MB/s eta 0:00:01\n",
      "     ------------------------------------- -- 12.1/12.8 MB 4.6 MB/s eta 0:00:01\n",
      "     -------------------------------------- - 12.3/12.8 MB 4.7 MB/s eta 0:00:01\n",
      "     ---------------------------------------  12.5/12.8 MB 4.7 MB/s eta 0:00:01\n",
      "     ---------------------------------------  12.6/12.8 MB 4.7 MB/s eta 0:00:01\n",
      "     ---------------------------------------  12.7/12.8 MB 4.5 MB/s eta 0:00:01\n",
      "     ---------------------------------------  12.8/12.8 MB 4.5 MB/s eta 0:00:01\n",
      "     ---------------------------------------  12.8/12.8 MB 4.5 MB/s eta 0:00:01\n",
      "     ---------------------------------------- 12.8/12.8 MB 4.3 MB/s eta 0:00:00\n",
      "Requirement already satisfied: spacy<3.8.0,>=3.7.2 in c:\\python311\\lib\\site-packages (from en-core-web-sm==3.7.1) (3.7.2)\n",
      "Requirement already satisfied: spacy-legacy<3.1.0,>=3.0.11 in c:\\python311\\lib\\site-packages (from spacy<3.8.0,>=3.7.2->en-core-web-sm==3.7.1) (3.0.12)\n",
      "Requirement already satisfied: spacy-loggers<2.0.0,>=1.0.0 in c:\\python311\\lib\\site-packages (from spacy<3.8.0,>=3.7.2->en-core-web-sm==3.7.1) (1.0.5)\n",
      "Requirement already satisfied: murmurhash<1.1.0,>=0.28.0 in c:\\python311\\lib\\site-packages (from spacy<3.8.0,>=3.7.2->en-core-web-sm==3.7.1) (1.0.10)\n",
      "Requirement already satisfied: cymem<2.1.0,>=2.0.2 in c:\\python311\\lib\\site-packages (from spacy<3.8.0,>=3.7.2->en-core-web-sm==3.7.1) (2.0.8)\n",
      "Requirement already satisfied: preshed<3.1.0,>=3.0.2 in c:\\python311\\lib\\site-packages (from spacy<3.8.0,>=3.7.2->en-core-web-sm==3.7.1) (3.0.9)\n",
      "Requirement already satisfied: thinc<8.3.0,>=8.1.8 in c:\\python311\\lib\\site-packages (from spacy<3.8.0,>=3.7.2->en-core-web-sm==3.7.1) (8.2.2)\n",
      "Requirement already satisfied: wasabi<1.2.0,>=0.9.1 in c:\\python311\\lib\\site-packages (from spacy<3.8.0,>=3.7.2->en-core-web-sm==3.7.1) (1.1.2)\n",
      "Requirement already satisfied: srsly<3.0.0,>=2.4.3 in c:\\python311\\lib\\site-packages (from spacy<3.8.0,>=3.7.2->en-core-web-sm==3.7.1) (2.4.8)\n",
      "Requirement already satisfied: catalogue<2.1.0,>=2.0.6 in c:\\python311\\lib\\site-packages (from spacy<3.8.0,>=3.7.2->en-core-web-sm==3.7.1) (2.0.10)\n",
      "Requirement already satisfied: weasel<0.4.0,>=0.1.0 in c:\\python311\\lib\\site-packages (from spacy<3.8.0,>=3.7.2->en-core-web-sm==3.7.1) (0.3.4)\n",
      "Requirement already satisfied: typer<0.10.0,>=0.3.0 in c:\\python311\\lib\\site-packages (from spacy<3.8.0,>=3.7.2->en-core-web-sm==3.7.1) (0.9.0)\n",
      "Requirement already satisfied: smart-open<7.0.0,>=5.2.1 in c:\\python311\\lib\\site-packages (from spacy<3.8.0,>=3.7.2->en-core-web-sm==3.7.1) (6.4.0)\n",
      "Requirement already satisfied: tqdm<5.0.0,>=4.38.0 in c:\\python311\\lib\\site-packages (from spacy<3.8.0,>=3.7.2->en-core-web-sm==3.7.1) (4.64.1)\n",
      "Requirement already satisfied: requests<3.0.0,>=2.13.0 in c:\\python311\\lib\\site-packages (from spacy<3.8.0,>=3.7.2->en-core-web-sm==3.7.1) (2.28.1)\n",
      "Requirement already satisfied: pydantic!=1.8,!=1.8.1,<3.0.0,>=1.7.4 in c:\\python311\\lib\\site-packages (from spacy<3.8.0,>=3.7.2->en-core-web-sm==3.7.1) (1.10.4)\n",
      "Requirement already satisfied: jinja2 in c:\\python311\\lib\\site-packages (from spacy<3.8.0,>=3.7.2->en-core-web-sm==3.7.1) (3.1.2)\n",
      "Requirement already satisfied: setuptools in c:\\python311\\lib\\site-packages (from spacy<3.8.0,>=3.7.2->en-core-web-sm==3.7.1) (65.5.0)\n",
      "Requirement already satisfied: packaging>=20.0 in c:\\python311\\lib\\site-packages (from spacy<3.8.0,>=3.7.2->en-core-web-sm==3.7.1) (23.0)\n",
      "Requirement already satisfied: langcodes<4.0.0,>=3.2.0 in c:\\python311\\lib\\site-packages (from spacy<3.8.0,>=3.7.2->en-core-web-sm==3.7.1) (3.3.0)\n",
      "Requirement already satisfied: numpy>=1.19.0 in c:\\python311\\lib\\site-packages (from spacy<3.8.0,>=3.7.2->en-core-web-sm==3.7.1) (1.23.5)\n",
      "Requirement already satisfied: typing-extensions>=4.2.0 in c:\\python311\\lib\\site-packages (from pydantic!=1.8,!=1.8.1,<3.0.0,>=1.7.4->spacy<3.8.0,>=3.7.2->en-core-web-sm==3.7.1) (4.4.0)\n",
      "Requirement already satisfied: charset-normalizer<3,>=2 in c:\\python311\\lib\\site-packages (from requests<3.0.0,>=2.13.0->spacy<3.8.0,>=3.7.2->en-core-web-sm==3.7.1) (2.1.1)\n",
      "Requirement already satisfied: idna<4,>=2.5 in c:\\python311\\lib\\site-packages (from requests<3.0.0,>=2.13.0->spacy<3.8.0,>=3.7.2->en-core-web-sm==3.7.1) (2.10)\n",
      "Requirement already satisfied: urllib3<1.27,>=1.21.1 in c:\\python311\\lib\\site-packages (from requests<3.0.0,>=2.13.0->spacy<3.8.0,>=3.7.2->en-core-web-sm==3.7.1) (1.26.13)\n",
      "Requirement already satisfied: certifi>=2017.4.17 in c:\\python311\\lib\\site-packages (from requests<3.0.0,>=2.13.0->spacy<3.8.0,>=3.7.2->en-core-web-sm==3.7.1) (2022.12.7)\n",
      "Requirement already satisfied: blis<0.8.0,>=0.7.8 in c:\\python311\\lib\\site-packages (from thinc<8.3.0,>=8.1.8->spacy<3.8.0,>=3.7.2->en-core-web-sm==3.7.1) (0.7.11)\n",
      "Requirement already satisfied: confection<1.0.0,>=0.0.1 in c:\\python311\\lib\\site-packages (from thinc<8.3.0,>=8.1.8->spacy<3.8.0,>=3.7.2->en-core-web-sm==3.7.1) (0.1.4)\n",
      "Requirement already satisfied: colorama in c:\\python311\\lib\\site-packages (from tqdm<5.0.0,>=4.38.0->spacy<3.8.0,>=3.7.2->en-core-web-sm==3.7.1) (0.4.6)\n",
      "Requirement already satisfied: click<9.0.0,>=7.1.1 in c:\\python311\\lib\\site-packages (from typer<0.10.0,>=0.3.0->spacy<3.8.0,>=3.7.2->en-core-web-sm==3.7.1) (8.1.3)\n",
      "Requirement already satisfied: cloudpathlib<0.17.0,>=0.7.0 in c:\\python311\\lib\\site-packages (from weasel<0.4.0,>=0.1.0->spacy<3.8.0,>=3.7.2->en-core-web-sm==3.7.1) (0.16.0)\n",
      "Requirement already satisfied: MarkupSafe>=2.0 in c:\\python311\\lib\\site-packages (from jinja2->spacy<3.8.0,>=3.7.2->en-core-web-sm==3.7.1) (2.1.2)\n",
      "Installing collected packages: en-core-web-sm\n",
      "Successfully installed en-core-web-sm-3.7.1\n",
      "\u001b[38;5;2m[+] Download and installation successful\u001b[0m\n",
      "You can now load the package via spacy.load('en_core_web_sm')\n"
     ]
    },
    {
     "name": "stderr",
     "output_type": "stream",
     "text": [
      "\n",
      "[notice] A new release of pip is available: 23.0.1 -> 23.3.2\n",
      "[notice] To update, run: python.exe -m pip install --upgrade pip\n"
     ]
    }
   ],
   "source": [
    "!python -m spacy download en_core_web_sm"
   ]
  },
  {
   "cell_type": "code",
   "execution_count": 33,
   "id": "31a88584",
   "metadata": {},
   "outputs": [
    {
     "name": "stdout",
     "output_type": "stream",
     "text": [
      "spaCy INTJ nsubj\n",
      "is AUX ROOT\n",
      "a DET det\n",
      "powerful ADJ amod\n",
      "NLP PROPN compound\n",
      "library NOUN attr\n",
      ". PUNCT punct\n"
     ]
    }
   ],
   "source": [
    "import spacy\n",
    "\n",
    "# Load the English language model\n",
    "nlp = spacy.load('en_core_web_sm')\n",
    "\n",
    "# Process a text\n",
    "doc = nlp(\"spaCy is a powerful NLP library.\")\n",
    "\n",
    "# Access various annotations\n",
    "for token in doc:\n",
    "    print(token.text, token.pos_, token.dep_)"
   ]
  },
  {
   "cell_type": "code",
   "execution_count": null,
   "id": "c986881f",
   "metadata": {},
   "outputs": [],
   "source": []
  }
 ],
 "metadata": {
  "kernelspec": {
   "display_name": "Python 3 (ipykernel)",
   "language": "python",
   "name": "python3"
  },
  "language_info": {
   "codemirror_mode": {
    "name": "ipython",
    "version": 3
   },
   "file_extension": ".py",
   "mimetype": "text/x-python",
   "name": "python",
   "nbconvert_exporter": "python",
   "pygments_lexer": "ipython3",
   "version": "3.11.3"
  }
 },
 "nbformat": 4,
 "nbformat_minor": 5
}

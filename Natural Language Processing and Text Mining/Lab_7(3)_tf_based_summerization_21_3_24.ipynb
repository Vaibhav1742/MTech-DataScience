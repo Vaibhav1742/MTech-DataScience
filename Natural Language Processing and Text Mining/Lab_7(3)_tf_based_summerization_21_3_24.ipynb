{
 "cells": [
  {
   "cell_type": "code",
   "execution_count": 1,
   "id": "23755e61",
   "metadata": {},
   "outputs": [],
   "source": [
    "d1 = '''Formula One, commonly known as Formula 1 or F1, is the highest class of international racing for open-wheel single-seater formula racing cars sanctioned by the Fédération Internationale de l'Automobile (FIA). The FIA Formula One World Championship has been one of the premier forms of racing around the world since its inaugural running in 1950. The word formula in the name refers to the set of rules to which all participants' cars must conform. A Formula One season consists of a series of races, known as Grands Prix. Grands Prix take place in multiple countries and continents around the world on either purpose-built circuits or closed public roads.\n",
    "\n",
    "A point-system is used at Grands Prix to determine two annual World Championships: one for the drivers, and one for the constructors (the teams). Each driver must hold a valid Super Licence, the highest class of racing licence issued by the FIA, and the races must be held on grade one tracks, the highest grade-rating issued by the FIA for tracks.'''"
   ]
  },
  {
   "cell_type": "code",
   "execution_count": 2,
   "id": "8e8dbc94",
   "metadata": {},
   "outputs": [],
   "source": [
    "d2 = '''On the track, the McLaren and Williams teams dominated the 1980s and 1990s. Brabham were also being competitive during the early part of the 1980s, winning two Drivers' Championships with Nelson Piquet. Powered by Porsche, Honda, and Mercedes-Benz, McLaren won sixteen championships (seven constructors' and nine drivers') in that period, while Williams used engines from Ford, Honda, and Renault to also win sixteen titles (nine constructors' and seven drivers'). The rivalry between racers Ayrton Senna and Alain Prost became F1's central focus during 1988 and continued until Prost retired at the end of 1993. Senna died at the 1994 San Marino Grand Prix after crashing into a wall on the exit of the notorious curve Tamburello. The FIA worked to improve the sport's safety standards since that weekend, during which Roland Ratzenberger also died in an accident during Saturday qualifying. No driver died of injuries sustained on the track at the wheel of a Formula One car for 20 years until the 2014 Japanese Grand Prix, where Jules Bianchi collided with a recovery vehicle after aquaplaning off the circuit, dying nine months later from his injuries. Since 1994, three track marshals have died, one at the 2000 Italian Grand Prix,[31] the second at the 2001 Australian Grand Prix[31] and the third at the 2013 Canadian Grand Prix.'''"
   ]
  },
  {
   "cell_type": "code",
   "execution_count": 3,
   "id": "82b529ca",
   "metadata": {},
   "outputs": [],
   "source": [
    "d3 = '''A major rule shake-up in 2014 saw the 2.4-litre naturally aspirated V8 engines replaced by 1.6-litre turbocharged hybrid power units. This prompted Honda to return to the sport in 2015 as the championship's fourth power unit manufacturer. Mercedes emerged as the dominant force after the rule shake-up, with Lewis Hamilton winning the championship closely followed by his main rival and teammate, Nico Rosberg, with the team winning 16 out of the 19 races that season. The team continued this form in the following two seasons, again winning 16 races in 2015 before taking a record 19 wins in 2016, with Hamilton claiming the title in the former year and Rosberg winning it in the latter by five points. The 2016 season also saw a new team, Haas, join the grid, while Max Verstappen became the youngest-ever race winner at the age of 18 in Spain.'''"
   ]
  },
  {
   "cell_type": "code",
   "execution_count": 4,
   "id": "391cb3e5",
   "metadata": {},
   "outputs": [],
   "source": [
    "d4 = '''The race begins with a warm-up lap, after which the cars assemble on the starting grid in the order they qualified. This lap is often referred to as the formation lap, as the cars lap in formation with no overtaking (although a driver who makes a mistake may regain lost ground). The warm-up lap allows drivers to check the condition of the track and their car, gives the tyres a chance to warm up to increase traction and grip, and also gives the pit crews time to clear themselves and their equipment from the grid for the race start.'''"
   ]
  },
  {
   "cell_type": "code",
   "execution_count": 5,
   "id": "49ded6b2",
   "metadata": {},
   "outputs": [],
   "source": [
    "d5 = '''A Formula One constructor is the entity credited for designing the chassis and the engine.[97] If both are designed by the same company, that company receives sole credit as the constructor (e.g., Ferrari). If they are designed by different companies, both are credited, and the name of the chassis designer is placed before that of the engine designer (e.g., McLaren-Mercedes). All constructors are scored individually, even if they share either chassis or engine with another constructor (e.g., Williams-Ford, Williams-Honda in 1983).'''"
   ]
  },
  {
   "cell_type": "code",
   "execution_count": 6,
   "id": "e3846cbb",
   "metadata": {},
   "outputs": [],
   "source": [
    "d6 = '''The use of volunteers was integral in making and maintaining Wikipedia. However, even without the internet, huge complex projects of similar nature had made use of volunteers. Specifically, the creation of the Oxford English Dictionary was conceived with the speech at the London Library, on Guy Fawkes Day, 5 November 1857, by Richard Chenevix Trench. It took about 70 years to complete. Dr. Trench envisioned a grand new dictionary of every word in the English language, and to be used democratically and freely. According to author Simon Winchester, \"The undertaking of the scheme, he said, was beyond the ability of any one man. To peruse all of English literature – and to comb the London and New York newspapers and the most literate of the magazines and journals – must be instead 'the combined action of many.' It would be necessary to recruit a team – moreover, a huge one – probably comprising hundreds and hundreds of unpaid amateurs, all of them working as volunteers.'''"
   ]
  },
  {
   "cell_type": "code",
   "execution_count": 18,
   "id": "37b159f1",
   "metadata": {},
   "outputs": [],
   "source": [
    "import nltk\n",
    "from nltk.corpus import stopwords\n",
    "from collections import Counter\n",
    "from nltk.tokenize import word_tokenize, sent_tokenize"
   ]
  },
  {
   "cell_type": "code",
   "execution_count": 9,
   "id": "01963ad9",
   "metadata": {},
   "outputs": [],
   "source": [
    "documents = [d1, d2, d3, d4, d5, d6]"
   ]
  },
  {
   "cell_type": "code",
   "execution_count": 26,
   "id": "15122be7",
   "metadata": {},
   "outputs": [],
   "source": [
    "# Function to calculate TF scores for words in a paragraph\n",
    "def calculate_tf(paragraph):\n",
    "    words = word_tokenize(paragraph.lower())\n",
    "    word_counts = Counter(words)\n",
    "    total_words = len(words)\n",
    "    return {word: count / total_words for word, count in word_counts.items()}"
   ]
  },
  {
   "cell_type": "code",
   "execution_count": 27,
   "id": "89252e4f",
   "metadata": {},
   "outputs": [],
   "source": [
    "# Function to find sentences containing the top word with the highest TF score\n",
    "def find_sentences_with_top_word(paragraph, top_word):\n",
    "    sentences_containing_top_word = []\n",
    "    for sentence in sent_tokenize(paragraph):\n",
    "        if top_word in word_tokenize(sentence.lower()):\n",
    "            sentences_containing_top_word.append(sentence)\n",
    "    return sentences_containing_top_word"
   ]
  },
  {
   "cell_type": "code",
   "execution_count": 28,
   "id": "48ccd4d4",
   "metadata": {},
   "outputs": [
    {
     "name": "stdout",
     "output_type": "stream",
     "text": [
      "Paragraph 1:\n",
      "The word with the highest TF score is: the\n",
      "Sentences containing the top word:\n",
      "- Formula One, commonly known as Formula 1 or F1, is the highest class of international racing for open-wheel single-seater formula racing cars sanctioned by the Fédération Internationale de l'Automobile (FIA).\n",
      "- The FIA Formula One World Championship has been one of the premier forms of racing around the world since its inaugural running in 1950.\n",
      "- The word formula in the name refers to the set of rules to which all participants' cars must conform.\n",
      "- Grands Prix take place in multiple countries and continents around the world on either purpose-built circuits or closed public roads.\n",
      "- A point-system is used at Grands Prix to determine two annual World Championships: one for the drivers, and one for the constructors (the teams).\n",
      "- Each driver must hold a valid Super Licence, the highest class of racing licence issued by the FIA, and the races must be held on grade one tracks, the highest grade-rating issued by the FIA for tracks.\n",
      "\n",
      "Paragraph 2:\n",
      "The word with the highest TF score is: the\n",
      "Sentences containing the top word:\n",
      "- On the track, the McLaren and Williams teams dominated the 1980s and 1990s.\n",
      "- Brabham were also being competitive during the early part of the 1980s, winning two Drivers' Championships with Nelson Piquet.\n",
      "- The rivalry between racers Ayrton Senna and Alain Prost became F1's central focus during 1988 and continued until Prost retired at the end of 1993.\n",
      "- Senna died at the 1994 San Marino Grand Prix after crashing into a wall on the exit of the notorious curve Tamburello.\n",
      "- The FIA worked to improve the sport's safety standards since that weekend, during which Roland Ratzenberger also died in an accident during Saturday qualifying.\n",
      "- No driver died of injuries sustained on the track at the wheel of a Formula One car for 20 years until the 2014 Japanese Grand Prix, where Jules Bianchi collided with a recovery vehicle after aquaplaning off the circuit, dying nine months later from his injuries.\n",
      "- Since 1994, three track marshals have died, one at the 2000 Italian Grand Prix,[31] the second at the 2001 Australian Grand Prix[31] and the third at the 2013 Canadian Grand Prix.\n",
      "\n",
      "Paragraph 3:\n",
      "The word with the highest TF score is: the\n",
      "Sentences containing the top word:\n",
      "- A major rule shake-up in 2014 saw the 2.4-litre naturally aspirated V8 engines replaced by 1.6-litre turbocharged hybrid power units.\n",
      "- This prompted Honda to return to the sport in 2015 as the championship's fourth power unit manufacturer.\n",
      "- Mercedes emerged as the dominant force after the rule shake-up, with Lewis Hamilton winning the championship closely followed by his main rival and teammate, Nico Rosberg, with the team winning 16 out of the 19 races that season.\n",
      "- The team continued this form in the following two seasons, again winning 16 races in 2015 before taking a record 19 wins in 2016, with Hamilton claiming the title in the former year and Rosberg winning it in the latter by five points.\n",
      "- The 2016 season also saw a new team, Haas, join the grid, while Max Verstappen became the youngest-ever race winner at the age of 18 in Spain.\n",
      "\n",
      "Paragraph 4:\n",
      "The word with the highest TF score is: the\n",
      "Sentences containing the top word:\n",
      "- The race begins with a warm-up lap, after which the cars assemble on the starting grid in the order they qualified.\n",
      "- This lap is often referred to as the formation lap, as the cars lap in formation with no overtaking (although a driver who makes a mistake may regain lost ground).\n",
      "- The warm-up lap allows drivers to check the condition of the track and their car, gives the tyres a chance to warm up to increase traction and grip, and also gives the pit crews time to clear themselves and their equipment from the grid for the race start.\n",
      "\n",
      "Paragraph 5:\n",
      "The word with the highest TF score is: the\n",
      "Sentences containing the top word:\n",
      "- A Formula One constructor is the entity credited for designing the chassis and the engine.\n",
      "- [97] If both are designed by the same company, that company receives sole credit as the constructor (e.g., Ferrari).\n",
      "- If they are designed by different companies, both are credited, and the name of the chassis designer is placed before that of the engine designer (e.g., McLaren-Mercedes).\n",
      "\n",
      "Paragraph 6:\n",
      "The word with the highest TF score is: the\n",
      "Sentences containing the top word:\n",
      "- The use of volunteers was integral in making and maintaining Wikipedia.\n",
      "- However, even without the internet, huge complex projects of similar nature had made use of volunteers.\n",
      "- Specifically, the creation of the Oxford English Dictionary was conceived with the speech at the London Library, on Guy Fawkes Day, 5 November 1857, by Richard Chenevix Trench.\n",
      "- Dr. Trench envisioned a grand new dictionary of every word in the English language, and to be used democratically and freely.\n",
      "- According to author Simon Winchester, \"The undertaking of the scheme, he said, was beyond the ability of any one man.\n",
      "- To peruse all of English literature – and to comb the London and New York newspapers and the most literate of the magazines and journals – must be instead 'the combined action of many.'\n",
      "\n"
     ]
    }
   ],
   "source": [
    "# Iterate through each paragraph\n",
    "for idx, paragraph in enumerate(documents):\n",
    "    # Calculate TF scores for words in the paragraph\n",
    "    tf_scores = calculate_tf(paragraph)\n",
    "    # Find the word with the highest TF score\n",
    "    top_word = max(tf_scores, key=tf_scores.get)\n",
    "    # Find sentences containing the top word\n",
    "    sentences_with_top_word = find_sentences_with_top_word(paragraph, top_word)\n",
    "    # Print summary and sentences containing the top word\n",
    "    print(f\"Paragraph {idx + 1}:\")\n",
    "    print(\"The word with the highest TF score is:\", top_word)\n",
    "    print(\"Sentences containing the top word:\")\n",
    "    for sentence in sentences_with_top_word:\n",
    "        print(\"-\", sentence)\n",
    "    print()"
   ]
  },
  {
   "cell_type": "code",
   "execution_count": 30,
   "id": "29031405",
   "metadata": {},
   "outputs": [
    {
     "name": "stdout",
     "output_type": "stream",
     "text": [
      "Summary:\n",
      "The word with the highest TF score is: the\n",
      "Sentences containing the top word:\n",
      "- Formula One, commonly known as Formula 1 or F1, is the highest class of international racing for open-wheel single-seater formula racing cars sanctioned by the Fédération Internationale de l'Automobile (FIA).\n",
      "- The FIA Formula One World Championship has been one of the premier forms of racing around the world since its inaugural running in 1950.\n",
      "- The word formula in the name refers to the set of rules to which all participants' cars must conform.\n",
      "- Grands Prix take place in multiple countries and continents around the world on either purpose-built circuits or closed public roads.\n",
      "- A point-system is used at Grands Prix to determine two annual World Championships: one for the drivers, and one for the constructors (the teams).\n",
      "- Each driver must hold a valid Super Licence, the highest class of racing licence issued by the FIA, and the races must be held on grade one tracks, the highest grade-rating issued by the FIA for tracks.\n",
      "- On the track, the McLaren and Williams teams dominated the 1980s and 1990s.\n",
      "- Brabham were also being competitive during the early part of the 1980s, winning two Drivers' Championships with Nelson Piquet.\n",
      "- The rivalry between racers Ayrton Senna and Alain Prost became F1's central focus during 1988 and continued until Prost retired at the end of 1993.\n",
      "- Senna died at the 1994 San Marino Grand Prix after crashing into a wall on the exit of the notorious curve Tamburello.\n",
      "- The FIA worked to improve the sport's safety standards since that weekend, during which Roland Ratzenberger also died in an accident during Saturday qualifying.\n",
      "- No driver died of injuries sustained on the track at the wheel of a Formula One car for 20 years until the 2014 Japanese Grand Prix, where Jules Bianchi collided with a recovery vehicle after aquaplaning off the circuit, dying nine months later from his injuries.\n",
      "- Since 1994, three track marshals have died, one at the 2000 Italian Grand Prix,[31] the second at the 2001 Australian Grand Prix[31] and the third at the 2013 Canadian Grand Prix.\n",
      "- A major rule shake-up in 2014 saw the 2.4-litre naturally aspirated V8 engines replaced by 1.6-litre turbocharged hybrid power units.\n",
      "- This prompted Honda to return to the sport in 2015 as the championship's fourth power unit manufacturer.\n",
      "- Mercedes emerged as the dominant force after the rule shake-up, with Lewis Hamilton winning the championship closely followed by his main rival and teammate, Nico Rosberg, with the team winning 16 out of the 19 races that season.\n",
      "- The team continued this form in the following two seasons, again winning 16 races in 2015 before taking a record 19 wins in 2016, with Hamilton claiming the title in the former year and Rosberg winning it in the latter by five points.\n",
      "- The 2016 season also saw a new team, Haas, join the grid, while Max Verstappen became the youngest-ever race winner at the age of 18 in Spain.\n",
      "- The race begins with a warm-up lap, after which the cars assemble on the starting grid in the order they qualified.\n",
      "- This lap is often referred to as the formation lap, as the cars lap in formation with no overtaking (although a driver who makes a mistake may regain lost ground).\n",
      "- The warm-up lap allows drivers to check the condition of the track and their car, gives the tyres a chance to warm up to increase traction and grip, and also gives the pit crews time to clear themselves and their equipment from the grid for the race start.\n",
      "- A Formula One constructor is the entity credited for designing the chassis and the engine.\n",
      "- [97] If both are designed by the same company, that company receives sole credit as the constructor (e.g., Ferrari).\n",
      "- If they are designed by different companies, both are credited, and the name of the chassis designer is placed before that of the engine designer (e.g., McLaren-Mercedes).\n",
      "- The use of volunteers was integral in making and maintaining Wikipedia.\n",
      "- However, even without the internet, huge complex projects of similar nature had made use of volunteers.\n",
      "- Specifically, the creation of the Oxford English Dictionary was conceived with the speech at the London Library, on Guy Fawkes Day, 5 November 1857, by Richard Chenevix Trench.\n",
      "- Dr. Trench envisioned a grand new dictionary of every word in the English language, and to be used democratically and freely.\n",
      "- According to author Simon Winchester, \"The undertaking of the scheme, he said, was beyond the ability of any one man.\n",
      "- To peruse all of English literature – and to comb the London and New York newspapers and the most literate of the magazines and journals – must be instead 'the combined action of many.'\n"
     ]
    }
   ],
   "source": [
    "# Concatenate all paragraphs into a single string\n",
    "document = ' '.join(documents)\n",
    "\n",
    "# Function to calculate TF scores for words in the document\n",
    "def calculate_tf(document):\n",
    "    words = word_tokenize(document.lower())\n",
    "    word_counts = Counter(words)\n",
    "    total_words = len(words)\n",
    "    return {word: count / total_words for word, count in word_counts.items()}\n",
    "\n",
    "# Function to find sentences containing the top word with the highest TF score\n",
    "def find_sentences_with_top_word(document, top_word):\n",
    "    sentences_containing_top_word = []\n",
    "    for sentence in sent_tokenize(document):\n",
    "        if top_word in word_tokenize(sentence.lower()):\n",
    "            sentences_containing_top_word.append(sentence)\n",
    "    return sentences_containing_top_word\n",
    "\n",
    "# Calculate TF scores for words in the document\n",
    "tf_scores = calculate_tf(document)\n",
    "\n",
    "# Find the word with the highest TF score\n",
    "top_word = max(tf_scores, key=tf_scores.get)\n",
    "\n",
    "# Find sentences containing the top word\n",
    "sentences_with_top_word = find_sentences_with_top_word(document, top_word)\n",
    "\n",
    "# Print summary and sentences containing the top word\n",
    "print(\"Summary:\")\n",
    "print(\"The word with the highest TF score is:\", top_word)\n",
    "print(\"Sentences containing the top word:\")\n",
    "for sentence in sentences_with_top_word:\n",
    "    print(\"-\", sentence)"
   ]
  },
  {
   "cell_type": "code",
   "execution_count": 1,
   "id": "8d677c43",
   "metadata": {},
   "outputs": [
    {
     "name": "stdout",
     "output_type": "stream",
     "text": [
      "['track', ',', 'McLaren', 'Williams', 'teams', 'dominated', '1980s', '1990s', '.', 'Brabham', 'also', 'competitive', 'early', 'part', '1980s', ',', 'winning', 'two', 'Drivers', \"'\", 'Championships', 'Nelson', 'Piquet', '.', 'Powered', 'Porsche', ',', 'Honda', ',', 'Mercedes-Benz', ',', 'McLaren', 'sixteen', 'championships', '(', 'seven', 'constructors', \"'\", 'nine', 'drivers', \"'\", ')', 'period', ',', 'Williams', 'used', 'engines', 'Ford', ',', 'Honda', ',', 'Renault', 'also', 'win', 'sixteen', 'titles', '(', 'nine', 'constructors', \"'\", 'seven', 'drivers', \"'\", ')', '.', 'rivalry', 'racers', 'Ayrton', 'Senna', 'Alain', 'Prost', 'became', 'F1', \"'s\", 'central', 'focus', '1988', 'continued', 'Prost', 'retired', 'end', '1993', '.', 'Senna', 'died', '1994', 'San', 'Marino', 'Grand', 'Prix', 'crashing', 'wall', 'exit', 'notorious', 'curve', 'Tamburello', '.', 'FIA', 'worked', 'improve', 'sport', \"'s\", 'safety', 'standards', 'since', 'weekend', ',', 'Roland', 'Ratzenberger', 'also', 'died', 'accident', 'Saturday', 'qualifying', '.', 'driver', 'died', 'injuries', 'sustained', 'track', 'wheel', 'Formula', 'One', 'car', '20', 'years', '2014', 'Japanese', 'Grand', 'Prix', ',', 'Jules', 'Bianchi', 'collided', 'recovery', 'vehicle', 'aquaplaning', 'circuit', ',', 'dying', 'nine', 'months', 'later', 'injuries', '.', 'Since', '1994', ',', 'three', 'track', 'marshals', 'died', ',', 'one', '2000', 'Italian', 'Grand', 'Prix', ',', '[', '31', ']', 'second', '2001', 'Australian', 'Grand', 'Prix', '[', '31', ']', 'third', '2013', 'Canadian', 'Grand', 'Prix', '.']\n"
     ]
    }
   ],
   "source": [
    "import nltk\n",
    "from nltk.corpus import stopwords\n",
    "from nltk.tokenize import word_tokenize\n",
    "\n",
    "def remove_stopwords(text):\n",
    "    stop_words = set(stopwords.words('english'))\n",
    "    word_tokens = word_tokenize(text)\n",
    "    filtered_text = [word for word in word_tokens if word.lower() not in stop_words]\n",
    "    return filtered_text\n",
    "\n",
    "document = \"On the track, the McLaren and Williams teams dominated the 1980s and 1990s. Brabham were also being competitive during the early part of the 1980s, winning two Drivers' Championships with Nelson Piquet. Powered by Porsche, Honda, and Mercedes-Benz, McLaren won sixteen championships (seven constructors' and nine drivers') in that period, while Williams used engines from Ford, Honda, and Renault to also win sixteen titles (nine constructors' and seven drivers'). The rivalry between racers Ayrton Senna and Alain Prost became F1's central focus during 1988 and continued until Prost retired at the end of 1993. Senna died at the 1994 San Marino Grand Prix after crashing into a wall on the exit of the notorious curve Tamburello. The FIA worked to improve the sport's safety standards since that weekend, during which Roland Ratzenberger also died in an accident during Saturday qualifying. No driver died of injuries sustained on the track at the wheel of a Formula One car for 20 years until the 2014 Japanese Grand Prix, where Jules Bianchi collided with a recovery vehicle after aquaplaning off the circuit, dying nine months later from his injuries. Since 1994, three track marshals have died, one at the 2000 Italian Grand Prix,[31] the second at the 2001 Australian Grand Prix[31] and the third at the 2013 Canadian Grand Prix.\"\n",
    "tokenized_document = remove_stopwords(document)\n",
    "print(tokenized_document)"
   ]
  },
  {
   "cell_type": "code",
   "execution_count": 2,
   "id": "52eae082",
   "metadata": {},
   "outputs": [
    {
     "name": "stdout",
     "output_type": "stream",
     "text": [
      "Term              TF Score\n",
      "---------------------------------------\n",
      "Grand               0.035461\n",
      "Prix                0.035461\n",
      "died                0.028369\n",
      "track               0.021277\n",
      "also                0.021277\n",
      "nine                0.021277\n",
      "McLaren             0.014184\n",
      "Williams            0.014184\n",
      "1980s               0.014184\n",
      "Honda               0.014184\n",
      "sixteen             0.014184\n",
      "seven               0.014184\n",
      "constructors        0.014184\n",
      "drivers             0.014184\n",
      "Senna               0.014184\n",
      "Prost               0.014184\n",
      "s                   0.014184\n",
      "1994                0.014184\n",
      "injuries            0.014184\n",
      "31                  0.014184\n",
      "teams               0.007092\n",
      "dominated           0.007092\n",
      "1990s               0.007092\n",
      "Brabham             0.007092\n",
      "competitive         0.007092\n",
      "early               0.007092\n",
      "part                0.007092\n",
      "winning             0.007092\n",
      "two                 0.007092\n",
      "Drivers             0.007092\n",
      "Championships       0.007092\n",
      "Nelson              0.007092\n",
      "Piquet              0.007092\n",
      "Powered             0.007092\n",
      "Porsche             0.007092\n",
      "MercedesBenz        0.007092\n",
      "championships       0.007092\n",
      "period              0.007092\n",
      "used                0.007092\n",
      "engines             0.007092\n",
      "Ford                0.007092\n",
      "Renault             0.007092\n",
      "win                 0.007092\n",
      "titles              0.007092\n",
      "rivalry             0.007092\n",
      "racers              0.007092\n",
      "Ayrton              0.007092\n",
      "Alain               0.007092\n",
      "became              0.007092\n",
      "F1                  0.007092\n",
      "central             0.007092\n",
      "focus               0.007092\n",
      "1988                0.007092\n",
      "continued           0.007092\n",
      "retired             0.007092\n",
      "end                 0.007092\n",
      "1993                0.007092\n",
      "San                 0.007092\n",
      "Marino              0.007092\n",
      "crashing            0.007092\n",
      "wall                0.007092\n",
      "exit                0.007092\n",
      "notorious           0.007092\n",
      "curve               0.007092\n",
      "Tamburello          0.007092\n",
      "FIA                 0.007092\n",
      "worked              0.007092\n",
      "improve             0.007092\n",
      "sport               0.007092\n",
      "safety              0.007092\n",
      "standards           0.007092\n",
      "since               0.007092\n",
      "weekend             0.007092\n",
      "Roland              0.007092\n",
      "Ratzenberger        0.007092\n",
      "accident            0.007092\n",
      "Saturday            0.007092\n",
      "qualifying          0.007092\n",
      "driver              0.007092\n",
      "sustained           0.007092\n",
      "wheel               0.007092\n",
      "Formula             0.007092\n",
      "One                 0.007092\n",
      "car                 0.007092\n",
      "20                  0.007092\n",
      "years               0.007092\n",
      "2014                0.007092\n",
      "Japanese            0.007092\n",
      "Jules               0.007092\n",
      "Bianchi             0.007092\n",
      "collided            0.007092\n",
      "recovery            0.007092\n",
      "vehicle             0.007092\n",
      "aquaplaning         0.007092\n",
      "circuit             0.007092\n",
      "dying               0.007092\n",
      "months              0.007092\n",
      "later               0.007092\n",
      "Since               0.007092\n",
      "three               0.007092\n",
      "marshals            0.007092\n",
      "one                 0.007092\n",
      "2000                0.007092\n",
      "Italian             0.007092\n",
      "second              0.007092\n",
      "2001                0.007092\n",
      "Australian          0.007092\n",
      "third               0.007092\n",
      "2013                0.007092\n",
      "Canadian            0.007092\n"
     ]
    }
   ],
   "source": [
    "from collections import Counter\n",
    "\n",
    "def calculate_tf(tokens):\n",
    "    cleaned_tokens = [''.join(char for char in token if char.isalnum()) for token in tokens]\n",
    "    cleaned_tokens = [token for token in cleaned_tokens if token]  # Remove empty tokens\n",
    "    tf_scores = Counter(cleaned_tokens)\n",
    "    total_tokens = len(cleaned_tokens)\n",
    "    for token in tf_scores:\n",
    "        tf_scores[token] /= total_tokens\n",
    "    return tf_scores\n",
    "\n",
    "tf_scores = calculate_tf(tokenized_document)\n",
    "sorted_tf_scores = sorted(tf_scores.items(), key=lambda x: x[1], reverse=True)\n",
    "\n",
    "def print_tf_scores(sorted_tf_scores):\n",
    "    print(\"Term              TF Score\")\n",
    "    print(\"---------------------------------------\")\n",
    "    for term, tf_score in sorted_tf_scores:\n",
    "        print(f\"{term.ljust(20)}{tf_score:.6f}\")\n",
    "\n",
    "print_tf_scores(sorted_tf_scores)"
   ]
  },
  {
   "cell_type": "code",
   "execution_count": 6,
   "id": "b36d0bcc",
   "metadata": {},
   "outputs": [],
   "source": [
    "def get_sentence_tf(sentence, tf_scores):\n",
    "    tokens = nltk.word_tokenize(sentence.lower())\n",
    "    total_words = len(tokens)\n",
    "    tf_score = sum(tf_scores[word] for word in tokens) / total_words\n",
    "    return tf_score"
   ]
  },
  {
   "cell_type": "code",
   "execution_count": 7,
   "id": "c6b22566",
   "metadata": {},
   "outputs": [
    {
     "name": "stdout",
     "output_type": "stream",
     "text": [
      "Top Sentences:\n",
      "---------------------------------------\n",
      "Sentence 1: No driver died of injuries sustained on the track at the wheel of a Formula One car for 20 years until the 2014 Japanese Grand Prix, where Jules Bianchi collided with a recovery vehicle after aquaplaning off the circuit, dying nine months later from his injuries.\n",
      "---------------------------------------\n",
      "Sentence 2: Powered by Porsche, Honda, and Mercedes-Benz, McLaren won sixteen championships (seven constructors' and nine drivers') in that period, while Williams used engines from Ford, Honda, and Renault to also win sixteen titles (nine constructors' and seven drivers').\n",
      "---------------------------------------\n",
      "Sentence 3: The FIA worked to improve the sport's safety standards since that weekend, during which Roland Ratzenberger also died in an accident during Saturday qualifying.\n",
      "---------------------------------------\n"
     ]
    }
   ],
   "source": [
    "def get_top_sentences(document, tf_scores, num_sentences=3):\n",
    "    sentences = nltk.sent_tokenize(document)\n",
    "    sentence_tfs = [(sentence, get_sentence_tf(sentence, tf_scores)) for sentence in sentences]\n",
    "    sorted_sentence_tfs = sorted(sentence_tfs, key=lambda x: x[1], reverse=True)[:num_sentences]\n",
    "    return [sentence for sentence, _ in sorted_sentence_tfs]\n",
    "\n",
    "top_sentences = get_top_sentences(document, tf_scores)\n",
    "def print_top_sentences(top_sentences):\n",
    "    print(\"Top Sentences:\")\n",
    "    print(\"---------------------------------------\")\n",
    "    for i, sentence in enumerate(top_sentences, 1):\n",
    "        print(f\"Sentence {i}: {sentence}\")\n",
    "        print(\"---------------------------------------\")\n",
    "\n",
    "print_top_sentences(top_sentences)"
   ]
  },
  {
   "cell_type": "code",
   "execution_count": 8,
   "id": "f2e5449b",
   "metadata": {},
   "outputs": [
    {
     "name": "stdout",
     "output_type": "stream",
     "text": [
      "Top Sentences:\n",
      "---------------------------------------\n",
      "Sentence 1: No driver died of injuries sustained on the track at the wheel of a Formula One car for 20 years until the 2014 Japanese Grand Prix, where Jules Bianchi collided with a recovery vehicle after aquaplaning off the circuit, dying nine months later from his injuries.\n",
      "---------------------------------------\n",
      "Sentence 2: Powered by Porsche, Honda, and Mercedes-Benz, McLaren won sixteen championships (seven constructors' and nine drivers') in that period, while Williams used engines from Ford, Honda, and Renault to also win sixteen titles (nine constructors' and seven drivers').\n",
      "---------------------------------------\n",
      "Sentence 3: The FIA worked to improve the sport's safety standards since that weekend, during which Roland Ratzenberger also died in an accident during Saturday qualifying.\n",
      "---------------------------------------\n"
     ]
    }
   ],
   "source": [
    "top_sentences = get_top_sentences(document, tf_scores)\n",
    "def print_top_sentences(top_sentences):\n",
    "    print(\"Top Sentences:\")\n",
    "    print(\"---------------------------------------\")\n",
    "    for i, sentence in enumerate(top_sentences, 1):\n",
    "        print(f\"Sentence {i}: {sentence}\")\n",
    "        print(\"---------------------------------------\")\n",
    "\n",
    "print_top_sentences(top_sentences)"
   ]
  },
  {
   "cell_type": "code",
   "execution_count": null,
   "id": "94aebe77",
   "metadata": {},
   "outputs": [],
   "source": []
  }
 ],
 "metadata": {
  "kernelspec": {
   "display_name": "Python 3 (ipykernel)",
   "language": "python",
   "name": "python3"
  },
  "language_info": {
   "codemirror_mode": {
    "name": "ipython",
    "version": 3
   },
   "file_extension": ".py",
   "mimetype": "text/x-python",
   "name": "python",
   "nbconvert_exporter": "python",
   "pygments_lexer": "ipython3",
   "version": "3.11.3"
  }
 },
 "nbformat": 4,
 "nbformat_minor": 5
}

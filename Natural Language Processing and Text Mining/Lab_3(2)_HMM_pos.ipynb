{
 "cells": [
  {
   "cell_type": "code",
   "execution_count": 20,
   "id": "61d08f05-0ab9-4d38-9937-a7274e1c45b8",
   "metadata": {},
   "outputs": [],
   "source": [
    "from __future__ import division #To avoid integer division\n",
    "from operator import itemgetter"
   ]
  },
  {
   "cell_type": "code",
   "execution_count": 21,
   "id": "78396177-b855-4494-9917-9510fe9f6434",
   "metadata": {},
   "outputs": [],
   "source": [
    "with open(\"words_pos.csv\", \"r\") as myfile:\n",
    "    tr_str = myfile.read()\n",
    "tr_li = tr_str.split()\n",
    "num_words_train = len(tr_li)"
   ]
  },
  {
   "cell_type": "code",
   "execution_count": 22,
   "id": "6b9ae5f8-e88d-4112-bc77-9cfac2737881",
   "metadata": {},
   "outputs": [],
   "source": [
    "train_li_words = ['']\n",
    "train_li_words*= num_words_train\n",
    "\n",
    "train_li_tags = ['']\n",
    "train_li_tags*= num_words_train"
   ]
  },
  {
   "cell_type": "code",
   "execution_count": 23,
   "id": "bc5730ec-927e-4a60-8a2a-af364a3407f6",
   "metadata": {},
   "outputs": [],
   "source": [
    "noun_reduced_list = ['NN','NNS','NNP','NNPS']\n",
    "verb_reduced_list = ['VB','VBD','VBG','VBN','VBP','VBZ']\n",
    "adjec_reduced_list = ['JJ', 'JJR', 'JJS']\n",
    "adv_reduced_list = ['RB', 'RBR', 'RBS']\n",
    "pronoun_reduced_list = ['PRP', 'PRP$', 'RP']"
   ]
  },
  {
   "cell_type": "code",
   "execution_count": 24,
   "id": "b8fba134-68e7-457e-98ae-b97548e05e05",
   "metadata": {},
   "outputs": [],
   "source": [
    "for i in range(num_words_train):\n",
    "    temp_li = tr_li[i]\n",
    "    train_li_words[i] = temp_li[0]\n",
    "    if temp_li[1] in noun_reduced_list:\n",
    "        train_li_tags[i] = 'N'\n",
    "    elif temp_li[1] in verb_reduced_list:\n",
    "        train_li_tags[i] = 'V'\n",
    "    elif temp_li[1] in adjec_reduced_list:\n",
    "        train_li_tags[i] = 'ADJ'\n",
    "    elif temp_li[1] in adv_reduced_list:\n",
    "        train_li_tags[i] = 'ADV'        \n",
    "    elif temp_li[1] in pronoun_reduced_list:\n",
    "        train_li_tags[i] = 'PRO'\n",
    "    else:\n",
    "        train_li_tags[i] = temp_li[1]"
   ]
  },
  {
   "cell_type": "code",
   "execution_count": 7,
   "id": "9b9a3d16-65a6-4068-99fe-6d80de4dbddf",
   "metadata": {},
   "outputs": [
    {
     "name": "stdout",
     "output_type": "stream",
     "text": [
      "[',', '0', '1', '2', '3', '4', '5', '6', '7', '8', '9', 'w']\n"
     ]
    }
   ],
   "source": [
    "k = sorted(list(set(train_li_tags)))\n",
    "print(k)\n",
    "dict2_tag_follow_tag_ = {}\n",
    "\"\"\"Nested dictionary to store the transition probabilities\n",
    "each tag A is a key of the outer dictionary\n",
    "the inner dictionary is the corresponding value\n",
    "The inner dictionary's key is the tag B following A\n",
    "and the corresponding value is the number of times B follows A\n",
    "\"\"\"\n",
    "\n",
    "dict2_word_tag = {}\n",
    "\"\"\"Nested dictionary to store the emission probabilities.\n",
    "Each word W is a key of the outer dictionary\n",
    "The inner dictionary is the corresponding value\n",
    "The inner dictionary's key is the tag A of the word W\n",
    "and the corresponding value is the number of times A is a tag of W\n",
    "\"\"\"\n",
    "\n",
    "dict_word_tag_baseline = {}\n",
    "#Dictionary with word as key and its most frequent tag as value"
   ]
  },
  {
   "cell_type": "code",
   "execution_count": 8,
   "id": "81e4e35a-3fbb-4e81-973b-c9fe4c699f10",
   "metadata": {},
   "outputs": [],
   "source": [
    "for i in range(num_words_train-1):\n",
    "    outer_key = train_li_tags[i]\n",
    "    inner_key = train_li_tags[i+1]\n",
    "    dict2_tag_follow_tag_[outer_key]=dict2_tag_follow_tag_.get(outer_key,{})\n",
    "    dict2_tag_follow_tag_[outer_key][inner_key] = dict2_tag_follow_tag_[outer_key].get(inner_key,0)\n",
    "    dict2_tag_follow_tag_[outer_key][inner_key]+=1\n",
    "\n",
    "    outer_key = train_li_words[i]\n",
    "    inner_key = train_li_tags[i]\n",
    "    dict2_word_tag[outer_key]=dict2_word_tag.get(outer_key,{})\n",
    "    dict2_word_tag[outer_key][inner_key] = dict2_word_tag[outer_key].get(inner_key,0)\n",
    "    dict2_word_tag[outer_key][inner_key]+=1"
   ]
  },
  {
   "cell_type": "code",
   "execution_count": 9,
   "id": "aa06a1e7-c9db-462b-8d58-3126d607c5b6",
   "metadata": {},
   "outputs": [
    {
     "name": "stdout",
     "output_type": "stream",
     "text": [
      "Key 'NN' not found in dict2_tag_follow_tag_\n",
      "Key 'Rudolph' not found in dict2_word_tag\n"
     ]
    }
   ],
   "source": [
    "# Check if 'NN' key exists in dict2_tag_follow_tag_\n",
    "if 'NN' in dict2_tag_follow_tag_:\n",
    "    print(dict2_tag_follow_tag_['NN'])\n",
    "else:\n",
    "    print(\"Key 'NN' not found in dict2_tag_follow_tag_\")\n",
    "\n",
    "# Check if 'Rudolph' key exists in dict2_word_tag\n",
    "if 'Rudolph' in dict2_word_tag:\n",
    "    print(dict2_word_tag['Rudolph'])\n",
    "else:\n",
    "    print(\"Key 'Rudolph' not found in dict2_word_tag\")"
   ]
  },
  {
   "cell_type": "code",
   "execution_count": 10,
   "id": "11e71d65-1428-40ae-ab65-a1dc0a7568cc",
   "metadata": {},
   "outputs": [],
   "source": [
    "\"\"\"Converting counts to probabilities in the two nested dictionaries\n",
    "& also converting the nested dictionaries to outer dictionary with inner sorted lists\n",
    "\"\"\"\n",
    "for key in dict2_tag_follow_tag_:\n",
    "    di = dict2_tag_follow_tag_[key]\n",
    "    s = sum(di.values())\n",
    "    for innkey in di:\n",
    "        di[innkey] /= s\n",
    "    di = di.items()\n",
    "    di = sorted(di,key=lambda x: x[0])\n",
    "    dict2_tag_follow_tag_[key] = di\n",
    "\n",
    "for key in dict2_word_tag:\n",
    "    di = dict2_word_tag[key]\n",
    "    dict_word_tag_baseline[key] = max(di, key=di.get)\n",
    "    s = sum(di.values())\n",
    "    for innkey in di:\n",
    "        di[innkey] /= s\n",
    "    di = di.items()\n",
    "    di = sorted(di,key=lambda x: x[0])\n",
    "    dict2_word_tag[key] = di"
   ]
  },
  {
   "cell_type": "code",
   "execution_count": 11,
   "id": "22c9d239-1a90-4987-8dbe-8414a233d6cd",
   "metadata": {},
   "outputs": [],
   "source": [
    "###Testing Phase###    \n",
    "with open(\"output.txt\", \"r\") as myfile:\n",
    "    te_str = myfile.read()\n",
    "\n",
    "te_li = te_str.split()\n",
    "num_words_test = len(te_li)\n",
    "\n",
    "test_li_words = ['']\n",
    "test_li_words*= num_words_test\n",
    "\n",
    "test_li_tags = ['']\n",
    "test_li_tags*= num_words_test\n",
    "\n",
    "output_li = ['']\n",
    "output_li*= num_words_test\n",
    "\n",
    "output_li_baseline = ['']\n",
    "output_li_baseline*= num_words_test\n",
    "\n",
    "num_errors = 0\n",
    "num_errors_baseline = 0"
   ]
  },
  {
   "cell_type": "code",
   "execution_count": 12,
   "id": "5ec23370-8190-4d6c-97ca-f3f785ddd607",
   "metadata": {
    "scrolled": true
   },
   "outputs": [],
   "source": [
    "for i in range(num_words_test):\n",
    "    temp_li = te_li[i].split(\"/\")\n",
    "    test_li_words[i] = temp_li[0]\n",
    "    if temp_li[1] in noun_reduced_list:\n",
    "        test_li_tags[i] = 'N'\n",
    "    elif temp_li[1] in verb_reduced_list:\n",
    "        test_li_tags[i] = 'V'\n",
    "    elif temp_li[1] in adjec_reduced_list:\n",
    "        test_li_tags[i] = 'ADJ'\n",
    "    elif temp_li[1] in adv_reduced_list:\n",
    "        test_li_tags[i] = 'ADV'        \n",
    "    elif temp_li[1] in pronoun_reduced_list:\n",
    "        test_li_tags[i] = 'PRO'\n",
    "    else:\n",
    "        test_li_tags[i] = temp_li[1]\n",
    "\n",
    "    output_li_baseline[i] = dict_word_tag_baseline.get(temp_li[0], '')\n",
    "    # If unknown word - tag = 'N'\n",
    "    if output_li_baseline[i] == '':\n",
    "        output_li_baseline[i] = 'N'\n",
    "\n",
    "    if output_li_baseline[i] != test_li_tags[i]:\n",
    "        num_errors_baseline += 1\n",
    "\n",
    "    if i == 0:  # Accounting for the 1st word in the test document for the Viterbi\n",
    "        di_transition_probs = dict2_tag_follow_tag_.get('.', [])  # Get value for key '.' or an empty list if not present\n",
    "    else:\n",
    "        di_transition_probs = dict2_tag_follow_tag_.get(output_li[i - 1], [])\n",
    "\n",
    "    di_emission_probs = dict2_word_tag.get(test_li_words[i], '')\n",
    "\n",
    "    # If unknown word - tag = 'N'\n",
    "    if di_emission_probs == '':\n",
    "        output_li[i] = 'N'\n",
    "    else:\n",
    "        max_prod_prob = 0\n",
    "        counter_trans = 0\n",
    "        counter_emis = 0\n",
    "        prod_prob = 0\n",
    "        while counter_trans < len(di_transition_probs) and counter_emis < len(di_emission_probs):\n",
    "            tag_tr = di_transition_probs[counter_trans][0]\n",
    "            tag_em = di_emission_probs[counter_emis][0]\n",
    "            if tag_tr < tag_em:\n",
    "                counter_trans += 1\n",
    "            elif tag_tr > tag_em:\n",
    "                counter_emis += 1\n",
    "            else:\n",
    "                prod_prob = di_transition_probs[counter_trans][1] * di_emission_probs[counter_emis][1]\n",
    "                if prod_prob > max_prod_prob:\n",
    "                    max_prod_prob = prod_prob\n",
    "                    output_li[i] = tag_tr\n",
    "                    print(\"i=\", i, \" and output=\", output_li[i])\n",
    "                counter_trans += 1\n",
    "                counter_emis += 1\n",
    "\n",
    "        if output_li[i] == '':  # In case there are no matching entries between the transition tags and emission tags, we choose the most frequent emission tag\n",
    "            output_li[i] = max(di_emission_probs, key=itemgetter(1))[0]\n",
    "\n",
    "    if output_li[i] != test_li_tags[i]:\n",
    "        num_errors += 1"
   ]
  },
  {
   "cell_type": "code",
   "execution_count": 13,
   "id": "819b7cfa-8a3e-40ba-8b9e-b6476ac06ced",
   "metadata": {
    "scrolled": true
   },
   "outputs": [
    {
     "name": "stdout",
     "output_type": "stream",
     "text": [
      "Fraction of errors (Baseline) : 0.7303252885624344\n",
      "Fraction of errors (Viterbi): 0.7303252885624344\n",
      "Tags suggested by Baseline Algorithm: ['N', 'N', 'N', 'N', 'N', 'N', 'w', 'N', 'N', 'N', 'N', 'N', 'N', 'N', 'w', 'N', 'N', 'N', 'N', 'N', 'N', 'N', 'N', 'N', 'w', 'N', 'N', 'N', 'N', 'N', 'N', 'N', 'N', 'N', 'N', 'N', 'N', 'N', 'N', 'N', 'N', 'N', 'N', 'N', 'N', 'N', 'N', 'N', 'N', 'N', 'N', 'w', 'N', 'N', 'N', 'N', 'N', 'N', 'N', 'N', 'N', 'N', 'N', 'N', 'N', 'N', 'N', 'N', 'N', 'N', 'N', 'N', 'N', 'N', 'N', 'N', 'N', 'N', 'N', 'N', 'N', 'N', 'N', 'N', 'N', 'N', 'w', 'N', 'N', 'N', 'N', 'N', 'N', 'N', 'N', 'N', 'N', 'N', 'N', 'w', 'N', 'N', 'N', 'N', 'N', 'N', 'N', 'N', 'N', 'N', 'N', 'N', 'N', 'N', 'N', 'N', 'N', 'N', 'N', 'N', 'N', 'N', 'N', 'N', 'N', 'N', 'N', 'w', 'N', 'N', 'N', 'N', 'N', 'N', 'N', 'N', 'N', 'N', 'N', 'N', 'N', 'N', 'N', 'N', 'N', 'N', 'N', 'N', 'N', 'N', 'N', 'N', 'N', 'N', 'N', 'N', 'N', 'N', 'N', 'N', 'N', 'N', 'N', 'N', 'N', 'N', 'N', 'N', 'N', 'w', 'N', 'N', 'N', 'N', 'N', 'N', 'N', 'N', 'N', 'N', 'N', 'N', 'N', 'N', 'N', 'N', 'N', 'N', 'N', 'N', 'N', 'N', 'N', 'N', 'N', 'N', 'N', 'N', 'N', 'N', 'N', 'N', 'N', 'N', 'N', 'w', 'N', 'N', 'N', 'N', 'N', 'N', 'N', 'N', 'N', 'w', 'N', 'N', 'N', 'N', 'N', 'N', 'N', 'N', 'N', 'N', 'N', 'N', 'N', 'w', 'N', 'N', 'N', 'N', 'N', 'N', 'N', 'w', 'N', 'N', 'N', 'N', 'N', 'N', 'N', 'N', 'N', 'N', 'N', 'N', 'N', 'N', 'N', 'N', 'N', 'N', 'N', 'N', 'N', 'N', 'N', 'w', 'N', 'N', 'N', 'N', 'N', 'N', 'N', 'N', 'N', 'N', 'w', 'N', 'N', 'N', 'N', 'N', 'N', 'N', 'N', 'N', 'N', 'N', 'N', 'N', 'N', 'N', 'N', 'N', 'N', 'N', 'N', 'N', 'N', 'N', 'N', 'N', 'N', 'N', 'N', 'N', 'N', 'w', 'N', 'N', 'N', 'N', 'N', 'N', 'N', 'N', 'N', 'w', 'N', 'N', 'N', 'w', 'N', 'N', 'N', 'w', 'N', 'N', 'N', 'N', 'N', 'N', 'N', 'N', 'N', 'N', 'N', 'N', 'N', 'N', 'w', 'N', 'N', 'N', 'N', 'w', 'N', 'N', 'N', 'N', 'N', 'N', 'N', 'N', 'N', 'w', 'N', 'N', 'N', 'N', 'N', 'N', 'N', 'N', 'N', 'N', 'N', 'N', 'N', 'N', 'N', 'N', 'N', 'w', 'N', 'N', 'N', 'N', 'N', 'N', 'N', 'N', 'N', 'w', 'N', 'N', 'N', 'N', 'N', 'N', 'N', 'N', 'N', 'N', 'N', 'N', 'N', 'N', 'N', 'N', 'N', 'w', 'N', 'N', 'N', 'N', 'N', 'N', 'N', 'N', 'N', 'N', 'N', 'N', 'N', 'N', 'N', 'N', 'N', 'N', 'N', 'N', 'N', 'N', 'N', 'N', 'N', 'N', 'N', 'N', 'N', 'N', 'w', 'N', 'N', 'N', 'N', 'N', 'N', 'N', 'N', 'N', 'N', 'N', 'N', 'N', 'w', 'N', 'N', 'N', 'N', 'N', 'N', 'N', 'N', 'N', 'w', 'N', 'N', 'N', 'N', 'N', 'N', 'N', 'N', 'N', 'N', 'N', 'N', 'N', 'N', 'N', 'N', 'N', 'N', 'N', 'w', 'N', 'N', 'N', 'N', 'N', 'N', 'N', 'w', 'N', 'N', 'N', 'N', 'N', 'N', 'N', 'N', 'N', 'N', 'N', 'N', 'N', 'N', 'N', 'N', 'N', 'N', 'N', 'N', 'N', 'N', 'N', 'N', 'w', 'N', 'N', 'N', 'N', 'N', 'N', 'N', 'N', 'N', 'N', 'N', 'N', 'N', 'N', 'N', 'N', 'N', 'N', 'w', 'N', 'N', 'N', 'N', 'N', 'N', 'N', 'N', 'N', 'N', 'N', 'N', 'N', 'w', 'N', 'N', 'N', 'N', 'N', 'N', 'N', 'N', 'N', 'w', 'N', 'N', 'N', 'N', 'N', 'N', 'N', 'N', 'N', 'N', 'N', 'N', 'N', 'N', 'N', 'N', 'N', 'N', 'N', 'N', 'N', 'N', 'N', 'N', 'N', 'w', 'N', 'N', 'N', 'N', 'N', 'N', 'N', 'N', 'N', 'N', 'N', 'N', 'N', 'N', 'N', 'N', 'N', 'N', 'N', 'N', 'N', 'N', 'N', 'N', 'N', 'N', 'N', 'N', 'N', 'w', 'N', 'N', 'N', 'N', 'N', 'N', 'N', 'N', 'N', 'N', 'N', 'N', 'N', 'N', 'N', 'N', 'N', 'N', 'w', 'N', 'N', 'N', 'N', 'N', 'N', 'N', 'N', 'N', 'N', 'N', 'N', 'N', 'N', 'N', 'N', 'N', 'N', 'N', 'N', 'N', 'N', 'N', 'N', 'N', 'N', 'N', 'N', 'N', 'N', 'w', 'N', 'N', 'N', 'N', 'N', 'N', 'N', 'N', 'N', 'N', 'w', 'N', 'N', 'w', 'N', 'N', 'N', 'N', 'N', 'N', 'N', 'N', 'N', 'N', 'N', 'N', 'N', 'N', 'N', 'N', 'N', 'N', 'N', 'N', 'N', 'N', 'N', 'N', 'N', 'N', 'N', 'N', 'N', 'N', 'N', 'N', 'N', 'N', 'N', 'N', 'N', 'N', 'N', 'N', 'N', 'N', 'N', 'N', 'N', 'w', 'N', 'N', 'N', 'N', 'N', 'w', 'N', 'N', 'N', 'N', 'N', 'N', 'N', 'N', 'N', 'N', 'N', 'N', 'N', 'N', 'N', 'N', 'N', 'N', 'N', 'N', 'N', 'N', 'N', 'N', 'N', 'N', 'N', 'N', 'N', 'N', 'w', 'N', 'N', 'N', 'N', 'N', 'N', 'N', 'N', 'N', 'N', 'N', 'N', 'N', 'N', 'N', 'w', 'N', 'N', 'N', 'N', 'N', 'N', 'N', 'w', 'N', 'N', 'N', 'N', 'N', 'N', 'N', 'N', 'N', 'N', 'N', 'N', 'N', 'N', 'N', 'N', 'N', 'w', 'N', 'N', 'N', 'N', 'N', 'N', 'N', 'N', 'N', 'N', 'N', 'N', 'N', 'N', 'N', 'N', 'w', 'N', 'N', 'N', 'N', 'N', 'N', 'N', 'N', 'N', 'N', 'N', 'N', 'N', 'N', 'N', 'N', 'w', 'N', 'N', 'N', 'N', 'N', 'N', 'w', 'N', 'N', 'N', 'N', 'w', 'N', 'N', 'N', 'N', 'N', 'N', 'N', 'N', 'N', 'N', 'N', 'N', 'N', 'N', 'N', 'N', 'N', 'w', 'N', 'N', 'N', 'N', 'N', 'N', 'N', 'N', 'N', 'N', 'N', 'w', 'N', 'N', 'N', 'N', 'N', 'N', 'N', 'N', 'N', 'w', 'N', 'N', 'N', 'N', 'N', 'N', 'N', 'N', 'N', 'N', 'N', 'N', 'N', 'N', 'N', 'N', 'N', 'N', 'N', 'w', 'N', 'N', 'N', 'N', 'N', 'N', 'N', 'N', 'N', 'N', 'N', 'N', 'N', 'N', 'N', 'N', 'w', 'N', 'N', 'N', 'N', 'N', 'w', 'N', 'N', 'N', 'N', 'N', 'N', 'N', 'N', 'N', 'N', 'w', 'N', 'N', 'N', 'N', 'N', 'N', 'N', 'N', 'N', 'N', 'N', 'N', 'N', 'N', 'N', 'N', 'N', 'N', 'N']\n",
      "Tags suggested by Viterbi Algorithm: ['N', 'N', 'N', 'N', 'N', 'N', 'w', 'N', 'N', 'N', 'N', 'N', 'N', 'N', 'w', 'N', 'N', 'N', 'N', 'N', 'N', 'N', 'N', 'N', 'w', 'N', 'N', 'N', 'N', 'N', 'N', 'N', 'N', 'N', 'N', 'N', 'N', 'N', 'N', 'N', 'N', 'N', 'N', 'N', 'N', 'N', 'N', 'N', 'N', 'N', 'N', 'w', 'N', 'N', 'N', 'N', 'N', 'N', 'N', 'N', 'N', 'N', 'N', 'N', 'N', 'N', 'N', 'N', 'N', 'N', 'N', 'N', 'N', 'N', 'N', 'N', 'N', 'N', 'N', 'N', 'N', 'N', 'N', 'N', 'N', 'N', 'w', 'N', 'N', 'N', 'N', 'N', 'N', 'N', 'N', 'N', 'N', 'N', 'N', 'w', 'N', 'N', 'N', 'N', 'N', 'N', 'N', 'N', 'N', 'N', 'N', 'N', 'N', 'N', 'N', 'N', 'N', 'N', 'N', 'N', 'N', 'N', 'N', 'N', 'N', 'N', 'N', 'w', 'N', 'N', 'N', 'N', 'N', 'N', 'N', 'N', 'N', 'N', 'N', 'N', 'N', 'N', 'N', 'N', 'N', 'N', 'N', 'N', 'N', 'N', 'N', 'N', 'N', 'N', 'N', 'N', 'N', 'N', 'N', 'N', 'N', 'N', 'N', 'N', 'N', 'N', 'N', 'N', 'N', 'w', 'N', 'N', 'N', 'N', 'N', 'N', 'N', 'N', 'N', 'N', 'N', 'N', 'N', 'N', 'N', 'N', 'N', 'N', 'N', 'N', 'N', 'N', 'N', 'N', 'N', 'N', 'N', 'N', 'N', 'N', 'N', 'N', 'N', 'N', 'N', 'w', 'N', 'N', 'N', 'N', 'N', 'N', 'N', 'N', 'N', 'w', 'N', 'N', 'N', 'N', 'N', 'N', 'N', 'N', 'N', 'N', 'N', 'N', 'N', 'w', 'N', 'N', 'N', 'N', 'N', 'N', 'N', 'w', 'N', 'N', 'N', 'N', 'N', 'N', 'N', 'N', 'N', 'N', 'N', 'N', 'N', 'N', 'N', 'N', 'N', 'N', 'N', 'N', 'N', 'N', 'N', 'w', 'N', 'N', 'N', 'N', 'N', 'N', 'N', 'N', 'N', 'N', 'w', 'N', 'N', 'N', 'N', 'N', 'N', 'N', 'N', 'N', 'N', 'N', 'N', 'N', 'N', 'N', 'N', 'N', 'N', 'N', 'N', 'N', 'N', 'N', 'N', 'N', 'N', 'N', 'N', 'N', 'N', 'w', 'N', 'N', 'N', 'N', 'N', 'N', 'N', 'N', 'N', 'w', 'N', 'N', 'N', 'w', 'N', 'N', 'N', 'w', 'N', 'N', 'N', 'N', 'N', 'N', 'N', 'N', 'N', 'N', 'N', 'N', 'N', 'N', 'w', 'N', 'N', 'N', 'N', 'w', 'N', 'N', 'N', 'N', 'N', 'N', 'N', 'N', 'N', 'w', 'N', 'N', 'N', 'N', 'N', 'N', 'N', 'N', 'N', 'N', 'N', 'N', 'N', 'N', 'N', 'N', 'N', 'w', 'N', 'N', 'N', 'N', 'N', 'N', 'N', 'N', 'N', 'w', 'N', 'N', 'N', 'N', 'N', 'N', 'N', 'N', 'N', 'N', 'N', 'N', 'N', 'N', 'N', 'N', 'N', 'w', 'N', 'N', 'N', 'N', 'N', 'N', 'N', 'N', 'N', 'N', 'N', 'N', 'N', 'N', 'N', 'N', 'N', 'N', 'N', 'N', 'N', 'N', 'N', 'N', 'N', 'N', 'N', 'N', 'N', 'N', 'w', 'N', 'N', 'N', 'N', 'N', 'N', 'N', 'N', 'N', 'N', 'N', 'N', 'N', 'w', 'N', 'N', 'N', 'N', 'N', 'N', 'N', 'N', 'N', 'w', 'N', 'N', 'N', 'N', 'N', 'N', 'N', 'N', 'N', 'N', 'N', 'N', 'N', 'N', 'N', 'N', 'N', 'N', 'N', 'w', 'N', 'N', 'N', 'N', 'N', 'N', 'N', 'w', 'N', 'N', 'N', 'N', 'N', 'N', 'N', 'N', 'N', 'N', 'N', 'N', 'N', 'N', 'N', 'N', 'N', 'N', 'N', 'N', 'N', 'N', 'N', 'N', 'w', 'N', 'N', 'N', 'N', 'N', 'N', 'N', 'N', 'N', 'N', 'N', 'N', 'N', 'N', 'N', 'N', 'N', 'N', 'w', 'N', 'N', 'N', 'N', 'N', 'N', 'N', 'N', 'N', 'N', 'N', 'N', 'N', 'w', 'N', 'N', 'N', 'N', 'N', 'N', 'N', 'N', 'N', 'w', 'N', 'N', 'N', 'N', 'N', 'N', 'N', 'N', 'N', 'N', 'N', 'N', 'N', 'N', 'N', 'N', 'N', 'N', 'N', 'N', 'N', 'N', 'N', 'N', 'N', 'w', 'N', 'N', 'N', 'N', 'N', 'N', 'N', 'N', 'N', 'N', 'N', 'N', 'N', 'N', 'N', 'N', 'N', 'N', 'N', 'N', 'N', 'N', 'N', 'N', 'N', 'N', 'N', 'N', 'N', 'w', 'N', 'N', 'N', 'N', 'N', 'N', 'N', 'N', 'N', 'N', 'N', 'N', 'N', 'N', 'N', 'N', 'N', 'N', 'w', 'N', 'N', 'N', 'N', 'N', 'N', 'N', 'N', 'N', 'N', 'N', 'N', 'N', 'N', 'N', 'N', 'N', 'N', 'N', 'N', 'N', 'N', 'N', 'N', 'N', 'N', 'N', 'N', 'N', 'N', 'w', 'N', 'N', 'N', 'N', 'N', 'N', 'N', 'N', 'N', 'N', 'w', 'N', 'N', 'w', 'N', 'N', 'N', 'N', 'N', 'N', 'N', 'N', 'N', 'N', 'N', 'N', 'N', 'N', 'N', 'N', 'N', 'N', 'N', 'N', 'N', 'N', 'N', 'N', 'N', 'N', 'N', 'N', 'N', 'N', 'N', 'N', 'N', 'N', 'N', 'N', 'N', 'N', 'N', 'N', 'N', 'N', 'N', 'N', 'N', 'w', 'N', 'N', 'N', 'N', 'N', 'w', 'N', 'N', 'N', 'N', 'N', 'N', 'N', 'N', 'N', 'N', 'N', 'N', 'N', 'N', 'N', 'N', 'N', 'N', 'N', 'N', 'N', 'N', 'N', 'N', 'N', 'N', 'N', 'N', 'N', 'N', 'w', 'N', 'N', 'N', 'N', 'N', 'N', 'N', 'N', 'N', 'N', 'N', 'N', 'N', 'N', 'N', 'w', 'N', 'N', 'N', 'N', 'N', 'N', 'N', 'w', 'N', 'N', 'N', 'N', 'N', 'N', 'N', 'N', 'N', 'N', 'N', 'N', 'N', 'N', 'N', 'N', 'N', 'w', 'N', 'N', 'N', 'N', 'N', 'N', 'N', 'N', 'N', 'N', 'N', 'N', 'N', 'N', 'N', 'N', 'w', 'N', 'N', 'N', 'N', 'N', 'N', 'N', 'N', 'N', 'N', 'N', 'N', 'N', 'N', 'N', 'N', 'w', 'N', 'N', 'N', 'N', 'N', 'N', 'w', 'N', 'N', 'N', 'N', 'w', 'N', 'N', 'N', 'N', 'N', 'N', 'N', 'N', 'N', 'N', 'N', 'N', 'N', 'N', 'N', 'N', 'N', 'w', 'N', 'N', 'N', 'N', 'N', 'N', 'N', 'N', 'N', 'N', 'N', 'w', 'N', 'N', 'N', 'N', 'N', 'N', 'N', 'N', 'N', 'w', 'N', 'N', 'N', 'N', 'N', 'N', 'N', 'N', 'N', 'N', 'N', 'N', 'N', 'N', 'N', 'N', 'N', 'N', 'N', 'w', 'N', 'N', 'N', 'N', 'N', 'N', 'N', 'N', 'N', 'N', 'N', 'N', 'N', 'N', 'N', 'N', 'w', 'N', 'N', 'N', 'N', 'N', 'w', 'N', 'N', 'N', 'N', 'N', 'N', 'N', 'N', 'N', 'N', 'w', 'N', 'N', 'N', 'N', 'N', 'N', 'N', 'N', 'N', 'N', 'N', 'N', 'N', 'N', 'N', 'N', 'N', 'N', 'N']\n",
      "Correct tags: ['IN', 'DT', 'N', 'IN', 'DT', 'N', ',', 'IN', 'DT', 'N', 'V', 'IN', 'DT', 'N', ',', 'V', 'N', 'IN', 'N', 'CC', 'V', 'IN', 'DT', 'N', ',', 'PRO', 'V', 'PRO', 'V', 'IN', 'DT', 'V', 'N', 'WDT', 'V', 'TO', 'DT', 'ADJ', 'N', '.', 'DT', 'N', 'V', 'V', 'IN', 'DT', 'ADJ', 'N', 'IN', 'V', 'N', ',', 'CC', 'DT', 'ADJ', 'N', 'V', 'IN', 'DT', 'N', 'IN', 'DT', 'N', 'N', 'WDT', 'V', 'N', 'IN', 'DT', 'N', 'POS', 'N', '.', 'N', 'IN', 'DT', 'N', 'N', 'V', 'IN', 'DT', 'V', 'N', 'IN', 'DT', 'N', ',', 'V', 'DT', 'ADJ', 'N', 'IN', 'N', 'CC', 'N', '.', 'IN', 'PRO', 'V', ',', 'PRO', 'MD', 'ADV', 'V', 'CC', 'V', 'IN', 'DT', 'N', 'IN', 'N', 'V', 'IN', 'DT', 'N', 'IN', 'PRO', 'N', '.', 'DT', 'N', 'V', 'IN', 'DT', 'N', 'IN', 'N', ',', 'V', 'DT', 'N', 'IN', 'N', 'DT', 'ADJ', 'CC', 'V', '.', 'DT', 'ADJ', 'N', 'IN', 'N', 'ADJ', 'CC', 'DT', 'N', 'IN', 'N', 'V', 'V', 'DT', 'N', 'IN', 'N', 'POS', 'N', 'TO', 'PRO', 'ADJ', 'N', '.', 'IN', 'DT', 'N', 'IN', 'DT', 'ADJ', 'N', ',', 'PRO', 'V', 'DT', 'ADJ', 'N', 'V', 'IN', 'DT', 'N', 'IN', 'DT', 'N', 'ADJ', 'ADJ', 'N', '.', 'PRO', 'ADJ', 'N', 'V', 'TO', 'V', 'PRO', 'IN', 'DT', 'N', 'IN', 'ADJ', 'N', '.', 'IN', 'DT', 'N', 'IN', 'N', ',', 'PRO', 'V', 'DT', 'N', 'CC', 'V', 'IN', 'DT', 'N', ',', 'V', 'PRO', 'N', 'N', 'IN', 'DT', 'N', 'POS', 'N', '.', 'IN', 'DT', 'N', ',', 'V', 'IN', 'DT', 'ADJ', 'N', 'IN', 'N', ',', 'PRO', 'V', 'N', 'CC', 'DT', 'ADJ', 'N', 'TO', 'DT', 'N', '.', 'PRO', 'V', 'IN', 'IN', 'DT', 'ADV', 'N', 'IN', 'N', 'V', 'IN', 'PRO', ',', 'V', 'DT', 'ADJ', 'N', 'IN', 'N', 'POS', 'N', 'CC', 'N', ',', 'ADV', 'IN', 'DT', 'N', 'CC', 'N', 'IN', 'DT', 'ADJ', 'N', 'WDT', 'V', 'IN', 'DT', 'N', '.', 'IN', 'DT', 'N', 'V', 'TO', 'V', 'IN', 'DT', 'ADJ', 'N', 'IN', 'DT', 'N', 'N', ',', 'PRO', 'V', 'IN', 'IN', 'DT', 'N', 'IN', 'DT', 'N', ',', 'DT', 'ADJ', 'N', ',', 'DT', 'N', 'N', ',', 'CC', 'DT', 'V', 'N', 'N', 'TO', 'DT', 'ADJ', 'N', 'IN', 'N', '.', 'CC', 'ADV', ',', 'IN', 'DT', 'ADJ', 'N', ',', 'PRO', 'V', 'IN', 'DT', 'ADJ', 'N', 'WDT', 'V', 'ADV', ',', 'IN', 'ADJ', 'N', 'IN', 'DT', 'ADJ', 'N', 'IN', 'N', '.', 'IN', 'DT', 'N', 'IN', 'DT', 'N', 'N', ',', 'V', 'DT', 'N', 'IN', 'V', 'N', 'CC', 'ADJ', 'N', ',', 'EX', 'V', 'DT', 'ADJ', 'N', 'IN', 'N', '.', 'V', 'ADV', 'IN', 'DT', 'ADJ', 'N', 'IN', 'ADJ', 'N', ',', 'DT', 'N', 'N', 'V', 'IN', 'DT', 'N', 'IN', 'DT', 'V', 'N', 'IN', 'DT', 'ADJ', 'N', '.', 'V', 'N', 'IN', 'ADJ', 'N', 'V', 'DT', 'ADJ', 'N', 'WDT', 'ADV', 'V', 'DT', 'N', ',', 'V', 'V', 'N', 'IN', 'ADJ', 'N', '.', 'IN', 'PRO', 'V', 'DT', 'ADJ', 'N', ',', 'DT', 'N', 'POS', 'N', 'V', 'IN', 'DT', 'ADJ', 'N', ',', 'V', 'IN', 'DT', 'ADJ', 'N', 'IN', 'V', 'N', 'CC', 'DT', 'ADJ', 'N', 'IN', 'DT', 'ADJ', 'N', '.', 'DT', 'N', ',', 'ADJ', 'IN', 'DT', 'N', 'IN', 'V', 'N', ',', 'V', 'IN', 'PRO', 'DT', 'N', 'IN', 'N', 'WDT', 'V', 'PRO', 'IN', 'DT', 'ADJ', 'N', '.', 'PRO', 'V', 'DT', 'ADJ', 'WRB', 'N', 'V', 'TO', 'V', ',', 'V', 'N', 'TO', 'V', 'IN', 'PRO', 'ADJ', 'ADV', 'N', '.', 'V', 'N', 'V', 'PRO', 'ADJ', 'IN', 'DT', 'N', ',', 'V', 'N', 'IN', 'ADJ', 'N', 'V', 'DT', 'ADJ', 'N', 'V', 'IN', 'ADJ', 'N', ',', 'DT', 'ADJ', 'N', 'N', 'WDT', 'V', 'DT', 'N', 'N', ',', 'CC', 'N', 'IN', 'ADJ', 'N', 'WDT', 'V', 'IN', 'DT', 'ADJ', 'N', '.', 'DT', 'N', 'V', 'IN', 'DT', 'N', 'IN', 'DT', 'N', 'IN', 'DT', 'ADJ', 'N', ',', 'DT', 'N', 'IN', 'DT', 'N', 'WRB', 'N', 'POS', 'N', 'V', 'DT', 'N', 'IN', 'N', '.', 'V', 'PRO', 'IN', 'DT', 'ADJ', 'N', 'IN', 'DT', 'N', 'IN', 'DT', 'ADJ', 'N', 'N', ',', 'PRO', 'V', 'DT', 'N', 'IN', 'N', 'POS', 'ADJ', 'N', '.', 'N', 'V', 'CC', 'V', 'IN', 'DT', 'ADJ', 'N', ',', 'PRO', 'ADJ', 'N', 'DT', 'ADJ', 'N', 'TO', 'DT', 'ADJ', 'N', 'IN', 'DT', 'ADJ', 'N', 'ADV', 'V', 'N', 'IN', 'N', '.', 'DT', 'N', 'IN', 'N', 'V', 'IN', 'DT', 'N', 'IN', 'ADJ', ',', 'V', 'IN', 'ADJ', 'N', 'IN', 'V', 'IN', 'N', '.', 'N', ',', 'PRO', 'V', ',', 'V', 'DT', 'ADJ', 'N', 'IN', 'DT', 'ADJ', 'N', '.', 'PRO', 'V', 'ADV', 'V', 'IN', 'DT', 'N', 'N', 'IN', 'DT', 'N', 'CC', 'ADV', 'IN', 'DT', 'V', 'N', 'IN', 'N', 'V', 'IN', 'DT', 'N', 'V', '.', 'DT', 'N', 'IN', 'DT', 'N', 'POS', 'N', 'V', 'PRO', 'N', 'N', ',', 'CC', 'IN', 'DT', 'ADJ', 'N', ',', 'DT', 'ADJ', 'N', 'IN', 'N', 'CC', 'N', 'ADJ', '.', 'PRO', 'V', 'IN', 'DT', 'N', 'IN', 'DT', 'ADJ', 'N', 'V', 'DT', 'ADJ', 'N', 'IN', 'N', 'WDT', 'V', 'DT', 'N', 'CC', 'N', ',', 'DT', 'ADJ', 'N', 'IN', 'N', 'CC', 'N', 'ADV', '.', 'N', 'V', 'IN', 'N', 'TO', 'V', ',', 'N', 'V', 'IN', 'ADJ', 'N', 'IN', 'N', ',', 'CC', 'DT', 'ADJ', 'N', 'IN', 'DT', 'N', 'V', 'IN', 'DT', 'N', '.', 'IN', 'DT', 'N', 'IN', 'N', ',', 'DT', 'N', 'WDT', 'V', 'N', 'TO', 'PRO', 'N', 'IN', 'N', 'V', 'TO', 'V', '.', 'DT', 'N', ',', 'IN', 'PRO', 'ADJ', 'N', 'IN', 'N', 'CC', 'DT', 'N', 'IN', 'ADJ', 'N', 'V', 'IN', 'PRO', 'N', ',', 'V', 'IN', 'DT', 'N', 'WDT', 'N', ',', 'IN', 'DT', 'PRO', 'N', ',', 'V', 'DT', 'ADJ', 'N', '.', 'PRO', 'V', 'DT', 'N', 'WDT', 'V', 'DT', 'ADJ', 'N', 'IN', 'DT', 'ADJ', ',', 'V', 'N', 'CC', 'N', '.', 'IN', 'DT', 'N', 'V', 'PRO', 'N', ',', 'V', 'N', 'IN', 'N', 'CC', 'N', 'IN', 'DT', 'N', ',', 'PRO', 'V', 'DT', 'N', 'IN', 'DT', 'V', 'N', 'IN', 'N', '.', 'DT', 'N', 'IN', 'N', 'V', 'V', 'PRO', 'N', ',', 'V', 'DT', 'ADJ', 'N', 'IN', 'DT', 'N', 'IN', 'DT', 'N', '.', 'V', 'IN', 'DT', 'ADJ', 'N', ',', 'PRO', 'V', 'DT', 'ADJ', 'N', ',', 'N', 'IN', 'DT', 'ADJ', 'N', 'WDT', 'V', 'PDT', 'DT', 'N', ',', 'DT', 'N', 'WRB', 'DT', 'N', 'MD', 'V', 'N', 'CC', 'V', 'DT', 'N', 'ADV', 'IN', 'DT', 'N', 'IN', 'N', '.']\n"
     ]
    }
   ],
   "source": [
    "print(\"Fraction of errors (Baseline) :\",(num_errors_baseline/num_words_test))\n",
    "print(\"Fraction of errors (Viterbi):\",(num_errors/num_words_test))\n",
    "\n",
    "print(\"Tags suggested by Baseline Algorithm:\", output_li_baseline)\n",
    "\n",
    "print(\"Tags suggested by Viterbi Algorithm:\", output_li)\n",
    "\n",
    "print(\"Correct tags:\",test_li_tags)"
   ]
  },
  {
   "cell_type": "code",
   "execution_count": null,
   "id": "9bfb065c-6457-4d3e-9266-69a0e17820e5",
   "metadata": {},
   "outputs": [],
   "source": []
  },
  {
   "cell_type": "code",
   "execution_count": null,
   "id": "a1351088-8092-488f-a719-27e267b2db28",
   "metadata": {},
   "outputs": [],
   "source": []
  },
  {
   "cell_type": "code",
   "execution_count": null,
   "id": "0373845c",
   "metadata": {},
   "outputs": [],
   "source": []
  }
 ],
 "metadata": {
  "kernelspec": {
   "display_name": "Python 3 (ipykernel)",
   "language": "python",
   "name": "python3"
  },
  "language_info": {
   "codemirror_mode": {
    "name": "ipython",
    "version": 3
   },
   "file_extension": ".py",
   "mimetype": "text/x-python",
   "name": "python",
   "nbconvert_exporter": "python",
   "pygments_lexer": "ipython3",
   "version": "3.11.3"
  }
 },
 "nbformat": 4,
 "nbformat_minor": 5
}

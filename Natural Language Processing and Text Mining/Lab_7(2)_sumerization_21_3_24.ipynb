{
 "cells": [
  {
   "cell_type": "code",
   "execution_count": 1,
   "id": "6da31dc0",
   "metadata": {},
   "outputs": [],
   "source": [
    "import nltk\n",
    "from nltk.corpus import stopwords\n",
    "from nltk.tokenize import word_tokenize, sent_tokenize\n",
    "from docx import Document"
   ]
  },
  {
   "cell_type": "code",
   "execution_count": 2,
   "id": "2f8ae9ea",
   "metadata": {
    "scrolled": false
   },
   "outputs": [
    {
     "name": "stdout",
     "output_type": "stream",
     "text": [
      "\n",
      "Tokens for Document 1 after removing stopwords:\n",
      "Words: ['Formula', 'One', ',', 'commonly', 'known', 'Formula', '1', 'F1', ',', 'highest', 'class', 'international', 'racing', 'open-wheel', 'single-seater', 'formula', 'racing', 'cars', 'sanctioned', 'Fédération', 'Internationale', 'de', \"l'Automobile\", '(', 'FIA', ')', '.', 'FIA', 'Formula', 'One', 'World', 'Championship', 'one', 'premier', 'forms', 'racing', 'around', 'world', 'since', 'inaugural', 'running', '1950', '.', 'word', 'formula', 'name', 'refers', 'set', 'rules', 'participants', \"'\", 'cars', 'must', 'conform', '.', 'Formula', 'One', 'season', 'consists', 'series', 'races', ',', 'known', 'Grands', 'Prix', '.', 'Grands', 'Prix', 'take', 'place', 'multiple', 'countries', 'continents', 'around', 'world', 'either', 'purpose-built', 'circuits', 'closed', 'public', 'roads', '.', 'point-system', 'used', 'Grands', 'Prix', 'determine', 'two', 'annual', 'World', 'Championships', ':', 'one', 'drivers', ',', 'one', 'constructors', '(', 'teams', ')', '.', 'driver', 'must', 'hold', 'valid', 'Super', 'Licence', ',', 'highest', 'class', 'racing', 'licence', 'issued', 'FIA', ',', 'races', 'must', 'held', 'grade', 'one', 'tracks', ',', 'highest', 'grade-rating', 'issued', 'FIA', 'tracks', '.']\n",
      "Sentences: [\"Formula One, commonly known as Formula 1 or F1, is the highest class of international racing for open-wheel single-seater formula racing cars sanctioned by the Fédération Internationale de l'Automobile (FIA).\", 'The FIA Formula One World Championship has been one of the premier forms of racing around the world since its inaugural running in 1950.', \"The word formula in the name refers to the set of rules to which all participants' cars must conform.\", 'A Formula One season consists of a series of races, known as Grands Prix.', 'Grands Prix take place in multiple countries and continents around the world on either purpose-built circuits or closed public roads.', 'A point-system is used at Grands Prix to determine two annual World Championships: one for the drivers, and one for the constructors (the teams).', 'Each driver must hold a valid Super Licence, the highest class of racing licence issued by the FIA, and the races must be held on grade one tracks, the highest grade-rating issued by the FIA for tracks.']\n",
      "\n",
      "Tokens for Document 2 after removing stopwords:\n",
      "Words: ['track', ',', 'McLaren', 'Williams', 'teams', 'dominated', '1980s', '1990s', '.', 'Brabham', 'also', 'competitive', 'early', 'part', '1980s', ',', 'winning', 'two', 'Drivers', \"'\", 'Championships', 'Nelson', 'Piquet', '.', 'Powered', 'Porsche', ',', 'Honda', ',', 'Mercedes-Benz', ',', 'McLaren', 'sixteen', 'championships', '(', 'seven', 'constructors', \"'\", 'nine', 'drivers', \"'\", ')', 'period', ',', 'Williams', 'used', 'engines', 'Ford', ',', 'Honda', ',', 'Renault', 'also', 'win', 'sixteen', 'titles', '(', 'nine', 'constructors', \"'\", 'seven', 'drivers', \"'\", ')', '.', 'rivalry', 'racers', 'Ayrton', 'Senna', 'Alain', 'Prost', 'became', 'F1', \"'s\", 'central', 'focus', '1988', 'continued', 'Prost', 'retired', 'end', '1993', '.', 'Senna', 'died', '1994', 'San', 'Marino', 'Grand', 'Prix', 'crashing', 'wall', 'exit', 'notorious', 'curve', 'Tamburello', '.', 'FIA', 'worked', 'improve', 'sport', \"'s\", 'safety', 'standards', 'since', 'weekend', ',', 'Roland', 'Ratzenberger', 'also', 'died', 'accident', 'Saturday', 'qualifying', '.', 'driver', 'died', 'injuries', 'sustained', 'track', 'wheel', 'Formula', 'One', 'car', '20', 'years', '2014', 'Japanese', 'Grand', 'Prix', ',', 'Jules', 'Bianchi', 'collided', 'recovery', 'vehicle', 'aquaplaning', 'circuit', ',', 'dying', 'nine', 'months', 'later', 'injuries', '.', 'Since', '1994', ',', 'three', 'track', 'marshals', 'died', ',', 'one', '2000', 'Italian', 'Grand', 'Prix', ',', '[', '31', ']', 'second', '2001', 'Australian', 'Grand', 'Prix', '[', '31', ']', 'third', '2013', 'Canadian', 'Grand', 'Prix', '.']\n",
      "Sentences: ['On the track, the McLaren and Williams teams dominated the 1980s and 1990s.', \"Brabham were also being competitive during the early part of the 1980s, winning two Drivers' Championships with Nelson Piquet.\", \"Powered by Porsche, Honda, and Mercedes-Benz, McLaren won sixteen championships (seven constructors' and nine drivers') in that period, while Williams used engines from Ford, Honda, and Renault to also win sixteen titles (nine constructors' and seven drivers').\", \"The rivalry between racers Ayrton Senna and Alain Prost became F1's central focus during 1988 and continued until Prost retired at the end of 1993.\", 'Senna died at the 1994 San Marino Grand Prix after crashing into a wall on the exit of the notorious curve Tamburello.', \"The FIA worked to improve the sport's safety standards since that weekend, during which Roland Ratzenberger also died in an accident during Saturday qualifying.\", 'No driver died of injuries sustained on the track at the wheel of a Formula One car for 20 years until the 2014 Japanese Grand Prix, where Jules Bianchi collided with a recovery vehicle after aquaplaning off the circuit, dying nine months later from his injuries.', 'Since 1994, three track marshals have died, one at the 2000 Italian Grand Prix,[31] the second at the 2001 Australian Grand Prix[31] and the third at the 2013 Canadian Grand Prix.']\n",
      "\n",
      "Tokens for Document 3 after removing stopwords:\n",
      "Words: ['major', 'rule', 'shake-up', '2014', 'saw', '2.4-litre', 'naturally', 'aspirated', 'V8', 'engines', 'replaced', '1.6-litre', 'turbocharged', 'hybrid', 'power', 'units', '.', 'prompted', 'Honda', 'return', 'sport', '2015', 'championship', \"'s\", 'fourth', 'power', 'unit', 'manufacturer', '.', 'Mercedes', 'emerged', 'dominant', 'force', 'rule', 'shake-up', ',', 'Lewis', 'Hamilton', 'winning', 'championship', 'closely', 'followed', 'main', 'rival', 'teammate', ',', 'Nico', 'Rosberg', ',', 'team', 'winning', '16', '19', 'races', 'season', '.', 'team', 'continued', 'form', 'following', 'two', 'seasons', ',', 'winning', '16', 'races', '2015', 'taking', 'record', '19', 'wins', '2016', ',', 'Hamilton', 'claiming', 'title', 'former', 'year', 'Rosberg', 'winning', 'latter', 'five', 'points', '.', '2016', 'season', 'also', 'saw', 'new', 'team', ',', 'Haas', ',', 'join', 'grid', ',', 'Max', 'Verstappen', 'became', 'youngest-ever', 'race', 'winner', 'age', '18', 'Spain', '.']\n",
      "Sentences: ['A major rule shake-up in 2014 saw the 2.4-litre naturally aspirated V8 engines replaced by 1.6-litre turbocharged hybrid power units.', \"This prompted Honda to return to the sport in 2015 as the championship's fourth power unit manufacturer.\", 'Mercedes emerged as the dominant force after the rule shake-up, with Lewis Hamilton winning the championship closely followed by his main rival and teammate, Nico Rosberg, with the team winning 16 out of the 19 races that season.', 'The team continued this form in the following two seasons, again winning 16 races in 2015 before taking a record 19 wins in 2016, with Hamilton claiming the title in the former year and Rosberg winning it in the latter by five points.', 'The 2016 season also saw a new team, Haas, join the grid, while Max Verstappen became the youngest-ever race winner at the age of 18 in Spain.']\n",
      "\n",
      "Tokens for Document 4 after removing stopwords:\n",
      "Words: ['race', 'begins', 'warm-up', 'lap', ',', 'cars', 'assemble', 'starting', 'grid', 'order', 'qualified', '.', 'lap', 'often', 'referred', 'formation', 'lap', ',', 'cars', 'lap', 'formation', 'overtaking', '(', 'although', 'driver', 'makes', 'mistake', 'may', 'regain', 'lost', 'ground', ')', '.', 'warm-up', 'lap', 'allows', 'drivers', 'check', 'condition', 'track', 'car', ',', 'gives', 'tyres', 'chance', 'warm', 'increase', 'traction', 'grip', ',', 'also', 'gives', 'pit', 'crews', 'time', 'clear', 'equipment', 'grid', 'race', 'start', '.']\n",
      "Sentences: ['The race begins with a warm-up lap, after which the cars assemble on the starting grid in the order they qualified.', 'This lap is often referred to as the formation lap, as the cars lap in formation with no overtaking (although a driver who makes a mistake may regain lost ground).', 'The warm-up lap allows drivers to check the condition of the track and their car, gives the tyres a chance to warm up to increase traction and grip, and also gives the pit crews time to clear themselves and their equipment from the grid for the race start.']\n",
      "\n",
      "Tokens for Document 5 after removing stopwords:\n",
      "Words: ['Formula', 'One', 'constructor', 'entity', 'credited', 'designing', 'chassis', 'engine', '.', '[', '97', ']', 'designed', 'company', ',', 'company', 'receives', 'sole', 'credit', 'constructor', '(', 'e.g.', ',', 'Ferrari', ')', '.', 'designed', 'different', 'companies', ',', 'credited', ',', 'name', 'chassis', 'designer', 'placed', 'engine', 'designer', '(', 'e.g.', ',', 'McLaren-Mercedes', ')', '.', 'constructors', 'scored', 'individually', ',', 'even', 'share', 'either', 'chassis', 'engine', 'another', 'constructor', '(', 'e.g.', ',', 'Williams-Ford', ',', 'Williams-Honda', '1983', ')', '.']\n",
      "Sentences: ['A Formula One constructor is the entity credited for designing the chassis and the engine.', '[97] If both are designed by the same company, that company receives sole credit as the constructor (e.g., Ferrari).', 'If they are designed by different companies, both are credited, and the name of the chassis designer is placed before that of the engine designer (e.g., McLaren-Mercedes).', 'All constructors are scored individually, even if they share either chassis or engine with another constructor (e.g., Williams-Ford, Williams-Honda in 1983).']\n",
      "\n",
      "Tokens for Document 6 after removing stopwords:\n",
      "Words: ['use', 'volunteers', 'integral', 'making', 'maintaining', 'Wikipedia', '.', 'However', ',', 'even', 'without', 'internet', ',', 'huge', 'complex', 'projects', 'similar', 'nature', 'made', 'use', 'volunteers', '.', 'Specifically', ',', 'creation', 'Oxford', 'English', 'Dictionary', 'conceived', 'speech', 'London', 'Library', ',', 'Guy', 'Fawkes', 'Day', ',', '5', 'November', '1857', ',', 'Richard', 'Chenevix', 'Trench', '.', 'took', '70', 'years', 'complete', '.', 'Dr.', 'Trench', 'envisioned', 'grand', 'new', 'dictionary', 'every', 'word', 'English', 'language', ',', 'used', 'democratically', 'freely', '.', 'According', 'author', 'Simon', 'Winchester', ',', '``', 'undertaking', 'scheme', ',', 'said', ',', 'beyond', 'ability', 'one', 'man', '.', 'peruse', 'English', 'literature', '–', 'comb', 'London', 'New', 'York', 'newspapers', 'literate', 'magazines', 'journals', '–', 'must', 'instead', \"'the\", 'combined', 'action', 'many', '.', \"'\", 'would', 'necessary', 'recruit', 'team', '–', 'moreover', ',', 'huge', 'one', '–', 'probably', 'comprising', 'hundreds', 'hundreds', 'unpaid', 'amateurs', ',', 'working', 'volunteers', '.']\n",
      "Sentences: ['The use of volunteers was integral in making and maintaining Wikipedia.', 'However, even without the internet, huge complex projects of similar nature had made use of volunteers.', 'Specifically, the creation of the Oxford English Dictionary was conceived with the speech at the London Library, on Guy Fawkes Day, 5 November 1857, by Richard Chenevix Trench.', 'It took about 70 years to complete.', 'Dr. Trench envisioned a grand new dictionary of every word in the English language, and to be used democratically and freely.', 'According to author Simon Winchester, \"The undertaking of the scheme, he said, was beyond the ability of any one man.', \"To peruse all of English literature – and to comb the London and New York newspapers and the most literate of the magazines and journals – must be instead 'the combined action of many.'\", 'It would be necessary to recruit a team – moreover, a huge one – probably comprising hundreds and hundreds of unpaid amateurs, all of them working as volunteers.']\n"
     ]
    }
   ],
   "source": [
    "def read_word_files(file_paths):\n",
    "    all_content = []\n",
    "    for file_path in file_paths:\n",
    "        try:\n",
    "            doc = Document(file_path)\n",
    "            text = []\n",
    "            for paragraph in doc.paragraphs:\n",
    "                text.append(paragraph.text)\n",
    "            all_content.append('\\n'.join(text))\n",
    "        except Exception as e:\n",
    "            print(f\"Error reading the Word file '{file_path}': {e}\")\n",
    "    return all_content\n",
    "\n",
    "word_file_paths = [r\"D:\\code\\NLP\\doc\\Doc1.docx\", r\"D:\\code\\NLP\\doc\\Doc 2.docx\", r\"D:\\code\\NLP\\doc\\Doc 3.docx\", r\"D:\\code\\NLP\\doc\\Doc 4.docx\", r\"D:\\code\\NLP\\doc\\Doc 5.docx\", r\"D:\\code\\NLP\\doc\\Doc 6.docx\"]\n",
    "\n",
    "\n",
    "contents = read_word_files(word_file_paths)\n",
    "\n",
    "def tokenize_and_remove_stopwords(contents):\n",
    "    stop_words = set(stopwords.words('english'))\n",
    "    tokenized_docs = []\n",
    "    for doc_content in contents:\n",
    "        words = word_tokenize(doc_content)\n",
    "        words = [word for word in words if word.lower() not in stop_words]\n",
    "        sentences = sent_tokenize(doc_content)\n",
    "        tokenized_docs.append((words, sentences))\n",
    "    return tokenized_docs\n",
    "\n",
    "tokenized_docs_no_stopwords = tokenize_and_remove_stopwords(contents)\n",
    "\n",
    "for i, (words, sentences) in enumerate(tokenized_docs_no_stopwords, start=1):\n",
    "    print(f\"\\nTokens for Document {i} after removing stopwords:\")\n",
    "    print(\"Words:\", words)\n",
    "    print(\"Sentences:\", sentences)"
   ]
  },
  {
   "cell_type": "code",
   "execution_count": 9,
   "id": "0a9065d3",
   "metadata": {},
   "outputs": [],
   "source": [
    "import numpy as np\n",
    "from sklearn.feature_extraction.text import TfidfVectorizer\n",
    "from nltk.tokenize import sent_tokenize, word_tokenize"
   ]
  },
  {
   "cell_type": "code",
   "execution_count": 10,
   "id": "952fcedb",
   "metadata": {
    "scrolled": false
   },
   "outputs": [
    {
     "name": "stdout",
     "output_type": "stream",
     "text": [
      "Top 5 words based on TF-IDF scores:\n",
      "one: 0.09446063755636129\n",
      "lap: 0.09063245606237069\n",
      "prix: 0.07810972780528723\n",
      "formula: 0.07234073035134353\n",
      "chassis: 0.061396642684729705\n",
      "\n",
      "Selected Sentences based on TF-IDF:\n",
      "1. Formula One season consists series races , known Grands Prix .\n",
      "2. point-system used Grands Prix determine two annual World Championships : one drivers , one constructors ( teams ) .\n",
      "3. driver died injuries sustained track wheel Formula One car 20 years 2014 Japanese Grand Prix , Jules Bianchi collided recovery vehicle aquaplaning circuit , dying nine months later injuries .\n",
      "4. Since 1994 , three track marshals died , one 2000 Italian Grand Prix , [ 31 ] second 2001 Australian Grand Prix [ 31 ] third 2013 Canadian Grand Prix .\n",
      "5. 2016 season also saw new team , Haas , join grid , Max Verstappen became youngest-ever race winner age 18 Spain .\n",
      "6. team continued form following two seasons , winning 16 races 2015 taking record 19 wins 2016 , Hamilton claiming title former year Rosberg winning latter five points .\n",
      "7. warm-up lap allows drivers check condition track car , gives tyres chance warm increase traction grip , also gives pit crews time clear equipment grid race start .\n",
      "8. lap often referred formation lap , cars lap formation overtaking ( although driver makes mistake may regain lost ground ) .\n",
      "9. Formula One constructor entity credited designing chassis engine .\n",
      "10. constructors scored individually , even share either chassis engine another constructor ( e.g.\n",
      "11. would necessary recruit team – moreover , huge one – probably comprising hundreds hundreds unpaid amateurs , working volunteers .\n",
      "12. According author Simon Winchester , `` undertaking scheme , said , beyond ability one man .\n"
     ]
    }
   ],
   "source": [
    "def select_content_tfidf(tokenized_docs, num_sentences):\n",
    "    documents = [' '.join(words) for words, _ in tokenized_docs]\n",
    "\n",
    "    vectorizer = TfidfVectorizer()\n",
    "    tfidf_matrix = vectorizer.fit_transform(documents)\n",
    "    feature_names = vectorizer.get_feature_names_out()\n",
    "    word_tfidf_means = np.mean(tfidf_matrix, axis=0)\n",
    "    word_tfidf_means = np.array(word_tfidf_means).reshape(-1)\n",
    "    top_word_indices = np.argsort(word_tfidf_means)[::-1][:5]  \n",
    "\n",
    "    print(\"Top 5 words based on TF-IDF scores:\")\n",
    "    for idx in top_word_indices[:5]:\n",
    "        word = feature_names[idx]\n",
    "        tfidf_score = word_tfidf_means[idx]\n",
    "        print(f\"{word}: {tfidf_score}\")\n",
    "    \n",
    "    selected_sentences = []\n",
    "    for doc_idx, (words, _) in enumerate(tokenized_docs):\n",
    "        doc_content = ' '.join(words)\n",
    "        sentences = sent_tokenize(doc_content)\n",
    "        sentence_tfidf_scores = []\n",
    "        for sentence in sentences:\n",
    "            sentence_words = word_tokenize(sentence.lower())\n",
    "            sentence_tfidf = 0\n",
    "            for word_idx in top_word_indices:\n",
    "                word = feature_names[word_idx]\n",
    "                if word in sentence_words:\n",
    "                    word_tfidf = word_tfidf_means[word_idx]\n",
    "                    sentence_tfidf += word_tfidf\n",
    "            sentence_tfidf_scores.append(sentence_tfidf)\n",
    "        top_sentence_indices = np.argsort(sentence_tfidf_scores)[::-1][:num_sentences]\n",
    "        selected_sentences.extend([sentences[idx] for idx in top_sentence_indices])\n",
    "    return selected_sentences\n",
    "\n",
    "selected_sentences_tfidf = select_content_tfidf(tokenized_docs_no_stopwords, num_sentences=2)\n",
    "print(\"\\nSelected Sentences based on TF-IDF:\")\n",
    "for i, sentence in enumerate(selected_sentences_tfidf, start=1):\n",
    "    print(f\"{i}. {sentence}\")"
   ]
  },
  {
   "cell_type": "code",
   "execution_count": null,
   "id": "eb39997b",
   "metadata": {},
   "outputs": [],
   "source": []
  }
 ],
 "metadata": {
  "kernelspec": {
   "display_name": "Python 3 (ipykernel)",
   "language": "python",
   "name": "python3"
  },
  "language_info": {
   "codemirror_mode": {
    "name": "ipython",
    "version": 3
   },
   "file_extension": ".py",
   "mimetype": "text/x-python",
   "name": "python",
   "nbconvert_exporter": "python",
   "pygments_lexer": "ipython3",
   "version": "3.11.3"
  }
 },
 "nbformat": 4,
 "nbformat_minor": 5
}

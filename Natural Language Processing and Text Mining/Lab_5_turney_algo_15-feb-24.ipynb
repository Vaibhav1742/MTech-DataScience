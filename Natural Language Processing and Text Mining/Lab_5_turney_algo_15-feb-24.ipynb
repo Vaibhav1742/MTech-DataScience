{
 "cells": [
  {
   "cell_type": "markdown",
   "id": "6ab206fe",
   "metadata": {},
   "source": [
    "# <h1 style=\"text-align:center;\">Lab Assignment - 5</h1>"
   ]
  },
  {
   "cell_type": "code",
   "execution_count": 1,
   "id": "ca3657f2",
   "metadata": {},
   "outputs": [],
   "source": [
    "import numpy as np\n",
    "import pandas as pd\n",
    "import matplotlib.pyplot as plt\n",
    "import seaborn as sns\n",
    "import regex\n",
    "import nltk\n",
    "from nltk.corpus import stopwords"
   ]
  },
  {
   "cell_type": "code",
   "execution_count": 15,
   "id": "41dd7bfc",
   "metadata": {},
   "outputs": [],
   "source": [
    "text= '''2001–02: Mike Denness incident, Kolkata Test, and breaking Bradman's record\n",
    "During India's 2001 tour of South Africa, in the second Test match, referee Mike Denness fined four Indian players for excessive appealing, and fined the Indian captain Sourav Ganguly for not controlling his team.[119] Denness suspended Tendulkar from one match for alleged ball tampering. Television cameras captured images that suggested Tendulkar may have been involved in cleaning the seam of the cricket ball.[120][121] The incident escalated to include sports journalists accusing Denness of racism,[122] and led to Denness being barred from entering the venue of the third Test match. The ICC revoked the status of the match as a Test as the teams rejected the appointed referee.[123] The charges against Tendulkar triggered a massive backlash from the Indian public.[124]\n",
    "\n",
    "On the final day of the Kolkata Test against Australia in 2001, Tendulkar took three wickets, including the key wickets of Matthew Hayden and Adam Gilchrist, who were centurions in the previous Test. His three wickets haul helped India win the match.[125] In the five-match ODI series that followed, he took his 100th wicket in ODIs, claiming the wicket of then Australian captain Steve Waugh in the final match at the Fatorda Stadium in Goa.[126]\n",
    "\n",
    "In the 2002 series in the West Indies, Tendulkar started well, scoring 79 in the first Test. In the second Test at Port of Spain, Sachin Tendulkar scored 117 in the first innings, his 29th Test century in his 93rd Test match, to equal Donald Bradman's record of 29 Test hundreds. He was gifted a Ferrari 360 Modena by Fiat through Michael Schumacher for achieving this feat.[127][128][129]\n",
    "\n",
    "Then, in an unprecedented sequence, he scored just 0, 0, 8, and 0 in the next four innings.[130] He returned to form in the last Test scoring 41 and 86, one half century. However, India lost the series.[131] In this period, in the third Test match against England in August 2002, Tendulkar scored his 30th Test century to surpass Bradman's haul, in his 99th Test match.[132][133]'''"
   ]
  },
  {
   "cell_type": "code",
   "execution_count": 16,
   "id": "4aecc99f",
   "metadata": {},
   "outputs": [
    {
     "name": "stdout",
     "output_type": "stream",
     "text": [
      "[('2001–02', 'CD'), (':', ':'), ('Mike', 'NNP'), ('Denness', 'NNP'), ('incident', 'NN'), (',', ','), ('Kolkata', 'NNP'), ('Test', 'NNP'), (',', ','), ('and', 'CC'), ('breaking', 'VBG'), ('Bradman', 'NNP'), (\"'s\", 'POS'), ('record', 'NN'), ('During', 'IN'), ('India', 'NNP'), (\"'s\", 'POS'), ('2001', 'CD'), ('tour', 'NN'), ('of', 'IN'), ('South', 'NNP'), ('Africa', 'NNP'), (',', ','), ('in', 'IN'), ('the', 'DT'), ('second', 'JJ'), ('Test', 'NNP'), ('match', 'NN'), (',', ','), ('referee', 'VBP'), ('Mike', 'NNP'), ('Denness', 'NNP'), ('fined', 'VBD'), ('four', 'CD'), ('Indian', 'JJ'), ('players', 'NNS'), ('for', 'IN'), ('excessive', 'JJ'), ('appealing', 'NN'), (',', ','), ('and', 'CC'), ('fined', 'VBD'), ('the', 'DT'), ('Indian', 'JJ'), ('captain', 'NN'), ('Sourav', 'NNP'), ('Ganguly', 'NNP'), ('for', 'IN'), ('not', 'RB'), ('controlling', 'VBG'), ('his', 'PRP$'), ('team', 'NN'), ('.', '.'), ('[', 'CC'), ('119', 'CD'), (']', 'JJ'), ('Denness', 'NNP'), ('suspended', 'VBD'), ('Tendulkar', 'NNP'), ('from', 'IN'), ('one', 'CD'), ('match', 'NN'), ('for', 'IN'), ('alleged', 'JJ'), ('ball', 'NN'), ('tampering', 'NN'), ('.', '.'), ('Television', 'NN'), ('cameras', 'NNS'), ('captured', 'VBD'), ('images', 'NNS'), ('that', 'IN'), ('suggested', 'VBD'), ('Tendulkar', 'NNP'), ('may', 'MD'), ('have', 'VB'), ('been', 'VBN'), ('involved', 'VBN'), ('in', 'IN'), ('cleaning', 'VBG'), ('the', 'DT'), ('seam', 'NN'), ('of', 'IN'), ('the', 'DT'), ('cricket', 'NN'), ('ball', 'NN'), ('.', '.'), ('[', 'CC'), ('120', 'CD'), (']', 'JJ'), ('[', '$'), ('121', 'CD'), (']', 'IN'), ('The', 'DT'), ('incident', 'NN'), ('escalated', 'VBD'), ('to', 'TO'), ('include', 'VB'), ('sports', 'NNS'), ('journalists', 'NNS'), ('accusing', 'VBG'), ('Denness', 'NNP'), ('of', 'IN'), ('racism', 'NN'), (',', ','), ('[', 'VBZ'), ('122', 'CD'), (']', 'NN'), ('and', 'CC'), ('led', 'VBD'), ('to', 'TO'), ('Denness', 'NNP'), ('being', 'VBG'), ('barred', 'VBN'), ('from', 'IN'), ('entering', 'VBG'), ('the', 'DT'), ('venue', 'NN'), ('of', 'IN'), ('the', 'DT'), ('third', 'JJ'), ('Test', 'NNP'), ('match', 'NN'), ('.', '.'), ('The', 'DT'), ('ICC', 'NNP'), ('revoked', 'VBD'), ('the', 'DT'), ('status', 'NN'), ('of', 'IN'), ('the', 'DT'), ('match', 'NN'), ('as', 'IN'), ('a', 'DT'), ('Test', 'NN'), ('as', 'IN'), ('the', 'DT'), ('teams', 'NNS'), ('rejected', 'VBD'), ('the', 'DT'), ('appointed', 'VBN'), ('referee', 'NN'), ('.', '.'), ('[', 'CC'), ('123', 'CD'), (']', 'VBZ'), ('The', 'DT'), ('charges', 'NNS'), ('against', 'IN'), ('Tendulkar', 'NNP'), ('triggered', 'VBD'), ('a', 'DT'), ('massive', 'JJ'), ('backlash', 'NN'), ('from', 'IN'), ('the', 'DT'), ('Indian', 'JJ'), ('public', 'NN'), ('.', '.'), ('[', 'CC'), ('124', 'CD'), (']', 'NN'), ('On', 'IN'), ('the', 'DT'), ('final', 'JJ'), ('day', 'NN'), ('of', 'IN'), ('the', 'DT'), ('Kolkata', 'NNP'), ('Test', 'NNP'), ('against', 'IN'), ('Australia', 'NNP'), ('in', 'IN'), ('2001', 'CD'), (',', ','), ('Tendulkar', 'NNP'), ('took', 'VBD'), ('three', 'CD'), ('wickets', 'NNS'), (',', ','), ('including', 'VBG'), ('the', 'DT'), ('key', 'JJ'), ('wickets', 'NNS'), ('of', 'IN'), ('Matthew', 'NNP'), ('Hayden', 'NNP'), ('and', 'CC'), ('Adam', 'NNP'), ('Gilchrist', 'NNP'), (',', ','), ('who', 'WP'), ('were', 'VBD'), ('centurions', 'NNS'), ('in', 'IN'), ('the', 'DT'), ('previous', 'JJ'), ('Test', 'NNP'), ('.', '.'), ('His', 'PRP$'), ('three', 'CD'), ('wickets', 'NNS'), ('haul', 'VBP'), ('helped', 'VBD'), ('India', 'NNP'), ('win', 'VB'), ('the', 'DT'), ('match', 'NN'), ('.', '.'), ('[', 'CC'), ('125', 'CD'), (']', 'NN'), ('In', 'IN'), ('the', 'DT'), ('five-match', 'JJ'), ('ODI', 'NNP'), ('series', 'NN'), ('that', 'WDT'), ('followed', 'VBD'), (',', ','), ('he', 'PRP'), ('took', 'VBD'), ('his', 'PRP$'), ('100th', 'JJ'), ('wicket', 'NN'), ('in', 'IN'), ('ODIs', 'NNP'), (',', ','), ('claiming', 'VBG'), ('the', 'DT'), ('wicket', 'NN'), ('of', 'IN'), ('then', 'RB'), ('Australian', 'NNP'), ('captain', 'NN'), ('Steve', 'NNP'), ('Waugh', 'NNP'), ('in', 'IN'), ('the', 'DT'), ('final', 'JJ'), ('match', 'NN'), ('at', 'IN'), ('the', 'DT'), ('Fatorda', 'NNP'), ('Stadium', 'NNP'), ('in', 'IN'), ('Goa', 'NNP'), ('.', '.'), ('[', 'CC'), ('126', 'CD'), (']', 'NN'), ('In', 'IN'), ('the', 'DT'), ('2002', 'CD'), ('series', 'NN'), ('in', 'IN'), ('the', 'DT'), ('West', 'NNP'), ('Indies', 'NNPS'), (',', ','), ('Tendulkar', 'NNP'), ('started', 'VBD'), ('well', 'RB'), (',', ','), ('scoring', 'VBG'), ('79', 'CD'), ('in', 'IN'), ('the', 'DT'), ('first', 'JJ'), ('Test', 'NNP'), ('.', '.'), ('In', 'IN'), ('the', 'DT'), ('second', 'JJ'), ('Test', 'NNP'), ('at', 'IN'), ('Port', 'NNP'), ('of', 'IN'), ('Spain', 'NNP'), (',', ','), ('Sachin', 'NNP'), ('Tendulkar', 'NNP'), ('scored', 'VBD'), ('117', 'CD'), ('in', 'IN'), ('the', 'DT'), ('first', 'JJ'), ('innings', 'NNS'), (',', ','), ('his', 'PRP$'), ('29th', 'CD'), ('Test', 'NNP'), ('century', 'NN'), ('in', 'IN'), ('his', 'PRP$'), ('93rd', 'CD'), ('Test', 'NNP'), ('match', 'NN'), (',', ','), ('to', 'TO'), ('equal', 'VB'), ('Donald', 'NNP'), ('Bradman', 'NNP'), (\"'s\", 'POS'), ('record', 'NN'), ('of', 'IN'), ('29', 'CD'), ('Test', 'NNP'), ('hundreds', 'NNS'), ('.', '.'), ('He', 'PRP'), ('was', 'VBD'), ('gifted', 'VBN'), ('a', 'DT'), ('Ferrari', 'NNP'), ('360', 'CD'), ('Modena', 'NNP'), ('by', 'IN'), ('Fiat', 'NNP'), ('through', 'IN'), ('Michael', 'NNP'), ('Schumacher', 'NNP'), ('for', 'IN'), ('achieving', 'VBG'), ('this', 'DT'), ('feat', 'NN'), ('.', '.'), ('[', 'CC'), ('127', 'CD'), (']', 'JJ'), ('[', '$'), ('128', 'CD'), (']', 'NNP'), ('[', 'VBD'), ('129', 'CD'), (']', 'NN'), ('Then', 'RB'), (',', ','), ('in', 'IN'), ('an', 'DT'), ('unprecedented', 'JJ'), ('sequence', 'NN'), (',', ','), ('he', 'PRP'), ('scored', 'VBD'), ('just', 'RB'), ('0', 'CD'), (',', ','), ('0', 'CD'), (',', ','), ('8', 'CD'), (',', ','), ('and', 'CC'), ('0', 'CD'), ('in', 'IN'), ('the', 'DT'), ('next', 'JJ'), ('four', 'CD'), ('innings', 'NNS'), ('.', '.'), ('[', '$'), ('130', 'CD'), (']', 'NN'), ('He', 'PRP'), ('returned', 'VBD'), ('to', 'TO'), ('form', 'VB'), ('in', 'IN'), ('the', 'DT'), ('last', 'JJ'), ('Test', 'NNP'), ('scoring', 'VBG'), ('41', 'CD'), ('and', 'CC'), ('86', 'CD'), (',', ','), ('one', 'CD'), ('half', 'JJ'), ('century', 'NN'), ('.', '.'), ('However', 'RB'), (',', ','), ('India', 'NNP'), ('lost', 'VBD'), ('the', 'DT'), ('series', 'NN'), ('.', '.'), ('[', 'CC'), ('131', 'CD'), (']', 'NN'), ('In', 'IN'), ('this', 'DT'), ('period', 'NN'), (',', ','), ('in', 'IN'), ('the', 'DT'), ('third', 'JJ'), ('Test', 'NNP'), ('match', 'NN'), ('against', 'IN'), ('England', 'NNP'), ('in', 'IN'), ('August', 'NNP'), ('2002', 'CD'), (',', ','), ('Tendulkar', 'NNP'), ('scored', 'VBD'), ('his', 'PRP$'), ('30th', 'JJ'), ('Test', 'NNP'), ('century', 'NN'), ('to', 'TO'), ('surpass', 'VB'), ('Bradman', 'NNP'), (\"'s\", 'POS'), ('haul', 'NN'), (',', ','), ('in', 'IN'), ('his', 'PRP$'), ('99th', 'CD'), ('Test', 'NNP'), ('match', 'NN'), ('.', '.'), ('[', 'CC'), ('132', 'CD'), (']', 'JJ'), ('[', '$'), ('133', 'CD'), (']', 'NN')]\n"
     ]
    }
   ],
   "source": [
    "words = nltk.word_tokenize(text)\n",
    "tags = nltk.pos_tag(words)\n",
    "print(tags)"
   ]
  },
  {
   "cell_type": "code",
   "execution_count": 17,
   "id": "7f5ea6c2",
   "metadata": {},
   "outputs": [
    {
     "name": "stdout",
     "output_type": "stream",
     "text": [
      "[('2001–02', ':'), (':', 'Mike'), ('Mike', 'Denness'), ('Denness', 'incident'), ('incident', ','), (',', 'Kolkata'), ('Kolkata', 'Test'), ('Test', ','), (',', 'and'), ('and', 'breaking'), ('breaking', 'Bradman'), ('Bradman', \"'s\"), (\"'s\", 'record'), ('record', 'During'), ('During', 'India'), ('India', \"'s\"), (\"'s\", '2001'), ('2001', 'tour'), ('tour', 'of'), ('of', 'South'), ('South', 'Africa'), ('Africa', ','), (',', 'in'), ('in', 'the'), ('the', 'second'), ('second', 'Test'), ('Test', 'match'), ('match', ','), (',', 'referee'), ('referee', 'Mike'), ('Mike', 'Denness'), ('Denness', 'fined'), ('fined', 'four'), ('four', 'Indian'), ('Indian', 'players'), ('players', 'for'), ('for', 'excessive'), ('excessive', 'appealing'), ('appealing', ','), (',', 'and'), ('and', 'fined'), ('fined', 'the'), ('the', 'Indian'), ('Indian', 'captain'), ('captain', 'Sourav'), ('Sourav', 'Ganguly'), ('Ganguly', 'for'), ('for', 'not'), ('not', 'controlling'), ('controlling', 'his'), ('his', 'team'), ('team', '.'), ('.', '['), ('[', '119'), ('119', ']'), (']', 'Denness'), ('Denness', 'suspended'), ('suspended', 'Tendulkar'), ('Tendulkar', 'from'), ('from', 'one'), ('one', 'match'), ('match', 'for'), ('for', 'alleged'), ('alleged', 'ball'), ('ball', 'tampering'), ('tampering', '.'), ('.', 'Television'), ('Television', 'cameras'), ('cameras', 'captured'), ('captured', 'images'), ('images', 'that'), ('that', 'suggested'), ('suggested', 'Tendulkar'), ('Tendulkar', 'may'), ('may', 'have'), ('have', 'been'), ('been', 'involved'), ('involved', 'in'), ('in', 'cleaning'), ('cleaning', 'the'), ('the', 'seam'), ('seam', 'of'), ('of', 'the'), ('the', 'cricket'), ('cricket', 'ball'), ('ball', '.'), ('.', '['), ('[', '120'), ('120', ']'), (']', '['), ('[', '121'), ('121', ']'), (']', 'The'), ('The', 'incident'), ('incident', 'escalated'), ('escalated', 'to'), ('to', 'include'), ('include', 'sports'), ('sports', 'journalists'), ('journalists', 'accusing'), ('accusing', 'Denness'), ('Denness', 'of'), ('of', 'racism'), ('racism', ','), (',', '['), ('[', '122'), ('122', ']'), (']', 'and'), ('and', 'led'), ('led', 'to'), ('to', 'Denness'), ('Denness', 'being'), ('being', 'barred'), ('barred', 'from'), ('from', 'entering'), ('entering', 'the'), ('the', 'venue'), ('venue', 'of'), ('of', 'the'), ('the', 'third'), ('third', 'Test'), ('Test', 'match'), ('match', '.'), ('.', 'The'), ('The', 'ICC'), ('ICC', 'revoked'), ('revoked', 'the'), ('the', 'status'), ('status', 'of'), ('of', 'the'), ('the', 'match'), ('match', 'as'), ('as', 'a'), ('a', 'Test'), ('Test', 'as'), ('as', 'the'), ('the', 'teams'), ('teams', 'rejected'), ('rejected', 'the'), ('the', 'appointed'), ('appointed', 'referee'), ('referee', '.'), ('.', '['), ('[', '123'), ('123', ']'), (']', 'The'), ('The', 'charges'), ('charges', 'against'), ('against', 'Tendulkar'), ('Tendulkar', 'triggered'), ('triggered', 'a'), ('a', 'massive'), ('massive', 'backlash'), ('backlash', 'from'), ('from', 'the'), ('the', 'Indian'), ('Indian', 'public'), ('public', '.'), ('.', '['), ('[', '124'), ('124', ']'), (']', 'On'), ('On', 'the'), ('the', 'final'), ('final', 'day'), ('day', 'of'), ('of', 'the'), ('the', 'Kolkata'), ('Kolkata', 'Test'), ('Test', 'against'), ('against', 'Australia'), ('Australia', 'in'), ('in', '2001'), ('2001', ','), (',', 'Tendulkar'), ('Tendulkar', 'took'), ('took', 'three'), ('three', 'wickets'), ('wickets', ','), (',', 'including'), ('including', 'the'), ('the', 'key'), ('key', 'wickets'), ('wickets', 'of'), ('of', 'Matthew'), ('Matthew', 'Hayden'), ('Hayden', 'and'), ('and', 'Adam'), ('Adam', 'Gilchrist'), ('Gilchrist', ','), (',', 'who'), ('who', 'were'), ('were', 'centurions'), ('centurions', 'in'), ('in', 'the'), ('the', 'previous'), ('previous', 'Test'), ('Test', '.'), ('.', 'His'), ('His', 'three'), ('three', 'wickets'), ('wickets', 'haul'), ('haul', 'helped'), ('helped', 'India'), ('India', 'win'), ('win', 'the'), ('the', 'match'), ('match', '.'), ('.', '['), ('[', '125'), ('125', ']'), (']', 'In'), ('In', 'the'), ('the', 'five-match'), ('five-match', 'ODI'), ('ODI', 'series'), ('series', 'that'), ('that', 'followed'), ('followed', ','), (',', 'he'), ('he', 'took'), ('took', 'his'), ('his', '100th'), ('100th', 'wicket'), ('wicket', 'in'), ('in', 'ODIs'), ('ODIs', ','), (',', 'claiming'), ('claiming', 'the'), ('the', 'wicket'), ('wicket', 'of'), ('of', 'then'), ('then', 'Australian'), ('Australian', 'captain'), ('captain', 'Steve'), ('Steve', 'Waugh'), ('Waugh', 'in'), ('in', 'the'), ('the', 'final'), ('final', 'match'), ('match', 'at'), ('at', 'the'), ('the', 'Fatorda'), ('Fatorda', 'Stadium'), ('Stadium', 'in'), ('in', 'Goa'), ('Goa', '.'), ('.', '['), ('[', '126'), ('126', ']'), (']', 'In'), ('In', 'the'), ('the', '2002'), ('2002', 'series'), ('series', 'in'), ('in', 'the'), ('the', 'West'), ('West', 'Indies'), ('Indies', ','), (',', 'Tendulkar'), ('Tendulkar', 'started'), ('started', 'well'), ('well', ','), (',', 'scoring'), ('scoring', '79'), ('79', 'in'), ('in', 'the'), ('the', 'first'), ('first', 'Test'), ('Test', '.'), ('.', 'In'), ('In', 'the'), ('the', 'second'), ('second', 'Test'), ('Test', 'at'), ('at', 'Port'), ('Port', 'of'), ('of', 'Spain'), ('Spain', ','), (',', 'Sachin'), ('Sachin', 'Tendulkar'), ('Tendulkar', 'scored'), ('scored', '117'), ('117', 'in'), ('in', 'the'), ('the', 'first'), ('first', 'innings'), ('innings', ','), (',', 'his'), ('his', '29th'), ('29th', 'Test'), ('Test', 'century'), ('century', 'in'), ('in', 'his'), ('his', '93rd'), ('93rd', 'Test'), ('Test', 'match'), ('match', ','), (',', 'to'), ('to', 'equal'), ('equal', 'Donald'), ('Donald', 'Bradman'), ('Bradman', \"'s\"), (\"'s\", 'record'), ('record', 'of'), ('of', '29'), ('29', 'Test'), ('Test', 'hundreds'), ('hundreds', '.'), ('.', 'He'), ('He', 'was'), ('was', 'gifted'), ('gifted', 'a'), ('a', 'Ferrari'), ('Ferrari', '360'), ('360', 'Modena'), ('Modena', 'by'), ('by', 'Fiat'), ('Fiat', 'through'), ('through', 'Michael'), ('Michael', 'Schumacher'), ('Schumacher', 'for'), ('for', 'achieving'), ('achieving', 'this'), ('this', 'feat'), ('feat', '.'), ('.', '['), ('[', '127'), ('127', ']'), (']', '['), ('[', '128'), ('128', ']'), (']', '['), ('[', '129'), ('129', ']'), (']', 'Then'), ('Then', ','), (',', 'in'), ('in', 'an'), ('an', 'unprecedented'), ('unprecedented', 'sequence'), ('sequence', ','), (',', 'he'), ('he', 'scored'), ('scored', 'just'), ('just', '0'), ('0', ','), (',', '0'), ('0', ','), (',', '8'), ('8', ','), (',', 'and'), ('and', '0'), ('0', 'in'), ('in', 'the'), ('the', 'next'), ('next', 'four'), ('four', 'innings'), ('innings', '.'), ('.', '['), ('[', '130'), ('130', ']'), (']', 'He'), ('He', 'returned'), ('returned', 'to'), ('to', 'form'), ('form', 'in'), ('in', 'the'), ('the', 'last'), ('last', 'Test'), ('Test', 'scoring'), ('scoring', '41'), ('41', 'and'), ('and', '86'), ('86', ','), (',', 'one'), ('one', 'half'), ('half', 'century'), ('century', '.'), ('.', 'However'), ('However', ','), (',', 'India'), ('India', 'lost'), ('lost', 'the'), ('the', 'series'), ('series', '.'), ('.', '['), ('[', '131'), ('131', ']'), (']', 'In'), ('In', 'this'), ('this', 'period'), ('period', ','), (',', 'in'), ('in', 'the'), ('the', 'third'), ('third', 'Test'), ('Test', 'match'), ('match', 'against'), ('against', 'England'), ('England', 'in'), ('in', 'August'), ('August', '2002'), ('2002', ','), (',', 'Tendulkar'), ('Tendulkar', 'scored'), ('scored', 'his'), ('his', '30th'), ('30th', 'Test'), ('Test', 'century'), ('century', 'to'), ('to', 'surpass'), ('surpass', 'Bradman'), ('Bradman', \"'s\"), (\"'s\", 'haul'), ('haul', ','), (',', 'in'), ('in', 'his'), ('his', '99th'), ('99th', 'Test'), ('Test', 'match'), ('match', '.'), ('.', '['), ('[', '132'), ('132', ']'), (']', '['), ('[', '133'), ('133', ']')]\n"
     ]
    }
   ],
   "source": [
    "from nltk import bigrams\n",
    "bigrams = list(bigrams(words))\n",
    "print(bigrams)"
   ]
  },
  {
   "cell_type": "code",
   "execution_count": 18,
   "id": "4c289668",
   "metadata": {},
   "outputs": [
    {
     "name": "stdout",
     "output_type": "stream",
     "text": [
      "('Indian', 'players')\n",
      "('excessive', 'appealing')\n",
      "('Indian', 'captain')\n",
      "('not', 'controlling')\n",
      "('alleged', 'ball')\n",
      "('massive', 'backlash')\n",
      "('Indian', 'public')\n",
      "('final', 'day')\n",
      "('key', 'wickets')\n",
      "('100th', 'wicket')\n",
      "('final', 'match')\n",
      "('first', 'innings')\n",
      "('unprecedented', 'sequence')\n",
      "('half', 'century')\n"
     ]
    }
   ],
   "source": [
    "def filter_bigrams(tags):\n",
    "    filtered_bigrams = []\n",
    "    for i in range(len(tags) - 1):\n",
    "        first_word, first_tag = tags[i]\n",
    "        second_word, second_tag = tags[i + 1]\n",
    "\n",
    "        if (first_tag.startswith('JJ') and second_tag in ['NN', 'NNS']) \\\n",
    "            or (first_tag in ['RB', 'RBR', 'RBS'] and second_tag.startswith('JJ') and not (second_tag == 'NN' or second_tag == 'NNS')) \\\n",
    "            or (first_tag.startswith('JJ') and second_tag.startswith('JJ') and not (second_tag == 'NN' or second_tag == 'NNS')) \\\n",
    "            or ((first_tag == 'NN' or first_tag == 'NNS') and second_tag.startswith('JJ') and not (second_tag == 'NN' or second_tag == 'NNS')) \\\n",
    "            or (first_tag in ['RB', 'RBR', 'RBS'] and second_tag.startswith('VB') and second_tag != 'NNS'):\n",
    "            filtered_bigrams.append((first_word, second_word))\n",
    "    return filtered_bigrams\n",
    "\n",
    "filtered_bigrams = filter_bigrams(tags)\n",
    "\n",
    "for bigram in filtered_bigrams:\n",
    "  print(bigram)"
   ]
  },
  {
   "cell_type": "code",
   "execution_count": 19,
   "id": "1223341a",
   "metadata": {},
   "outputs": [
    {
     "name": "stdout",
     "output_type": "stream",
     "text": [
      "('Indian', 'players'): 4.962844630259907\n",
      "('excessive', 'appealing'): 6.061456918928017\n",
      "('Indian', 'captain'): 4.269697449699962\n",
      "('not', 'controlling'): 6.061456918928017\n",
      "('alleged', 'ball'): 5.368309738368072\n",
      "('massive', 'backlash'): 6.061456918928017\n",
      "('Indian', 'public'): 4.962844630259907\n",
      "('final', 'day'): 5.368309738368072\n",
      "('key', 'wickets'): 4.962844630259907\n",
      "('100th', 'wicket'): 5.368309738368072\n",
      "('final', 'match'): 3.1710851610318525\n",
      "('first', 'innings'): 4.675162557808126\n",
      "('unprecedented', 'sequence'): 6.061456918928017\n",
      "('half', 'century'): 4.962844630259907\n"
     ]
    }
   ],
   "source": [
    "from nltk.probability import FreqDist\n",
    "from math import log\n",
    "\n",
    "def compute_pmi(filtered_bigrams, words):\n",
    "  pmi_dict = {}\n",
    "  word_freq = FreqDist(words)\n",
    "  bigram_freq = FreqDist(filtered_bigrams)\n",
    "  for bigram in filtered_bigrams:\n",
    "    word1, word2 = bigram\n",
    "    pmi = log((bigram_freq[bigram] * len(words)) / (word_freq[word1] * word_freq[word2]))\n",
    "    pmi_dict[bigram] = pmi\n",
    "  return pmi_dict\n",
    "\n",
    "pmi_dict = compute_pmi(filtered_bigrams, words)\n",
    "\n",
    "for bigram, pmi in pmi_dict.items():\n",
    "  print(f\"{bigram}: {pmi}\")\n"
   ]
  },
  {
   "cell_type": "code",
   "execution_count": 20,
   "id": "da5b024d",
   "metadata": {},
   "outputs": [
    {
     "name": "stdout",
     "output_type": "stream",
     "text": [
      "Positive Bigrams:\n",
      "\n",
      "Negative Bigrams:\n",
      "('not', 'controlling'): 6.061456918928017\n"
     ]
    }
   ],
   "source": [
    "positive_words = [\"good\", \"great\", \"excellent\", \"amazing\", \"wonderful\"]\n",
    "negative_words = [\"not\", \"stopped\", \"difficult\", \"horrible\", \"Problem\"]\n",
    "positive_bigrams = [bigram for bigram in filtered_bigrams if bigram[0] in positive_words or bigram[1] in positive_words]\n",
    "negative_bigrams = [bigram for bigram in filtered_bigrams if bigram[0] in negative_words or bigram[1] in negative_words]\n",
    "positive_pmi_dict = compute_pmi(positive_bigrams, words)\n",
    "negative_pmi_dict = compute_pmi(negative_bigrams, words)\n",
    "print(\"Positive Bigrams:\")\n",
    "for bigram, pmi in positive_pmi_dict.items():\n",
    "  print(f\"{bigram}: {pmi}\")\n",
    "\n",
    "print(\"\\nNegative Bigrams:\")\n",
    "for bigram, pmi in negative_pmi_dict.items():\n",
    "  print(f\"{bigram}: {pmi}\")"
   ]
  },
  {
   "cell_type": "code",
   "execution_count": 21,
   "id": "ac3adebc",
   "metadata": {},
   "outputs": [
    {
     "name": "stdout",
     "output_type": "stream",
     "text": [
      "Average PMI for positive bigrams: 0.0\n",
      "Average PMI for negative bigrams: 6.061456918928017\n",
      "The overall sentiment of the text is negative.\n"
     ]
    }
   ],
   "source": [
    "positive_avg_pmi = sum(pmi for pmi in positive_pmi_dict.values()) / 1\n",
    "negative_avg_pmi = sum(pmi for pmi in negative_pmi_dict.values()) / len(negative_pmi_dict)\n",
    "\n",
    "print(\"Average PMI for positive bigrams:\", positive_avg_pmi)\n",
    "print(\"Average PMI for negative bigrams:\", negative_avg_pmi)\n",
    "if positive_avg_pmi > negative_avg_pmi:\n",
    "  print(\"The overall sentiment of the text is positive.\")\n",
    "else:\n",
    "  print(\"The overall sentiment of the text is negative.\")"
   ]
  },
  {
   "cell_type": "code",
   "execution_count": null,
   "id": "f4a16601",
   "metadata": {},
   "outputs": [],
   "source": []
  },
  {
   "cell_type": "code",
   "execution_count": null,
   "id": "231720e6",
   "metadata": {},
   "outputs": [],
   "source": []
  },
  {
   "cell_type": "code",
   "execution_count": null,
   "id": "15e9eef1",
   "metadata": {},
   "outputs": [],
   "source": []
  }
 ],
 "metadata": {
  "kernelspec": {
   "display_name": "Python 3 (ipykernel)",
   "language": "python",
   "name": "python3"
  },
  "language_info": {
   "codemirror_mode": {
    "name": "ipython",
    "version": 3
   },
   "file_extension": ".py",
   "mimetype": "text/x-python",
   "name": "python",
   "nbconvert_exporter": "python",
   "pygments_lexer": "ipython3",
   "version": "3.11.3"
  }
 },
 "nbformat": 4,
 "nbformat_minor": 5
}

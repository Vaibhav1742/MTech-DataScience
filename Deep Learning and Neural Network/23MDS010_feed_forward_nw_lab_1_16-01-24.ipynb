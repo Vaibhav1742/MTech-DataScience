{
 "cells": [
  {
   "cell_type": "code",
   "execution_count": 4,
   "id": "2a2976ce",
   "metadata": {},
   "outputs": [],
   "source": [
    "import pandas as pd\n",
    "import numpy as np\n",
    "import random"
   ]
  },
  {
   "cell_type": "code",
   "execution_count": 9,
   "id": "9fb17636",
   "metadata": {},
   "outputs": [
    {
     "data": {
      "text/plain": [
       "0.8697855491597505"
      ]
     },
     "execution_count": 9,
     "metadata": {},
     "output_type": "execute_result"
    }
   ],
   "source": [
    "random.random()"
   ]
  },
  {
   "cell_type": "code",
   "execution_count": 11,
   "id": "aa25f2f5",
   "metadata": {},
   "outputs": [],
   "source": [
    "w1 = random.random()\n",
    "w2 = random.random()\n",
    "b = random.random()"
   ]
  },
  {
   "cell_type": "code",
   "execution_count": 12,
   "id": "e76f9797",
   "metadata": {},
   "outputs": [
    {
     "data": {
      "text/plain": [
       "0.468276992536813"
      ]
     },
     "execution_count": 12,
     "metadata": {},
     "output_type": "execute_result"
    }
   ],
   "source": [
    "w1"
   ]
  },
  {
   "cell_type": "code",
   "execution_count": 15,
   "id": "f5305eae",
   "metadata": {},
   "outputs": [],
   "source": [
    "i1 = np.array([1,3,5,6,8,9])\n",
    "i2 = np.array([2,4,6,5,9,1])\n",
    "y = np.array([1,0,0,1,0,0])"
   ]
  },
  {
   "cell_type": "code",
   "execution_count": 16,
   "id": "9645b1d6",
   "metadata": {},
   "outputs": [
    {
     "data": {
      "text/plain": [
       "array([1, 3, 5, 6, 8, 9])"
      ]
     },
     "execution_count": 16,
     "metadata": {},
     "output_type": "execute_result"
    }
   ],
   "source": []
  },
  {
   "cell_type": "code",
   "execution_count": 21,
   "id": "aedcad64",
   "metadata": {},
   "outputs": [],
   "source": [
    "def nn(i1,i2,w1,w2,b):\n",
    "    s = i1 * w1 + i2 + w2 + b\n",
    "    return sigmoid(s)\n",
    "def sigmoid(x):\n",
    "    sig = (1 / 1 + np.exp(-x))\n",
    "#     return sig\n",
    "\n",
    "    if sig >= 0.5:\n",
    "        return 1\n",
    "    else: 0"
   ]
  },
  {
   "cell_type": "code",
   "execution_count": 66,
   "id": "11591772",
   "metadata": {},
   "outputs": [],
   "source": [
    "nn(i1,i2,w1,w2,b)"
   ]
  },
  {
   "cell_type": "code",
   "execution_count": 30,
   "id": "7deaf9bf",
   "metadata": {},
   "outputs": [
    {
     "name": "stdout",
     "output_type": "stream",
     "text": [
      "[[0.75896577]\n",
      " [0.60527452]\n",
      " [0.53356544]\n",
      " [0.5       ]]\n"
     ]
    }
   ],
   "source": [
    "def sigmoid(x):\n",
    "    return 1 / (1 + np.exp(-x))\n",
    "\n",
    "w = np.random.rand(3, 1)\n",
    "b = np.zeros((1, 1))       \n",
    "\n",
    "def nn(i):\n",
    "    s = np.dot(i, w) + b\n",
    "    out = sigmoid(s)\n",
    "    return out\n",
    "\n",
    "# i = np.array([[0.7, 0.3, 0.2]])\n",
    "\n",
    "d= {\"x1\": [1,1,0,0],\"x2\":[1,0,1,0],\"y\":[1,0,0,0]}\n",
    "i =  pd.DataFrame(d)\n",
    "\n",
    "out = nn(i)\n",
    "\n",
    "print(out)"
   ]
  },
  {
   "cell_type": "code",
   "execution_count": 40,
   "id": "bbd3ba0f",
   "metadata": {},
   "outputs": [],
   "source": [
    "import numpy as np\n",
    "import pandas as pd\n",
    "\n",
    "def sigmoid(x):\n",
    "    return 1 / (1 + np.exp(-x))\n",
    "\n",
    "w = np.random.rand(2, 1)\n",
    "b = np.zeros((1, 1))       \n",
    "\n",
    "def nn(inputs):\n",
    "    s = np.dot(inputs, w) + b\n",
    "    out = sigmoid(s)\n",
    "    return out\n",
    "\n",
    "d = {\"x1\": [1, 1, 0, 0], \"x2\": [1, 0, 1, 0], \"y\": [1, 0, 0, 0]}\n",
    "df = pd.DataFrame(d)\n",
    "\n",
    "input_data = df.drop(columns=['y']).values\n",
    "\n",
    "output = nn(input_data)\n",
    "\n",
    "output\n",
    "\n",
    "y1= np.round(output)"
   ]
  },
  {
   "cell_type": "code",
   "execution_count": 50,
   "id": "1028cdc1",
   "metadata": {},
   "outputs": [
    {
     "data": {
      "text/plain": [
       "array([[1.],\n",
       "       [1.],\n",
       "       [1.],\n",
       "       [0.]])"
      ]
     },
     "execution_count": 50,
     "metadata": {},
     "output_type": "execute_result"
    }
   ],
   "source": [
    "y1"
   ]
  },
  {
   "cell_type": "code",
   "execution_count": 37,
   "id": "7ae0b7b7",
   "metadata": {},
   "outputs": [
    {
     "data": {
      "text/plain": [
       "array([[1.],\n",
       "       [1.],\n",
       "       [1.],\n",
       "       [0.]])"
      ]
     },
     "execution_count": 37,
     "metadata": {},
     "output_type": "execute_result"
    }
   ],
   "source": [
    "np.round(output)"
   ]
  },
  {
   "cell_type": "code",
   "execution_count": 59,
   "id": "3e1ac538",
   "metadata": {},
   "outputs": [
    {
     "data": {
      "text/plain": [
       "array([1., 1., 1., 0.])"
      ]
     },
     "execution_count": 59,
     "metadata": {},
     "output_type": "execute_result"
    }
   ],
   "source": [
    "y1.flatten()"
   ]
  },
  {
   "cell_type": "code",
   "execution_count": null,
   "id": "3060b99c",
   "metadata": {},
   "outputs": [],
   "source": []
  },
  {
   "cell_type": "code",
   "execution_count": 61,
   "id": "5ccab497",
   "metadata": {},
   "outputs": [
    {
     "data": {
      "text/plain": [
       "array([0., 1., 1., 0.])"
      ]
     },
     "execution_count": 61,
     "metadata": {},
     "output_type": "execute_result"
    }
   ],
   "source": [
    "(y1.flatten() - df[\"y\"].values)"
   ]
  },
  {
   "cell_type": "code",
   "execution_count": 57,
   "id": "a93a113d",
   "metadata": {},
   "outputs": [
    {
     "data": {
      "text/plain": [
       "array([[1.],\n",
       "       [1.],\n",
       "       [1.],\n",
       "       [0.]])"
      ]
     },
     "execution_count": 57,
     "metadata": {},
     "output_type": "execute_result"
    }
   ],
   "source": [
    "df[\"y\"].values\n",
    "y1"
   ]
  },
  {
   "cell_type": "code",
   "execution_count": 62,
   "id": "b054aed8",
   "metadata": {},
   "outputs": [],
   "source": [
    "c = ((y1.flatten() - df[\"y\"].values) ** 2) / 2"
   ]
  },
  {
   "cell_type": "code",
   "execution_count": 63,
   "id": "edcb83f5",
   "metadata": {},
   "outputs": [
    {
     "data": {
      "text/plain": [
       "array([0. , 0.5, 0.5, 0. ])"
      ]
     },
     "execution_count": 63,
     "metadata": {},
     "output_type": "execute_result"
    }
   ],
   "source": [
    "c"
   ]
  },
  {
   "cell_type": "code",
   "execution_count": 65,
   "id": "9648c734",
   "metadata": {},
   "outputs": [
    {
     "name": "stdout",
     "output_type": "stream",
     "text": [
      "Epoch 0, Error: 0.5047589854527891\n",
      "Epoch 100, Error: 0.3287833786108268\n",
      "Epoch 200, Error: 0.2757721908192384\n",
      "Epoch 300, Error: 0.23983836555668347\n",
      "Epoch 400, Error: 0.21320207686853496\n",
      "Epoch 500, Error: 0.19242695913185545\n",
      "Epoch 600, Error: 0.17562254417380807\n",
      "Epoch 700, Error: 0.1616634431186732\n",
      "Epoch 800, Error: 0.14983370199588023\n",
      "Epoch 900, Error: 0.13965189892765645\n",
      "Trained Weights:\n",
      "[[2.99439005]\n",
      " [3.00596047]]\n",
      "\n",
      "Trained Bias:\n",
      "[[-4.8028046]]\n"
     ]
    }
   ],
   "source": [
    "import numpy as np\n",
    "import pandas as pd\n",
    "\n",
    "def sigmoid(x):\n",
    "    return 1 / (1 + np.exp(-x))\n",
    "\n",
    "def sigmoid_derivative(x):\n",
    "    return sigmoid(x) * (1 - sigmoid(x))\n",
    "\n",
    "# Randomly initialize weights and bias\n",
    "w = np.random.rand(2, 1)\n",
    "b = np.zeros((1, 1))       \n",
    "\n",
    "def nn(inputs):\n",
    "    s = np.dot(inputs, w) + b\n",
    "    out = sigmoid(s)\n",
    "    return out\n",
    "\n",
    "def backpropagation(inputs, targets, learning_rate=0.1, epochs=1000):\n",
    "    global w, b\n",
    "    \n",
    "    for epoch in range(epochs):\n",
    "        \n",
    "        predicted_output = nn(inputs)\n",
    "\n",
    "        error = targets - predicted_output\n",
    "\n",
    "        output_gradient = sigmoid_derivative(predicted_output)\n",
    "        delta_output = error * output_gradient\n",
    "\n",
    "        w += learning_rate * np.dot(inputs.T, delta_output)\n",
    "        b += learning_rate * np.sum(delta_output, axis=0, keepdims=True)\n",
    "\n",
    "        if epoch % 100 == 0:\n",
    "            print(f\"Epoch {epoch}, Error: {np.mean(np.abs(error))}\")\n",
    "\n",
    "    return w, b\n",
    "\n",
    "# Input DataFrame\n",
    "d = {\"x1\": [1, 1, 0, 0], \"x2\": [1, 0, 1, 0], \"y\": [1, 0, 0, 0]}\n",
    "df = pd.DataFrame(d)\n",
    "\n",
    "# Extracting input and target values\n",
    "input_data = df.drop(columns=['y']).values\n",
    "targets = df['y'].values.reshape(-1, 1)\n",
    "\n",
    "# Perform backpropagation\n",
    "trained_w, trained_b = backpropagation(input_data, targets)\n",
    "\n",
    "# Print the final weights and bias\n",
    "print(\"Trained Weights:\")\n",
    "print(trained_w)\n",
    "print(\"\\nTrained Bias:\")\n",
    "print(trained_b)"
   ]
  },
  {
   "cell_type": "code",
   "execution_count": null,
   "id": "57e735a3",
   "metadata": {},
   "outputs": [],
   "source": []
  }
 ],
 "metadata": {
  "kernelspec": {
   "display_name": "Python 3 (ipykernel)",
   "language": "python",
   "name": "python3"
  },
  "language_info": {
   "codemirror_mode": {
    "name": "ipython",
    "version": 3
   },
   "file_extension": ".py",
   "mimetype": "text/x-python",
   "name": "python",
   "nbconvert_exporter": "python",
   "pygments_lexer": "ipython3",
   "version": "3.11.3"
  }
 },
 "nbformat": 4,
 "nbformat_minor": 5
}

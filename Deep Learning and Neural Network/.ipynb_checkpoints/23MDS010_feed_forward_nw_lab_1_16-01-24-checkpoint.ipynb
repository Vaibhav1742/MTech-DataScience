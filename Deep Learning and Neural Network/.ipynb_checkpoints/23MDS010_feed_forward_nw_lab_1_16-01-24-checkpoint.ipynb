version https://git-lfs.github.com/spec/v1
oid sha256:44ce320b2c46bad44d694241de1384ba1cbf82e1f5aa3caf55081d0d41472ce4
size 9712

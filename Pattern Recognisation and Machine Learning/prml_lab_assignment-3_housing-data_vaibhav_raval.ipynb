{
 "cells": [
  {
   "cell_type": "markdown",
   "id": "3092aacf",
   "metadata": {},
   "source": [
    "#  <h1 style=\"text-align:center;\">Lab 3 Assignment: Multi Linear Regression</h1>"
   ]
  },
  {
   "cell_type": "markdown",
   "id": "2c9919fe",
   "metadata": {},
   "source": [
    "Aim: Write a script to implement following for the given Dataset Bengaluru \n",
    "Housing Dataset/ Boston Housing Dataset.\n",
    "\n",
    "Perform the following:\n",
    "Exercise 1: Draw a scatter plot for the data mentioned for given attributes.\n",
    "\n",
    "Exercise 2: Perform Data pre-processing.\n",
    "\n",
    "Exercise 3: Performs gradient descent to learn `theta`. (using the library and \n",
    "without using the library). Compare the values of ‘theta’ in both cases.\n",
    "\n",
    "Exercise 4: Splitting data into the training and testing, 60:40, 70:30, ND 80:20.\n",
    "\n",
    "Exercise 5: Train multilinear regression model and test USING Gradient Descent \n",
    "and using the library. Compare your results with Simple Linear Regression.\n",
    "\n",
    "Exercise 6: Did you expect ridge regression to outperform the lasso, or vice versa?\n",
    "Which predictors turned out to be important in the final model(s)?"
   ]
  },
  {
   "cell_type": "markdown",
   "id": "1cf7d142",
   "metadata": {},
   "source": [
    "# Exercise 1: "
   ]
  },
  {
   "cell_type": "markdown",
   "id": "280d11c0",
   "metadata": {},
   "source": [
    "Draw a scatter plot for the data mentioned for given attributes."
   ]
  },
  {
   "cell_type": "code",
   "execution_count": 1,
   "id": "7a9ffc27",
   "metadata": {},
   "outputs": [],
   "source": [
    "import numpy as np\n",
    "import pandas as pd\n",
    "import matplotlib.pyplot as plt\n",
    "from sklearn import linear_model\n",
    "import seaborn as sns\n",
    "from sklearn.model_selection import train_test_split\n",
    "from sklearn.linear_model import LinearRegression\n",
    "from sklearn.metrics import mean_squared_error, mean_squared_log_error"
   ]
  },
  {
   "cell_type": "code",
   "execution_count": 2,
   "id": "98912e36",
   "metadata": {},
   "outputs": [
    {
     "data": {
      "text/html": [
       "<div>\n",
       "<style scoped>\n",
       "    .dataframe tbody tr th:only-of-type {\n",
       "        vertical-align: middle;\n",
       "    }\n",
       "\n",
       "    .dataframe tbody tr th {\n",
       "        vertical-align: top;\n",
       "    }\n",
       "\n",
       "    .dataframe thead th {\n",
       "        text-align: right;\n",
       "    }\n",
       "</style>\n",
       "<table border=\"1\" class=\"dataframe\">\n",
       "  <thead>\n",
       "    <tr style=\"text-align: right;\">\n",
       "      <th></th>\n",
       "      <th>location</th>\n",
       "      <th>size</th>\n",
       "      <th>total_sqft</th>\n",
       "      <th>bath</th>\n",
       "      <th>price</th>\n",
       "      <th>bhk</th>\n",
       "      <th>price_per_sqft</th>\n",
       "    </tr>\n",
       "  </thead>\n",
       "  <tbody>\n",
       "    <tr>\n",
       "      <th>0</th>\n",
       "      <td>Electronic City Phase II</td>\n",
       "      <td>2 BHK</td>\n",
       "      <td>1056.0</td>\n",
       "      <td>2.0</td>\n",
       "      <td>39.07</td>\n",
       "      <td>2</td>\n",
       "      <td>3699.810606</td>\n",
       "    </tr>\n",
       "    <tr>\n",
       "      <th>1</th>\n",
       "      <td>Chikka Tirupathi</td>\n",
       "      <td>4 Bedroom</td>\n",
       "      <td>2600.0</td>\n",
       "      <td>5.0</td>\n",
       "      <td>120.00</td>\n",
       "      <td>4</td>\n",
       "      <td>4615.384615</td>\n",
       "    </tr>\n",
       "    <tr>\n",
       "      <th>2</th>\n",
       "      <td>Uttarahalli</td>\n",
       "      <td>3 BHK</td>\n",
       "      <td>1440.0</td>\n",
       "      <td>2.0</td>\n",
       "      <td>62.00</td>\n",
       "      <td>3</td>\n",
       "      <td>4305.555556</td>\n",
       "    </tr>\n",
       "    <tr>\n",
       "      <th>3</th>\n",
       "      <td>Lingadheeranahalli</td>\n",
       "      <td>3 BHK</td>\n",
       "      <td>1521.0</td>\n",
       "      <td>3.0</td>\n",
       "      <td>95.00</td>\n",
       "      <td>3</td>\n",
       "      <td>6245.890861</td>\n",
       "    </tr>\n",
       "    <tr>\n",
       "      <th>4</th>\n",
       "      <td>Kothanur</td>\n",
       "      <td>2 BHK</td>\n",
       "      <td>1200.0</td>\n",
       "      <td>2.0</td>\n",
       "      <td>51.00</td>\n",
       "      <td>2</td>\n",
       "      <td>4250.000000</td>\n",
       "    </tr>\n",
       "    <tr>\n",
       "      <th>...</th>\n",
       "      <td>...</td>\n",
       "      <td>...</td>\n",
       "      <td>...</td>\n",
       "      <td>...</td>\n",
       "      <td>...</td>\n",
       "      <td>...</td>\n",
       "      <td>...</td>\n",
       "    </tr>\n",
       "    <tr>\n",
       "      <th>13195</th>\n",
       "      <td>Whitefield</td>\n",
       "      <td>5 Bedroom</td>\n",
       "      <td>3453.0</td>\n",
       "      <td>4.0</td>\n",
       "      <td>231.00</td>\n",
       "      <td>5</td>\n",
       "      <td>6689.834926</td>\n",
       "    </tr>\n",
       "    <tr>\n",
       "      <th>13196</th>\n",
       "      <td>Richards Town</td>\n",
       "      <td>4 BHK</td>\n",
       "      <td>3600.0</td>\n",
       "      <td>5.0</td>\n",
       "      <td>400.00</td>\n",
       "      <td>4</td>\n",
       "      <td>11111.111111</td>\n",
       "    </tr>\n",
       "    <tr>\n",
       "      <th>13197</th>\n",
       "      <td>Raja Rajeshwari Nagar</td>\n",
       "      <td>2 BHK</td>\n",
       "      <td>1141.0</td>\n",
       "      <td>2.0</td>\n",
       "      <td>60.00</td>\n",
       "      <td>2</td>\n",
       "      <td>5258.545136</td>\n",
       "    </tr>\n",
       "    <tr>\n",
       "      <th>13198</th>\n",
       "      <td>Padmanabhanagar</td>\n",
       "      <td>4 BHK</td>\n",
       "      <td>4689.0</td>\n",
       "      <td>4.0</td>\n",
       "      <td>488.00</td>\n",
       "      <td>4</td>\n",
       "      <td>10407.336319</td>\n",
       "    </tr>\n",
       "    <tr>\n",
       "      <th>13199</th>\n",
       "      <td>Doddathoguru</td>\n",
       "      <td>1 BHK</td>\n",
       "      <td>550.0</td>\n",
       "      <td>1.0</td>\n",
       "      <td>17.00</td>\n",
       "      <td>1</td>\n",
       "      <td>3090.909091</td>\n",
       "    </tr>\n",
       "  </tbody>\n",
       "</table>\n",
       "<p>13200 rows × 7 columns</p>\n",
       "</div>"
      ],
      "text/plain": [
       "                       location       size  total_sqft  bath   price  bhk  \\\n",
       "0      Electronic City Phase II      2 BHK      1056.0   2.0   39.07    2   \n",
       "1              Chikka Tirupathi  4 Bedroom      2600.0   5.0  120.00    4   \n",
       "2                   Uttarahalli      3 BHK      1440.0   2.0   62.00    3   \n",
       "3            Lingadheeranahalli      3 BHK      1521.0   3.0   95.00    3   \n",
       "4                      Kothanur      2 BHK      1200.0   2.0   51.00    2   \n",
       "...                         ...        ...         ...   ...     ...  ...   \n",
       "13195                Whitefield  5 Bedroom      3453.0   4.0  231.00    5   \n",
       "13196             Richards Town      4 BHK      3600.0   5.0  400.00    4   \n",
       "13197     Raja Rajeshwari Nagar      2 BHK      1141.0   2.0   60.00    2   \n",
       "13198           Padmanabhanagar      4 BHK      4689.0   4.0  488.00    4   \n",
       "13199              Doddathoguru      1 BHK       550.0   1.0   17.00    1   \n",
       "\n",
       "       price_per_sqft  \n",
       "0         3699.810606  \n",
       "1         4615.384615  \n",
       "2         4305.555556  \n",
       "3         6245.890861  \n",
       "4         4250.000000  \n",
       "...               ...  \n",
       "13195     6689.834926  \n",
       "13196    11111.111111  \n",
       "13197     5258.545136  \n",
       "13198    10407.336319  \n",
       "13199     3090.909091  \n",
       "\n",
       "[13200 rows x 7 columns]"
      ]
     },
     "execution_count": 2,
     "metadata": {},
     "output_type": "execute_result"
    }
   ],
   "source": [
    "df = pd.read_csv(r\"C:\\Users\\raval\\jupyter_notebook\\pdeu_data_science\\prml_lab\\bhp.csv\")\n",
    "df"
   ]
  },
  {
   "cell_type": "code",
   "execution_count": 3,
   "id": "c5049ad0",
   "metadata": {},
   "outputs": [
    {
     "data": {
      "image/png": "[encoded data removed]",
      "text/plain": [
       "<Figure size 1200x800 with 4 Axes>"
      ]
     },
     "metadata": {},
     "output_type": "display_data"
    }
   ],
   "source": [
    "# Create subplots\n",
    "fig, axes = plt.subplots(nrows=2, ncols=2, figsize=(12, 8))\n",
    "\n",
    "# Scatter plot 1 - Total Sqft vs Price\n",
    "axes[0, 0].scatter(df['total_sqft'], df['price'], c='blue', alpha=0.5)\n",
    "axes[0, 0].set_title('Total Sqft vs Price')\n",
    "axes[0, 0].set_xlabel('Total Sqft')\n",
    "axes[0, 0].set_ylabel('Price')\n",
    "\n",
    "# Scatter plot 2 - Total Sqft vs Price per Sqft\n",
    "axes[0, 1].scatter(df['total_sqft'], df['price_per_sqft'], c='green', alpha=0.5)\n",
    "axes[0, 1].set_title('Total Sqft vs Price per Sqft')\n",
    "axes[0, 1].set_xlabel('Total Sqft')\n",
    "axes[0, 1].set_ylabel('Price per Sqft')\n",
    "\n",
    "# Scatter plot 3 - BHK vs Price\n",
    "axes[1, 0].scatter(df['bhk'], df['price'], c='red', alpha=0.5)\n",
    "axes[1, 0].set_title('BHK vs Price')\n",
    "axes[1, 0].set_xlabel('BHK')\n",
    "axes[1, 0].set_ylabel('Price')\n",
    "\n",
    "# Scatter plot 4 - Bath vs Price\n",
    "axes[1, 1].scatter(df['bath'], df['price'], c='purple', alpha=0.5)\n",
    "axes[1, 1].set_title('Bath vs Price')\n",
    "axes[1, 1].set_xlabel('Bath')\n",
    "axes[1, 1].set_ylabel('Price')\n",
    "\n",
    "# Adjust layout\n",
    "plt.tight_layout()\n",
    "\n",
    "# Show the plots\n",
    "plt.show()"
   ]
  },
  {
   "cell_type": "markdown",
   "id": "3c587d95",
   "metadata": {},
   "source": [
    "# Exercise 2: "
   ]
  },
  {
   "cell_type": "markdown",
   "id": "b9a674d1",
   "metadata": {},
   "source": [
    "Perform Data pre-processing."
   ]
  },
  {
   "cell_type": "code",
   "execution_count": 4,
   "id": "e98c130a",
   "metadata": {},
   "outputs": [
    {
     "data": {
      "text/plain": [
       "location          0\n",
       "size              0\n",
       "total_sqft        0\n",
       "bath              0\n",
       "price             0\n",
       "bhk               0\n",
       "price_per_sqft    0\n",
       "dtype: int64"
      ]
     },
     "execution_count": 4,
     "metadata": {},
     "output_type": "execute_result"
    }
   ],
   "source": [
    "df.isnull().sum()"
   ]
  },
  {
   "cell_type": "markdown",
   "id": "9a4e0299",
   "metadata": {},
   "source": [
    "data is pre-processed already "
   ]
  },
  {
   "cell_type": "markdown",
   "id": "99646515",
   "metadata": {},
   "source": [
    "# Exercise 3: "
   ]
  },
  {
   "cell_type": "markdown",
   "id": "c336944c",
   "metadata": {},
   "source": [
    "Performs gradient descent to learn `theta`. (using the library and \n",
    "without using the library). Compare the values of ‘theta’ in both cases."
   ]
  },
  {
   "cell_type": "code",
   "execution_count": 5,
   "id": "39c931c3",
   "metadata": {},
   "outputs": [
    {
     "name": "stdout",
     "output_type": "stream",
     "text": [
      "Thetas without using a library: [2555.38725194]\n",
      "Intercept (Theta_0): 763.5548130675422\n"
     ]
    }
   ],
   "source": [
    "x = df[['bhk']].values\n",
    "y = df['price_per_sqft'].values\n",
    "Theta = np.zeros(x.shape[1])\n",
    "Theta_0 = 0\n",
    "learning_rate = 0.001\n",
    "epochs = 10000\n",
    "n = float(len(x))\n",
    "for i in range(epochs):\n",
    "\n",
    "    y_pred = np.dot(x, Theta) + Theta_0\n",
    "    d_theta = (-2/n) * np.dot(x.T, (y - y_pred))\n",
    "    d_theta_0 = (-2/n) * np.sum(y - y_pred)\n",
    "    Theta = Theta - learning_rate * d_theta\n",
    "    Theta_0 = Theta_0 - learning_rate * d_theta_0\n",
    "print(\"Thetas without using a library:\", Theta)\n",
    "print(\"Intercept (Theta_0):\", Theta_0)"
   ]
  },
  {
   "cell_type": "code",
   "execution_count": 6,
   "id": "cef6cbfe",
   "metadata": {},
   "outputs": [
    {
     "name": "stdout",
     "output_type": "stream",
     "text": [
      "Theta values (Coefficients): [2555.40479612]\n",
      "Theta_0 (Intercept): 763.4962168177162\n"
     ]
    }
   ],
   "source": [
    "x = df[['bhk']]\n",
    "y = df['price_per_sqft']\n",
    "\n",
    "model = LinearRegression()\n",
    "model.fit(x, y)\n",
    "theta_values = model.coef_\n",
    "theta_0 = model.intercept_\n",
    "\n",
    "print(\"Theta values (Coefficients):\", theta_values)\n",
    "print(\"Theta_0 (Intercept):\", theta_0)"
   ]
  },
  {
   "cell_type": "markdown",
   "id": "d542ca06",
   "metadata": {},
   "source": [
    "# Exercise 4: "
   ]
  },
  {
   "cell_type": "markdown",
   "id": "790abd28",
   "metadata": {},
   "source": [
    "Splitting data into the training and testing, 60:40, 70:30 ND 80:20."
   ]
  },
  {
   "cell_type": "code",
   "execution_count": 7,
   "id": "23587a62",
   "metadata": {},
   "outputs": [],
   "source": [
    "X= df[['bhk','total_sqft','bath']]\n",
    "y = df['price_per_sqft']"
   ]
  },
  {
   "cell_type": "markdown",
   "id": "263dbc03",
   "metadata": {},
   "source": [
    "60:40 split"
   ]
  },
  {
   "cell_type": "code",
   "execution_count": 8,
   "id": "a58f2a29",
   "metadata": {},
   "outputs": [
    {
     "data": {
      "text/plain": [
       "((7920, 3), (5280, 3))"
      ]
     },
     "execution_count": 8,
     "metadata": {},
     "output_type": "execute_result"
    }
   ],
   "source": [
    "X_train, X_test, y_train, y_test= train_test_split(X, y, test_size=0.4, random_state=1)\n",
    "X_train.shape,X_test.shape"
   ]
  },
  {
   "cell_type": "markdown",
   "id": "e3c2728c",
   "metadata": {},
   "source": [
    "70:30 split"
   ]
  },
  {
   "cell_type": "code",
   "execution_count": 9,
   "id": "d51a02c1",
   "metadata": {},
   "outputs": [
    {
     "data": {
      "text/plain": [
       "((9240, 3), (3960, 3))"
      ]
     },
     "execution_count": 9,
     "metadata": {},
     "output_type": "execute_result"
    }
   ],
   "source": [
    "X_train, X_test, y_train, y_test= train_test_split(X, y, test_size=0.3, random_state=1)\n",
    "X_train.shape,X_test.shape"
   ]
  },
  {
   "cell_type": "markdown",
   "id": "0ad5f7d6",
   "metadata": {},
   "source": [
    "80:20 split"
   ]
  },
  {
   "cell_type": "code",
   "execution_count": 10,
   "id": "890600c0",
   "metadata": {},
   "outputs": [
    {
     "data": {
      "text/plain": [
       "((10560, 3), (2640, 3))"
      ]
     },
     "execution_count": 10,
     "metadata": {},
     "output_type": "execute_result"
    }
   ],
   "source": [
    "X_train, X_test, y_train, y_test= train_test_split(X, y, test_size=0.2, random_state=1)\n",
    "X_train.shape,X_test.shape"
   ]
  },
  {
   "cell_type": "markdown",
   "id": "8cf40e22",
   "metadata": {},
   "source": [
    "# Exercise 5: "
   ]
  },
  {
   "cell_type": "markdown",
   "id": "ebc0adaa",
   "metadata": {},
   "source": [
    "Train Multilinear regression model and test USING gradient descent and using the library. Compare your results with simple linear regression"
   ]
  },
  {
   "cell_type": "code",
   "execution_count": 23,
   "id": "e44b98b0",
   "metadata": {},
   "outputs": [
    {
     "name": "stdout",
     "output_type": "stream",
     "text": [
      "Theta without using library:  0.6149022487058641 0.24994557757968294 20.374742700459706 0.7485360392003488\n",
      "Theta without using library:  0.5673593202163109 0.10277101428478422 -118.13476417797173 0.6029021453037219\n",
      "Theta without using library:  0.9506665381041666 1.3156568605508223 837.533991629799 1.7969733422831333\n",
      "Theta without using library:  -1.638748782602545 -6.855421677213238 -5756.261172881948 -6.252474828469451\n",
      "Theta without using library:  16.282626110699677 49.71971172090359 39738.71879906596 49.475265442449235\n",
      "Theta without using library:  -107.31358961734628 -340.43235693947344 -274161.4217107906 -334.8382583248831\n",
      "Theta without using library:  745.5142200386781 2351.6837991718676 1891644.5220125094 2316.9857074613533\n",
      "Theta without using library:  -5138.6570523627115 -16222.819527186166 -13051691.850775259 -15979.523170596345\n",
      "Theta without using library:  35460.21126300089 111935.23614757853 90052329.35154088 110260.4556390197\n",
      "Theta without using library:  -244658.34119560994 -772312.271234107 -621330920.2087663 -760752.9713105297\n",
      "Theta without using library:  1688066.0034512822 5328699.873925075 4286975485.819262 5248948.438566756\n",
      "Theta without using library:  -11647085.26481693 -36766242.44221652 -29578696485.441196 -36215980.363229975\n",
      "Theta without using library:  80360996.84166227 253674775.53206635 204083109276.41473 249878155.144988\n",
      "Theta without using library:  -554463985.4016504 -1750271071.994307 -1408105171476.5745 -1724075657.761787\n",
      "Theta without using library:  3825615991.203103 12076284792.186947 9715454556749.955 11895545202.327057\n",
      "Theta without using library:  -26395470351.966526 -83322324555.55527 -67033385826604.75 -82075281853.88602\n",
      "Theta without using library:  182119913988.39792 574896161299.0133 462507934048040.3 566291983899.1912\n",
      "Theta without using library:  -1256566472492.9268 -3966591163125.725 -3191149998162203.0 -3907225217864.912\n",
      "Theta without using library:  8669888235847.399 27368151876085.62 2.201786728638658e+16 26958546716558.82\n",
      "Theta without using library:  -59819328039925.32 -188831091057559.47 -1.5191591749686634e+17 -186004952503280.75\n",
      "Theta without using library:  412733349012875.94 1302871348837690.2 1.0481690024167055e+18 1283371938387894.8\n",
      "Theta without using library:  -2847722015093376.0 -8989376389848560.0 -7.232015418330909e+18 -8854836981894113.0\n",
      "Theta without using library:  1.9648329107988436e+16 6.2023689407596984e+16 4.989848668524388e+19 6.109541250715797e+16\n",
      "Theta without using library:  -1.355668968704357e+17 -4.2794270491046355e+17 -3.44282862999217e+20 -4.215379048820592e+17\n",
      "Theta without using library:  9.353662301801894e+17 2.952661482011918e+18 2.3754365638906285e+21 2.90847050474586e+18\n",
      "Theta without using library:  -6.453714031661346e+18 -2.0372376318883107e+19 -1.6389717512838906e+22 -2.0067473361247207e+19\n",
      "Theta without using library:  4.452846752275687e+19 1.4056258037253662e+20 1.130835671362624e+23 1.3845885197985124e+20\n",
      "Theta without using library:  -3.072315274891128e+20 -9.698347748795941e+20 -7.802387775289045e+23 -9.553197528394303e+20\n",
      "Theta without using library:  2.119794745576044e+21 6.691535457537135e+21 5.383386511200702e+24 6.591386661923275e+21\n",
      "Theta without using library:  -1.4625874499586048e+22 -4.61693557905634e+22 -3.7143565743762008e+25 -4.547836260879909e+22\n",
      "Theta without using library:  1.0091364049471137e+23 3.1855310752551984e+23 2.5627817606829333e+26 3.137854857651368e+23\n",
      "Theta without using library:  -6.962703555390241e+23 -2.19790985983185e+24 -1.7682336688399576e+27 -2.1650148648449974e+24\n",
      "Theta without using library:  4.8040324937819586e+24 1.5164842652049692e+25 1.220022069606901e+28 1.493787819270942e+25\n",
      "Theta without using library:  -3.3146216864922606e+25 -1.0463234041773686e+26 -8.417744083022753e+28 -1.0306636158648178e+26\n",
      "Theta without using library:  2.286978062447577e+26 7.219281407983204e+26 5.807961774830446e+29 7.111234108107847e+26\n",
      "Theta without using library:  -1.577938344949282e+27 -4.981062627441443e+27 -4.0072993007621e+30 -4.9065136055941926e+27\n",
      "Theta without using library:  1.0887246630588494e+28 3.43676655560993e+28 2.7649024405566635e+31 3.3853302248104342e+28\n",
      "Theta without using library:  -7.5118359075728995e+28 -2.371253935392933e+29 -1.9076901753613305e+32 -2.3357645881076617e+29\n",
      "Theta without using library:  5.182915443815123e+29 1.6360858775636027e+30 1.316242393144764e+33 1.6115994153459825e+30\n",
      "Theta without using library:  -3.5760382452785186e+30 -1.1288445150517404e+31 -9.081632121858189e+33 -1.1119496753942124e+31\n",
      "Theta without using library:  2.467346741485967e+31 7.7886494629487e+31 6.2660223091367155e+34 7.672080722018788e+31\n",
      "Theta without using library:  -1.7023866986767504e+32 -5.373907535344526e+32 -4.323345743558534e+35 -5.293479004281567e+32\n",
      "Theta without using library:  1.1745898633145426e+33 3.707816398184888e+33 2.982963911745261e+36 3.652323402744296e+33\n",
      "Theta without using library:  -8.104277060398153e+33 -2.55826925793336e+34 -2.058145294539985e+37 -2.5199809477743774e+34\n",
      "Theta without using library:  5.591680017257677e+34 1.7651201929228704e+35 1.4200513914225487e+38 1.7387025399706178e+35\n",
      "Theta without using library:  -3.858072124432355e+35 -1.2178738753953818e+36 -9.797879477366146e+38 -1.1996465787450957e+36\n",
      "Theta without using library:  2.661940681759892e+36 8.402922261710142e+36 6.760209020099377e+39 8.277160013346172e+36\n",
      "Theta without using library:  -1.836650006705353e+37 -5.797735214035971e+37 -4.664318039531262e+40 -5.710963470441643e+37\n",
      "Theta without using library:  1.2672270536473593e+38 4.000243315975998e+38 3.218223387651605e+41 3.940373716121116e+38\n",
      "Theta without using library:  -8.74344267897004e+38 -2.760034047134952e+39 -2.2204664615598484e+42 -2.7187260263632657e+39\n",
      "Theta without using library:  6.032682908749734e+39 1.90433114678785e+40 1.5320475656943085e+43 1.8758299945469328e+40\n",
      "Theta without using library:  -4.1623493644046957e+40 -1.3139247758160725e+41 -1.0570615607951898e+44 -1.2942599343667228e+41\n",
      "Theta without using library:  2.8718817967760546e+41 9.065641337722904e+41 7.293371095853606e+44 8.929960511221833e+41\n",
      "Theta without using library:  -1.9815023518174053e+42 -6.254989203106147e+42 -5.0321820331653504e+45 -6.161373972454835e+42\n",
      "Theta without using library:  1.3671703252778781e+43 4.3157332695451315e+43 3.4720372351968615e+46 4.2511418925916224e+43\n",
      "Theta without using library:  -9.433017814014024e+43 -2.9777115593755597e+44 -2.395589524214919e+47 -2.933145670388002e+44\n",
      "Theta without using library:  6.508466679996184e+44 2.054521347139117e+45 1.6528766196261115e+48 2.0237723748315432e+45\n",
      "Theta without using library:  -4.49062424770229e+45 -1.4175509889666406e+46 -1.1404295652870514e+49 -1.3963352268792725e+46\n",
      "Theta without using library:  3.098380482768933e+46 9.78062753700951e+46 7.868582433424586e+49 9.63424587701608e+46\n",
      "Theta without using library:  -2.137778866917106e+47 -6.748305758471996e+47 -5.429058610560863e+50 -6.647307310741476e+47\n",
      "Theta without using library:  1.4749958919678126e+48 4.6561051872699655e+48 3.745868794828961e+51 4.5864196375608523e+48\n",
      "Theta without using library:  -1.0176978147694666e+49 -3.2125567943783976e+49 -2.5845241384535413e+52 -3.1644760966312373e+49\n",
      "Theta without using library:  7.021774418671881e+49 2.2165567017952816e+50 1.7832351820411538e+53 2.1833826290427403e+50\n",
      "Theta without using library:  -4.844789413042407e+50 -1.529349962270233e+51 -1.2303726117923078e+54 -1.506460962015299e+51\n",
      "Theta without using library:  3.342742597129367e+51 1.055200304689521e+52 8.489159360998235e+54 1.0394076603380622e+52\n",
      "Theta without using library:  -2.3063805499125125e+52 -7.280529051467029e+52 -5.857235927207717e+55 -7.171565089374434e+52\n",
      "Theta without using library:  1.5913254121279896e+53 5.023321452210034e+53 4.041296817278653e+56 4.948139964102753e+53\n",
      "Theta without using library:  -1.097961291505165e+54 -3.465923730796677e+54 -2.7883595894578364e+57 -3.414051019438938e+54\n",
      "Theta without using library:  7.575565553444132e+54 2.3913714107255522e+55 1.9238748232694624e+58 2.3555809754556126e+55\n",
      "Theta without using library:  -5.22688676718773e+55 -1.6499662624488737e+56 -1.327409258692423e+59 -1.6252720595956873e+56\n",
      "Theta without using library:  3.6063769872050194e+56 1.1384215162100831e+57 9.158679757906321e+59 1.1213833424646227e+57\n",
      "Theta without using library:  -2.4882794583359562e+57 -7.854727566650438e+57 -6.319182600135758e+60 -7.73716986847085e+57\n",
      "Theta without using library:  1.7168295729324997e+58 5.419499216045198e+58 4.3600245657008755e+61 5.338388337568748e+58\n",
      "Theta without using library:  -1.1845549633186322e+59 -3.7392731324532223e+59 -3.008271071816578e+62 -3.683309340127386e+59\n",
      "Theta without using library:  8.173032916284323e+59 2.5799733520932765e+60 2.0756063882575074e+63 2.5413602078354878e+60\n",
      "Theta without using library:  -5.639119257372896e+60 -1.7800952917135682e+61 -1.4320989618711127e+64 -1.753453514101481e+61\n",
      "Theta without using library:  3.8908036128809885e+61 1.2282061925213235e+62 9.881003682562374e+64 1.209824257354569e+62\n",
      "Theta without using library:  -2.6845243136530817e+62 -8.474211792872688e+62 -6.81756194049948e+65 -8.347382590484334e+62\n",
      "Theta without using library:  1.8522319571042845e+63 5.8469226053197056e+63 4.7038896356826785e+66 5.759414699146897e+63\n",
      "Theta without using library:  -1.2779780780788336e+64 -4.03418097024098e+64 -3.2455264650022215e+67 -3.9738034428376056e+64\n",
      "Theta without using library:  8.817621150449449e+64 2.7834498930852215e+65 2.2393046714203534e+68 2.741791419299475e+65\n",
      "Theta without using library:  -6.083863572193335e+65 -1.9204872970419396e+66 -1.5450453002057363e+69 -1.8917443439468188e+66\n",
      "Theta without using library:  4.1976623097687554e+66 1.3250719789359485e+67 1.066029562727434e+70 1.3052403029873968e+67\n",
      "Theta without using library:  -2.896246547569988e+67 -9.142553309597695e+67 -7.355247308655209e+70 -9.005721380871897e+67\n",
      "Theta without using library:  1.9983132146648553e+68 6.308055890364562e+68 5.0748745497325e+71 6.2136464376920185e+68\n",
      "Theta without using library:  -1.378769258181601e+69 -4.3523475082382036e+69 -3.5014936432139914e+72 -4.287208144663254e+69\n",
      "Theta without using library:  9.513046570257102e+69 3.00297415902777e+70 2.415913460188719e+73 2.9580301776060716e+70\n",
      "Theta without using library:  -6.5636838441867e+70 -2.0719516956583301e+71 -1.6668994554460095e+74 -2.0409418522214778e+71\n",
      "Theta without using library:  4.528722243527658e+71 1.4295773462570646e+72 1.1501048528241367e+75 1.4081815918187796e+72\n",
      "Theta without using library:  -3.1246668251986558e+72 -9.863605378512628e+72 -7.93533868025489e+75 -9.71598183151996e+72\n",
      "Theta without using library:  2.1559155637003188e+73 6.805557692821083e+73 5.475118187330615e+76 6.703702384612445e+73\n",
      "Theta without using library:  -1.4875096059271771e+74 -4.695607106424807e+74 -3.7776483617301794e+77 -4.625330351654759e+74\n",
      "Theta without using library:  1.0263318587152539e+75 3.2398117969326135e+75 2.6064509763286635e+78 3.1913231874740967e+75\n",
      "Theta without using library:  -7.081346433103066e+75 -2.2353617416547034e+76 -1.79836396654269e+79 -2.2019062234692892e+76\n",
      "Theta without using library:  4.885892109828162e+76 1.5423248105906295e+77 1.24081096691665e+80 1.5192416224036745e+77\n",
      "Theta without using library:  -3.3711020826898527e+77 -1.0641525159156887e+78 -8.561180518871915e+80 -1.0482258883883098e+78\n",
      "Theta without using library:  2.3259476460922796e+78 7.342296313680123e+78 5.90692811644328e+81 7.2324079125020474e+78\n"
     ]
    },
    {
     "name": "stdout",
     "output_type": "stream",
     "text": [
      "Theta without using library:  -1.6048260538124782e+79 -5.065938796516543e+79 -4.075582765240592e+82 -4.990119476370354e+79\n",
      "Theta without using library:  1.1072762825604548e+80 3.4953282724690217e+80 2.812015746405881e+83 3.4430154783451415e+80\n",
      "Theta without using library:  -7.639835875098354e+80 -2.4116595606567755e+81 -1.9401967800714904e+84 -2.3755654830025396e+81\n"
     ]
    }
   ],
   "source": [
    "# Performs gradient descent to learn theta, without using the Library\n",
    "\n",
    "x1, x2, x3 = df['bhk'], df['total_sqft'], df['bath']\n",
    "y= df[\"price_per_sqft\"]\n",
    "\n",
    "Theta_0  = 0.6\n",
    "Theta_1 = 0.2\n",
    "Theta_2 = 0.3\n",
    "Theta_3 = 0.7\n",
    "\n",
    "L = 0.000001\n",
    "epochs= 100\n",
    "n = float(len(df))\n",
    "\n",
    "for i in range(epochs):\n",
    "    y_pred = Theta_0 + Theta_1*x1 + Theta_2*x2 + Theta_3*x3  \n",
    "    d_theta_0 = (-2/n)*sum(y - y_pred) \n",
    "    d_theta_1 = (-2/n)*sum(x1 *(y - y_pred)) \n",
    "    d_theta_2 = (-2/n) * sum(x2* (y - y_pred))\n",
    "    d_theta_3 = (-2/n)* sum(x3* (y - y_pred)) \n",
    "\n",
    "    Theta_0= Theta_0- L *d_theta_0 \n",
    "    Theta_1= Theta_1- L *d_theta_1    \n",
    "    Theta_2= Theta_2- L *d_theta_2   \n",
    "    Theta_3= Theta_3- L *d_theta_3    \n",
    "\n",
    "    print(\"Theta without using library: \", Theta_0, Theta_1, Theta_2, Theta_3)"
   ]
  },
  {
   "cell_type": "code",
   "execution_count": 14,
   "id": "977c7158",
   "metadata": {},
   "outputs": [
    {
     "name": "stdout",
     "output_type": "stream",
     "text": [
      "Coefficients: [1491.71288993   -1.94961844 1933.72142831]\n",
      "Intercept: 1717.623832424195\n",
      "Mean Squared Error: 1986674652.4347043\n"
     ]
    }
   ],
   "source": [
    "# # Create a DataFrame with your features\n",
    "# data = pd.DataFrame({'x1': x1, 'x2': x2, 'x3': x3})\n",
    "\n",
    "# Split the dataset into training and testing sets\n",
    "X_train, X_test, y_train, y_test = train_test_split(X, y, test_size=0.2, random_state=42)\n",
    "\n",
    "# Initialize the Linear Regression model\n",
    "model = LinearRegression()\n",
    "\n",
    "# Fit the model to the training data\n",
    "model.fit(X_train, y_train)\n",
    "\n",
    "# Get the coefficients and intercept\n",
    "coefficients = model.coef_\n",
    "intercept = model.intercept_\n",
    "\n",
    "# Make predictions on the test set\n",
    "y_pred = model.predict(X_test)\n",
    "\n",
    "# Calculate the Mean Squared Error (MSE) to evaluate the model\n",
    "mse = mean_squared_error(y_test, y_pred)\n",
    "\n",
    "print(f\"Coefficients: {coefficients}\")\n",
    "print(f\"Intercept: {intercept}\")\n",
    "print(f\"Mean Squared Error: {mse}\")"
   ]
  },
  {
   "cell_type": "markdown",
   "id": "cf03eebc",
   "metadata": {},
   "source": [
    "The Value of Thetas for without library and with library are different to each other , the without library falling short by a very large numbers at 100 epochs and 0.0001 learning rate"
   ]
  },
  {
   "cell_type": "code",
   "execution_count": 13,
   "id": "725a63a8",
   "metadata": {},
   "outputs": [],
   "source": [
    "X= df[['bhk','total_sqft','bath']]"
   ]
  },
  {
   "cell_type": "markdown",
   "id": "c1bd19ed",
   "metadata": {},
   "source": [
    "# Exercise 6"
   ]
  },
  {
   "cell_type": "markdown",
   "id": "cf4c5b06",
   "metadata": {},
   "source": [
    "Did you expect ridge regression to outperform the lasso ,or vice versa ?"
   ]
  },
  {
   "cell_type": "code",
   "execution_count": 24,
   "id": "7dc780bb",
   "metadata": {},
   "outputs": [],
   "source": [
    "from sklearn.linear_model import Lasso, Ridge\n",
    "from sklearn.metrics import mean_squared_error, r2_score"
   ]
  },
  {
   "cell_type": "code",
   "execution_count": 25,
   "id": "217ae3c7",
   "metadata": {},
   "outputs": [],
   "source": [
    "X= df[['bhk','total_sqft','bath']]\n",
    "y = df['price']"
   ]
  },
  {
   "cell_type": "code",
   "execution_count": 26,
   "id": "01cfc4a8",
   "metadata": {},
   "outputs": [],
   "source": [
    "X_train, X_test, y_train, y_test = train_test_split(X, y, test_size=0.2, random_state=3)"
   ]
  },
  {
   "cell_type": "markdown",
   "id": "c7d58f5c",
   "metadata": {},
   "source": [
    "Lasso"
   ]
  },
  {
   "cell_type": "code",
   "execution_count": 27,
   "id": "f0bf37e6",
   "metadata": {},
   "outputs": [],
   "source": [
    "lasso_model = Lasso(alpha=1.0)\n",
    "lasso_model.fit(X_train, y_train)\n",
    "lasso_pred = lasso_model.predict(X_test)\n",
    "l_mse = mean_squared_error(y_test, lasso_pred)\n",
    "l_r2 = r2_score(y_test, lasso_pred)"
   ]
  },
  {
   "cell_type": "code",
   "execution_count": 28,
   "id": "e3e7c27f",
   "metadata": {},
   "outputs": [
    {
     "name": "stdout",
     "output_type": "stream",
     "text": [
      "Mean Square Error: 11553.307662056648\n",
      "R-2 : 0.46703493251013517\n"
     ]
    }
   ],
   "source": [
    "print(\"Mean Square Error:\", l_mse)\n",
    "print(\"R-2 :\", l_r2)"
   ]
  },
  {
   "cell_type": "markdown",
   "id": "4df996cd",
   "metadata": {},
   "source": [
    "Ridge"
   ]
  },
  {
   "cell_type": "code",
   "execution_count": 29,
   "id": "ea36c5ea",
   "metadata": {},
   "outputs": [],
   "source": [
    "ridge_model = Ridge(alpha=1.0)\n",
    "ridge_model.fit(X_train, y_train)\n",
    "ridge_pred = ridge_model.predict(X_test)\n",
    "r_mse = mean_squared_error(y_test, ridge_pred)\n",
    "r_r2 = r2_score(y_test, ridge_pred)"
   ]
  },
  {
   "cell_type": "code",
   "execution_count": 30,
   "id": "8ad3c837",
   "metadata": {},
   "outputs": [
    {
     "name": "stdout",
     "output_type": "stream",
     "text": [
      "Mean Square Error: 11582.80239988878\n",
      "R-2: 0.46567431220994837\n"
     ]
    }
   ],
   "source": [
    "print(\"Mean Square Error:\", r_mse)\n",
    "print(\"R-2:\", r_r2)"
   ]
  },
  {
   "cell_type": "markdown",
   "id": "fdd763eb",
   "metadata": {},
   "source": [
    "Expected Ridge to perform better due to regularization factor/ bias being squared allowing for faster regularization but here "
   ]
  },
  {
   "cell_type": "markdown",
   "id": "7e068ad8",
   "metadata": {},
   "source": [
    "# Exercise 7"
   ]
  },
  {
   "cell_type": "markdown",
   "id": "fa5b8ad1",
   "metadata": {},
   "source": [
    "Which predictors turned out to be important in the final models(s)?"
   ]
  },
  {
   "cell_type": "markdown",
   "id": "db968774",
   "metadata": {},
   "source": [
    "\"bath\" appears to be the most important feature for price prediction in your model, as it has the largest positive coefficient. This suggests that the number of bathrooms has a significant impact on the price.\n",
    "\n",
    "\"bhk\" is also important, but it has a slightly smaller positive coefficient, indicating that the number of bedrooms (bhk) is another influential factor in price prediction.\n",
    "\n",
    "\"total_sqft\" has a negative coefficient, which suggests that an increase in total square footage is associated with a decrease in price in your model. This may be counterintuitive and could indicate an issue with the model or data. You should further investigate this feature and its relationship with the target variable."
   ]
  },
  {
   "cell_type": "code",
   "execution_count": null,
   "id": "2fd16716",
   "metadata": {},
   "outputs": [],
   "source": []
  }
 ],
 "metadata": {
  "kernelspec": {
   "display_name": "Python 3 (ipykernel)",
   "language": "python",
   "name": "python3"
  },
  "language_info": {
   "codemirror_mode": {
    "name": "ipython",
    "version": 3
   },
   "file_extension": ".py",
   "mimetype": "text/x-python",
   "name": "python",
   "nbconvert_exporter": "python",
   "pygments_lexer": "ipython3",
   "version": "3.11.3"
  }
 },
 "nbformat": 4,
 "nbformat_minor": 5
}

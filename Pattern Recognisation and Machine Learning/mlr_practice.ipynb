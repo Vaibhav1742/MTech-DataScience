{
 "cells": [
  {
   "cell_type": "code",
   "execution_count": 1,
   "id": "fa5bbeef",
   "metadata": {},
   "outputs": [],
   "source": [
    "import pandas as pd\n",
    "from sklearn import linear_model\n",
    "import matplotlib.pyplot as plt\n",
    "import matplotlib_inline"
   ]
  },
  {
   "cell_type": "code",
   "execution_count": 2,
   "id": "6bd6e8bd",
   "metadata": {},
   "outputs": [
    {
     "data": {
      "text/html": [
       "<div>\n",
       "<style scoped>\n",
       "    .dataframe tbody tr th:only-of-type {\n",
       "        vertical-align: middle;\n",
       "    }\n",
       "\n",
       "    .dataframe tbody tr th {\n",
       "        vertical-align: top;\n",
       "    }\n",
       "\n",
       "    .dataframe thead th {\n",
       "        text-align: right;\n",
       "    }\n",
       "</style>\n",
       "<table border=\"1\" class=\"dataframe\">\n",
       "  <thead>\n",
       "    <tr style=\"text-align: right;\">\n",
       "      <th></th>\n",
       "      <th>Market</th>\n",
       "      <th>Advertising</th>\n",
       "      <th>Advertising2</th>\n",
       "      <th>Sales</th>\n",
       "      <th>Estimated_Sales</th>\n",
       "    </tr>\n",
       "  </thead>\n",
       "  <tbody>\n",
       "    <tr>\n",
       "      <th>0</th>\n",
       "      <td>1</td>\n",
       "      <td>43000</td>\n",
       "      <td>1849000000</td>\n",
       "      <td>460000</td>\n",
       "      <td>506517</td>\n",
       "    </tr>\n",
       "    <tr>\n",
       "      <th>1</th>\n",
       "      <td>2</td>\n",
       "      <td>11000</td>\n",
       "      <td>121000000</td>\n",
       "      <td>250000</td>\n",
       "      <td>221129</td>\n",
       "    </tr>\n",
       "    <tr>\n",
       "      <th>2</th>\n",
       "      <td>3</td>\n",
       "      <td>50000</td>\n",
       "      <td>2500000000</td>\n",
       "      <td>460000</td>\n",
       "      <td>454836</td>\n",
       "    </tr>\n",
       "    <tr>\n",
       "      <th>3</th>\n",
       "      <td>4</td>\n",
       "      <td>53000</td>\n",
       "      <td>2809000000</td>\n",
       "      <td>410000</td>\n",
       "      <td>420147</td>\n",
       "    </tr>\n",
       "    <tr>\n",
       "      <th>4</th>\n",
       "      <td>5</td>\n",
       "      <td>12000</td>\n",
       "      <td>144000000</td>\n",
       "      <td>260000</td>\n",
       "      <td>243005</td>\n",
       "    </tr>\n",
       "    <tr>\n",
       "      <th>5</th>\n",
       "      <td>6</td>\n",
       "      <td>18000</td>\n",
       "      <td>324000000</td>\n",
       "      <td>380000</td>\n",
       "      <td>356705</td>\n",
       "    </tr>\n",
       "    <tr>\n",
       "      <th>6</th>\n",
       "      <td>7</td>\n",
       "      <td>27000</td>\n",
       "      <td>729000000</td>\n",
       "      <td>500000</td>\n",
       "      <td>470827</td>\n",
       "    </tr>\n",
       "    <tr>\n",
       "      <th>7</th>\n",
       "      <td>8</td>\n",
       "      <td>25000</td>\n",
       "      <td>625000000</td>\n",
       "      <td>410000</td>\n",
       "      <td>451319</td>\n",
       "    </tr>\n",
       "    <tr>\n",
       "      <th>8</th>\n",
       "      <td>9</td>\n",
       "      <td>37000</td>\n",
       "      <td>1369000000</td>\n",
       "      <td>540000</td>\n",
       "      <td>518213</td>\n",
       "    </tr>\n",
       "    <tr>\n",
       "      <th>9</th>\n",
       "      <td>10</td>\n",
       "      <td>34000</td>\n",
       "      <td>1156000000</td>\n",
       "      <td>500000</td>\n",
       "      <td>512775</td>\n",
       "    </tr>\n",
       "    <tr>\n",
       "      <th>10</th>\n",
       "      <td>11</td>\n",
       "      <td>14000</td>\n",
       "      <td>196000000</td>\n",
       "      <td>220000</td>\n",
       "      <td>284249</td>\n",
       "    </tr>\n",
       "    <tr>\n",
       "      <th>11</th>\n",
       "      <td>12</td>\n",
       "      <td>47000</td>\n",
       "      <td>2209000000</td>\n",
       "      <td>500000</td>\n",
       "      <td>482001</td>\n",
       "    </tr>\n",
       "    <tr>\n",
       "      <th>12</th>\n",
       "      <td>13</td>\n",
       "      <td>30000</td>\n",
       "      <td>900000000</td>\n",
       "      <td>540000</td>\n",
       "      <td>493821</td>\n",
       "    </tr>\n",
       "    <tr>\n",
       "      <th>13</th>\n",
       "      <td>14</td>\n",
       "      <td>16000</td>\n",
       "      <td>256000000</td>\n",
       "      <td>270000</td>\n",
       "      <td>322149</td>\n",
       "    </tr>\n",
       "    <tr>\n",
       "      <th>14</th>\n",
       "      <td>15</td>\n",
       "      <td>10000</td>\n",
       "      <td>100000000</td>\n",
       "      <td>230000</td>\n",
       "      <td>198417</td>\n",
       "    </tr>\n",
       "    <tr>\n",
       "      <th>15</th>\n",
       "      <td>16</td>\n",
       "      <td>20000</td>\n",
       "      <td>400000000</td>\n",
       "      <td>380000</td>\n",
       "      <td>387918</td>\n",
       "    </tr>\n",
       "    <tr>\n",
       "      <th>16</th>\n",
       "      <td>17</td>\n",
       "      <td>17000</td>\n",
       "      <td>289000000</td>\n",
       "      <td>340000</td>\n",
       "      <td>339845</td>\n",
       "    </tr>\n",
       "    <tr>\n",
       "      <th>17</th>\n",
       "      <td>18</td>\n",
       "      <td>40000</td>\n",
       "      <td>1600000000</td>\n",
       "      <td>530000</td>\n",
       "      <td>516127</td>\n",
       "    </tr>\n",
       "  </tbody>\n",
       "</table>\n",
       "</div>"
      ],
      "text/plain": [
       "    Market  Advertising  Advertising2   Sales  Estimated_Sales\n",
       "0        1        43000    1849000000  460000           506517\n",
       "1        2        11000     121000000  250000           221129\n",
       "2        3        50000    2500000000  460000           454836\n",
       "3        4        53000    2809000000  410000           420147\n",
       "4        5        12000     144000000  260000           243005\n",
       "5        6        18000     324000000  380000           356705\n",
       "6        7        27000     729000000  500000           470827\n",
       "7        8        25000     625000000  410000           451319\n",
       "8        9        37000    1369000000  540000           518213\n",
       "9       10        34000    1156000000  500000           512775\n",
       "10      11        14000     196000000  220000           284249\n",
       "11      12        47000    2209000000  500000           482001\n",
       "12      13        30000     900000000  540000           493821\n",
       "13      14        16000     256000000  270000           322149\n",
       "14      15        10000     100000000  230000           198417\n",
       "15      16        20000     400000000  380000           387918\n",
       "16      17        17000     289000000  340000           339845\n",
       "17      18        40000    1600000000  530000           516127"
      ]
     },
     "execution_count": 2,
     "metadata": {},
     "output_type": "execute_result"
    }
   ],
   "source": [
    "df = pd.read_excel(r'first_mlr_22_march.xlsx')\n",
    "df"
   ]
  },
  {
   "cell_type": "code",
   "execution_count": 4,
   "id": "12763f89",
   "metadata": {},
   "outputs": [
    {
     "data": {
      "image/png": "[encoded data removed]",
      "text/plain": [
       "<Figure size 640x480 with 1 Axes>"
      ]
     },
     "metadata": {},
     "output_type": "display_data"
    }
   ],
   "source": [
    "plt.xlabel('x')\n",
    "plt.ylabel('y')\n",
    "plt.scatter(df.Sales,df.Estimated_Sales,color=\"red\")\n",
    "plt.show()"
   ]
  },
  {
   "cell_type": "code",
   "execution_count": 34,
   "id": "6d2cbccc",
   "metadata": {},
   "outputs": [],
   "source": [
    "def gredient_descent1(X,Y):\n",
    "    theta_1=0\n",
    "    theta_0=0\n",
    "\n",
    "    l =0.000001 #learning rate\n",
    "    epochs = 10 #number of iterations\n",
    "\n",
    "    n = float(len(X))\n",
    "\n",
    "    # printing gradient descent\n",
    "    for i in range(epochs):\n",
    "        Y_pred = theta_1*X + theta_0 \n",
    "        \n",
    "        # Calculate the Mean Squared Error (MSE)\n",
    "        mse = (1/n) * sum((Y - Y_pred)**2)\n",
    "        \n",
    "        D_theta_1 = (-2/n)*sum(X*(Y-Y_pred))\n",
    "        D_theta_0 = (-2/n)*sum(Y-Y_pred)\n",
    "        theta_1 = theta_1 - l * D_theta_1\n",
    "        theta_0 = theta_0 - l * D_theta_0\n",
    "        print(theta_1,theta_0,mse)"
   ]
  },
  {
   "cell_type": "code",
   "execution_count": 35,
   "id": "43796e45",
   "metadata": {},
   "outputs": [
    {
     "name": "stdout",
     "output_type": "stream",
     "text": [
      "340498.79111111106 0.7977777777777777 170249416676.66666\n",
      "-116608804998.90604 -271640.7733546819 1.9852578567798005e+22\n",
      "3.993451214371088e+16 93027641681.91716 2.328364668485403e+33\n",
      "-1.3676199324378259e+22 -3.185877332719372e+16 2.73076971383709e+44\n",
      "4.683628719114832e+27 1.091053604673882e+22 3.202721348138622e+55\n",
      "-1.6039820317195108e+33 -3.7364840009573844e+27 3.756239122562203e+66\n",
      "5.493087758171575e+38 1.2796174843841484e+33 4.4054198951985053e+77\n",
      "-1.881193961170943e+44 -4.382250548703183e+38 5.1667968464617964e+88\n",
      "6.442443440452103e+49 1.5007703556701458e+44 6.059760542168406e+99\n",
      "-2.2063156878086958e+55 -5.13962320370936e+49 7.10705276782216e+110\n"
     ]
    }
   ],
   "source": [
    "gredient_descent1(df.Sales,df.Estimated_Sales)"
   ]
  },
  {
   "cell_type": "code",
   "execution_count": 16,
   "id": "1bc69bc9",
   "metadata": {},
   "outputs": [
    {
     "data": {
      "text/html": [
       "<style>#sk-container-id-1 {color: black;background-color: white;}#sk-container-id-1 pre{padding: 0;}#sk-container-id-1 div.sk-toggleable {background-color: white;}#sk-container-id-1 label.sk-toggleable__label {cursor: pointer;display: block;width: 100%;margin-bottom: 0;padding: 0.3em;box-sizing: border-box;text-align: center;}#sk-container-id-1 label.sk-toggleable__label-arrow:before {content: \"▸\";float: left;margin-right: 0.25em;color: #696969;}#sk-container-id-1 label.sk-toggleable__label-arrow:hover:before {color: black;}#sk-container-id-1 div.sk-estimator:hover label.sk-toggleable__label-arrow:before {color: black;}#sk-container-id-1 div.sk-toggleable__content {max-height: 0;max-width: 0;overflow: hidden;text-align: left;background-color: #f0f8ff;}#sk-container-id-1 div.sk-toggleable__content pre {margin: 0.2em;color: black;border-radius: 0.25em;background-color: #f0f8ff;}#sk-container-id-1 input.sk-toggleable__control:checked~div.sk-toggleable__content {max-height: 200px;max-width: 100%;overflow: auto;}#sk-container-id-1 input.sk-toggleable__control:checked~label.sk-toggleable__label-arrow:before {content: \"▾\";}#sk-container-id-1 div.sk-estimator input.sk-toggleable__control:checked~label.sk-toggleable__label {background-color: #d4ebff;}#sk-container-id-1 div.sk-label input.sk-toggleable__control:checked~label.sk-toggleable__label {background-color: #d4ebff;}#sk-container-id-1 input.sk-hidden--visually {border: 0;clip: rect(1px 1px 1px 1px);clip: rect(1px, 1px, 1px, 1px);height: 1px;margin: -1px;overflow: hidden;padding: 0;position: absolute;width: 1px;}#sk-container-id-1 div.sk-estimator {font-family: monospace;background-color: #f0f8ff;border: 1px dotted black;border-radius: 0.25em;box-sizing: border-box;margin-bottom: 0.5em;}#sk-container-id-1 div.sk-estimator:hover {background-color: #d4ebff;}#sk-container-id-1 div.sk-parallel-item::after {content: \"\";width: 100%;border-bottom: 1px solid gray;flex-grow: 1;}#sk-container-id-1 div.sk-label:hover label.sk-toggleable__label {background-color: #d4ebff;}#sk-container-id-1 div.sk-serial::before {content: \"\";position: absolute;border-left: 1px solid gray;box-sizing: border-box;top: 0;bottom: 0;left: 50%;z-index: 0;}#sk-container-id-1 div.sk-serial {display: flex;flex-direction: column;align-items: center;background-color: white;padding-right: 0.2em;padding-left: 0.2em;position: relative;}#sk-container-id-1 div.sk-item {position: relative;z-index: 1;}#sk-container-id-1 div.sk-parallel {display: flex;align-items: stretch;justify-content: center;background-color: white;position: relative;}#sk-container-id-1 div.sk-item::before, #sk-container-id-1 div.sk-parallel-item::before {content: \"\";position: absolute;border-left: 1px solid gray;box-sizing: border-box;top: 0;bottom: 0;left: 50%;z-index: -1;}#sk-container-id-1 div.sk-parallel-item {display: flex;flex-direction: column;z-index: 1;position: relative;background-color: white;}#sk-container-id-1 div.sk-parallel-item:first-child::after {align-self: flex-end;width: 50%;}#sk-container-id-1 div.sk-parallel-item:last-child::after {align-self: flex-start;width: 50%;}#sk-container-id-1 div.sk-parallel-item:only-child::after {width: 0;}#sk-container-id-1 div.sk-dashed-wrapped {border: 1px dashed gray;margin: 0 0.4em 0.5em 0.4em;box-sizing: border-box;padding-bottom: 0.4em;background-color: white;}#sk-container-id-1 div.sk-label label {font-family: monospace;font-weight: bold;display: inline-block;line-height: 1.2em;}#sk-container-id-1 div.sk-label-container {text-align: center;}#sk-container-id-1 div.sk-container {/* jupyter's `normalize.less` sets `[hidden] { display: none; }` but bootstrap.min.css set `[hidden] { display: none !important; }` so we also need the `!important` here to be able to override the default hidden behavior on the sphinx rendered scikit-learn.org. See: https://github.com/scikit-learn/scikit-learn/issues/21755 */display: inline-block !important;position: relative;}#sk-container-id-1 div.sk-text-repr-fallback {display: none;}</style><div id=\"sk-container-id-1\" class=\"sk-top-container\"><div class=\"sk-text-repr-fallback\"><pre>LinearRegression()</pre><b>In a Jupyter environment, please rerun this cell to show the HTML representation or trust the notebook. <br />On GitHub, the HTML representation is unable to render, please try loading this page with nbviewer.org.</b></div><div class=\"sk-container\" hidden><div class=\"sk-item\"><div class=\"sk-estimator sk-toggleable\"><input class=\"sk-toggleable__control sk-hidden--visually\" id=\"sk-estimator-id-1\" type=\"checkbox\" checked><label for=\"sk-estimator-id-1\" class=\"sk-toggleable__label sk-toggleable__label-arrow\">LinearRegression</label><div class=\"sk-toggleable__content\"><pre>LinearRegression()</pre></div></div></div></div></div>"
      ],
      "text/plain": [
       "LinearRegression()"
      ]
     },
     "execution_count": 16,
     "metadata": {},
     "output_type": "execute_result"
    }
   ],
   "source": [
    "reg = linear_model.LinearRegression()\n",
    "reg.fit(df[['Sales']],df[['Estimated_Sales']])"
   ]
  },
  {
   "cell_type": "code",
   "execution_count": 17,
   "id": "38ff7e4b",
   "metadata": {},
   "outputs": [
    {
     "name": "stdout",
     "output_type": "stream",
     "text": [
      "[[0.91882363]]\n",
      "[32380.35200652]\n"
     ]
    }
   ],
   "source": [
    "# y = bo + b1x\n",
    "# predict y =\n",
    "print(reg.coef_)    # b1\n",
    "print(reg.intercept_)  #bo"
   ]
  },
  {
   "cell_type": "code",
   "execution_count": 22,
   "id": "5cf8de33",
   "metadata": {},
   "outputs": [
    {
     "data": {
      "image/png": "[encoded data removed]",
      "text/plain": [
       "<Figure size 640x480 with 1 Axes>"
      ]
     },
     "metadata": {},
     "output_type": "display_data"
    }
   ],
   "source": [
    "plt.xlabel('x')\n",
    "plt.ylabel('y')\n",
    "plt.scatter(df.Sales,df.Estimated_Sales,color=\"red\")\n",
    "plt.plot(df.Sales,reg.predict(df[['Sales']]))\n",
    "plt.show()"
   ]
  },
  {
   "cell_type": "code",
   "execution_count": null,
   "id": "baa66443",
   "metadata": {},
   "outputs": [],
   "source": []
  },
  {
   "cell_type": "code",
   "execution_count": null,
   "id": "00bc1c27",
   "metadata": {},
   "outputs": [],
   "source": []
  }
 ],
 "metadata": {
  "kernelspec": {
   "display_name": "Python 3 (ipykernel)",
   "language": "python",
   "name": "python3"
  },
  "language_info": {
   "codemirror_mode": {
    "name": "ipython",
    "version": 3
   },
   "file_extension": ".py",
   "mimetype": "text/x-python",
   "name": "python",
   "nbconvert_exporter": "python",
   "pygments_lexer": "ipython3",
   "version": "3.11.1"
  }
 },
 "nbformat": 4,
 "nbformat_minor": 5
}

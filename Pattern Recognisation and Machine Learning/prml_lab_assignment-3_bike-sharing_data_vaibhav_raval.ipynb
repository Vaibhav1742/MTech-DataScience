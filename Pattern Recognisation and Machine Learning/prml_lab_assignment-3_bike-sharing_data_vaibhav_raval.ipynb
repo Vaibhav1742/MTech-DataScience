{
 "cells": [
  {
   "cell_type": "markdown",
   "id": "04771a5c",
   "metadata": {},
   "source": [
    "#  <h1 style=\"text-align:center;\">Lab-Assignment - 3</h1>"
   ]
  },
  {
   "cell_type": "markdown",
   "id": "27f6519c",
   "metadata": {},
   "source": [
    "1. Is there a correlation between the temp/atemp/mean.temp.temp and the total count of bike rentals?\n",
    "\n",
    "2. Can the number of total bike rentals be predicted by whether or not it is a holiday and the weather is good?\n",
    "\n",
    "3. Can the number of total bike rentals be predicted by holiday and weather?\n",
    "\n",
    "4. Are weather and holiday good predictors? \n",
    "\n",
    "5. Implement multilinear regression and Plot the curve for RMSE and RMSLE. Which curve gives you better information?\n",
    "\n",
    "Data Source: https://archive.ics.uci.edu/ml/datasets/bike sharing dataset"
   ]
  },
  {
   "cell_type": "code",
   "execution_count": 1,
   "id": "2a1d1203",
   "metadata": {},
   "outputs": [],
   "source": [
    "# import all the necessary libraries\n",
    "import pandas as pd\n",
    "import numpy as np\n",
    "import matplotlib.pyplot as plt\n",
    "%matplotlib inline\n",
    "from sklearn.metrics import r2_score\n",
    "from sklearn.model_selection import train_test_split\n",
    "from sklearn.linear_model import LinearRegression\n",
    "from sklearn.metrics import mean_squared_error, mean_squared_log_error"
   ]
  },
  {
   "cell_type": "code",
   "execution_count": 2,
   "id": "dbd3cf99",
   "metadata": {},
   "outputs": [
    {
     "data": {
      "text/html": [
       "<div>\n",
       "<style scoped>\n",
       "    .dataframe tbody tr th:only-of-type {\n",
       "        vertical-align: middle;\n",
       "    }\n",
       "\n",
       "    .dataframe tbody tr th {\n",
       "        vertical-align: top;\n",
       "    }\n",
       "\n",
       "    .dataframe thead th {\n",
       "        text-align: right;\n",
       "    }\n",
       "</style>\n",
       "<table border=\"1\" class=\"dataframe\">\n",
       "  <thead>\n",
       "    <tr style=\"text-align: right;\">\n",
       "      <th></th>\n",
       "      <th>instant</th>\n",
       "      <th>dteday</th>\n",
       "      <th>season</th>\n",
       "      <th>yr</th>\n",
       "      <th>mnth</th>\n",
       "      <th>holiday</th>\n",
       "      <th>weekday</th>\n",
       "      <th>workingday</th>\n",
       "      <th>weathersit</th>\n",
       "      <th>temp</th>\n",
       "      <th>atemp</th>\n",
       "      <th>hum</th>\n",
       "      <th>windspeed</th>\n",
       "      <th>casual</th>\n",
       "      <th>registered</th>\n",
       "      <th>cnt</th>\n",
       "    </tr>\n",
       "  </thead>\n",
       "  <tbody>\n",
       "    <tr>\n",
       "      <th>0</th>\n",
       "      <td>1</td>\n",
       "      <td>2011-01-01</td>\n",
       "      <td>1</td>\n",
       "      <td>0</td>\n",
       "      <td>1</td>\n",
       "      <td>0</td>\n",
       "      <td>6</td>\n",
       "      <td>0</td>\n",
       "      <td>2</td>\n",
       "      <td>0.344167</td>\n",
       "      <td>0.363625</td>\n",
       "      <td>0.805833</td>\n",
       "      <td>0.160446</td>\n",
       "      <td>331</td>\n",
       "      <td>654</td>\n",
       "      <td>985</td>\n",
       "    </tr>\n",
       "    <tr>\n",
       "      <th>1</th>\n",
       "      <td>2</td>\n",
       "      <td>2011-01-02</td>\n",
       "      <td>1</td>\n",
       "      <td>0</td>\n",
       "      <td>1</td>\n",
       "      <td>0</td>\n",
       "      <td>0</td>\n",
       "      <td>0</td>\n",
       "      <td>2</td>\n",
       "      <td>0.363478</td>\n",
       "      <td>0.353739</td>\n",
       "      <td>0.696087</td>\n",
       "      <td>0.248539</td>\n",
       "      <td>131</td>\n",
       "      <td>670</td>\n",
       "      <td>801</td>\n",
       "    </tr>\n",
       "    <tr>\n",
       "      <th>2</th>\n",
       "      <td>3</td>\n",
       "      <td>2011-01-03</td>\n",
       "      <td>1</td>\n",
       "      <td>0</td>\n",
       "      <td>1</td>\n",
       "      <td>0</td>\n",
       "      <td>1</td>\n",
       "      <td>1</td>\n",
       "      <td>1</td>\n",
       "      <td>0.196364</td>\n",
       "      <td>0.189405</td>\n",
       "      <td>0.437273</td>\n",
       "      <td>0.248309</td>\n",
       "      <td>120</td>\n",
       "      <td>1229</td>\n",
       "      <td>1349</td>\n",
       "    </tr>\n",
       "    <tr>\n",
       "      <th>3</th>\n",
       "      <td>4</td>\n",
       "      <td>2011-01-04</td>\n",
       "      <td>1</td>\n",
       "      <td>0</td>\n",
       "      <td>1</td>\n",
       "      <td>0</td>\n",
       "      <td>2</td>\n",
       "      <td>1</td>\n",
       "      <td>1</td>\n",
       "      <td>0.200000</td>\n",
       "      <td>0.212122</td>\n",
       "      <td>0.590435</td>\n",
       "      <td>0.160296</td>\n",
       "      <td>108</td>\n",
       "      <td>1454</td>\n",
       "      <td>1562</td>\n",
       "    </tr>\n",
       "    <tr>\n",
       "      <th>4</th>\n",
       "      <td>5</td>\n",
       "      <td>2011-01-05</td>\n",
       "      <td>1</td>\n",
       "      <td>0</td>\n",
       "      <td>1</td>\n",
       "      <td>0</td>\n",
       "      <td>3</td>\n",
       "      <td>1</td>\n",
       "      <td>1</td>\n",
       "      <td>0.226957</td>\n",
       "      <td>0.229270</td>\n",
       "      <td>0.436957</td>\n",
       "      <td>0.186900</td>\n",
       "      <td>82</td>\n",
       "      <td>1518</td>\n",
       "      <td>1600</td>\n",
       "    </tr>\n",
       "  </tbody>\n",
       "</table>\n",
       "</div>"
      ],
      "text/plain": [
       "   instant      dteday  season  yr  mnth  holiday  weekday  workingday  \\\n",
       "0        1  2011-01-01       1   0     1        0        6           0   \n",
       "1        2  2011-01-02       1   0     1        0        0           0   \n",
       "2        3  2011-01-03       1   0     1        0        1           1   \n",
       "3        4  2011-01-04       1   0     1        0        2           1   \n",
       "4        5  2011-01-05       1   0     1        0        3           1   \n",
       "\n",
       "   weathersit      temp     atemp       hum  windspeed  casual  registered  \\\n",
       "0           2  0.344167  0.363625  0.805833   0.160446     331         654   \n",
       "1           2  0.363478  0.353739  0.696087   0.248539     131         670   \n",
       "2           1  0.196364  0.189405  0.437273   0.248309     120        1229   \n",
       "3           1  0.200000  0.212122  0.590435   0.160296     108        1454   \n",
       "4           1  0.226957  0.229270  0.436957   0.186900      82        1518   \n",
       "\n",
       "    cnt  \n",
       "0   985  \n",
       "1   801  \n",
       "2  1349  \n",
       "3  1562  \n",
       "4  1600  "
      ]
     },
     "execution_count": 2,
     "metadata": {},
     "output_type": "execute_result"
    }
   ],
   "source": [
    "# load the dataset\n",
    "df= pd.read_csv(r\"C:\\Users\\raval\\Downloads\\bike+sharing+dataset\\day.csv\")\n",
    "df.head()"
   ]
  },
  {
   "cell_type": "markdown",
   "id": "01d61567",
   "metadata": {},
   "source": [
    " <h6>1. Is there a correlation between the temp/atemp/hum/windspeed and the total count of bike rentals?</h6>"
   ]
  },
  {
   "cell_type": "code",
   "execution_count": 3,
   "id": "5e60889f",
   "metadata": {},
   "outputs": [
    {
     "data": {
      "text/html": [
       "<div>\n",
       "<style scoped>\n",
       "    .dataframe tbody tr th:only-of-type {\n",
       "        vertical-align: middle;\n",
       "    }\n",
       "\n",
       "    .dataframe tbody tr th {\n",
       "        vertical-align: top;\n",
       "    }\n",
       "\n",
       "    .dataframe thead th {\n",
       "        text-align: right;\n",
       "    }\n",
       "</style>\n",
       "<table border=\"1\" class=\"dataframe\">\n",
       "  <thead>\n",
       "    <tr style=\"text-align: right;\">\n",
       "      <th></th>\n",
       "      <th>temp</th>\n",
       "      <th>atemp</th>\n",
       "      <th>hum</th>\n",
       "      <th>windspeed</th>\n",
       "      <th>cnt</th>\n",
       "    </tr>\n",
       "  </thead>\n",
       "  <tbody>\n",
       "    <tr>\n",
       "      <th>temp</th>\n",
       "      <td>1.000000</td>\n",
       "      <td>0.991702</td>\n",
       "      <td>0.126963</td>\n",
       "      <td>-0.157944</td>\n",
       "      <td>0.627494</td>\n",
       "    </tr>\n",
       "    <tr>\n",
       "      <th>atemp</th>\n",
       "      <td>0.991702</td>\n",
       "      <td>1.000000</td>\n",
       "      <td>0.139988</td>\n",
       "      <td>-0.183643</td>\n",
       "      <td>0.631066</td>\n",
       "    </tr>\n",
       "    <tr>\n",
       "      <th>hum</th>\n",
       "      <td>0.126963</td>\n",
       "      <td>0.139988</td>\n",
       "      <td>1.000000</td>\n",
       "      <td>-0.248489</td>\n",
       "      <td>-0.100659</td>\n",
       "    </tr>\n",
       "    <tr>\n",
       "      <th>windspeed</th>\n",
       "      <td>-0.157944</td>\n",
       "      <td>-0.183643</td>\n",
       "      <td>-0.248489</td>\n",
       "      <td>1.000000</td>\n",
       "      <td>-0.234545</td>\n",
       "    </tr>\n",
       "    <tr>\n",
       "      <th>cnt</th>\n",
       "      <td>0.627494</td>\n",
       "      <td>0.631066</td>\n",
       "      <td>-0.100659</td>\n",
       "      <td>-0.234545</td>\n",
       "      <td>1.000000</td>\n",
       "    </tr>\n",
       "  </tbody>\n",
       "</table>\n",
       "</div>"
      ],
      "text/plain": [
       "               temp     atemp       hum  windspeed       cnt\n",
       "temp       1.000000  0.991702  0.126963  -0.157944  0.627494\n",
       "atemp      0.991702  1.000000  0.139988  -0.183643  0.631066\n",
       "hum        0.126963  0.139988  1.000000  -0.248489 -0.100659\n",
       "windspeed -0.157944 -0.183643 -0.248489   1.000000 -0.234545\n",
       "cnt        0.627494  0.631066 -0.100659  -0.234545  1.000000"
      ]
     },
     "execution_count": 3,
     "metadata": {},
     "output_type": "execute_result"
    }
   ],
   "source": [
    "df[['temp', 'atemp', 'hum', 'windspeed', 'cnt']].corr()"
   ]
  },
  {
   "cell_type": "markdown",
   "id": "0f4bed8b",
   "metadata": {},
   "source": [
    "Temperature and Apparent Temperature (atemp): Both \"temp\" and \"atemp\" have a strong positive correlation with each other (approximately 0.99), which is expected since \"atemp\" is the apparent temperature and is derived from \"temp\". This strong correlation indicates that these two features carry very similar information.\n",
    "\n",
    "Temperature and Bike Rentals (cnt): Both \"temp\" and \"atemp\" have a positive correlation with the total count of bike rentals (\"cnt\") of approximately 0.63. This suggests that higher temperatures are associated with more bike rentals, which makes intuitive sense as people are more likely to rent bikes when the weather is warmer.\n",
    "\n",
    "Humidity and Bike Rentals (cnt): The humidity (\"hum\") has a weak negative correlation with bike rentals (\"cnt\") of approximately -0.10. This suggests that there might be a slight decrease in bike rentals as humidity increases, although the correlation is not very strong.\n",
    "\n",
    "Windspeed and Bike Rentals (cnt): Windspeed (\"windspeed\") also has a weak negative correlation with bike rentals (\"cnt\") of approximately -0.23. This suggests that higher windspeeds might be associated with slightly fewer bike rentals, but again, the correlation is not very strong"
   ]
  },
  {
   "cell_type": "markdown",
   "id": "afe8a113",
   "metadata": {},
   "source": [
    "In summary, the correlation analysis indicates that temperature (and atemp), humidity, and windspeed have some correlation with bike rentals. Temperature, both actual and apparent, show the strongest positive correlation, suggesting that temperature is likely a more significant factor in influencing bike rental counts compared to humidity and windspeed."
   ]
  },
  {
   "cell_type": "markdown",
   "id": "fa57c234",
   "metadata": {},
   "source": [
    " <h6>2. Can the number of total bike rentals be predicted by whether or not it is a holiday and the weather is good?</h6>"
   ]
  },
  {
   "cell_type": "code",
   "execution_count": 4,
   "id": "dfcb37c7",
   "metadata": {},
   "outputs": [
    {
     "name": "stdout",
     "output_type": "stream",
     "text": [
      "RMSE: 1920.8483602001402\n",
      "RMSLE: 0.6728349405850486\n"
     ]
    }
   ],
   "source": [
    "# Prepare data\n",
    "X = df[['holiday', 'weathersit']]\n",
    "y = df['cnt']\n",
    "\n",
    "# Split data into training and testing sets\n",
    "X_train, X_test, y_train, y_test = train_test_split(X, y, test_size=0.2, random_state=42)\n",
    "\n",
    "# Train the linear regression model\n",
    "model = LinearRegression()\n",
    "model.fit(X_train, y_train)\n",
    "\n",
    "# Predict bike rentals\n",
    "y_pred = model.predict(X_test)\n",
    "\n",
    "# Calculate RMSE and RMSLE\n",
    "rmse = np.sqrt(mean_squared_error(y_test, y_pred))\n",
    "rmsle = np.sqrt(mean_squared_log_error(y_test, y_pred))\n",
    "\n",
    "print(\"RMSE:\", rmse)\n",
    "print(\"RMSLE:\", rmsle)"
   ]
  },
  {
   "cell_type": "markdown",
   "id": "97379c42",
   "metadata": {},
   "source": [
    "it appears that the model might have room for improvement since the RMSE is relatively high. We can consider experimenting with different features, model algorithms, or hyperparameters to enhance the predictive performance."
   ]
  },
  {
   "cell_type": "markdown",
   "id": "ea5cdc4b",
   "metadata": {},
   "source": [
    "<h6>3. Can the number of total bike rentals be predicted by holiday and weather?</h6>"
   ]
  },
  {
   "cell_type": "code",
   "execution_count": 7,
   "id": "aaa093d5",
   "metadata": {},
   "outputs": [
    {
     "name": "stdout",
     "output_type": "stream",
     "text": [
      "RMSE: 1409.2169995672102\n",
      "RMSLE: 0.5424442903929454\n"
     ]
    }
   ],
   "source": [
    "# Prepare data\n",
    "X = df[['temp','weathersit','hum', 'windspeed']]\n",
    "y = df['cnt']\n",
    "\n",
    "# Split data into training and testing sets\n",
    "X_train, X_test, y_train, y_test = train_test_split(X, y, test_size=0.2, random_state=42)\n",
    "\n",
    "# Train the linear regression model\n",
    "model = LinearRegression()\n",
    "model.fit(X_train, y_train)\n",
    "\n",
    "# Predict bike rentals\n",
    "y_pred = model.predict(X_test)\n",
    "\n",
    "# Calculate RMSE and RMSLE\n",
    "rmse = np.sqrt(mean_squared_error(y_test, y_pred))\n",
    "rmsle = np.sqrt(mean_squared_log_error(y_test, y_pred))\n",
    "\n",
    "print(\"RMSE:\", rmse)\n",
    "print(\"RMSLE:\", rmsle)"
   ]
  },
  {
   "cell_type": "markdown",
   "id": "2a350d93",
   "metadata": {},
   "source": [
    "The model that includes both temperature-related features and weather situation appears to be a better predictor of bike rental counts compared to the model that only includes whether it's a holiday and weather. The lower RMSE and RMSLE values suggest that this extended model captures more of the underlying patterns in the data"
   ]
  },
  {
   "cell_type": "markdown",
   "id": "966b0188",
   "metadata": {},
   "source": [
    "<h6>4. Are weather and holiday good predictors? </h6>"
   ]
  },
  {
   "cell_type": "markdown",
   "id": "47ae815d",
   "metadata": {},
   "source": [
    "Weather Situation (weathersit): The correlation analysis indicated a weak negative correlation between weather situation and bike rentals (approximately -0.1007). While this correlation is not very strong, it suggests that worse weather conditions might lead to slightly fewer bike rentals. However, the correlation alone does not provide a comprehensive understanding of the predictor's importance.\n",
    "\n",
    "Holiday (holiday): The correlation analysis didn't reveal a significant correlation between the holiday variable and bike rentals (correlation close to 0). This implies that being a holiday doesn't seem to have a strong direct impact on bike rental counts.\n",
    "\n",
    "In the context of predictive modeling:\n",
    "\n",
    "In the second question, where only holiday and weather were considered as predictors, the RMSE and RMSLE values were relatively high (1920.85 and 0.6728, respectively). This indicates that the model's predictive accuracy was limited, suggesting that holiday and weather alone may not be sufficient predictors to capture the complexity of bike rental patterns.\n",
    "\n",
    "In the third question, when temperature-related features were added to the model along with holiday and weather, the predictive performance significantly improved (RMSE: 1409.22, RMSLE: 0.5424). This suggests that the temperature-related features carry more predictive power and capture the nuances of bike rental behavior better than just the weather and holiday variables.\n",
    "\n",
    "In conclusion, while weather and holiday variables do show some association with bike rental counts, their predictive power appears to be limited when considered in isolation. Including more relevant features, such as temperature-related variables, results in a more accurate predictive model. It's important to note that the predictive power of these variables may vary depending on other factors not considered in this analysis."
   ]
  },
  {
   "cell_type": "markdown",
   "id": "092c9b99",
   "metadata": {},
   "source": [
    "<h6>5. Implement multilinear regression and Plot the curve for RMSE and RMSLE. Which curve gives you better information?</h6>"
   ]
  },
  {
   "cell_type": "code",
   "execution_count": 14,
   "id": "5c9eb49f",
   "metadata": {},
   "outputs": [
    {
     "data": {
      "image/png": "[encoded data removed]",
      "text/plain": [
       "<Figure size 640x480 with 1 Axes>"
      ]
     },
     "metadata": {},
     "output_type": "display_data"
    }
   ],
   "source": [
    "from sklearn.model_selection import train_test_split\n",
    "from sklearn.linear_model import LinearRegression\n",
    "from sklearn.metrics import mean_squared_error, mean_squared_log_error\n",
    "import numpy as np\n",
    "import matplotlib.pyplot as plt\n",
    "\n",
    "# Prepare data\n",
    "X = df[['temp', 'weathersit', 'hum', 'windspeed']]\n",
    "y = df['cnt']\n",
    "\n",
    "# Split data into training and testing sets\n",
    "X_train, X_test, y_train, y_test = train_test_split(X, y, test_size=0.2, random_state=42)\n",
    "\n",
    "# Define a list of feature subsets\n",
    "feature_subsets = [\n",
    "    ['temp'],\n",
    "    ['temp', 'weathersit'],\n",
    "    ['temp', 'weathersit', 'hum'],\n",
    "    ['temp', 'weathersit', 'hum', 'windspeed']\n",
    "]\n",
    "# Create a dictionary to store RMSE and RMSLE for each subset\n",
    "scores = {\n",
    "    'RMSE': [],\n",
    "    'RMSLE': []\n",
    "}\n",
    "# Iterate through feature subsets\n",
    "for features in feature_subsets:\n",
    "    model = LinearRegression()\n",
    "    model.fit(X_train[features], y_train)\n",
    "    y_pred = model.predict(X_test[features])\n",
    "    \n",
    "    rmse = np.sqrt(mean_squared_error(y_test, y_pred))\n",
    "    rmsle = np.sqrt(mean_squared_log_error(y_test, y_pred))\n",
    "    \n",
    "    scores['RMSE'].append(rmse)\n",
    "    scores['RMSLE'].append(rmsle)\n",
    "\n",
    "# Plot the curves\n",
    "plt.plot(range(1, len(feature_subsets) + 1), scores['RMSE'], label='RMSE')\n",
    "plt.plot(range(1, len(feature_subsets) + 1), scores['RMSLE'], label='RMSLE')\n",
    "plt.xlabel('Number of Features')\n",
    "plt.ylabel('Error')\n",
    "plt.title('Effect of Feature Subsets on RMSE and RMSLE')\n",
    "plt.xticks(range(1, len(feature_subsets) + 1), [', '.join(features) for features in feature_subsets], rotation=45)\n",
    "plt.legend()\n",
    "plt.show()"
   ]
  },
  {
   "cell_type": "markdown",
   "id": "6f30c9f6",
   "metadata": {},
   "source": [
    "As we can see, The rmse curve gives more information about how the error is reducing while adding more input features ,as compared to rmsle curve"
   ]
  }
 ],
 "metadata": {
  "kernelspec": {
   "display_name": "Python 3 (ipykernel)",
   "language": "python",
   "name": "python3"
  },
  "language_info": {
   "codemirror_mode": {
    "name": "ipython",
    "version": 3
   },
   "file_extension": ".py",
   "mimetype": "text/x-python",
   "name": "python",
   "nbconvert_exporter": "python",
   "pygments_lexer": "ipython3",
   "version": "3.11.3"
  }
 },
 "nbformat": 4,
 "nbformat_minor": 5
}

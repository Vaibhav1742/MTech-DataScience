{
 "cells": [
  {
   "cell_type": "code",
   "execution_count": 1,
   "id": "21566fd9",
   "metadata": {},
   "outputs": [],
   "source": [
    "import numpy as np"
   ]
  },
  {
   "cell_type": "code",
   "execution_count": 2,
   "id": "5b625597",
   "metadata": {},
   "outputs": [],
   "source": [
    "a = np.random.randint(10,size=(4,4))"
   ]
  },
  {
   "cell_type": "code",
   "execution_count": 3,
   "id": "be616dc6",
   "metadata": {},
   "outputs": [
    {
     "data": {
      "text/plain": [
       "array([[2, 5, 4, 2],\n",
       "       [0, 5, 9, 5],\n",
       "       [1, 9, 3, 9],\n",
       "       [5, 0, 2, 3]])"
      ]
     },
     "execution_count": 3,
     "metadata": {},
     "output_type": "execute_result"
    }
   ],
   "source": [
    "a"
   ]
  },
  {
   "cell_type": "code",
   "execution_count": null,
   "id": "dd0e9ea4",
   "metadata": {},
   "outputs": [],
   "source": [
    "import mpi4py\n",
    "from mpi4py import MPI\n",
    "import cv2\n",
    "import numpy as np\n",
    "\n",
    "# Initialize MPI\n",
    "comm = MPI.COMM_WORLD\n",
    "rank = comm.Get_rank()\n",
    "\n",
    "# Define the functions\n",
    "def read_image(filename):\n",
    "    image = cv2.imread(filename)\n",
    "    return image\n",
    "\n",
    "def convert_to_grayscale(image):\n",
    "    grayscale_image = cv2.cvtColor(image, cv2.COLOR_BGR2GRAY)\n",
    "    return grayscale_image\n",
    "\n",
    "def find_edges(image):\n",
    "    edges = cv2.Canny(image, 100, 200)\n",
    "    return edges\n",
    "\n",
    "def show_image(image, title=\"Image\"):\n",
    "    cv2.imshow(title, image)\n",
    "    cv2.waitKey(0)\n",
    "    cv2.destroyAllWindows()\n",
    "\n",
    "# Define the filename\n",
    "filename = \"1.jpg\"  # Provide the filename of the image\n",
    "\n",
    "# Read the image in all processes\n",
    "image = read_image(filename)\n",
    "\n",
    "# Distribute tasks among ranks\n",
    "if rank == 0:\n",
    "    print('rank =', rank, ',', 'Read the image')\n",
    "elif rank == 1:\n",
    "    grayscale_image = convert_to_grayscale(image)\n",
    "    print('rank =', rank, ',', 'Converted RGB image to grayscale')\n",
    "elif rank == 2:\n",
    "    edges_image = find_edges(image)\n",
    "    print('rank =', rank, ',', 'Found edges in the image')\n",
    "elif rank == 3:\n",
    "    show_image(image, title=\"Original Image\")\n",
    "    print('rank =', rank, ',', 'Displayed the original image')\n",
    "    grayscale_image = convert_to_grayscale(image)\n",
    "    show_image(grayscale_image, title=\"Grayscale Image\")\n",
    "    print('rank =', rank, ',', 'Displayed the grayscale image')\n",
    "    edges_image = find_edges(image)\n",
    "    show_image(edges_image, title=\"Edges Image\")\n",
    "    print('rank =', rank, ',', 'Displayed the edges image')"
   ]
  }
 ],
 "metadata": {
  "kernelspec": {
   "display_name": "Python 3 (ipykernel)",
   "language": "python",
   "name": "python3"
  },
  "language_info": {
   "codemirror_mode": {
    "name": "ipython",
    "version": 3
   },
   "file_extension": ".py",
   "mimetype": "text/x-python",
   "name": "python",
   "nbconvert_exporter": "python",
   "pygments_lexer": "ipython3",
   "version": "3.11.3"
  }
 },
 "nbformat": 4,
 "nbformat_minor": 5
}

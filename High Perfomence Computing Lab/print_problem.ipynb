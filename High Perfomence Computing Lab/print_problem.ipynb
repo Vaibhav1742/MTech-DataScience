{
 "cells": [
  {
   "cell_type": "code",
   "execution_count": 1,
   "id": "fee65096",
   "metadata": {},
   "outputs": [],
   "source": [
    "from mpi4py import MPI"
   ]
  },
  {
   "cell_type": "code",
   "execution_count": 2,
   "id": "be189ff0",
   "metadata": {},
   "outputs": [
    {
     "name": "stdout",
     "output_type": "stream",
     "text": [
      "9.0\n",
      "end of MPI\n"
     ]
    }
   ],
   "source": [
    "rank = MPI.COMM_WORLD.Get_rank()\n",
    "\n",
    "a=6.0\n",
    "b=3.0\n",
    "if rank == 0:\n",
    "    print(a+b)\n",
    "if rank == 1:\n",
    "    print(a*b)\n",
    "if rank == 2:\n",
    "    print(max(a,b))\n",
    "print(\"end of MPI\")"
   ]
  },
  {
   "cell_type": "code",
   "execution_count": null,
   "id": "04d8fad2",
   "metadata": {},
   "outputs": [],
   "source": []
  }
 ],
 "metadata": {
  "kernelspec": {
   "display_name": "Python 3 (ipykernel)",
   "language": "python",
   "name": "python3"
  },
  "language_info": {
   "codemirror_mode": {
    "name": "ipython",
    "version": 3
   },
   "file_extension": ".py",
   "mimetype": "text/x-python",
   "name": "python",
   "nbconvert_exporter": "python",
   "pygments_lexer": "ipython3",
   "version": "3.11.3"
  }
 },
 "nbformat": 4,
 "nbformat_minor": 5
}

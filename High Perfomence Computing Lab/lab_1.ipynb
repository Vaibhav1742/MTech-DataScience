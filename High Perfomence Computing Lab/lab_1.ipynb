version https://git-lfs.github.com/spec/v1
oid sha256:01cf184f8dc214ccdbc6bb5e4b35442baf1a916c40af4420805a757287d97987
size 2360

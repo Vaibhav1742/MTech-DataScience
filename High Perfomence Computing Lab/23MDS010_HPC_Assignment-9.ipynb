{
 "cells": [
  {
   "cell_type": "markdown",
   "id": "503bde5e",
   "metadata": {},
   "source": [
    "#  <h1 style=\"text-align:center;\">Assignment - 9</h1>"
   ]
  },
  {
   "cell_type": "markdown",
   "id": "b9486575",
   "metadata": {},
   "source": [
    "* Calculate Pi value using openMPI send and receive messages for atleast 35-40 terms.\n",
    "* Change the value on n as 2, 4, 8, 16.\n",
    "* Analyze the performance improvement using number of processes."
   ]
  },
  {
   "cell_type": "code",
   "execution_count": 1,
   "id": "5c485647",
   "metadata": {},
   "outputs": [],
   "source": [
    "from mpi4py import MPI\n",
    "import random\n",
    "import matplotlib.pyplot as plt\n",
    "import time"
   ]
  },
  {
   "cell_type": "code",
   "execution_count": 2,
   "id": "eeffe469",
   "metadata": {},
   "outputs": [
    {
     "name": "stdout",
     "output_type": "stream",
     "text": [
      "Process 0 calculated: Pi = 3.141592643589326, Time = 45.04786658287048 seconds\n",
      "Number of processes: 1\n",
      "Estimated Pi: 3.141592643589326\n",
      "Execution time: 45.04786658287048 seconds\n"
     ]
    }
   ],
   "source": [
    "def calculate_pi(rank, num_processes, terms):\n",
    "    partial_sum = 0.0\n",
    "    for i in range(rank, terms, num_processes):\n",
    "        if i % 2 == 0:\n",
    "            partial_sum += 1.0 / (2 * i + 1)\n",
    "        else:\n",
    "            partial_sum -= 1.0 / (2 * i + 1)\n",
    "    return partial_sum * 4\n",
    "\n",
    "if __name__ == \"__main__\":\n",
    "    comm = MPI.COMM_WORLD\n",
    "    rank = comm.Get_rank()\n",
    "    size = comm.Get_size()\n",
    "\n",
    "    terms = 100000000\n",
    "\n",
    "    start_time = time.time()\n",
    "\n",
    "    partial_pi = calculate_pi(rank, size, terms)\n",
    "    print(f\"Process {rank} calculated: Pi = {partial_pi}, Time = {time.time() - start_time} seconds\")\n",
    "\n",
    "    if rank == 0:\n",
    "        total_pi = partial_pi\n",
    "        for i in range(1, size):\n",
    "            partial_result, partial_time = comm.recv(source=i)\n",
    "            total_pi += partial_result\n",
    "            print(f\"Process {i} received: Pi = {partial_result}, Time = {partial_time} seconds\")\n",
    "\n",
    "        print(\"Number of processes:\", size)\n",
    "        print(\"Estimated Pi:\", total_pi)\n",
    "        print(\"Execution time:\", time.time() - start_time, \"seconds\")\n",
    "    else:\n",
    "        comm.send((partial_pi, time.time() - start_time), dest=0)"
   ]
  },
  {
   "cell_type": "code",
   "execution_count": 3,
   "id": "5473191f",
   "metadata": {},
   "outputs": [
    {
     "name": "stdout",
     "output_type": "stream",
     "text": [
      "Process 1 calculated: Pi = -18.813394448175345, Time = 15.578516483306885 seconds\n",
      "Process 0 calculated: Pi = 21.954987091759833, Time = 16.12114691734314 seconds\n",
      "Process 1 received: Pi = -18.813394448175345, Time = 15.578516483306885 seconds\n",
      "Number of processes: 2\n",
      "Estimated Pi: 3.141592643584488\n",
      "Execution time: 16.13143539428711 seconds\n"
     ]
    }
   ],
   "source": [
    "!mpiexec -n 2 python Calculate_Pi_value.py"
   ]
  },
  {
   "cell_type": "code",
   "execution_count": 4,
   "id": "bc42c4df",
   "metadata": {},
   "outputs": [
    {
     "name": "stdout",
     "output_type": "stream",
     "text": [
      "Process 1 calculated: Pi = -9.894192713487952, Time = 7.745937824249268 seconds\n",
      "Process 3 calculated: Pi = -8.919201734688878, Time = 8.286001443862915 seconds\n",
      "Process 2 calculated: Pi = 9.243547576205538, Time = 8.427385330200195 seconds\n",
      "Process 0 calculated: Pi = 12.711439515567903, Time = 7.98891019821167 seconds\n",
      "Process 1 received: Pi = -9.894192713487952, Time = 7.745937824249268 seconds\n",
      "Process 2 received: Pi = 9.243547576205538, Time = 8.427385330200195 seconds\n",
      "Process 3 received: Pi = -8.919201734688878, Time = 8.286001443862915 seconds\n",
      "Number of processes: 4\n",
      "Estimated Pi: 3.1415926435966117\n",
      "Execution time: 8.424819946289062 seconds\n"
     ]
    }
   ],
   "source": [
    "!mpiexec -n 4 python Calculate_Pi_value.py"
   ]
  },
  {
   "cell_type": "code",
   "execution_count": 5,
   "id": "1a7c8c3c",
   "metadata": {},
   "outputs": [
    {
     "name": "stdout",
     "output_type": "stream",
     "text": [
      "Process 7 calculated: Pi = -4.256559977941305, Time = 5.042468786239624 seconds\n",
      "Process 5 calculated: Pi = -4.399299923327154, Time = 5.090317964553833 seconds\n",
      "Process 6 calculated: Pi = 4.319461385334904, Time = 6.456605434417725 seconds\n",
      "Process 1 calculated: Pi = -5.494892790161891, Time = 6.5808985233306885 seconds\n",
      "Process 4 calculated: Pi = 4.5064163512322155, Time = 6.639330863952637 seconds\n",
      "Process 3 calculated: Pi = -4.662641756747161, Time = 6.6474997997283936 seconds\n",
      "Process 2 calculated: Pi = 4.924086190869872, Time = 6.733549118041992 seconds\n",
      "Process 0 calculated: Pi = 8.205023164331104, Time = 6.762158155441284 seconds\n",
      "Process 1 received: Pi = -5.494892790161891, Time = 6.5808985233306885 seconds\n",
      "Process 2 received: Pi = 4.924086190869872, Time = 6.733549118041992 seconds\n",
      "Process 3 received: Pi = -4.662641756747161, Time = 6.6474997997283936 seconds\n",
      "Process 4 received: Pi = 4.5064163512322155, Time = 6.639330863952637 seconds\n",
      "Process 5 received: Pi = -4.399299923327154, Time = 5.090317964553833 seconds\n",
      "Process 6 received: Pi = 4.319461385334904, Time = 6.456605434417725 seconds\n",
      "Process 7 received: Pi = -4.256559977941305, Time = 5.042468786239624 seconds\n",
      "Number of processes: 8\n",
      "Estimated Pi: 3.1415926435905845\n",
      "Execution time: 6.762705564498901 seconds\n"
     ]
    }
   ],
   "source": [
    "!mpiexec -n 8 python Calculate_Pi_value.py"
   ]
  },
  {
   "cell_type": "code",
   "execution_count": 6,
   "id": "c0ad57fd",
   "metadata": {},
   "outputs": [
    {
     "name": "stdout",
     "output_type": "stream",
     "text": [
      "Process 5 calculated: Pi = -2.334733085800057, Time = 2.950575113296509 seconds\n",
      "Process 14 calculated: Pi = 2.048883162920837, Time = 3.011434316635132 seconds\n",
      "Process 9 calculated: Pi = -2.1514542620738304, Time = 2.9923923015594482 seconds\n",
      "Process 1 calculated: Pi = -3.343438528087643, Time = 4.54207181930542 seconds\n",
      "Process 11 calculated: Pi = -2.102010079259159, Time = 4.207803964614868 seconds\n",
      "Process 4 calculated: Pi = 2.4242898780367725, Time = 3.8869941234588623 seconds\n",
      "Process 3 calculated: Pi = -2.5606316774894724, Time = 4.130717992782593 seconds\n",
      "Process 10 calculated: Pi = 2.1248310598041242, Time = 5.66577935218811 seconds\n",
      "Process 13 calculated: Pi = -2.064566837527382, Time = 5.360623121261597 seconds\n",
      "Process 7 calculated: Pi = -2.221819992321798, Time = 5.874985933303833 seconds\n",
      "Process 8 calculated: Pi = 2.1831425099178574, Time = 5.779357671737671 seconds\n",
      "Process 15 calculated: Pi = -2.0347399856201327, Time = 5.342623949050903 seconds\n",
      "Process 6 calculated: Pi = 2.2705782224129933, Time = 5.56093430519104 seconds\n",
      "Process 2 calculated: Pi = 2.799255131066239, Time = 5.447075843811035 seconds\n",
      "Process 12 calculated: Pi = 2.0821264731939486, Time = 5.176719427108765 seconds\n",
      "Process 0 calculated: Pi = 6.021880654414, Time = 3.008913993835449 seconds\n",
      "Process 1 received: Pi = -3.343438528087643, Time = 4.54207181930542 seconds\n",
      "Process 2 received: Pi = 2.799255131066239, Time = 5.447075843811035 seconds\n",
      "Process 3 received: Pi = -2.5606316774894724, Time = 4.130717992782593 seconds\n",
      "Process 4 received: Pi = 2.4242898780367725, Time = 3.8869941234588623 seconds\n",
      "Process 5 received: Pi = -2.334733085800057, Time = 2.950575113296509 seconds\n",
      "Process 6 received: Pi = 2.2705782224129933, Time = 5.56093430519104 seconds\n",
      "Process 7 received: Pi = -2.221819992321798, Time = 5.874985933303833 seconds\n",
      "Process 8 received: Pi = 2.1831425099178574, Time = 5.779357671737671 seconds\n",
      "Process 9 received: Pi = -2.1514542620738304, Time = 2.9923923015594482 seconds\n",
      "Process 10 received: Pi = 2.1248310598041242, Time = 5.66577935218811 seconds\n",
      "Process 11 received: Pi = -2.102010079259159, Time = 4.208165645599365 seconds\n",
      "Process 12 received: Pi = 2.0821264731939486, Time = 5.176719427108765 seconds\n",
      "Process 13 received: Pi = -2.064566837527382, Time = 5.360623121261597 seconds\n",
      "Process 14 received: Pi = 2.048883162920837, Time = 3.011434316635132 seconds\n",
      "Process 15 received: Pi = -2.0347399856201327, Time = 5.342623949050903 seconds\n",
      "Number of processes: 16\n",
      "Estimated Pi: 3.141592643587298\n",
      "Execution time: 6.584681272506714 seconds\n"
     ]
    }
   ],
   "source": [
    "!mpiexec -n 16 python Calculate_Pi_value.py"
   ]
  },
  {
   "cell_type": "code",
   "execution_count": 8,
   "id": "2094fb65",
   "metadata": {},
   "outputs": [],
   "source": [
    "num_processes = [1,2, 4, 8, 16]\n",
    "execution_times = [45.04786658287048, 16.13143539428711, 8.424819946289062, 6.762705564498901,6.584681272506714]"
   ]
  },
  {
   "cell_type": "code",
   "execution_count": 9,
   "id": "dea019e7",
   "metadata": {},
   "outputs": [
    {
     "data": {
      "image/png": "[encoded data removed]",
      "text/plain": [
       "<Figure size 800x500 with 1 Axes>"
      ]
     },
     "metadata": {},
     "output_type": "display_data"
    }
   ],
   "source": [
    "plt.figure(figsize=(8, 5))\n",
    "plt.plot(num_processes, execution_times, marker='o', color='blue')\n",
    "plt.title('Execution Time vs Number of Processes')\n",
    "plt.xlabel('Number of Processes')\n",
    "plt.ylabel('Execution Time (seconds)')\n",
    "plt.grid(True)\n",
    "plt.show()"
   ]
  },
  {
   "cell_type": "code",
   "execution_count": null,
   "id": "12479eeb",
   "metadata": {},
   "outputs": [],
   "source": []
  }
 ],
 "metadata": {
  "kernelspec": {
   "display_name": "Python 3 (ipykernel)",
   "language": "python",
   "name": "python3"
  },
  "language_info": {
   "codemirror_mode": {
    "name": "ipython",
    "version": 3
   },
   "file_extension": ".py",
   "mimetype": "text/x-python",
   "name": "python",
   "nbconvert_exporter": "python",
   "pygments_lexer": "ipython3",
   "version": "3.11.3"
  }
 },
 "nbformat": 4,
 "nbformat_minor": 5
}

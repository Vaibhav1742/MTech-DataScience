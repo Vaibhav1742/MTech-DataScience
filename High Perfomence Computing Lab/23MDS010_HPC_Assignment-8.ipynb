{
 "cells": [
  {
   "cell_type": "markdown",
   "id": "7139b1c9",
   "metadata": {},
   "source": [
    "#  <h1 style=\"text-align:center;\">Assignment - 8</h1>"
   ]
  },
  {
   "cell_type": "markdown",
   "id": "9b9aa412",
   "metadata": {},
   "source": [
    "1. Write a program to pass message from one process to another and print output.\n",
    "• In synchronous communication\n",
    "• In asynchronous communication. Show using overlapping of task in non-blocking mode."
   ]
  },
  {
   "cell_type": "code",
   "execution_count": 1,
   "id": "95633311",
   "metadata": {},
   "outputs": [],
   "source": [
    "import mpi4py\n",
    "from mpi4py import MPI\n",
    "import numpy as np"
   ]
  },
  {
   "cell_type": "code",
   "execution_count": 2,
   "id": "baa2cfed",
   "metadata": {},
   "outputs": [],
   "source": [
    "comm = MPI.COMM_WORLD # get the communicator object\n",
    "rank = comm.Get_rank() # get the rank of the current process\n",
    "name = MPI.Get_processor_name() # get the name of the current processor\n",
    "size = comm.Get_size() # get the number of processes"
   ]
  },
  {
   "cell_type": "code",
   "execution_count": 3,
   "id": "3e657d27",
   "metadata": {},
   "outputs": [],
   "source": [
    "randNum = np.zeros(1)"
   ]
  },
  {
   "cell_type": "code",
   "execution_count": 6,
   "id": "826389e0",
   "metadata": {},
   "outputs": [],
   "source": [
    "if rank == 0:\n",
    "    message = \"Hello from process 0\"\n",
    "    comm.send(message, dest=1)\n",
    "    received_message = comm.recv(source=1)\n",
    "    print(f\"Process 0 received message: {received_message}\")\n",
    "elif rank == 1:\n",
    "    received_message = comm.recv(source=0)\n",
    "    print(f\"Process 1 received message: {received_message}\")\n",
    "    reply = \"Hello from process 1\"\n",
    "    comm.send(reply, dest=0)"
   ]
  },
  {
   "cell_type": "code",
   "execution_count": 5,
   "id": "a6d5a5bd",
   "metadata": {},
   "outputs": [
    {
     "name": "stdout",
     "output_type": "stream",
     "text": [
      "Process 1 received message: Hello from process 0\n",
      "Process 0 received message: Hello from process 1\n"
     ]
    }
   ],
   "source": [
    "!mpiexec -n 2 python hpc-12-2.py"
   ]
  },
  {
   "cell_type": "code",
   "execution_count": null,
   "id": "49a7c02f",
   "metadata": {},
   "outputs": [],
   "source": []
  },
  {
   "cell_type": "code",
   "execution_count": null,
   "id": "1e2155ff",
   "metadata": {},
   "outputs": [],
   "source": [
    "if rank == 0:\n",
    "    message = \"Hello from process 0 (Async)\"\n",
    "    req_send = comm.isend(message, dest=1) # Non-blocking send\n",
    "    print(f\"Process {rank} sent message: {message}\")\n",
    "    time.sleep(1) # Simulate some other task\n",
    "    req_send.wait() # Wait for the send operation to complete\n",
    "elif rank == 1:\n",
    "    req_recv = comm.irecv(source=0) # Non-blocking receive\n",
    "    time.sleep(0.5) # Simulate some other task\n",
    "    print(f\"Process {rank} waiting to receive message...\")\n",
    "    received_message = req_recv.wait() # Wait for the receive operation to␣\n",
    "    ↪complete\n",
    "    print(f\"Process {rank} received message: {received_message}\")"
   ]
  },
  {
   "cell_type": "code",
   "execution_count": 7,
   "id": "59906031",
   "metadata": {},
   "outputs": [
    {
     "name": "stdout",
     "output_type": "stream",
     "text": [
      "Process 0 sent message: Hello from process 0 (Async)\n",
      "Process 1 waiting to receive message...\n",
      "Process 1 received message: Hello from process 0 (Async)\n"
     ]
    }
   ],
   "source": [
    "!mpiexec -n 2 python hpc-async.py"
   ]
  },
  {
   "cell_type": "code",
   "execution_count": null,
   "id": "2fdc2e5a",
   "metadata": {},
   "outputs": [],
   "source": []
  }
 ],
 "metadata": {
  "kernelspec": {
   "display_name": "Python 3 (ipykernel)",
   "language": "python",
   "name": "python3"
  },
  "language_info": {
   "codemirror_mode": {
    "name": "ipython",
    "version": 3
   },
   "file_extension": ".py",
   "mimetype": "text/x-python",
   "name": "python",
   "nbconvert_exporter": "python",
   "pygments_lexer": "ipython3",
   "version": "3.11.3"
  }
 },
 "nbformat": 4,
 "nbformat_minor": 5
}

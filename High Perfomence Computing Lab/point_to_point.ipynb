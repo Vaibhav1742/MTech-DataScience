{
 "cells": [
  {
   "cell_type": "code",
   "execution_count": 1,
   "id": "ed63a13c",
   "metadata": {},
   "outputs": [],
   "source": [
    "from mpi4py.futures import MPIPoolExecutor\n",
    "from mpi4py import MPI\n",
    "import numpy as np"
   ]
  },
  {
   "cell_type": "code",
   "execution_count": 5,
   "id": "3f8b82f5",
   "metadata": {},
   "outputs": [
    {
     "ename": "Exception",
     "evalue": "Invalid rank, error stack:\nMPI_Send(buf=0x000002A0CACE16D0, count=35, MPI_BYTE, dest=1, tag=0, MPI_COMM_WORLD) failed\nInvalid rank has value 1 but must be nonnegative and less than 1",
     "output_type": "error",
     "traceback": [
      "\u001b[1;31m---------------------------------------------------------------------------\u001b[0m",
      "\u001b[1;31mException\u001b[0m                                 Traceback (most recent call last)",
      "Cell \u001b[1;32mIn[5], line 6\u001b[0m\n\u001b[0;32m      4\u001b[0m \u001b[38;5;28;01mif\u001b[39;00m rank \u001b[38;5;241m==\u001b[39m \u001b[38;5;241m0\u001b[39m:\n\u001b[0;32m      5\u001b[0m     message \u001b[38;5;241m=\u001b[39m \u001b[38;5;124m\"\u001b[39m\u001b[38;5;124mHello from process 0\u001b[39m\u001b[38;5;124m\"\u001b[39m\n\u001b[1;32m----> 6\u001b[0m     comm\u001b[38;5;241m.\u001b[39msend(message, dest\u001b[38;5;241m=\u001b[39m\u001b[38;5;241m1\u001b[39m)\n\u001b[0;32m      8\u001b[0m     received_message \u001b[38;5;241m=\u001b[39m comm\u001b[38;5;241m.\u001b[39mrecv(source\u001b[38;5;241m=\u001b[39m\u001b[38;5;241m1\u001b[39m)\n\u001b[0;32m      9\u001b[0m     \u001b[38;5;28mprint\u001b[39m(\u001b[38;5;124mf\u001b[39m\u001b[38;5;124m\"\u001b[39m\u001b[38;5;124mProcess 0 received message: \u001b[39m\u001b[38;5;132;01m{\u001b[39;00mreceived_message\u001b[38;5;132;01m}\u001b[39;00m\u001b[38;5;124m\"\u001b[39m)\n",
      "File \u001b[1;32mmpi4py\\MPI\\Comm.pyx:1406\u001b[0m, in \u001b[0;36mmpi4py.MPI.Comm.send\u001b[1;34m()\u001b[0m\n",
      "File \u001b[1;32mmpi4py\\MPI\\msgpickle.pxi:212\u001b[0m, in \u001b[0;36mmpi4py.MPI.PyMPI_send\u001b[1;34m()\u001b[0m\n",
      "\u001b[1;31mException\u001b[0m: Invalid rank, error stack:\nMPI_Send(buf=0x000002A0CACE16D0, count=35, MPI_BYTE, dest=1, tag=0, MPI_COMM_WORLD) failed\nInvalid rank has value 1 but must be nonnegative and less than 1"
     ]
    }
   ],
   "source": [
    "comm = MPI.COMM_WORLD\n",
    "rank = comm.Get_rank()\n",
    "\n",
    "if rank == 0:\n",
    "    message = \"Hello from process 0\"\n",
    "    comm.send(message, dest=1)\n",
    "    \n",
    "    received_message = comm.recv(source=1)\n",
    "    print(f\"Process 0 received message: {received_message}\")\n",
    "    \n",
    "elif rank == 1:\n",
    "    received_message = comm.recv(source=0)\n",
    "    print(f\"Process 1 received message: {received_message}\")\n",
    "    \n",
    "    reply = \"Hello from process 1\"\n",
    "    comm.send(reply, dest=0)\n"
   ]
  },
  {
   "cell_type": "code",
   "execution_count": 3,
   "id": "aca391dd",
   "metadata": {},
   "outputs": [
    {
     "name": "stdout",
     "output_type": "stream",
     "text": [
      "9.0\n",
      "end of MPI\n",
      "18.0\n",
      "end of MPI\n"
     ]
    }
   ],
   "source": [
    "!mpiexec -n 2 python print_problem.py"
   ]
  },
  {
   "cell_type": "code",
   "execution_count": 4,
   "id": "ea7af5fa",
   "metadata": {},
   "outputs": [
    {
     "name": "stdout",
     "output_type": "stream",
     "text": [
      "Process 1 received message: Hello from process 0\n",
      "Process 0 received message: Hello from process 1\n"
     ]
    }
   ],
   "source": [
    "!mpiexec -n 2 python point_to_point.py"
   ]
  },
  {
   "cell_type": "code",
   "execution_count": null,
   "id": "f65b92fa",
   "metadata": {},
   "outputs": [],
   "source": []
  }
 ],
 "metadata": {
  "kernelspec": {
   "display_name": "Python 3 (ipykernel)",
   "language": "python",
   "name": "python3"
  },
  "language_info": {
   "codemirror_mode": {
    "name": "ipython",
    "version": 3
   },
   "file_extension": ".py",
   "mimetype": "text/x-python",
   "name": "python",
   "nbconvert_exporter": "python",
   "pygments_lexer": "ipython3",
   "version": "3.11.3"
  }
 },
 "nbformat": 4,
 "nbformat_minor": 5
}

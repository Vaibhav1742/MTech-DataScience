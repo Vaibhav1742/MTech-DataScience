{
 "cells": [
  {
   "cell_type": "markdown",
   "id": "923a8d66-f546-401d-91f4-4284129efe3b",
   "metadata": {},
   "source": [
    "#  <h1 style=\"text-align:center;\">Assignment - 12</h1>"
   ]
  },
  {
   "cell_type": "markdown",
   "id": "27c7be51",
   "metadata": {},
   "source": [
    "Q1) Write about derived data types used in MPI programming."
   ]
  },
  {
   "cell_type": "markdown",
   "id": "98b65604-070d-4883-9752-ab91d28c22d8",
   "metadata": {},
   "source": [
    "Derived data types in MPI (Message Passing Interface) programming are user-defined data structures that allow for more complex data communication than simple built-in types like integers or floats. These types are particularly useful when dealing with structured data such as arrays, structs, or nested data types."
   ]
  },
  {
   "cell_type": "markdown",
   "id": "b2c958ff",
   "metadata": {},
   "source": [
    "Q2) Steps to create and use derived data types"
   ]
  },
  {
   "cell_type": "markdown",
   "id": "338ce403-373b-4633-a079-fa874f03ba5d",
   "metadata": {},
   "source": [
    "Here are the steps to create and use derived data types in MPI programming:\n",
    "(1) \n",
    "Define the structure: First, define the structure of your derived data type. This could be a simple struct or a more complex nested structure.(2) \n",
    "\n",
    "Create the MPI datatype: Use MPI functions to create a new MPI datatype that corresponds to your defined structure. You can specify the arrangement of data within your structure and how it should be communicate(2) d.\n",
    "\n",
    "Use the MPI datatype: Once you have created the derived datatype, you can use it in MPI communication functions to send and receive data."
   ]
  },
  {
   "cell_type": "markdown",
   "id": "f2af4fec",
   "metadata": {},
   "source": [
    "Q3) Write its uses."
   ]
  },
  {
   "cell_type": "markdown",
   "id": "0984cb31-f6e0-42ab-a770-3f82f98c7c79",
   "metadata": {},
   "source": [
    "Derived data types are useful in MPI programming for several reasons:\n",
    "(1) \n",
    "Efficiency: By defining the layout of your data explicitly, you can optimize communication by minimizing the amount of data that needs to be transferred.(2) \n",
    "\n",
    "Abstraction: Derived data types allow you to abstract away the details of the underlying data structure, making your code cleaner and more modula(3) r.\n",
    "\n",
    "Complex data structures: MPI's built-in communication functions are designed for simple data types like integers and floats. Derived data types allow you to communicate more complex data structures efficiently."
   ]
  },
  {
   "cell_type": "markdown",
   "id": "1899344e",
   "metadata": {},
   "source": [
    "Q4) Implement communication of derived data using one suitable example."
   ]
  },
  {
   "cell_type": "code",
   "execution_count": 1,
   "id": "634a0205-dabf-4602-8340-f9a6580b6ed0",
   "metadata": {},
   "outputs": [
    {
     "name": "stdout",
     "output_type": "stream",
     "text": [
      "Process 0 received data: x=64, y=108\n"
     ]
    }
   ],
   "source": [
    "from mpi4py import MPI\n",
    "\n",
    "# Create MPI communicator\n",
    "comm = MPI.COMM_WORLD\n",
    "rank = comm.Get_rank()\n",
    "size = comm.Get_size()\n",
    "\n",
    "# Define the structure of the data\n",
    "class Particle:\n",
    "    def __init__(self, x, y):\n",
    "        self.x = x\n",
    "        self.y = y\n",
    "\n",
    "# Data to be sent from rank 0\n",
    "send_data = None\n",
    "if rank == 0:\n",
    "    send_data = Particle(64, 108)\n",
    "\n",
    "# Scatter data from rank 0 to other processes\n",
    "recv_data = comm.scatter([send_data] * size, root=0)\n",
    "\n",
    "# Print received data on each process\n",
    "print(f\"Process {rank} received data: x={recv_data.x}, y={recv_data.y}\")\n",
    "\n",
    "MPI.Finalize()"
   ]
  },
  {
   "cell_type": "code",
   "execution_count": 3,
   "id": "48ec4cce-b7c8-4b74-84b1-53aff3cdb22a",
   "metadata": {},
   "outputs": [
    {
     "name": "stdout",
     "output_type": "stream",
     "text": [
      "Process 0 received data: x=64, y=108\n",
      "Process 3 received data: x=64, y=108\n",
      "Process 2 received data: x=64, y=108\n",
      "Process 1 received data: x=64, y=108\n"
     ]
    }
   ],
   "source": [
    "!mpiexec -n 4 python 12.py"
   ]
  },
  {
   "cell_type": "code",
   "execution_count": null,
   "id": "fbe4998f-4450-4639-a17c-a506ffb11198",
   "metadata": {},
   "outputs": [],
   "source": []
  }
 ],
 "metadata": {
  "kernelspec": {
   "display_name": "Python 3 (ipykernel)",
   "language": "python",
   "name": "python3"
  },
  "language_info": {
   "codemirror_mode": {
    "name": "ipython",
    "version": 3
   },
   "file_extension": ".py",
   "mimetype": "text/x-python",
   "name": "python",
   "nbconvert_exporter": "python",
   "pygments_lexer": "ipython3",
   "version": "3.11.3"
  }
 },
 "nbformat": 4,
 "nbformat_minor": 5
}
